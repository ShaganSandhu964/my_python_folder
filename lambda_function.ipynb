{
 "cells": [
  {
   "cell_type": "code",
   "execution_count": 3,
   "id": "3318d5db-6606-4fe8-8edf-b66a005fc218",
   "metadata": {},
   "outputs": [
    {
     "name": "stdout",
     "output_type": "stream",
     "text": [
      "10\n"
     ]
    }
   ],
   "source": [
    "#lambda functions\n",
    "double=lambda x:x*2\n",
    "print(double(5))\n"
   ]
  },
  {
   "cell_type": "code",
   "execution_count": 5,
   "id": "877e9ddc-7280-4b1a-ab43-5e1ccbc1580e",
   "metadata": {},
   "outputs": [
    {
     "name": "stdout",
     "output_type": "stream",
     "text": [
      "125\n"
     ]
    }
   ],
   "source": [
    "cube=lambda x:x*x*x\n",
    "print(cube(5))"
   ]
  },
  {
   "cell_type": "code",
   "execution_count": 9,
   "id": "8ca8622d-5bd2-470a-93bd-b93d25924fb7",
   "metadata": {},
   "outputs": [
    {
     "name": "stdout",
     "output_type": "stream",
     "text": [
      "3.0\n",
      "2.5\n"
     ]
    }
   ],
   "source": [
    "avg=lambda x,y:(x+y)/2\n",
    "print(avg(3,3))\n",
    "avg=lambda x,y:(x+y)/2\n",
    "print(avg(2,3))"
   ]
  },
  {
   "cell_type": "code",
   "execution_count": 15,
   "id": "976bd92a-4ac9-4500-bdb0-f897ef795619",
   "metadata": {},
   "outputs": [
    {
     "name": "stdout",
     "output_type": "stream",
     "text": [
      "14\n",
      "32\n"
     ]
    }
   ],
   "source": [
    "def appl(fx,value):\n",
    "    return 6+fx(value)\n",
    "print(appl(lambda x:x*x*x,2))\n",
    "def appl(fx,value):\n",
    "    return 5+fx(value)\n",
    "print(appl(lambda x:x*x*x,3))"
   ]
  },
  {
   "cell_type": "code",
   "execution_count": 15,
   "id": "21244b4a-953e-41ed-9b9b-8345accbd9b2",
   "metadata": {},
   "outputs": [
    {
     "name": "stdin",
     "output_type": "stream",
     "text": [
      " 3\n",
      " 3\n"
     ]
    },
    {
     "name": "stdout",
     "output_type": "stream",
     "text": [
      "3 x 3=9\n"
     ]
    }
   ],
   "source": [
    "x=int(input())\n",
    "y=int(input())\n",
    "lam=lambda x,y:print(f\"{x} x {y}={x*y}\")\n",
    "lam(x,y)"
   ]
  },
  {
   "cell_type": "code",
   "execution_count": 21,
   "id": "eaae1f82-f96c-4ce0-9255-10ab93634931",
   "metadata": {},
   "outputs": [
    {
     "data": {
      "text/plain": [
       "13"
      ]
     },
     "execution_count": 21,
     "metadata": {},
     "output_type": "execute_result"
    }
   ],
   "source": [
    "# return the length of string\n",
    "string_len=lambda s:len(s)\n",
    "string_len(\"shagan sandhu\")"
   ]
  },
  {
   "cell_type": "code",
   "execution_count": 25,
   "id": "7d629d96-1187-488a-b26d-d9832962e608",
   "metadata": {},
   "outputs": [
    {
     "name": "stdout",
     "output_type": "stream",
     "text": [
      "[1, 4, 9, 16, 25]\n"
     ]
    }
   ],
   "source": [
    "# convert the list of integers to their corresponding square values:\n",
    "# map function is used to map the every number of the list\n",
    "num=[1,2,3,4,5]\n",
    "square=list(map(lambda x:x**2,num))\n",
    "print(square)"
   ]
  },
  {
   "cell_type": "code",
   "execution_count": 11,
   "id": "788d62d5-825d-4b57-9e2c-ae47432e86ef",
   "metadata": {},
   "outputs": [
    {
     "name": "stdout",
     "output_type": "stream",
     "text": [
      "[2, 4, 6, 8, 10]\n"
     ]
    }
   ],
   "source": [
    "# filter out even numbers from list\n",
    "#filter is used to print the list of the number not a boolean value\n",
    "num=[1,2,3,4,5,6,7,8,9,10]\n",
    "even=list(filter(lambda x:x%2==0,num))\n",
    "print(even)"
   ]
  },
  {
   "cell_type": "code",
   "execution_count": 13,
   "id": "f098afdc-7948-474d-b661-66cb2a6433c9",
   "metadata": {},
   "outputs": [
    {
     "data": {
      "text/plain": [
       "['date', 'apple', 'mango', 'cherry', 'bleberry']"
      ]
     },
     "execution_count": 13,
     "metadata": {},
     "output_type": "execute_result"
    }
   ],
   "source": [
    " # sort a list of string based on their alphabetical character length:\n",
    "# here in sort method key word is used where first it sorted with the \n",
    "#len of the word and then sort with alphabatical order\n",
    "fruits=[\"apple\",\"mango\",\"cherry\",\"date\",\"blueberry\"]\n",
    "sorted(fruits,key=lambda x:len(x))"
   ]
  },
  {
   "cell_type": "code",
   "execution_count": 19,
   "id": "e1287e12-f642-46eb-9183-d30d3d256ba6",
   "metadata": {},
   "outputs": [
    {
     "data": {
      "text/plain": [
       "[{'name': 'bob', 'age': 22, 'occupation': 'engineer'},\n",
       " {'name': 'alice', 'age': 25, 'occupation': 'engineer'},\n",
       " {'name': 'dave', 'age': 26, 'occupation': 'engineer'},\n",
       " {'name': 'charlie', 'age': 30, 'occupation': 'engineer'}]"
      ]
     },
     "execution_count": 19,
     "metadata": {},
     "output_type": "execute_result"
    }
   ],
   "source": [
    "#complex examples\n",
    "#sorting a list of dictionaries based on a specific key\n",
    "people=[\n",
    "    {'name':'alice','age':25,'occupation':'engineer'},\n",
    "    {'name':'dave','age':26,'occupation':'engineer'},\n",
    "    {'name':'charlie','age':30,'occupation':'engineer'},\n",
    "    {'name':'bob','age':22,'occupation':'engineer'},\n",
    "]\n",
    "sorted(people,key=lambda x:(x['age'],x['name']))"
   ]
  },
  {
   "cell_type": "code",
   "execution_count": 21,
   "id": "d72f7278-9959-4435-b0fe-72c6f3c5454d",
   "metadata": {},
   "outputs": [
    {
     "data": {
      "text/plain": [
       "'c'"
      ]
     },
     "execution_count": 21,
     "metadata": {},
     "output_type": "execute_result"
    }
   ],
   "source": [
    "# finding the max value in a dictionary\n",
    "data={'a':10,'b':34,'c':90}\n",
    "max(data,key=lambda x:data[x])"
   ]
  },
  {
   "cell_type": "code",
   "execution_count": 25,
   "id": "a35ab613-b433-4799-a056-135ad8df1fd4",
   "metadata": {},
   "outputs": [
    {
     "name": "stdout",
     "output_type": "stream",
     "text": [
      "a ['apple']\n",
      "b ['blueberry']\n",
      "c ['cherry']\n",
      "d ['date']\n",
      "f ['fig']\n"
     ]
    }
   ],
   "source": [
    "#grouping a list of strings based on their first letter\n",
    "from itertools import groupby\n",
    "words=['apple','cherry','date','fig','blueberry']\n",
    "groups=groupby(sorted(words),key=lambda x:x[0])\n",
    "for key,group in groups:\n",
    "    print(key,list(group))"
   ]
  },
  {
   "cell_type": "code",
   "execution_count": null,
   "id": "1a19d1a7-2749-4020-a9da-47ff0f85a937",
   "metadata": {},
   "outputs": [],
   "source": []
  }
 ],
 "metadata": {
  "kernelspec": {
   "display_name": "Python 3 (ipykernel)",
   "language": "python",
   "name": "python3"
  },
  "language_info": {
   "codemirror_mode": {
    "name": "ipython",
    "version": 3
   },
   "file_extension": ".py",
   "mimetype": "text/x-python",
   "name": "python",
   "nbconvert_exporter": "python",
   "pygments_lexer": "ipython3",
   "version": "3.12.4"
  }
 },
 "nbformat": 4,
 "nbformat_minor": 5
}
