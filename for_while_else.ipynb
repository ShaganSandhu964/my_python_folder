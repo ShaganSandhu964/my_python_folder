{
 "cells": [
  {
   "cell_type": "code",
   "execution_count": null,
   "id": "4a9ccdf8-fcbc-428f-97f3-3ec389ba5070",
   "metadata": {},
   "outputs": [],
   "source": [
    "# for/while Loop with else"
   ]
  },
  {
   "cell_type": "code",
   "execution_count": 21,
   "id": "82be345d-4819-4e63-8b48-9577b95e83f5",
   "metadata": {},
   "outputs": [
    {
     "name": "stdout",
     "output_type": "stream",
     "text": [
      "0\n",
      "1\n",
      "2\n",
      "3\n",
      "4\n",
      "No i\n"
     ]
    }
   ],
   "source": [
    "for i in range(5):\n",
    "    print(i)\n",
    "else:\n",
    "    print(\"No i\")\n",
    "#isme hmesha else condition chlie ghee program ke khtm hone ke badh hmesha chlta ha "
   ]
  },
  {
   "cell_type": "code",
   "execution_count": 23,
   "id": "f43767d3-a5e5-471c-8007-c86cc8fc08b2",
   "metadata": {},
   "outputs": [
    {
     "name": "stdout",
     "output_type": "stream",
     "text": [
      "0\n",
      "1\n",
      "2\n",
      "3\n",
      "4\n"
     ]
    }
   ],
   "source": [
    "for i in range(5):\n",
    "    print(i)\n",
    "    if(i==4):\n",
    "        break\n",
    "else:\n",
    "    print(\"No i\")\n",
    "# isme difference yeh ha ke if break ke sath lgne ke badh chaltie nhi ha kyu ke loop jo ha voh terminate hoo gheya ha toh means else statements is also terminate "
   ]
  },
  {
   "cell_type": "code",
   "execution_count": null,
   "id": "75e51dd9-fffc-4279-af06-b8cd17fd6c7a",
   "metadata": {},
   "outputs": [],
   "source": []
  }
 ],
 "metadata": {
  "kernelspec": {
   "display_name": "Python 3 (ipykernel)",
   "language": "python",
   "name": "python3"
  },
  "language_info": {
   "codemirror_mode": {
    "name": "ipython",
    "version": 3
   },
   "file_extension": ".py",
   "mimetype": "text/x-python",
   "name": "python",
   "nbconvert_exporter": "python",
   "pygments_lexer": "ipython3",
   "version": "3.12.4"
  }
 },
 "nbformat": 4,
 "nbformat_minor": 5
}
