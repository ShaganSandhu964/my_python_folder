{
 "cells": [
  {
   "cell_type": "code",
   "execution_count": null,
   "id": "cff2a0fa-e6d8-411d-876f-125d4b2f556f",
   "metadata": {},
   "outputs": [],
   "source": [
    "# file Handling\n",
    "# There are different File Mode:-\n",
    "#Read 'r'\n",
    "# Write 'w'\n",
    "# append 'a'\n",
    "# text 't'\n",
    "# create 'x'\n",
    "# binary 'b'"
   ]
  },
  {
   "cell_type": "code",
   "execution_count": 3,
   "id": "c7d1e4dd-ec7c-43f6-9150-0cb2ddf7dbcd",
   "metadata": {},
   "outputs": [
    {
     "name": "stdout",
     "output_type": "stream",
     "text": [
      "Hello, This is file One\n"
     ]
    }
   ],
   "source": [
    "f=open('my_filehandling1.txt','r')\n",
    "text=f.read()\n",
    "print(text)\n",
    "f.close()"
   ]
  },
  {
   "cell_type": "code",
   "execution_count": 5,
   "id": "ecdd41bb-e3aa-492a-862b-37ff9537562d",
   "metadata": {},
   "outputs": [],
   "source": [
    "f=open('my_filehandling2.txt','w')\n",
    "f.write(\"Hello Everyone !! my name is shagan sandhu \")\n",
    "f.close()"
   ]
  },
  {
   "cell_type": "code",
   "execution_count": 7,
   "id": "2dfa7628-5982-429b-a989-0808d4ae6e91",
   "metadata": {},
   "outputs": [
    {
     "name": "stdout",
     "output_type": "stream",
     "text": [
      "Hello Everyone !! my name is shagan sandhu \n"
     ]
    }
   ],
   "source": [
    "with open('my_filehandling2.txt','r') as f:\n",
    "    text=f.read()\n",
    "    print(text)"
   ]
  },
  {
   "cell_type": "code",
   "execution_count": 1,
   "id": "e1053e14-12b3-48fa-ae74-7b04b86a6eeb",
   "metadata": {},
   "outputs": [
    {
     "name": "stdout",
     "output_type": "stream",
     "text": [
      "Hello my name is shagan\n"
     ]
    }
   ],
   "source": [
    "with open('my_filehandling2.txt','r') as f:\n",
    "    text=f.read()\n",
    "    print(text)"
   ]
  },
  {
   "cell_type": "code",
   "execution_count": 15,
   "id": "fa1a07af-d7fc-4425-8dc3-869a85be929b",
   "metadata": {},
   "outputs": [],
   "source": [
    "with open('my_filehandling2.text','a') as f:\n",
    "    f.write(\"Hello world \\n\")"
   ]
  },
  {
   "cell_type": "code",
   "execution_count": 21,
   "id": "fbe5542d-99a9-48d1-bc06-ba919d5e7e37",
   "metadata": {},
   "outputs": [
    {
     "name": "stdout",
     "output_type": "stream",
     "text": [
      "Hello worldHello worldHello world \n",
      "\n"
     ]
    }
   ],
   "source": [
    "with open('my_filehandling2.text','r') as f:\n",
    "    text=f.read()\n",
    "    print(text)"
   ]
  },
  {
   "cell_type": "code",
   "execution_count": 23,
   "id": "83189a8c-7634-4db6-958c-b46fd3aa519d",
   "metadata": {},
   "outputs": [],
   "source": [
    "with open('my_filehandling2.txt','w') as f:\n",
    "    f.write(\"Hello my name is shagan\")"
   ]
  },
  {
   "cell_type": "code",
   "execution_count": 25,
   "id": "5ece1008-d209-41b2-a7a5-c1b5bb1ca65e",
   "metadata": {},
   "outputs": [
    {
     "name": "stdout",
     "output_type": "stream",
     "text": [
      "Hello worldHello worldHello world \n",
      "\n"
     ]
    }
   ],
   "source": [
    "with open('my_filehandling2.text','r') as f:\n",
    "    text=f.read()\n",
    "    print(text)"
   ]
  },
  {
   "cell_type": "code",
   "execution_count": null,
   "id": "4e6ee917-28f7-436f-9dd4-79e6731a1fde",
   "metadata": {},
   "outputs": [],
   "source": [
    "with open('my_filehandling3.txt','x')as f:\n",
    "    f.create()"
   ]
  },
  {
   "cell_type": "code",
   "execution_count": 35,
   "id": "e0538e4c-23ea-43c4-b0dd-b4bca21b56d0",
   "metadata": {},
   "outputs": [
    {
     "name": "stdout",
     "output_type": "stream",
     "text": [
      "56,78,89\n",
      "\n",
      "90,78,99\n",
      "\n",
      "60,76,78\n"
     ]
    }
   ],
   "source": [
    "# more methods of file handling\n",
    "#readline()method\n",
    "f=open('marks.txt','r')\n",
    "while True:\n",
    "    line=f.readline()\n",
    "    if not line:\n",
    "        break\n",
    "    print(line)"
   ]
  },
  {
   "cell_type": "code",
   "execution_count": 37,
   "id": "dca49162-cbc5-4b31-871f-b76008ff566a",
   "metadata": {},
   "outputs": [
    {
     "name": "stdout",
     "output_type": "stream",
     "text": [
      "Marks of student 1 of science is 56\n",
      "Marks of student 1 of maths is 78\n",
      "Marks of student 1 of sst is 89\n",
      "\n",
      "Marks of student 2 of science is 90\n",
      "Marks of student 2 of maths is 78\n",
      "Marks of student 2 of sst is 99\n",
      "\n",
      "Marks of student 3 of science is 60\n",
      "Marks of student 3 of maths is 76\n",
      "Marks of student 3 of sst is 78\n",
      "\n"
     ]
    }
   ],
   "source": [
    "f=open('marks.txt','r')\n",
    "i=0\n",
    "while True:\n",
    "    i=i+1\n",
    "    line=f.readline()\n",
    "    if not line:\n",
    "        break\n",
    "    m1=line.split(\",\")[0]\n",
    "    m2=line.split(\",\")[1]\n",
    "    m3=line.split(\",\")[2]\n",
    "    print(f\"Marks of student {i} of science is {m1}\")\n",
    "    print(f\"Marks of student {i} of maths is {m2}\")\n",
    "    print(f\"Marks of student {i} of sst is {m3}\")\n",
    "print(line)"
   ]
  },
  {
   "cell_type": "code",
   "execution_count": 39,
   "id": "65d4b0d4-e5b6-47d2-ab92-62eb1cdf5e21",
   "metadata": {},
   "outputs": [],
   "source": [
    "f=open('line.txt','w')\n",
    "lines=[\"line1\\n\",\"line2\\n\",\"line3\\n\"]\n",
    "f.writelines(lines)\n",
    "f.close()"
   ]
  },
  {
   "cell_type": "code",
   "execution_count": 43,
   "id": "d5be2ef8-95fb-43b0-9e6a-33ff07118c8e",
   "metadata": {},
   "outputs": [],
   "source": [
    "f=open('line.txt','w')\n",
    "lines=[\"line1\\n\",\"line2\\n\",\"line3\\n\"]\n",
    "for line in lines:\n",
    "    f.write(line+\"\\n\")\n",
    "f.close()"
   ]
  },
  {
   "cell_type": "code",
   "execution_count": 45,
   "id": "2fc95589-4f89-43c2-a260-f84df77e0fe1",
   "metadata": {},
   "outputs": [],
   "source": [
    "# seek() method\n",
    "with open('sample.txt','w') as f:\n",
    "    f.write(\"Hello world!\")\n",
    "    "
   ]
  },
  {
   "cell_type": "code",
   "execution_count": 47,
   "id": "c532d8e7-4da3-4fce-83f3-07c9822dcb78",
   "metadata": {},
   "outputs": [
    {
     "name": "stdout",
     "output_type": "stream",
     "text": [
      "d!\n"
     ]
    }
   ],
   "source": [
    "with open('sample.txt','r')as f:\n",
    "    f.seek(10)\n",
    "    data=f.read()\n",
    "    print(data)"
   ]
  },
  {
   "cell_type": "code",
   "execution_count": 55,
   "id": "a5e46421-9c1d-41e2-a537-b1a74c4feded",
   "metadata": {},
   "outputs": [
    {
     "name": "stdout",
     "output_type": "stream",
     "text": [
      "llo w\n"
     ]
    }
   ],
   "source": [
    "with open('sample.txt','r') as f:\n",
    "    data=f.read(2)\n",
    "    pos=f.tell()\n",
    "    f.seek(pos)\n",
    "    data=f.read(5)\n",
    "    print(data)"
   ]
  },
  {
   "cell_type": "code",
   "execution_count": 61,
   "id": "bb2764fb-694d-4d02-914e-1cfc71af6312",
   "metadata": {},
   "outputs": [
    {
     "name": "stdout",
     "output_type": "stream",
     "text": [
      "he\n"
     ]
    }
   ],
   "source": [
    "with open('sample1.txt','w')as f:\n",
    "    f.write(\"hello Everyone\")\n",
    "    f.truncate(2)\n",
    "with open('sample1.txt','r')as f:\n",
    "    print(f.read())"
   ]
  },
  {
   "cell_type": "code",
   "execution_count": null,
   "id": "85a4a55d-c27a-4105-ab47-7df6bf5934ae",
   "metadata": {},
   "outputs": [],
   "source": []
  }
 ],
 "metadata": {
  "kernelspec": {
   "display_name": "Python 3 (ipykernel)",
   "language": "python",
   "name": "python3"
  },
  "language_info": {
   "codemirror_mode": {
    "name": "ipython",
    "version": 3
   },
   "file_extension": ".py",
   "mimetype": "text/x-python",
   "name": "python",
   "nbconvert_exporter": "python",
   "pygments_lexer": "ipython3",
   "version": "3.12.4"
  }
 },
 "nbformat": 4,
 "nbformat_minor": 5
}
