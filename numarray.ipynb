{
 "cells": [
  {
   "cell_type": "code",
   "execution_count": null,
   "id": "4358de66-4bb4-40b9-8707-85c3e36a953b",
   "metadata": {},
   "outputs": [],
   "source": [
    "# Array is a data structure that stores values of same data type in python the main difference between arrays and lists\n",
    "# for arrys we have to import the library"
   ]
  },
  {
   "cell_type": "code",
   "execution_count": 3,
   "id": "f14513db-4be1-4a96-b2d6-e96d33fe19c3",
   "metadata": {},
   "outputs": [
    {
     "name": "stdout",
     "output_type": "stream",
     "text": [
      "[1 2 3 4 5]\n"
     ]
    }
   ],
   "source": [
    "import numpy as np\n",
    "lst=[1,2,3,4,5]\n",
    "arr=np.array(lst)\n",
    "print(arr)"
   ]
  },
  {
   "cell_type": "code",
   "execution_count": 5,
   "id": "4dab9a99-852d-4de8-b4a1-05ff64e53eb4",
   "metadata": {},
   "outputs": [
    {
     "data": {
      "text/plain": [
       "numpy.ndarray"
      ]
     },
     "execution_count": 5,
     "metadata": {},
     "output_type": "execute_result"
    }
   ],
   "source": [
    "type(arr)"
   ]
  },
  {
   "cell_type": "code",
   "execution_count": 7,
   "id": "a408c8e4-c2a6-478c-aef2-b58f24c504d6",
   "metadata": {},
   "outputs": [
    {
     "name": "stdout",
     "output_type": "stream",
     "text": [
      "[[1 2 3 4 5]\n",
      " [2 3 4 5 6]\n",
      " [3 4 5 6 7]]\n"
     ]
    }
   ],
   "source": [
    "list1=[1,2,3,4,5]\n",
    "list2=[2,3,4,5,6]\n",
    "list3=[3,4,5,6,7]\n",
    "arr=np.array([list1,list2,list3])\n",
    "print(arr)"
   ]
  },
  {
   "cell_type": "code",
   "execution_count": 9,
   "id": "65806c1a-6666-4b2a-a965-bf35e03181a9",
   "metadata": {},
   "outputs": [
    {
     "data": {
      "text/plain": [
       "(3, 5)"
      ]
     },
     "execution_count": 9,
     "metadata": {},
     "output_type": "execute_result"
    }
   ],
   "source": [
    "arr.shape"
   ]
  },
  {
   "cell_type": "code",
   "execution_count": 11,
   "id": "c75f250f-18a2-4a68-abba-8c1539467113",
   "metadata": {},
   "outputs": [
    {
     "data": {
      "text/plain": [
       "array([[1, 2, 3],\n",
       "       [4, 5, 2],\n",
       "       [3, 4, 5],\n",
       "       [6, 3, 4],\n",
       "       [5, 6, 7]])"
      ]
     },
     "execution_count": 11,
     "metadata": {},
     "output_type": "execute_result"
    }
   ],
   "source": [
    "arr.reshape(5,3)"
   ]
  },
  {
   "cell_type": "code",
   "execution_count": 13,
   "id": "24b8e704-43cb-4abc-85c7-099d1041793d",
   "metadata": {},
   "outputs": [
    {
     "name": "stdout",
     "output_type": "stream",
     "text": [
      "[[1 2 3 4 5]\n",
      " [2 3 4 5 6]\n",
      " [3 4 5 6 7]]\n"
     ]
    }
   ],
   "source": [
    "print(arr)"
   ]
  },
  {
   "cell_type": "code",
   "execution_count": 21,
   "id": "0f576832-4399-484c-9010-ce28d69fedc3",
   "metadata": {},
   "outputs": [
    {
     "name": "stdout",
     "output_type": "stream",
     "text": [
      "[2 3 4]\n"
     ]
    }
   ],
   "source": [
    "print(arr[0:,1])"
   ]
  },
  {
   "cell_type": "code",
   "execution_count": 31,
   "id": "ae6acdfd-37cd-4e75-bb75-f037e73897dd",
   "metadata": {},
   "outputs": [
    {
     "name": "stdout",
     "output_type": "stream",
     "text": [
      "[4 5 6]\n"
     ]
    }
   ],
   "source": [
    "print(arr[:4,3])"
   ]
  },
  {
   "cell_type": "code",
   "execution_count": 35,
   "id": "dd09b0f3-e9a0-41d6-85de-919635d49baa",
   "metadata": {},
   "outputs": [
    {
     "name": "stdout",
     "output_type": "stream",
     "text": [
      "[[3 4]\n",
      " [4 5]]\n"
     ]
    }
   ],
   "source": [
    "print(arr[1:,1:3])"
   ]
  },
  {
   "cell_type": "code",
   "execution_count": 37,
   "id": "9ffcec61-18d7-4e57-a781-ae5dbe698c1c",
   "metadata": {},
   "outputs": [
    {
     "name": "stdout",
     "output_type": "stream",
     "text": [
      "[5]\n"
     ]
    }
   ],
   "source": [
    "print(arr[2:,2])"
   ]
  },
  {
   "cell_type": "code",
   "execution_count": 43,
   "id": "18ce30e9-224b-4e79-a9e2-be958ff8ef22",
   "metadata": {},
   "outputs": [
    {
     "name": "stdout",
     "output_type": "stream",
     "text": [
      "[[4 5]\n",
      " [5 6]]\n"
     ]
    }
   ],
   "source": [
    "print(arr[1:,2:4])"
   ]
  },
  {
   "cell_type": "code",
   "execution_count": 45,
   "id": "a31c8bc5-cdba-4269-92e8-8e1b01b68e18",
   "metadata": {},
   "outputs": [
    {
     "name": "stdout",
     "output_type": "stream",
     "text": [
      "[[4 5 6]\n",
      " [5 6 7]]\n"
     ]
    }
   ],
   "source": [
    "print(arr[1:,2:5])"
   ]
  },
  {
   "cell_type": "code",
   "execution_count": 47,
   "id": "26dd2e9a-3edd-4756-a19a-4276fac39b02",
   "metadata": {},
   "outputs": [
    {
     "name": "stdout",
     "output_type": "stream",
     "text": [
      "[[1 2 3]\n",
      " [2 3 4]\n",
      " [3 4 5]]\n"
     ]
    }
   ],
   "source": [
    "print(arr[0:,0:3,])"
   ]
  },
  {
   "cell_type": "code",
   "execution_count": 51,
   "id": "2494db25-8ca2-452f-b262-dd08a6f5f254",
   "metadata": {},
   "outputs": [
    {
     "name": "stdout",
     "output_type": "stream",
     "text": [
      "[[1 5]\n",
      " [2 6]\n",
      " [3 7]]\n"
     ]
    }
   ],
   "source": [
    "print(arr[0:,0::4])"
   ]
  },
  {
   "cell_type": "code",
   "execution_count": 53,
   "id": "947962ef-e5f6-4249-9fc5-2171def88636",
   "metadata": {},
   "outputs": [
    {
     "name": "stdout",
     "output_type": "stream",
     "text": [
      "[[1 2 3 4 5]\n",
      " [2 3 4 5 6]\n",
      " [3 4 5 6 7]]\n"
     ]
    }
   ],
   "source": [
    "print(arr)"
   ]
  },
  {
   "cell_type": "code",
   "execution_count": 57,
   "id": "8e34de82-5840-403d-886e-dc97aa762026",
   "metadata": {},
   "outputs": [
    {
     "name": "stdout",
     "output_type": "stream",
     "text": [
      "[[1 5]\n",
      " [2 6]\n",
      " [3 7]]\n"
     ]
    }
   ],
   "source": [
    "print(arr[0:,[0,4]])"
   ]
  },
  {
   "cell_type": "code",
   "execution_count": 59,
   "id": "069619dc-fc57-42fe-9761-c83e87e71734",
   "metadata": {},
   "outputs": [
    {
     "name": "stdout",
     "output_type": "stream",
     "text": [
      "[[1 5]\n",
      " [2 6]\n",
      " [3 7]]\n"
     ]
    }
   ],
   "source": [
    "print(arr[:,::4])"
   ]
  },
  {
   "cell_type": "code",
   "execution_count": 65,
   "id": "3c84c2d8-f1fd-425a-9153-939ed8b4bf67",
   "metadata": {},
   "outputs": [
    {
     "data": {
      "text/plain": [
       "array([[ 1,  3,  5,  7,  9],\n",
       "       [11, 13, 15, 17, 19]])"
      ]
     },
     "execution_count": 65,
     "metadata": {},
     "output_type": "execute_result"
    }
   ],
   "source": [
    "import numpy as np\n",
    "np.arange(1,20,2).reshape(2,5)"
   ]
  },
  {
   "cell_type": "code",
   "execution_count": 67,
   "id": "e9d85547-ff3b-4e93-bcaf-8fc6d2dd74c5",
   "metadata": {},
   "outputs": [
    {
     "name": "stdout",
     "output_type": "stream",
     "text": [
      "[[ 1  4  9 16 25]\n",
      " [ 4  9 16 25 36]\n",
      " [ 9 16 25 36 49]]\n"
     ]
    }
   ],
   "source": [
    "arr1=arr*arr\n",
    "print(arr1)"
   ]
  },
  {
   "cell_type": "code",
   "execution_count": 69,
   "id": "9621b27a-9c2c-4647-8bf6-4c277bd601d8",
   "metadata": {},
   "outputs": [
    {
     "name": "stdout",
     "output_type": "stream",
     "text": [
      "[[ 2  4  6  8 10]\n",
      " [ 4  6  8 10 12]\n",
      " [ 6  8 10 12 14]]\n"
     ]
    }
   ],
   "source": [
    "arr2=arr*2\n",
    "print(arr2)"
   ]
  },
  {
   "cell_type": "code",
   "execution_count": 83,
   "id": "aaf7fecf-7b72-4ea0-964d-a7079f355b26",
   "metadata": {},
   "outputs": [
    {
     "data": {
      "text/plain": [
       "array([[1., 1., 1.],\n",
       "       [1., 1., 1.],\n",
       "       [1., 1., 1.],\n",
       "       [1., 1., 1.],\n",
       "       [1., 1., 1.]])"
      ]
     },
     "execution_count": 83,
     "metadata": {},
     "output_type": "execute_result"
    }
   ],
   "source": [
    "np.ones((5,3))"
   ]
  },
  {
   "cell_type": "code",
   "execution_count": 85,
   "id": "650b63f5-ce49-44e8-8dfa-3ea0cfb41694",
   "metadata": {},
   "outputs": [
    {
     "data": {
      "text/plain": [
       "array([[0., 0., 0., 0., 0.],\n",
       "       [0., 0., 0., 0., 0.],\n",
       "       [0., 0., 0., 0., 0.],\n",
       "       [0., 0., 0., 0., 0.]])"
      ]
     },
     "execution_count": 85,
     "metadata": {},
     "output_type": "execute_result"
    }
   ],
   "source": [
    "np.zeros((4,5))"
   ]
  },
  {
   "cell_type": "markdown",
   "id": "e3e4406f-36f8-46d6-9a4b-e2c482efe523",
   "metadata": {},
   "source": [
    "# Practice "
   ]
  },
  {
   "cell_type": "code",
   "execution_count": 13,
   "id": "9fa668c6-70be-43e2-9768-44aee51773f8",
   "metadata": {},
   "outputs": [
    {
     "name": "stdout",
     "output_type": "stream",
     "text": [
      "[10 20 30 40]\n",
      "<class 'numpy.ndarray'>\n"
     ]
    }
   ],
   "source": [
    "import numpy as np\n",
    "arr=np.array([10,20,30,40])\n",
    "print(arr)\n",
    "print(type(arr))"
   ]
  },
  {
   "cell_type": "code",
   "execution_count": 15,
   "id": "3dcd8f75-fc5c-49c8-a5d0-0334046d6f3d",
   "metadata": {},
   "outputs": [
    {
     "data": {
      "text/plain": [
       "array([10, 20, 30, 40, 55, 60])"
      ]
     },
     "execution_count": 15,
     "metadata": {},
     "output_type": "execute_result"
    }
   ],
   "source": [
    "arr=np.array([10,20,30,40,55,60])\n",
    "arr"
   ]
  },
  {
   "cell_type": "code",
   "execution_count": 17,
   "id": "5d644990-1b7f-426d-80ad-40edf7981820",
   "metadata": {},
   "outputs": [
    {
     "data": {
      "text/plain": [
       "array([[10, 20, 30],\n",
       "       [40, 55, 60]])"
      ]
     },
     "execution_count": 17,
     "metadata": {},
     "output_type": "execute_result"
    }
   ],
   "source": [
    "arr.reshape(2,3)"
   ]
  },
  {
   "cell_type": "code",
   "execution_count": 19,
   "id": "501397c0-3e12-4224-a34e-a034a28bc30b",
   "metadata": {},
   "outputs": [
    {
     "data": {
      "text/plain": [
       "array([[10, 20],\n",
       "       [30, 40],\n",
       "       [55, 60]])"
      ]
     },
     "execution_count": 19,
     "metadata": {},
     "output_type": "execute_result"
    }
   ],
   "source": [
    "arr.reshape(3,2)"
   ]
  },
  {
   "cell_type": "code",
   "execution_count": 51,
   "id": "1b9ea623-c15f-4d8e-8f73-fe1c0083f229",
   "metadata": {},
   "outputs": [
    {
     "name": "stdin",
     "output_type": "stream",
     "text": [
      "Enter the number of elements in list :  6\n",
      "Enter the value of list element : 1\n",
      "Enter the value of list element : 2\n",
      "Enter the value of list element : 3\n",
      "Enter the value of list element : 4\n",
      "Enter the value of list element : 5\n",
      "Enter the value of list element : 6\n"
     ]
    },
    {
     "name": "stdout",
     "output_type": "stream",
     "text": [
      "[1 2 3 4 5 6]\n"
     ]
    },
    {
     "data": {
      "text/plain": [
       "array([[1, 2, 3],\n",
       "       [4, 5, 6]])"
      ]
     },
     "execution_count": 51,
     "metadata": {},
     "output_type": "execute_result"
    }
   ],
   "source": [
    "# 1d array user input\n",
    "list1=[]\n",
    "n=int(input(\"Enter the number of elements in list : \"))\n",
    "for _ in range(n):\n",
    "    a=int(input(\"Enter the value of list element :\"))\n",
    "    list1.append(a)\n",
    "arr=np.array(list1)\n",
    "print(arr)\n",
    "arr.reshape(2,3)"
   ]
  },
  {
   "cell_type": "code",
   "execution_count": 53,
   "id": "1db0afbe-4282-46c8-97a2-66dda6d4f198",
   "metadata": {},
   "outputs": [
    {
     "name": "stdout",
     "output_type": "stream",
     "text": [
      "[[1 2 3 4]\n",
      " [5 6 7 8]]\n"
     ]
    }
   ],
   "source": [
    "arr2=np.array([[1,2,3,4],[5,6,7,8]])\n",
    "print(arr2)"
   ]
  },
  {
   "cell_type": "code",
   "execution_count": 55,
   "id": "4e1bd8d3-eae1-460f-a650-9bbcd6c19bc9",
   "metadata": {},
   "outputs": [
    {
     "data": {
      "text/plain": [
       "array([[1, 2],\n",
       "       [3, 4],\n",
       "       [5, 6],\n",
       "       [7, 8]])"
      ]
     },
     "execution_count": 55,
     "metadata": {},
     "output_type": "execute_result"
    }
   ],
   "source": [
    "arr2.reshape(4,2)"
   ]
  },
  {
   "cell_type": "code",
   "execution_count": 7,
   "id": "ad7f9d87-369b-4611-888c-d488ae16ebd2",
   "metadata": {},
   "outputs": [
    {
     "name": "stdin",
     "output_type": "stream",
     "text": [
      "Enter the number of elemets of list1 and list2 :  6\n",
      "Enter the number of list1 :  1\n",
      "Enter the number of list1 :  2\n",
      "Enter the number of list1 :  3\n",
      "Enter the number of list1 :  4\n",
      "Enter the number of list1 :  5\n",
      "Enter the number of list1 :  6\n",
      "Enter the number of list2 :  7\n",
      "Enter the number of list2 :  8\n",
      "Enter the number of list2 :  9\n",
      "Enter the number of list2 :  10\n",
      "Enter the number of list2 :  11\n",
      "Enter the number of list2 :  12\n"
     ]
    }
   ],
   "source": [
    "#user input for 2 d array\n",
    "import numpy as np\n",
    "list1=[]\n",
    "list2=[]\n",
    "n=int(input(\"Enter the number of elemets of list1 and list2 : \"))\n",
    "# list2=[]\n",
    "for _ in range(n):\n",
    "    a=int(input(\"Enter the number of list1 : \"))\n",
    "    list1.append(a)\n",
    "for _ in range(n):\n",
    "    b=int(input(\"Enter the number of list2 : \"))\n",
    "    list2.append(b)\n",
    "arr2=np.array([[list1],[list2]])"
   ]
  },
  {
   "cell_type": "code",
   "execution_count": 9,
   "id": "5243bdaf-1221-4e97-a617-b48916c11ede",
   "metadata": {},
   "outputs": [
    {
     "data": {
      "text/plain": [
       "array([[[ 1,  2,  3,  4,  5,  6]],\n",
       "\n",
       "       [[ 7,  8,  9, 10, 11, 12]]])"
      ]
     },
     "execution_count": 9,
     "metadata": {},
     "output_type": "execute_result"
    }
   ],
   "source": [
    "arr2\n"
   ]
  },
  {
   "cell_type": "code",
   "execution_count": 75,
   "id": "17367cb2-9722-4bbd-92f3-dd6d760cfb01",
   "metadata": {},
   "outputs": [
    {
     "data": {
      "text/plain": [
       "array([[ 1,  2,  3],\n",
       "       [ 4,  5,  6],\n",
       "       [ 7,  8,  9],\n",
       "       [10, 11, 12]])"
      ]
     },
     "execution_count": 75,
     "metadata": {},
     "output_type": "execute_result"
    }
   ],
   "source": [
    "arr2.reshape(4,3)"
   ]
  },
  {
   "cell_type": "code",
   "execution_count": 77,
   "id": "d3b0339b-236e-4797-875f-986c47d2bddf",
   "metadata": {},
   "outputs": [
    {
     "data": {
      "text/plain": [
       "3"
      ]
     },
     "execution_count": 77,
     "metadata": {},
     "output_type": "execute_result"
    }
   ],
   "source": [
    "arr2.ndim"
   ]
  },
  {
   "cell_type": "code",
   "execution_count": 79,
   "id": "e38a0a35-e068-4eb4-b1e3-825676ddc1dc",
   "metadata": {},
   "outputs": [
    {
     "data": {
      "text/plain": [
       "(2, 1, 6)"
      ]
     },
     "execution_count": 79,
     "metadata": {},
     "output_type": "execute_result"
    }
   ],
   "source": [
    "arr2.shape"
   ]
  },
  {
   "cell_type": "code",
   "execution_count": 81,
   "id": "549961fb-849f-4809-83d6-89b4dc51b68c",
   "metadata": {},
   "outputs": [
    {
     "data": {
      "text/plain": [
       "12"
      ]
     },
     "execution_count": 81,
     "metadata": {},
     "output_type": "execute_result"
    }
   ],
   "source": [
    "arr2.size"
   ]
  },
  {
   "cell_type": "code",
   "execution_count": 83,
   "id": "e9585786-d26c-422d-8e74-9bcd47b080dc",
   "metadata": {},
   "outputs": [
    {
     "data": {
      "text/plain": [
       "dtype('int32')"
      ]
     },
     "execution_count": 83,
     "metadata": {},
     "output_type": "execute_result"
    }
   ],
   "source": [
    "arr2.dtype"
   ]
  },
  {
   "cell_type": "code",
   "execution_count": 85,
   "id": "31892e1a-3f02-4a0f-9515-0fc1444aa46c",
   "metadata": {},
   "outputs": [
    {
     "data": {
      "text/plain": [
       "4"
      ]
     },
     "execution_count": 85,
     "metadata": {},
     "output_type": "execute_result"
    }
   ],
   "source": [
    "arr2.itemsize"
   ]
  },
  {
   "cell_type": "code",
   "execution_count": 87,
   "id": "c02981ec-7f71-4ef8-86b5-744aa883056e",
   "metadata": {},
   "outputs": [
    {
     "data": {
      "text/plain": [
       "array([ 1,  2,  3,  4,  5,  6,  7,  8,  9, 10, 11, 12])"
      ]
     },
     "execution_count": 87,
     "metadata": {},
     "output_type": "execute_result"
    }
   ],
   "source": [
    "# flatten converting a multidimensional array into a 1 D array\n",
    "arr3D=np.array([[[1,2,3],[4,5,6],[7,8,9],[10,11,12]]])\n",
    "flattened_array=arr3D.flatten()\n",
    "flattened_array"
   ]
  },
  {
   "cell_type": "code",
   "execution_count": 98,
   "id": "9a3ab397-e8ce-4a6b-9352-3a64a299e256",
   "metadata": {},
   "outputs": [
    {
     "name": "stdin",
     "output_type": "stream",
     "text": [
      "Enter the number of elements in a list1 :  6\n",
      "Enter the value of list1  :  1\n",
      "Enter the value of list1  :  2\n",
      "Enter the value of list1  :  3\n",
      "Enter the value of list1  :  4\n",
      "Enter the value of list1  :  5\n",
      "Enter the value of list1  :  6\n",
      "Enter the value of list2 :  7\n",
      "Enter the value of list2 :  8\n",
      "Enter the value of list2 :  9\n",
      "Enter the value of list2 :  0\n",
      "Enter the value of list2 :  11\n",
      "Enter the value of list2 :  12\n"
     ]
    }
   ],
   "source": [
    "#create a 2D array for the transpose example\n",
    "list1=[]\n",
    "list2=[]\n",
    "n=int(input(\"Enter the number of elements in a list1 : \"))\n",
    "for _ in range(n):\n",
    "    a=int(input(\"Enter the value of list1  : \"))\n",
    "    list1.append(a)\n",
    "for _ in range(n):\n",
    "    b=int(input(\"Enter the value of list2 : \"))\n",
    "    list2.append(b)\n",
    "arr2=np.array([list1,list2])"
   ]
  },
  {
   "cell_type": "code",
   "execution_count": 100,
   "id": "d4e04473-adc1-410d-8068-178238547c0c",
   "metadata": {},
   "outputs": [
    {
     "data": {
      "text/plain": [
       "array([[ 1,  2,  3,  4,  5,  6],\n",
       "       [ 7,  8,  9,  0, 11, 12]])"
      ]
     },
     "execution_count": 100,
     "metadata": {},
     "output_type": "execute_result"
    }
   ],
   "source": [
    "arr2"
   ]
  },
  {
   "cell_type": "code",
   "execution_count": 102,
   "id": "09b77ac4-2cb4-4296-a558-19a2887bf96e",
   "metadata": {},
   "outputs": [],
   "source": [
    "transposed_array=arr2.transpose()"
   ]
  },
  {
   "cell_type": "code",
   "execution_count": 104,
   "id": "b8c1980b-8ebc-4e65-82af-5e6933322ca1",
   "metadata": {},
   "outputs": [
    {
     "data": {
      "text/plain": [
       "array([[ 1,  7],\n",
       "       [ 2,  8],\n",
       "       [ 3,  9],\n",
       "       [ 4,  0],\n",
       "       [ 5, 11],\n",
       "       [ 6, 12]])"
      ]
     },
     "execution_count": 104,
     "metadata": {},
     "output_type": "execute_result"
    }
   ],
   "source": [
    "transposed_array"
   ]
  },
  {
   "cell_type": "code",
   "execution_count": 106,
   "id": "0128ba4a-40d8-42b8-a0a5-d4d0a0e0112e",
   "metadata": {},
   "outputs": [
    {
     "name": "stdin",
     "output_type": "stream",
     "text": [
      "Enter the number :  4\n",
      " 1\n",
      " 2\n",
      " 3\n",
      " 4\n",
      " 5\n",
      " 6\n",
      " 7\n",
      " 8\n"
     ]
    },
    {
     "name": "stdout",
     "output_type": "stream",
     "text": [
      "[[1 2 3 4]\n",
      " [5 6 7 8]]\n"
     ]
    }
   ],
   "source": [
    "list3=[]\n",
    "list4=[]\n",
    "n=int(input(\"Enter the number : \"))\n",
    "for _ in range(n):\n",
    "    a=int(input())\n",
    "    list3.append(a)\n",
    "for _ in range(n):\n",
    "    b=int(input())\n",
    "    list4.append(b)\n",
    "arr3=np.array([list3,list4])\n",
    "print(arr3)"
   ]
  },
  {
   "cell_type": "code",
   "execution_count": 108,
   "id": "28382b9e-8798-49a8-8356-80e6bc9eab78",
   "metadata": {},
   "outputs": [
    {
     "data": {
      "text/plain": [
       "array([[1, 5],\n",
       "       [2, 6],\n",
       "       [3, 7],\n",
       "       [4, 8]])"
      ]
     },
     "execution_count": 108,
     "metadata": {},
     "output_type": "execute_result"
    }
   ],
   "source": [
    "arr3.T"
   ]
  },
  {
   "cell_type": "code",
   "execution_count": 114,
   "id": "6631a856-3ef0-4ca5-aaaa-4646dba922fe",
   "metadata": {},
   "outputs": [
    {
     "data": {
      "text/plain": [
       "array([ 0,  1,  2,  3,  4,  5,  6,  7,  8,  9, 10, 11])"
      ]
     },
     "execution_count": 114,
     "metadata": {},
     "output_type": "execute_result"
    }
   ],
   "source": [
    "arr4=np.arange(12)\n",
    "arr4"
   ]
  },
  {
   "cell_type": "code",
   "execution_count": 116,
   "id": "88c1b2e8-2df1-4e7f-84fe-528c7e08136a",
   "metadata": {},
   "outputs": [
    {
     "data": {
      "text/plain": [
       "(12,)"
      ]
     },
     "execution_count": 116,
     "metadata": {},
     "output_type": "execute_result"
    }
   ],
   "source": [
    "arr4.shape"
   ]
  },
  {
   "cell_type": "code",
   "execution_count": 118,
   "id": "8174e2f5-d66d-4df2-993f-868ef4e2ce81",
   "metadata": {},
   "outputs": [
    {
     "data": {
      "text/plain": [
       "array([[ 0,  1],\n",
       "       [ 2,  3],\n",
       "       [ 4,  5],\n",
       "       [ 6,  7],\n",
       "       [ 8,  9],\n",
       "       [10, 11]])"
      ]
     },
     "execution_count": 118,
     "metadata": {},
     "output_type": "execute_result"
    }
   ],
   "source": [
    "arr4.reshape(6,2)"
   ]
  },
  {
   "cell_type": "code",
   "execution_count": 120,
   "id": "7b460d37-9fa3-48d7-a8e8-a05908472202",
   "metadata": {},
   "outputs": [
    {
     "data": {
      "text/plain": [
       "array([[ 0,  1,  2,  3,  4,  5],\n",
       "       [ 6,  7,  8,  9, 10, 11]])"
      ]
     },
     "execution_count": 120,
     "metadata": {},
     "output_type": "execute_result"
    }
   ],
   "source": [
    "arr4.reshape(2,6)"
   ]
  },
  {
   "cell_type": "code",
   "execution_count": 122,
   "id": "c4323846-bcfb-4f6c-8147-c4a4b371ce15",
   "metadata": {},
   "outputs": [
    {
     "data": {
      "text/plain": [
       "(12,)"
      ]
     },
     "execution_count": 122,
     "metadata": {},
     "output_type": "execute_result"
    }
   ],
   "source": [
    "arr4.shape"
   ]
  },
  {
   "cell_type": "code",
   "execution_count": 124,
   "id": "312e83c6-93c7-440d-b29f-493d3a27a09c",
   "metadata": {},
   "outputs": [
    {
     "data": {
      "text/plain": [
       "array([[ 0,  1,  2,  3],\n",
       "       [ 4,  5,  6,  7],\n",
       "       [ 8,  9, 10, 11]])"
      ]
     },
     "execution_count": 124,
     "metadata": {},
     "output_type": "execute_result"
    }
   ],
   "source": [
    "arr4.reshape(3,4)"
   ]
  },
  {
   "cell_type": "code",
   "execution_count": 132,
   "id": "085ee790-6f75-4ee3-8f77-5f07d51007d3",
   "metadata": {},
   "outputs": [
    {
     "data": {
      "text/plain": [
       "array([75.2, 77.1, 74.5, 79.3, 82.6, 81.2, 77.8])"
      ]
     },
     "execution_count": 132,
     "metadata": {},
     "output_type": "execute_result"
    }
   ],
   "source": [
    "temp=[75.2,77.1,74.5,79.3,82.6,81.2,77.8]\n",
    "arr5=np.array(temp)\n",
    "\n",
    "arr5"
   ]
  },
  {
   "cell_type": "code",
   "execution_count": 134,
   "id": "97ab6e26-23cc-4e34-abf5-fad05437bd94",
   "metadata": {},
   "outputs": [
    {
     "data": {
      "text/plain": [
       "1"
      ]
     },
     "execution_count": 134,
     "metadata": {},
     "output_type": "execute_result"
    }
   ],
   "source": [
    "arr5.ndim"
   ]
  },
  {
   "cell_type": "code",
   "execution_count": 136,
   "id": "2659a041-fb5f-4039-8cd3-ade493eaa579",
   "metadata": {},
   "outputs": [
    {
     "data": {
      "text/plain": [
       "(7,)"
      ]
     },
     "execution_count": 136,
     "metadata": {},
     "output_type": "execute_result"
    }
   ],
   "source": [
    "arr5.shape"
   ]
  },
  {
   "cell_type": "code",
   "execution_count": 138,
   "id": "12bbce0a-c14a-448a-8df1-66260b2acdfc",
   "metadata": {},
   "outputs": [
    {
     "data": {
      "text/plain": [
       "7"
      ]
     },
     "execution_count": 138,
     "metadata": {},
     "output_type": "execute_result"
    }
   ],
   "source": [
    "arr5.size"
   ]
  },
  {
   "cell_type": "code",
   "execution_count": 140,
   "id": "df7c1eb8-7221-48a4-b914-22d579930877",
   "metadata": {},
   "outputs": [
    {
     "data": {
      "text/plain": [
       "dtype('float64')"
      ]
     },
     "execution_count": 140,
     "metadata": {},
     "output_type": "execute_result"
    }
   ],
   "source": [
    "arr5.dtype"
   ]
  },
  {
   "cell_type": "code",
   "execution_count": 142,
   "id": "ef498565-79fc-4082-89d8-a08018022a09",
   "metadata": {},
   "outputs": [
    {
     "data": {
      "text/plain": [
       "8"
      ]
     },
     "execution_count": 142,
     "metadata": {},
     "output_type": "execute_result"
    }
   ],
   "source": [
    "arr5.itemsize"
   ]
  },
  {
   "cell_type": "code",
   "execution_count": 144,
   "id": "399385f0-1f91-4c48-9007-9567d0d02895",
   "metadata": {},
   "outputs": [
    {
     "data": {
      "text/plain": [
       "<memory at 0x000002786E1D37C0>"
      ]
     },
     "execution_count": 144,
     "metadata": {},
     "output_type": "execute_result"
    }
   ],
   "source": [
    "arr5.data"
   ]
  },
  {
   "cell_type": "code",
   "execution_count": 146,
   "id": "9411e0d7-2dbd-4583-8210-4b97b49b6d2f",
   "metadata": {},
   "outputs": [
    {
     "ename": "ValueError",
     "evalue": "cannot reshape array of size 7 into shape (3,2)",
     "output_type": "error",
     "traceback": [
      "\u001b[1;31m---------------------------------------------------------------------------\u001b[0m",
      "\u001b[1;31mValueError\u001b[0m                                Traceback (most recent call last)",
      "Cell \u001b[1;32mIn[146], line 1\u001b[0m\n\u001b[1;32m----> 1\u001b[0m arr5\u001b[38;5;241m.\u001b[39mreshape(\u001b[38;5;241m3\u001b[39m,\u001b[38;5;241m2\u001b[39m)\n",
      "\u001b[1;31mValueError\u001b[0m: cannot reshape array of size 7 into shape (3,2)"
     ]
    }
   ],
   "source": [
    "arr5.reshape(3,2) # we can not reshape because size of the the array is 7 \n",
    "#and it is no divide equally"
   ]
  },
  {
   "cell_type": "code",
   "execution_count": 150,
   "id": "23087eb6-2f42-44ca-aebe-f3a4ae575034",
   "metadata": {},
   "outputs": [
    {
     "data": {
      "text/plain": [
       "array([75.2, 77.1, 74.5, 79.3, 82.6, 81.2, 77.8])"
      ]
     },
     "execution_count": 150,
     "metadata": {},
     "output_type": "execute_result"
    }
   ],
   "source": [
    "arr5.flatten()"
   ]
  },
  {
   "cell_type": "code",
   "execution_count": 152,
   "id": "a5c66303-83a1-477b-b30f-1e6a9915cff6",
   "metadata": {},
   "outputs": [
    {
     "data": {
      "text/plain": [
       "array([75.2, 77.1, 74.5, 79.3, 82.6, 81.2, 77.8])"
      ]
     },
     "execution_count": 152,
     "metadata": {},
     "output_type": "execute_result"
    }
   ],
   "source": [
    "arr5.T"
   ]
  },
  {
   "cell_type": "markdown",
   "id": "6bffd946-75b7-4c47-9c4c-45c00d55fa06",
   "metadata": {},
   "source": [
    "#Arithmetic Operations using Numpy"
   ]
  },
  {
   "cell_type": "code",
   "execution_count": 155,
   "id": "5771d4ae-726f-48a7-bd70-fe0b97f1b198",
   "metadata": {},
   "outputs": [
    {
     "name": "stdout",
     "output_type": "stream",
     "text": [
      "[30 20 10]\n",
      "[10 20 30]\n",
      "[40 40 40]\n"
     ]
    }
   ],
   "source": [
    "#Addition\n",
    "a=np.array([30,20,10])\n",
    "b=np.array([10,20,30])\n",
    "print(a)\n",
    "print(b)\n",
    "result=np.add(a,b)\n",
    "print(result)"
   ]
  },
  {
   "cell_type": "code",
   "execution_count": 13,
   "id": "0f58bfb6-0c55-4cb1-afe8-5bdab969fe8d",
   "metadata": {},
   "outputs": [
    {
     "data": {
      "text/plain": [
       "[1, 1, 1, 2, 2, 2]"
      ]
     },
     "execution_count": 13,
     "metadata": {},
     "output_type": "execute_result"
    }
   ],
   "source": [
    "[1,1,1]+[2,2,2] # addition of lists is a concatenation operation"
   ]
  },
  {
   "cell_type": "code",
   "execution_count": 165,
   "id": "bb1a532c-3bf1-40ee-af4e-7afec6429e63",
   "metadata": {},
   "outputs": [
    {
     "name": "stdout",
     "output_type": "stream",
     "text": [
      "[[30 40 60]\n",
      " [50 70 90]]\n",
      "[[10 20 30]\n",
      " [40 30 80]]\n",
      "[[20 20 30]\n",
      " [10 40 10]]\n"
     ]
    }
   ],
   "source": [
    "#substraction\n",
    "a=np.array([[30,40,60],[50,70,90]])\n",
    "b=np.array([[10,20,30],[40,30,80]])\n",
    "print(a)\n",
    "print(b)\n",
    "result=np.subtract(a,b)\n",
    "print(result)"
   ]
  },
  {
   "cell_type": "code",
   "execution_count": 167,
   "id": "32d73bd4-999f-4892-a945-7f35ede04e8c",
   "metadata": {},
   "outputs": [
    {
     "name": "stdout",
     "output_type": "stream",
     "text": [
      "[300 400 300]\n"
     ]
    }
   ],
   "source": [
    "# Multiplication\n",
    "a=np.array([30,20,10])\n",
    "b=np.array([10,20,30])\n",
    "result=np.multiply(a,b)\n",
    "print(result)"
   ]
  },
  {
   "cell_type": "code",
   "execution_count": 169,
   "id": "cf9d534d-195f-41bf-b3f1-cddf07016d57",
   "metadata": {},
   "outputs": [
    {
     "name": "stdout",
     "output_type": "stream",
     "text": [
      "[[1 2 1]\n",
      " [2 2 3]]\n",
      "[3 4 5]\n",
      "[[0.33333333 0.5        0.2       ]\n",
      " [0.66666667 0.5        0.6       ]]\n"
     ]
    }
   ],
   "source": [
    "#Division\n",
    "a=np.array([[1,2,1],[2,2,3]])\n",
    "b=np.array([3,4,5])\n",
    "print(a)\n",
    "print(b)\n",
    "result=np.divide(a,b)\n",
    "print(result)"
   ]
  },
  {
   "cell_type": "code",
   "execution_count": 171,
   "id": "2a05feaf-8d4e-4528-8cc5-24f226603bfa",
   "metadata": {},
   "outputs": [
    {
     "name": "stdout",
     "output_type": "stream",
     "text": [
      "[ 4  8 16 32 64]\n"
     ]
    }
   ],
   "source": [
    "#power\n",
    "a=[2,2,2,2,2]\n",
    "b=[2,3,4,5,6]\n",
    "c=np.power(a,b)\n",
    "print(c)"
   ]
  },
  {
   "cell_type": "markdown",
   "id": "5b460a74-8f87-4ae2-96fd-dd66cde0384a",
   "metadata": {},
   "source": [
    "#Statistical Function in Numpy"
   ]
  },
  {
   "cell_type": "code",
   "execution_count": 178,
   "id": "a4acc05e-4a5b-4f66-8cf9-57e3ab71d92f",
   "metadata": {},
   "outputs": [
    {
     "name": "stdout",
     "output_type": "stream",
     "text": [
      "4.0\n"
     ]
    }
   ],
   "source": [
    "#calculating Median,Mean,Standard Deviation And Variance in the Array\n",
    "arr6=np.array([[4,3,2],[10,1,0],[5,8,24]])\n",
    "print(np.median(arr6))"
   ]
  },
  {
   "cell_type": "code",
   "execution_count": 180,
   "id": "2bc2f980-d25b-4251-a4f2-676b073793b2",
   "metadata": {},
   "outputs": [
    {
     "name": "stdout",
     "output_type": "stream",
     "text": [
      "6.333333333333333\n"
     ]
    }
   ],
   "source": [
    "print(np.mean(arr6))"
   ]
  },
  {
   "cell_type": "code",
   "execution_count": 182,
   "id": "f53d978a-92ba-4fd6-9c50-64a3b4ac6671",
   "metadata": {},
   "outputs": [
    {
     "name": "stdout",
     "output_type": "stream",
     "text": [
      "6.944222218666553\n"
     ]
    }
   ],
   "source": [
    "print(np.std(arr6))"
   ]
  },
  {
   "cell_type": "code",
   "execution_count": 184,
   "id": "9a9ef4b8-dabf-4577-81f3-f31fd2be8713",
   "metadata": {},
   "outputs": [
    {
     "name": "stdout",
     "output_type": "stream",
     "text": [
      "48.22222222222222\n"
     ]
    }
   ],
   "source": [
    "print(np.var(arr6))"
   ]
  },
  {
   "cell_type": "code",
   "execution_count": 186,
   "id": "0b5584d0-52fa-4ffa-aa18-1910551f5755",
   "metadata": {},
   "outputs": [
    {
     "data": {
      "text/plain": [
       "array([[ 4,  3,  2],\n",
       "       [10,  1,  0],\n",
       "       [ 5,  8, 24]])"
      ]
     },
     "execution_count": 186,
     "metadata": {},
     "output_type": "execute_result"
    }
   ],
   "source": [
    "arr6"
   ]
  },
  {
   "cell_type": "code",
   "execution_count": 188,
   "id": "cd918073-4d96-4484-9dc3-84b0556a50f6",
   "metadata": {},
   "outputs": [
    {
     "data": {
      "text/plain": [
       "array([ 0,  1,  2,  3,  4,  5,  8, 10, 24])"
      ]
     },
     "execution_count": 188,
     "metadata": {},
     "output_type": "execute_result"
    }
   ],
   "source": [
    "np.sort(arr6.flatten())"
   ]
  },
  {
   "cell_type": "code",
   "execution_count": 190,
   "id": "b09b3045-7b42-47d8-899a-0982dfffeda4",
   "metadata": {},
   "outputs": [
    {
     "data": {
      "text/plain": [
       "array([5., 3., 2.])"
      ]
     },
     "execution_count": 190,
     "metadata": {},
     "output_type": "execute_result"
    }
   ],
   "source": [
    "np.median(arr6,axis=0)"
   ]
  },
  {
   "cell_type": "code",
   "execution_count": 192,
   "id": "ffeb5a2e-efa3-4b80-ac3e-5100aeac86cb",
   "metadata": {},
   "outputs": [
    {
     "data": {
      "text/plain": [
       "4.0"
      ]
     },
     "execution_count": 192,
     "metadata": {},
     "output_type": "execute_result"
    }
   ],
   "source": [
    "np.percentile(arr6,50)"
   ]
  },
  {
   "cell_type": "code",
   "execution_count": 3,
   "id": "4f2d13dc-303f-4357-997a-83c6022b76d1",
   "metadata": {},
   "outputs": [
    {
     "data": {
      "text/plain": [
       "array([[[[ 34.  , -20.  ,   0.  , 100.  ,   4.5 ,   2.3 ],\n",
       "         [-90.  ,   5.9 ,   2.3 ,   1.  ,   1.  ,  -3.  ]],\n",
       "\n",
       "        [[  0.1 ,   0.3 ,  -0.9 ,   1.1 ,   1.12,   0.4 ],\n",
       "         [  8.  ,   3.  ,   4.  ,  10.  , -10.  ,  33.  ]]],\n",
       "\n",
       "\n",
       "       [[[ 14.  , -21.  ,  10.  ,  11.  ,  41.5 ,  12.3 ],\n",
       "         [-91.  ,   5.91,   2.31,  11.  ,  11.  , -13.  ]],\n",
       "\n",
       "        [[  0.11,  10.3 , -10.9 ,   1.11,  11.12,  10.4 ],\n",
       "         [ 81.  ,  13.  ,  41.  ,  11.  , -10.1 ,   3.31]]]])"
      ]
     },
     "execution_count": 3,
     "metadata": {},
     "output_type": "execute_result"
    }
   ],
   "source": [
    "#4d array\n",
    "import numpy as np\n",
    "arr_4d = np.array([[[[34, -20, 0, 100, 4.5, 2.3], [-90, 5.9, 2.3, 1, 1, -3]], [[0.1, 0.3, -0.9, 1.1, 1.12, 0.4], [8, 3, 4, 10, -10, 33]]], \n",
    "                  [[[14, -21, 10, 11.0, 41.5, 12.3], [-91, 5.91, 2.31, 11, 11, -13]], [[0.11, 10.3, -10.9, 1.11, 11.12, 10.4], [81, 13, 41, 11.0, -10.1, 3.31]]]])\n",
    "arr_4d"
   ]
  },
  {
   "cell_type": "code",
   "execution_count": 5,
   "id": "e682a4b8-cf43-4b3b-b427-9b0100193867",
   "metadata": {},
   "outputs": [
    {
     "data": {
      "text/plain": [
       "array([[ 14.  , -21.  ,  10.  ,  11.  ,  41.5 ,  12.3 ],\n",
       "       [-91.  ,   5.91,   2.31,  11.  ,  11.  , -13.  ]])"
      ]
     },
     "execution_count": 5,
     "metadata": {},
     "output_type": "execute_result"
    }
   ],
   "source": [
    "arr_4d[1][0]"
   ]
  },
  {
   "cell_type": "code",
   "execution_count": 9,
   "id": "55b5ff76-1229-4717-a9aa-6140d70652da",
   "metadata": {},
   "outputs": [
    {
     "data": {
      "text/plain": [
       "array([11. , 41.5, 12.3])"
      ]
     },
     "execution_count": 9,
     "metadata": {},
     "output_type": "execute_result"
    }
   ],
   "source": [
    "arr_4d[1][0][0][-3:]"
   ]
  },
  {
   "cell_type": "code",
   "execution_count": 11,
   "id": "fc7ef7c5-8edf-4e17-90eb-2eb60866ee8a",
   "metadata": {},
   "outputs": [
    {
     "data": {
      "text/plain": [
       "array([[[[ 34.  , -20.  ,   0.  , 100.  ,   4.5 ,   2.3 ],\n",
       "         [-90.  ,   5.9 ,   2.3 ,   1.  ,   1.  ,  -3.  ]],\n",
       "\n",
       "        [[  0.1 ,   0.3 ,  -0.9 ,   1.1 ,   1.12,   0.4 ],\n",
       "         [  8.  ,   3.  ,   4.  ,  10.  , -10.  ,  33.  ]]],\n",
       "\n",
       "\n",
       "       [[[ 14.  , -21.  ,  10.  ,  11.  ,  41.5 ,  12.3 ],\n",
       "         [-91.  ,   5.91,   2.31,  11.  ,  11.  , -13.  ]],\n",
       "\n",
       "        [[  0.11,  10.3 , -10.9 ,   1.11,  11.12,  10.4 ],\n",
       "         [ 81.  ,  13.  ,  41.  ,  11.  , -10.1 ,   3.31]]]])"
      ]
     },
     "execution_count": 11,
     "metadata": {},
     "output_type": "execute_result"
    }
   ],
   "source": [
    "arr_4d"
   ]
  },
  {
   "cell_type": "code",
   "execution_count": 13,
   "id": "f3c50941-5e19-4aba-86f9-63400ccc6713",
   "metadata": {},
   "outputs": [
    {
     "data": {
      "text/plain": [
       "array([ 10.3 , -10.9 ,   1.11,  11.12])"
      ]
     },
     "execution_count": 13,
     "metadata": {},
     "output_type": "execute_result"
    }
   ],
   "source": [
    "arr_4d[1][1][0][1:-1]"
   ]
  },
  {
   "cell_type": "code",
   "execution_count": 15,
   "id": "846c7fc6-52cc-4183-a503-69e501b8e736",
   "metadata": {},
   "outputs": [
    {
     "data": {
      "text/plain": [
       "array([  8.,   3.,   4.,  10., -10.,  33.])"
      ]
     },
     "execution_count": 15,
     "metadata": {},
     "output_type": "execute_result"
    }
   ],
   "source": [
    "arr_4d[0][1][1]"
   ]
  },
  {
   "cell_type": "code",
   "execution_count": 17,
   "id": "e4f59b76-5b0d-47c9-8f30-b9d1bac044b3",
   "metadata": {},
   "outputs": [
    {
     "data": {
      "text/plain": [
       "array([  8.,   4., -10.])"
      ]
     },
     "execution_count": 17,
     "metadata": {},
     "output_type": "execute_result"
    }
   ],
   "source": [
    "arr_4d[0][1][1][0::2]"
   ]
  },
  {
   "cell_type": "code",
   "execution_count": 19,
   "id": "4054f22a-5e5f-459c-877c-fccfa3629b0a",
   "metadata": {},
   "outputs": [
    {
     "data": {
      "text/plain": [
       "array([[[[ 34.  , -20.  ,   0.  , 100.  ,   4.5 ,   2.3 ],\n",
       "         [-90.  ,   5.9 ,   2.3 ,   1.  ,   1.  ,  -3.  ]],\n",
       "\n",
       "        [[  0.1 ,   0.3 ,  -0.9 ,   1.1 ,   1.12,   0.4 ],\n",
       "         [  8.  ,   3.  ,   4.  ,  10.  , -10.  ,  33.  ]]],\n",
       "\n",
       "\n",
       "       [[[ 14.  , -21.  ,  10.  ,  11.  ,  41.5 ,  12.3 ],\n",
       "         [-91.  ,   5.91,   2.31,  11.  ,  11.  , -13.  ]],\n",
       "\n",
       "        [[  0.11,  10.3 , -10.9 ,   1.11,  11.12,  10.4 ],\n",
       "         [ 81.  ,  13.  ,  41.  ,  11.  , -10.1 ,   3.31]]]])"
      ]
     },
     "execution_count": 19,
     "metadata": {},
     "output_type": "execute_result"
    }
   ],
   "source": [
    "arr_4d"
   ]
  },
  {
   "cell_type": "code",
   "execution_count": 21,
   "id": "a831702d-3a9b-4e06-ad38-ea9a17f0ea78",
   "metadata": {},
   "outputs": [
    {
     "data": {
      "text/plain": [
       "array([[[ 34.  , -20.  ,   0.  , 100.  ,   4.5 ,   2.3 ],\n",
       "        [-90.  ,   5.9 ,   2.3 ,   1.  ,   1.  ,  -3.  ]],\n",
       "\n",
       "       [[  0.1 ,   0.3 ,  -0.9 ,   1.1 ,   1.12,   0.4 ],\n",
       "        [  8.  ,   3.  ,   4.  ,  10.  , -10.  ,  33.  ]]])"
      ]
     },
     "execution_count": 21,
     "metadata": {},
     "output_type": "execute_result"
    }
   ],
   "source": [
    "arr_4d[0]"
   ]
  },
  {
   "cell_type": "code",
   "execution_count": 23,
   "id": "c906e77a-9ed6-4f1c-a9e6-da2a9a6bdf9d",
   "metadata": {},
   "outputs": [
    {
     "data": {
      "text/plain": [
       "array([[ 34. , -20. ,   0. , 100. ,   4.5],\n",
       "       [-90. ,   5.9,   2.3,   1. ,   1. ]])"
      ]
     },
     "execution_count": 23,
     "metadata": {},
     "output_type": "execute_result"
    }
   ],
   "source": [
    "arr_4d[0][0][:2,:-1]"
   ]
  },
  {
   "cell_type": "code",
   "execution_count": 25,
   "id": "d2644ff2-76ae-44af-94e0-fd14ff8dadc8",
   "metadata": {},
   "outputs": [
    {
     "data": {
      "text/plain": [
       "array([[-20. , 100. ,   2.3],\n",
       "       [  5.9,   1. ,  -3. ]])"
      ]
     },
     "execution_count": 25,
     "metadata": {},
     "output_type": "execute_result"
    }
   ],
   "source": [
    "arr_4d[0][0][:2,1::2]"
   ]
  },
  {
   "cell_type": "code",
   "execution_count": 27,
   "id": "d060c323-31da-4d4f-a023-f9e3bb8feb55",
   "metadata": {},
   "outputs": [
    {
     "data": {
      "text/plain": [
       "array([[[[ 34.  , -20.  ,   0.  , 100.  ,   4.5 ,   2.3 ],\n",
       "         [-90.  ,   5.9 ,   2.3 ,   1.  ,   1.  ,  -3.  ]],\n",
       "\n",
       "        [[  0.1 ,   0.3 ,  -0.9 ,   1.1 ,   1.12,   0.4 ],\n",
       "         [  8.  ,   3.  ,   4.  ,  10.  , -10.  ,  33.  ]]],\n",
       "\n",
       "\n",
       "       [[[ 14.  , -21.  ,  10.  ,  11.  ,  41.5 ,  12.3 ],\n",
       "         [-91.  ,   5.91,   2.31,  11.  ,  11.  , -13.  ]],\n",
       "\n",
       "        [[  0.11,  10.3 , -10.9 ,   1.11,  11.12,  10.4 ],\n",
       "         [ 81.  ,  13.  ,  41.  ,  11.  , -10.1 ,   3.31]]]])"
      ]
     },
     "execution_count": 27,
     "metadata": {},
     "output_type": "execute_result"
    }
   ],
   "source": [
    "arr_4d"
   ]
  },
  {
   "cell_type": "code",
   "execution_count": 33,
   "id": "748aca46-a02a-4e63-bff2-b5b1ebdaa444",
   "metadata": {},
   "outputs": [
    {
     "data": {
      "text/plain": [
       "array([ 0,  1,  2,  3,  4,  5,  6,  7,  8,  9, 10, 11, 12, 13, 14, 15, 16,\n",
       "       17, 18, 19])"
      ]
     },
     "execution_count": 33,
     "metadata": {},
     "output_type": "execute_result"
    }
   ],
   "source": [
    "arr7=np.arange(20)\n",
    "arr7"
   ]
  },
  {
   "cell_type": "code",
   "execution_count": null,
   "id": "2618944b-3911-4f25-819c-fee8a85b90fb",
   "metadata": {},
   "outputs": [],
   "source": []
  },
  {
   "cell_type": "code",
   "execution_count": 35,
   "id": "bc2b1b8c-603b-4f8a-8dc4-d01930120836",
   "metadata": {},
   "outputs": [
    {
     "name": "stdout",
     "output_type": "stream",
     "text": [
      "ag\n"
     ]
    }
   ],
   "source": [
    "#Slicing for string \n",
    "str=\"Shagan sandhu\"\n",
    "print(str[2:4])"
   ]
  },
  {
   "cell_type": "code",
   "execution_count": 37,
   "id": "7fe2462c-ddf4-4e03-a889-5173b44397cb",
   "metadata": {},
   "outputs": [
    {
     "data": {
      "text/plain": [
       "'Shagan sandhu'"
      ]
     },
     "execution_count": 37,
     "metadata": {},
     "output_type": "execute_result"
    }
   ],
   "source": [
    "str[:]"
   ]
  },
  {
   "cell_type": "code",
   "execution_count": 39,
   "id": "f2685da7-bdee-428e-ba90-bc94785b53b6",
   "metadata": {},
   "outputs": [
    {
     "data": {
      "text/plain": [
       "'Saa adu'"
      ]
     },
     "execution_count": 39,
     "metadata": {},
     "output_type": "execute_result"
    }
   ],
   "source": [
    "str[::2]\n",
    "# if i want that space is not to be counted then how its is possible\n",
    "# in this case space has been counted "
   ]
  },
  {
   "cell_type": "code",
   "execution_count": 1,
   "id": "c0256f63-e343-4bce-ade2-6c4af1f6b19b",
   "metadata": {},
   "outputs": [],
   "source": [
    "import numpy as np"
   ]
  },
  {
   "cell_type": "code",
   "execution_count": 3,
   "id": "bf1af688-18a7-4566-a221-8913534baaaf",
   "metadata": {},
   "outputs": [
    {
     "name": "stdout",
     "output_type": "stream",
     "text": [
      "[10 20 30]\n"
     ]
    }
   ],
   "source": [
    "arr=np.array([10,20,30])\n",
    "print(arr)"
   ]
  },
  {
   "cell_type": "code",
   "execution_count": 5,
   "id": "e0bc7574-220c-4c24-a58e-e6f65bd14166",
   "metadata": {},
   "outputs": [
    {
     "data": {
      "text/plain": [
       "10"
      ]
     },
     "execution_count": 5,
     "metadata": {},
     "output_type": "execute_result"
    }
   ],
   "source": [
    "arr[0]"
   ]
  },
  {
   "cell_type": "code",
   "execution_count": 7,
   "id": "d9f07af3-b406-4f2a-b5b6-b2128ccc0daf",
   "metadata": {},
   "outputs": [
    {
     "data": {
      "text/plain": [
       "30"
      ]
     },
     "execution_count": 7,
     "metadata": {},
     "output_type": "execute_result"
    }
   ],
   "source": [
    "arr[-1]"
   ]
  },
  {
   "cell_type": "code",
   "execution_count": 19,
   "id": "53209f33-6a0e-472c-bcc5-6d13dfb44021",
   "metadata": {},
   "outputs": [
    {
     "name": "stdin",
     "output_type": "stream",
     "text": [
      "Enter the number of elements in a list :   3\n",
      "Enter the list number 1\n",
      "Enter the list number 2\n",
      "Enter the list number 3\n"
     ]
    },
    {
     "name": "stdout",
     "output_type": "stream",
     "text": [
      "[1 2 3]\n"
     ]
    }
   ],
   "source": [
    "list1=[]\n",
    "n=int(input(\"Enter the number of elements in a list :  \"))\n",
    "for _ in range(n):\n",
    "    b=int(input(\"Enter the list number\"))\n",
    "    list1.append(b)\n",
    "arr=np.array(list1)\n",
    "print(arr)"
   ]
  },
  {
   "cell_type": "code",
   "execution_count": 25,
   "id": "4c9d3de3-9339-454f-b6f8-881ab59a8029",
   "metadata": {},
   "outputs": [
    {
     "name": "stdin",
     "output_type": "stream",
     "text": [
      "Enter the number of elements in a list :  4\n",
      "Enter the element of a :  1\n",
      "Enter the element of a :  2\n",
      "Enter the element of a :  3\n",
      "Enter the element of a :  4\n",
      "Enter the element of b :  5\n",
      "Enter the element of b :  6\n",
      "Enter the element of b :  7\n",
      "Enter the element of b :  8\n"
     ]
    },
    {
     "name": "stdout",
     "output_type": "stream",
     "text": [
      "[[1 2 3 4]\n",
      " [5 6 7 8]]\n"
     ]
    }
   ],
   "source": [
    "list1=[]\n",
    "n=int(input(\"Enter the number of elements in a list : \"))\n",
    "for _ in range(n):\n",
    "    a=int(input(\"Enter the element of a : \"))\n",
    "    list1.append(a)\n",
    "list2=[]\n",
    "for _ in range(n):\n",
    "    b=int(input(\"Enter the element of b : \"))\n",
    "    list2.append(b)\n",
    "arr1=np.array([list1,list2])\n",
    "print(arr1)"
   ]
  },
  {
   "cell_type": "code",
   "execution_count": 27,
   "id": "94ed8ca1-eac7-47de-8b8d-ec1484d921a8",
   "metadata": {},
   "outputs": [
    {
     "data": {
      "text/plain": [
       "array([1, 2, 3, 4])"
      ]
     },
     "execution_count": 27,
     "metadata": {},
     "output_type": "execute_result"
    }
   ],
   "source": [
    "arr1[0]"
   ]
  },
  {
   "cell_type": "code",
   "execution_count": 29,
   "id": "68003291-0869-457d-8f4f-7888d36a7d29",
   "metadata": {},
   "outputs": [
    {
     "data": {
      "text/plain": [
       "array([5, 6, 7, 8])"
      ]
     },
     "execution_count": 29,
     "metadata": {},
     "output_type": "execute_result"
    }
   ],
   "source": [
    "arr1[1]"
   ]
  },
  {
   "cell_type": "code",
   "execution_count": 37,
   "id": "80438678-f6d7-4924-9e93-1bc623068282",
   "metadata": {},
   "outputs": [
    {
     "data": {
      "text/plain": [
       "7"
      ]
     },
     "execution_count": 37,
     "metadata": {},
     "output_type": "execute_result"
    }
   ],
   "source": [
    "arr1[1][-2]"
   ]
  },
  {
   "cell_type": "code",
   "execution_count": 49,
   "id": "1a1e2994-f093-4dbb-9faf-fc63f4ad9537",
   "metadata": {},
   "outputs": [
    {
     "data": {
      "text/plain": [
       "array([1])"
      ]
     },
     "execution_count": 49,
     "metadata": {},
     "output_type": "execute_result"
    }
   ],
   "source": [
    "arr1[0][:1]"
   ]
  },
  {
   "cell_type": "code",
   "execution_count": 59,
   "id": "ebdad78b-8286-4dfa-8bf1-4e1440592423",
   "metadata": {},
   "outputs": [
    {
     "data": {
      "text/plain": [
       "array([2])"
      ]
     },
     "execution_count": 59,
     "metadata": {},
     "output_type": "execute_result"
    }
   ],
   "source": [
    "arr1[0][1:-1:2]"
   ]
  },
  {
   "cell_type": "code",
   "execution_count": 63,
   "id": "b6ccace9-4db5-4041-9a19-a0cc977d4191",
   "metadata": {},
   "outputs": [
    {
     "data": {
      "text/plain": [
       "array([10, 20, 30])"
      ]
     },
     "execution_count": 63,
     "metadata": {},
     "output_type": "execute_result"
    }
   ],
   "source": [
    "# dimension \n",
    "#1d array\n",
    "arr=np.array([10,20,30])\n",
    "arr"
   ]
  },
  {
   "cell_type": "code",
   "execution_count": 65,
   "id": "19c6568c-0b19-4e62-bf07-73ebb7b60698",
   "metadata": {},
   "outputs": [
    {
     "data": {
      "text/plain": [
       "array([[10, 20, 30],\n",
       "       [40, 50, 60]])"
      ]
     },
     "execution_count": 65,
     "metadata": {},
     "output_type": "execute_result"
    }
   ],
   "source": [
    "#2d dimension\n",
    "arr=np.array([[10,20,30],[40,50,60]])\n",
    "arr"
   ]
  },
  {
   "cell_type": "code",
   "execution_count": 69,
   "id": "9061158e-0434-40bb-91b7-db40d7d09258",
   "metadata": {},
   "outputs": [
    {
     "data": {
      "text/plain": [
       "array([[[10, 20, 30],\n",
       "        [40, 50, 60],\n",
       "        [70, 80, 90]]])"
      ]
     },
     "execution_count": 69,
     "metadata": {},
     "output_type": "execute_result"
    }
   ],
   "source": [
    "#3d dimension\n",
    "arr=np.array([[[10,20,30],[40,50,60],[70,80,90]]])\n",
    "arr"
   ]
  },
  {
   "cell_type": "code",
   "execution_count": 71,
   "id": "1b349cf8-d1a7-4a96-b7de-4625b7f977c8",
   "metadata": {},
   "outputs": [
    {
     "data": {
      "text/plain": [
       "array([[10, 20, 30],\n",
       "       [40, 50, 60],\n",
       "       [70, 80, 90]])"
      ]
     },
     "execution_count": 71,
     "metadata": {},
     "output_type": "execute_result"
    }
   ],
   "source": [
    "arr[0]"
   ]
  },
  {
   "cell_type": "code",
   "execution_count": 79,
   "id": "475e83e0-a8d3-4957-b95f-2e0f012c7ea4",
   "metadata": {},
   "outputs": [
    {
     "data": {
      "text/plain": [
       "50"
      ]
     },
     "execution_count": 79,
     "metadata": {},
     "output_type": "execute_result"
    }
   ],
   "source": [
    "arr[0][1][-2]"
   ]
  },
  {
   "cell_type": "code",
   "execution_count": 81,
   "id": "07035481-d2a4-4a77-a2af-0e57a2c1944f",
   "metadata": {},
   "outputs": [
    {
     "data": {
      "text/plain": [
       "3"
      ]
     },
     "execution_count": 81,
     "metadata": {},
     "output_type": "execute_result"
    }
   ],
   "source": [
    "arr.ndim"
   ]
  },
  {
   "cell_type": "markdown",
   "id": "836a594c-3b6b-4088-ba53-bb35e2a9afbe",
   "metadata": {},
   "source": [
    "#Attributes and function of numpy"
   ]
  },
  {
   "cell_type": "code",
   "execution_count": 86,
   "id": "9e4ae066-6dcc-4fa1-8d04-83f2ee810d1a",
   "metadata": {},
   "outputs": [
    {
     "name": "stdin",
     "output_type": "stream",
     "text": [
      "Enter the number of elements in a list :  4\n",
      "enter the element of a :  1\n",
      "enter the element of a :  2\n",
      "enter the element of a :  3\n",
      "enter the element of a :  4\n",
      "Enter the element of b :  5\n",
      "Enter the element of b :  6\n",
      "Enter the element of b :  7\n",
      "Enter the element of b :  8\n",
      "Enter the element of c :  9\n",
      "Enter the element of c :  10\n",
      "Enter the element of c :  11\n",
      "Enter the element of c :  12\n"
     ]
    },
    {
     "data": {
      "text/plain": [
       "array([[ 1,  2,  3,  4],\n",
       "       [ 5,  6,  7,  8],\n",
       "       [ 9, 10, 11, 12]])"
      ]
     },
     "execution_count": 86,
     "metadata": {},
     "output_type": "execute_result"
    }
   ],
   "source": [
    "list1=[]\n",
    "n=int(input(\"Enter the number of elements in a list : \"))\n",
    "list2=[]\n",
    "list3=[]\n",
    "for _ in range(n):\n",
    "    a=int(input(\"enter the element of a : \"))\n",
    "    list1.append(a)\n",
    "for _ in range(n):\n",
    "    b=int(input(\"Enter the element of b : \"))\n",
    "    list2.append(b)\n",
    "for _ in range(n):\n",
    "    c=int(input(\"Enter the element of c : \"))\n",
    "    list3.append(c)\n",
    "arr2=np.array([list1,list2,list3])\n",
    "arr2"
   ]
  },
  {
   "cell_type": "code",
   "execution_count": 94,
   "id": "596c1498-ad0f-4b04-a71d-b3fef471cf1c",
   "metadata": {},
   "outputs": [
    {
     "data": {
      "text/plain": [
       "array([1, 2, 3, 4])"
      ]
     },
     "execution_count": 94,
     "metadata": {},
     "output_type": "execute_result"
    }
   ],
   "source": [
    "arr2[0]"
   ]
  },
  {
   "cell_type": "code",
   "execution_count": 96,
   "id": "828c07f3-1b48-4b5c-8698-5419ffe9544f",
   "metadata": {},
   "outputs": [
    {
     "data": {
      "text/plain": [
       "2"
      ]
     },
     "execution_count": 96,
     "metadata": {},
     "output_type": "execute_result"
    }
   ],
   "source": [
    "arr2.ndim"
   ]
  },
  {
   "cell_type": "code",
   "execution_count": 98,
   "id": "c5841966-421f-40bf-845f-97a14f8ddaaa",
   "metadata": {},
   "outputs": [
    {
     "data": {
      "text/plain": [
       "12"
      ]
     },
     "execution_count": 98,
     "metadata": {},
     "output_type": "execute_result"
    }
   ],
   "source": [
    "arr2.size"
   ]
  },
  {
   "cell_type": "code",
   "execution_count": 100,
   "id": "2ca7f97b-155d-4614-868d-7e6725c721c3",
   "metadata": {},
   "outputs": [
    {
     "data": {
      "text/plain": [
       "(3, 4)"
      ]
     },
     "execution_count": 100,
     "metadata": {},
     "output_type": "execute_result"
    }
   ],
   "source": [
    "arr2.shape"
   ]
  },
  {
   "cell_type": "code",
   "execution_count": 102,
   "id": "f4c12db5-ebae-43d6-b1dc-298111ffe4c4",
   "metadata": {},
   "outputs": [
    {
     "data": {
      "text/plain": [
       "dtype('int32')"
      ]
     },
     "execution_count": 102,
     "metadata": {},
     "output_type": "execute_result"
    }
   ],
   "source": [
    "#Size of an array in bytes\n",
    "arr2.dtype"
   ]
  },
  {
   "cell_type": "code",
   "execution_count": 108,
   "id": "c6d42f1b-3dea-48dc-bfa5-8be889868bd5",
   "metadata": {},
   "outputs": [
    {
     "data": {
      "text/plain": [
       "4"
      ]
     },
     "execution_count": 108,
     "metadata": {},
     "output_type": "execute_result"
    }
   ],
   "source": [
    "arr2.itemsize"
   ]
  },
  {
   "cell_type": "code",
   "execution_count": 110,
   "id": "86cff30a-4a1f-47ef-b2c8-0946b00d700d",
   "metadata": {},
   "outputs": [
    {
     "data": {
      "text/plain": [
       "<memory at 0x000001DFEEA1A330>"
      ]
     },
     "execution_count": 110,
     "metadata": {},
     "output_type": "execute_result"
    }
   ],
   "source": [
    "arr2.data"
   ]
  },
  {
   "cell_type": "code",
   "execution_count": 112,
   "id": "b8dd8e83-a391-4411-8684-3dd58762d618",
   "metadata": {},
   "outputs": [
    {
     "data": {
      "text/plain": [
       "array([[ 1,  5,  9],\n",
       "       [ 2,  6, 10],\n",
       "       [ 3,  7, 11],\n",
       "       [ 4,  8, 12]])"
      ]
     },
     "execution_count": 112,
     "metadata": {},
     "output_type": "execute_result"
    }
   ],
   "source": [
    "arr2.T"
   ]
  },
  {
   "cell_type": "code",
   "execution_count": 114,
   "id": "2861526f-e1c2-4ca9-9e33-38e5621d31d0",
   "metadata": {},
   "outputs": [
    {
     "data": {
      "text/plain": [
       "(4, 3)"
      ]
     },
     "execution_count": 114,
     "metadata": {},
     "output_type": "execute_result"
    }
   ],
   "source": [
    "arr2.T.shape"
   ]
  },
  {
   "cell_type": "code",
   "execution_count": 120,
   "id": "22e03c5e-7e2d-41d2-92f1-cd7c3e2553f8",
   "metadata": {},
   "outputs": [
    {
     "data": {
      "text/plain": [
       "array([ 1,  2,  3,  4,  5,  6,  7,  8,  9, 10, 11, 12])"
      ]
     },
     "execution_count": 120,
     "metadata": {},
     "output_type": "execute_result"
    }
   ],
   "source": [
    "#convert 2d array to 1d array\n",
    "arr2.flatten()"
   ]
  },
  {
   "cell_type": "code",
   "execution_count": 122,
   "id": "5e4f119f-3172-43f1-9f49-acaedc9dae67",
   "metadata": {},
   "outputs": [
    {
     "data": {
      "text/plain": [
       "array([[ 1,  2,  3,  4,  5,  6],\n",
       "       [ 7,  8,  9, 10, 11, 12]])"
      ]
     },
     "execution_count": 122,
     "metadata": {},
     "output_type": "execute_result"
    }
   ],
   "source": [
    "arr2.reshape(2,6)"
   ]
  },
  {
   "cell_type": "code",
   "execution_count": 124,
   "id": "7ff89fbf-1fe6-4068-a5ef-365833ca46c9",
   "metadata": {},
   "outputs": [
    {
     "data": {
      "text/plain": [
       "array([[ 1,  2],\n",
       "       [ 3,  4],\n",
       "       [ 5,  6],\n",
       "       [ 7,  8],\n",
       "       [ 9, 10],\n",
       "       [11, 12]])"
      ]
     },
     "execution_count": 124,
     "metadata": {},
     "output_type": "execute_result"
    }
   ],
   "source": [
    "arr2.reshape(6,2)"
   ]
  },
  {
   "cell_type": "code",
   "execution_count": 126,
   "id": "482e77b8-066b-42e3-9bb4-8f9ac27cf454",
   "metadata": {},
   "outputs": [
    {
     "data": {
      "text/plain": [
       "array([[ 1,  2,  3],\n",
       "       [ 4,  5,  6],\n",
       "       [ 7,  8,  9],\n",
       "       [10, 11, 12]])"
      ]
     },
     "execution_count": 126,
     "metadata": {},
     "output_type": "execute_result"
    }
   ],
   "source": [
    "arr2.reshape(4,3)"
   ]
  },
  {
   "cell_type": "code",
   "execution_count": 128,
   "id": "1ed8337f-cb14-4ef2-abaa-5193d63f46fb",
   "metadata": {},
   "outputs": [
    {
     "data": {
      "text/plain": [
       "array([[ 1,  2,  3,  4],\n",
       "       [ 5,  6,  7,  8],\n",
       "       [ 9, 10, 11, 12]])"
      ]
     },
     "execution_count": 128,
     "metadata": {},
     "output_type": "execute_result"
    }
   ],
   "source": [
    "arr2.reshape(3,4)"
   ]
  },
  {
   "cell_type": "code",
   "execution_count": 136,
   "id": "e1118366-2517-4321-8f8c-79ad7aa402b1",
   "metadata": {},
   "outputs": [
    {
     "data": {
      "text/plain": [
       "array([ 1,  2,  3,  4,  5,  6,  7,  8,  9, 10, 11, 12, 13, 14, 15, 16, 17,\n",
       "       18, 19, 20])"
      ]
     },
     "execution_count": 136,
     "metadata": {},
     "output_type": "execute_result"
    }
   ],
   "source": [
    "arr3=np.arange(1,21)\n",
    "arr3"
   ]
  },
  {
   "cell_type": "code",
   "execution_count": 140,
   "id": "2a5247fa-3652-49e8-85ed-360b02c69f04",
   "metadata": {},
   "outputs": [
    {
     "data": {
      "text/plain": [
       "array([[ 1,  2,  3,  4],\n",
       "       [ 5,  6,  7,  8],\n",
       "       [ 9, 10, 11, 12],\n",
       "       [13, 14, 15, 16],\n",
       "       [17, 18, 19, 20]])"
      ]
     },
     "execution_count": 140,
     "metadata": {},
     "output_type": "execute_result"
    }
   ],
   "source": [
    "arr3.reshape(5,4)"
   ]
  },
  {
   "cell_type": "code",
   "execution_count": 142,
   "id": "15a70fcf-c953-4a81-a5f7-963ea3bb1ad3",
   "metadata": {},
   "outputs": [
    {
     "data": {
      "text/plain": [
       "array([[ 1,  2,  3,  4,  5],\n",
       "       [ 6,  7,  8,  9, 10],\n",
       "       [11, 12, 13, 14, 15],\n",
       "       [16, 17, 18, 19, 20]])"
      ]
     },
     "execution_count": 142,
     "metadata": {},
     "output_type": "execute_result"
    }
   ],
   "source": [
    "arr3.reshape(4,5)"
   ]
  },
  {
   "cell_type": "code",
   "execution_count": 144,
   "id": "5d965357-655c-4da9-a130-c1d33fa98af0",
   "metadata": {},
   "outputs": [
    {
     "data": {
      "text/plain": [
       "array([ 1,  2,  3,  4,  5,  6,  7,  8,  9, 10, 11, 12, 13, 14, 15, 16, 17,\n",
       "       18, 19, 20])"
      ]
     },
     "execution_count": 144,
     "metadata": {},
     "output_type": "execute_result"
    }
   ],
   "source": [
    "arr3.T"
   ]
  },
  {
   "cell_type": "code",
   "execution_count": 156,
   "id": "368af477-42d8-409b-9255-dc7d98ed83a2",
   "metadata": {},
   "outputs": [
    {
     "name": "stdout",
     "output_type": "stream",
     "text": [
      "n dimension :  1\n",
      "Size :  7\n",
      "data :  <memory at 0x000001DFEB925E40>\n",
      "itemsize:   8\n",
      "shape :  (7,)\n",
      "Transpose :  [75.2 77.1 74.5 79.3 82.6 81.2 77.8]\n",
      "Flatten :  [75.2 77.1 74.5 79.3 82.6 81.2 77.8]\n"
     ]
    }
   ],
   "source": [
    "#practice question\n",
    "temp=[75.2,77.1,74.5,79.3,82.6,81.2,77.8]\n",
    "arr4=np.array(temp)\n",
    "print(\"n dimension : \",arr4.ndim)\n",
    "print(\"Size : \",arr4.size)\n",
    "print(\"data : \",arr4.data)\n",
    "print(\"itemsize:  \",arr4.itemsize)\n",
    "print(\"shape : \",arr4.shape)\n",
    "print(\"Transpose : \",arr4.T)\n",
    "print(\"Flatten : \",arr4.flatten())\n",
    "#reshape cannot be done because it is an odd numbers"
   ]
  },
  {
   "cell_type": "markdown",
   "id": "519b2de6-8b4c-4d80-8aa7-52b594f8333a",
   "metadata": {},
   "source": [
    "#Statistical and arithemetic operation"
   ]
  },
  {
   "cell_type": "code",
   "execution_count": 160,
   "id": "c98f3496-2653-4b82-ba88-47b462a66b59",
   "metadata": {},
   "outputs": [
    {
     "name": "stdin",
     "output_type": "stream",
     "text": [
      "Enter the number of elements :  3\n",
      "Enter the value of a :  1\n",
      "Enter the value of a :  2\n",
      "Enter the value of a :  3\n",
      "Enter the value of b :  4\n",
      "Enter the value of b :  5\n",
      "Enter the value of b :  6\n",
      "Enter the value of c :  7\n",
      "Enter the value of c :  8\n",
      "Enter the value of c :  9\n",
      "Enter the value of d :  10\n",
      "Enter the value of d :  11\n",
      "Enter the value of d :  12\n"
     ]
    },
    {
     "data": {
      "text/plain": [
       "array([[ 1,  2,  3],\n",
       "       [ 4,  5,  6],\n",
       "       [ 7,  8,  9],\n",
       "       [10, 11, 12]])"
      ]
     },
     "execution_count": 160,
     "metadata": {},
     "output_type": "execute_result"
    }
   ],
   "source": [
    "list1=[]\n",
    "list2=[]\n",
    "list3=[]\n",
    "list4=[]\n",
    "n=int(input(\"Enter the number of elements : \"))\n",
    "for _ in range(n):\n",
    "    a=int(input(\"Enter the value of a : \"))\n",
    "    list1.append(a)\n",
    "for _ in range(n):\n",
    "    b=int(input(\"Enter the value of b : \"))\n",
    "    list2.append(b)\n",
    "for _ in range(n):\n",
    "    c=int(input(\"Enter the value of c : \"))\n",
    "    list3.append(c)\n",
    "for _ in range(n):\n",
    "    d=int(input(\"Enter the value of d : \"))\n",
    "    list4.append(d)\n",
    "arr6=np.array([list1,list2,list3,list4])\n",
    "arr6"
   ]
  },
  {
   "cell_type": "code",
   "execution_count": 182,
   "id": "ceadff34-58b5-4ae8-aecc-7e19ebb74a97",
   "metadata": {},
   "outputs": [
    {
     "name": "stdout",
     "output_type": "stream",
     "text": [
      "[50 70 90]\n"
     ]
    }
   ],
   "source": [
    "a=np.array([10,20,30])\n",
    "b=np.array([40,50,60])\n",
    "result=np.add(a,b)\n",
    "print(result)"
   ]
  },
  {
   "cell_type": "code",
   "execution_count": 166,
   "id": "af3c3416-cf4c-4041-84cb-5b8c7c284864",
   "metadata": {},
   "outputs": [
    {
     "name": "stdout",
     "output_type": "stream",
     "text": [
      "[-30 -30 -30]\n",
      "[30 30 30]\n"
     ]
    }
   ],
   "source": [
    "result1=np.subtract(a,b)\n",
    "result2=np.subtract(b,a)\n",
    "print(result1)\n",
    "print(result2)"
   ]
  },
  {
   "cell_type": "code",
   "execution_count": 168,
   "id": "70e96934-f6bc-401c-a15b-df7653bd809d",
   "metadata": {},
   "outputs": [
    {
     "name": "stdout",
     "output_type": "stream",
     "text": [
      "[ 400 1000 1800]\n"
     ]
    }
   ],
   "source": [
    "result=np.multiply(a,b)\n",
    "print(result)"
   ]
  },
  {
   "cell_type": "code",
   "execution_count": 176,
   "id": "56467759-a3d2-4ec3-83da-125e7f4047c6",
   "metadata": {},
   "outputs": [
    {
     "name": "stdout",
     "output_type": "stream",
     "text": [
      "[[2. 2. 2.]\n",
      " [2. 2. 2.]]\n"
     ]
    }
   ],
   "source": [
    "result=np.divide(a,b)\n",
    "print(result)"
   ]
  },
  {
   "cell_type": "code",
   "execution_count": 188,
   "id": "833db629-d7be-4d11-b427-bfaa58967c54",
   "metadata": {},
   "outputs": [
    {
     "name": "stdout",
     "output_type": "stream",
     "text": [
      "[[ 5 10 15]\n",
      " [20 25 30]]\n"
     ]
    }
   ],
   "source": [
    "a=np.array([[10,20,30],[40,50,60]])\n",
    "b=np.array([[5,10,15],[20,25,30]])\n",
    "result=np.subtract(a,b)\n",
    "print(result)\n"
   ]
  },
  {
   "cell_type": "code",
   "execution_count": 190,
   "id": "10828dee-95f7-48ea-908e-a9d266787880",
   "metadata": {},
   "outputs": [
    {
     "name": "stdout",
     "output_type": "stream",
     "text": [
      "[[     100000   797966336 -2080931840]\n",
      " [          0 -1308622848           0]]\n"
     ]
    }
   ],
   "source": [
    "result=np.power(a,b)\n",
    "print(result)"
   ]
  },
  {
   "cell_type": "code",
   "execution_count": 192,
   "id": "c8aae274-d62d-40b7-998e-b76536327d51",
   "metadata": {},
   "outputs": [
    {
     "name": "stdout",
     "output_type": "stream",
     "text": [
      "[ 4  8 16 32 64]\n"
     ]
    }
   ],
   "source": [
    "a=[2,2,2,2,2]\n",
    "b=[2,3,4,5,6]\n",
    "result=np.power(a,b)\n",
    "print(result)"
   ]
  },
  {
   "cell_type": "markdown",
   "id": "6929b759-984e-4f52-a48e-1dc3da2b54f1",
   "metadata": {},
   "source": [
    "# Statistical"
   ]
  },
  {
   "cell_type": "code",
   "execution_count": 198,
   "id": "a30928c2-0a62-4309-bd1b-4c552fa0741e",
   "metadata": {},
   "outputs": [
    {
     "name": "stdin",
     "output_type": "stream",
     "text": [
      "Enter the value of n :  4\n",
      "enter the the value of a :  1\n",
      "enter the the value of a :  2\n",
      "enter the the value of a :  3\n",
      "enter the the value of a :  4\n",
      "enter the value of b :  5\n",
      "enter the value of b :  6\n",
      "enter the value of b :  7\n",
      "enter the value of b :  8\n"
     ]
    },
    {
     "name": "stdout",
     "output_type": "stream",
     "text": [
      "[[1 2 3 4]\n",
      " [5 6 7 8]]\n"
     ]
    }
   ],
   "source": [
    "#Median\n",
    "list1=[]\n",
    "list2=[]\n",
    "n=int(input(\"Enter the value of n : \"))\n",
    "for _ in range(n):\n",
    "    a=int(input(\"enter the the value of a : \"))\n",
    "    list1.append(a)\n",
    "for _ in range(n):\n",
    "    b=int(input(\"enter the value of b : \"))\n",
    "    list2.append(b)\n",
    "arr1=np.array([list1,list2])\n",
    "print(arr1)"
   ]
  },
  {
   "cell_type": "code",
   "execution_count": 200,
   "id": "6d0fe4c3-19bb-44d6-ac20-ddcc8d605f78",
   "metadata": {},
   "outputs": [
    {
     "data": {
      "text/plain": [
       "array([1, 2, 3, 4, 5, 6, 7, 8])"
      ]
     },
     "execution_count": 200,
     "metadata": {},
     "output_type": "execute_result"
    }
   ],
   "source": [
    "arr1.flatten()"
   ]
  },
  {
   "cell_type": "code",
   "execution_count": 204,
   "id": "0c86de46-2eed-4169-a0b5-16d52a3963f7",
   "metadata": {},
   "outputs": [
    {
     "data": {
      "text/plain": [
       "4.5"
      ]
     },
     "execution_count": 204,
     "metadata": {},
     "output_type": "execute_result"
    }
   ],
   "source": [
    "np.median(arr1)"
   ]
  },
  {
   "cell_type": "code",
   "execution_count": 206,
   "id": "f9c58a80-ed61-4d5f-bf21-15f5ee909c97",
   "metadata": {},
   "outputs": [
    {
     "data": {
      "text/plain": [
       "array([3., 4., 5., 6.])"
      ]
     },
     "execution_count": 206,
     "metadata": {},
     "output_type": "execute_result"
    }
   ],
   "source": [
    "#coulumnwise solve \n",
    "np.median(arr1,axis=0)"
   ]
  },
  {
   "cell_type": "code",
   "execution_count": 208,
   "id": "4f5bfaf3-4b3e-45c4-a948-ee2346fa9281",
   "metadata": {},
   "outputs": [
    {
     "data": {
      "text/plain": [
       "array([[1, 2, 3, 4],\n",
       "       [5, 6, 7, 8]])"
      ]
     },
     "execution_count": 208,
     "metadata": {},
     "output_type": "execute_result"
    }
   ],
   "source": [
    "arr1"
   ]
  },
  {
   "cell_type": "code",
   "execution_count": 210,
   "id": "55872d5a-60df-4825-aa0b-0ec1127c9fc6",
   "metadata": {},
   "outputs": [
    {
     "data": {
      "text/plain": [
       "array([2.5, 6.5])"
      ]
     },
     "execution_count": 210,
     "metadata": {},
     "output_type": "execute_result"
    }
   ],
   "source": [
    "#rowwise\n",
    "np.median(arr1,axis=1)"
   ]
  },
  {
   "cell_type": "code",
   "execution_count": 212,
   "id": "5834d311-b9c1-4722-a9d5-96dbd7902b45",
   "metadata": {},
   "outputs": [
    {
     "data": {
      "text/plain": [
       "4.5"
      ]
     },
     "execution_count": 212,
     "metadata": {},
     "output_type": "execute_result"
    }
   ],
   "source": [
    "#Mean\n",
    "np.mean(arr1)"
   ]
  },
  {
   "cell_type": "code",
   "execution_count": 214,
   "id": "bbd3b101-b211-4d96-83f3-9fd2cf1f542b",
   "metadata": {},
   "outputs": [
    {
     "data": {
      "text/plain": [
       "array([3., 4., 5., 6.])"
      ]
     },
     "execution_count": 214,
     "metadata": {},
     "output_type": "execute_result"
    }
   ],
   "source": [
    "np.mean(arr1, axis=0)"
   ]
  },
  {
   "cell_type": "code",
   "execution_count": 216,
   "id": "de80bde1-aba2-4c81-8aa4-212a3afa9ab1",
   "metadata": {},
   "outputs": [
    {
     "data": {
      "text/plain": [
       "array([2.5, 6.5])"
      ]
     },
     "execution_count": 216,
     "metadata": {},
     "output_type": "execute_result"
    }
   ],
   "source": [
    "np.mean(arr1,axis=1)"
   ]
  },
  {
   "cell_type": "code",
   "execution_count": 218,
   "id": "19e7e601-6ecd-4b22-b4a3-d4e6355c554f",
   "metadata": {},
   "outputs": [
    {
     "data": {
      "text/plain": [
       "2.29128784747792"
      ]
     },
     "execution_count": 218,
     "metadata": {},
     "output_type": "execute_result"
    }
   ],
   "source": [
    "np.std(arr1)"
   ]
  },
  {
   "cell_type": "code",
   "execution_count": 220,
   "id": "0ecdaa22-3633-4466-8343-83d223f46fef",
   "metadata": {},
   "outputs": [
    {
     "data": {
      "text/plain": [
       "5.25"
      ]
     },
     "execution_count": 220,
     "metadata": {},
     "output_type": "execute_result"
    }
   ],
   "source": [
    "np.var(arr1)"
   ]
  },
  {
   "cell_type": "code",
   "execution_count": 224,
   "id": "7e8f36bb-307c-484c-a421-1ddc192c5286",
   "metadata": {},
   "outputs": [
    {
     "name": "stdout",
     "output_type": "stream",
     "text": [
      "[1.0, 1.07, 1.1400000000000001, 1.21, 1.28, 1.35, 1.42, 1.49, 1.56, 1.63, 1.7000000000000002, 1.77, 1.8399999999999999, 1.9100000000000001, 1.98, 2.05, 2.12, 2.1900000000000004, 2.26, 2.33, 2.4000000000000004, 2.4699999999999998, 2.54, 2.6100000000000003, 2.6799999999999997, 2.75, 2.8200000000000003, 2.89, 2.96, 3.03, 3.1, 3.17, 3.24, 3.31, 3.3800000000000003, 3.4499999999999997, 3.52, 3.59, 3.66, 3.73, 3.8000000000000003, 3.8699999999999997, 3.94, 4.01, 4.08, 4.15, 4.220000000000001, 4.29, 4.359999999999999, 4.43, 4.5, 4.57, 4.640000000000001, 4.71, 4.78, 4.8500000000000005, 4.92, 4.99, 5.06, 5.13, 5.2, 5.27, 5.34, 5.41, 5.48, 5.55, 5.62, 5.69, 5.760000000000001, 5.83, 5.8999999999999995, 5.97, 6.04, 6.109999999999999, 6.18, 6.25, 6.32, 6.390000000000001, 6.46, 6.53, 6.6000000000000005, 6.67, 6.739999999999999, 6.81, 6.88, 6.95, 7.02, 7.09, 7.16, 7.23, 7.3, 7.37, 7.44, 7.510000000000001, 7.58, 7.6499999999999995, 7.72, 7.79, 7.859999999999999, 7.93, 8.0]\n"
     ]
    }
   ],
   "source": [
    "#calculating percentile\n",
    "print([np.percentile(arr1,i) for i in range(101)])"
   ]
  },
  {
   "cell_type": "markdown",
   "id": "2b53df33-ade3-4b4e-9492-8b0611cdbb43",
   "metadata": {},
   "source": [
    "#String function in numpy"
   ]
  },
  {
   "cell_type": "code",
   "execution_count": 227,
   "id": "1ba4536e-f294-4aaf-9dbe-3d8f817df0f4",
   "metadata": {},
   "outputs": [
    {
     "name": "stdout",
     "output_type": "stream",
     "text": [
      "['hellokeep' 'worldLearning']\n"
     ]
    }
   ],
   "source": [
    "a=[\"hello\",\"world\"]\n",
    "b=[\"keep\",\"Learning\"]\n",
    "c=np.char.add(a,b)\n",
    "print(c)"
   ]
  },
  {
   "cell_type": "code",
   "execution_count": 233,
   "id": "7422255b-1276-45ab-848f-4f8ac03a54f6",
   "metadata": {},
   "outputs": [
    {
     "name": "stdout",
     "output_type": "stream",
     "text": [
      "['hi how r u?']\n",
      "['hlo how r u?']\n"
     ]
    }
   ],
   "source": [
    "#Replacing the old substring to new substring\n",
    "a=[\"hi how r u?\"]\n",
    "print(a)\n",
    "c=np.char.replace(a,\"hi\",\"hlo\")\n",
    "print(c)"
   ]
  },
  {
   "cell_type": "code",
   "execution_count": 237,
   "id": "f6d4bad9-9bbc-4050-a16e-639706e93ae6",
   "metadata": {},
   "outputs": [
    {
     "name": "stdout",
     "output_type": "stream",
     "text": [
      "['HELLO EVERYONE']\n",
      "['hey how are you !']\n"
     ]
    }
   ],
   "source": [
    "#converting all of them in upper case or lower case\n",
    "a=[\"hello everyone\"]\n",
    "print(np.char.upper(a))\n",
    "b=[\"HEY HOW ARE YOU !\"]\n",
    "print(np.char.lower(b))"
   ]
  },
  {
   "cell_type": "markdown",
   "id": "07f2a525-af2f-4561-8817-2d399b211905",
   "metadata": {},
   "source": [
    "#Indexing"
   ]
  },
  {
   "cell_type": "code",
   "execution_count": 240,
   "id": "b6c48abe-5a8a-4542-8593-083f5d58fc7f",
   "metadata": {},
   "outputs": [
    {
     "data": {
      "text/plain": [
       "array([[[[ 34.  , -20.  ,   0.  , 100.  ,   4.5 ,   2.3 ],\n",
       "         [-90.  ,   5.9 ,   2.3 ,   1.  ,   1.  ,  -3.  ]],\n",
       "\n",
       "        [[  0.1 ,   0.3 ,  -0.9 ,   1.1 ,   1.12,   0.4 ],\n",
       "         [  8.  ,   3.  ,   4.  ,  10.  , -10.  ,  33.  ]]],\n",
       "\n",
       "\n",
       "       [[[ 14.  , -21.  ,  10.  ,  11.  ,  41.5 ,  12.3 ],\n",
       "         [-91.  ,   5.91,   2.31,  11.  ,  11.  , -13.  ]],\n",
       "\n",
       "        [[  0.11,  10.3 , -10.9 ,   1.11,  11.12,  10.4 ],\n",
       "         [ 81.  ,  13.  ,  41.  ,  11.  , -10.1 ,   3.31]]]])"
      ]
     },
     "execution_count": 240,
     "metadata": {},
     "output_type": "execute_result"
    }
   ],
   "source": [
    "import numpy as np\n",
    "arr_4d = np.array([[[[34, -20, 0, 100, 4.5, 2.3], [-90, 5.9, 2.3, 1, 1, -3]], [[0.1, 0.3, -0.9, 1.1, 1.12, 0.4], [8, 3, 4, 10, -10, 33]]], \n",
    "                  [[[14, -21, 10, 11.0, 41.5, 12.3], [-91, 5.91, 2.31, 11, 11, -13]], [[0.11, 10.3, -10.9, 1.11, 11.12, 10.4], [81, 13, 41, 11.0, -10.1, 3.31]]]])\n",
    "arr_4d"
   ]
  },
  {
   "cell_type": "code",
   "execution_count": 242,
   "id": "1a4b3cbd-a2ef-46c7-8228-f712b3a680d5",
   "metadata": {},
   "outputs": [
    {
     "data": {
      "text/plain": [
       "4"
      ]
     },
     "execution_count": 242,
     "metadata": {},
     "output_type": "execute_result"
    }
   ],
   "source": [
    "arr_4d.ndim"
   ]
  },
  {
   "cell_type": "code",
   "execution_count": 250,
   "id": "598f5297-7742-4994-889b-a0fae3a19c5c",
   "metadata": {},
   "outputs": [
    {
     "data": {
      "text/plain": [
       "11.0"
      ]
     },
     "execution_count": 250,
     "metadata": {},
     "output_type": "execute_result"
    }
   ],
   "source": [
    "arr_4d[1][0][0][-3]"
   ]
  },
  {
   "cell_type": "code",
   "execution_count": 252,
   "id": "a9251a89-333b-4d75-8abd-3641e647eece",
   "metadata": {},
   "outputs": [
    {
     "data": {
      "text/plain": [
       "3.31"
      ]
     },
     "execution_count": 252,
     "metadata": {},
     "output_type": "execute_result"
    }
   ],
   "source": [
    "arr_4d[1][1][1][-1]"
   ]
  },
  {
   "cell_type": "code",
   "execution_count": null,
   "id": "5a50aa4e-7dd8-478c-8760-781f24e738fd",
   "metadata": {},
   "outputs": [],
   "source": []
  }
 ],
 "metadata": {
  "kernelspec": {
   "display_name": "Python 3 (ipykernel)",
   "language": "python",
   "name": "python3"
  },
  "language_info": {
   "codemirror_mode": {
    "name": "ipython",
    "version": 3
   },
   "file_extension": ".py",
   "mimetype": "text/x-python",
   "name": "python",
   "nbconvert_exporter": "python",
   "pygments_lexer": "ipython3",
   "version": "3.12.4"
  }
 },
 "nbformat": 4,
 "nbformat_minor": 5
}
