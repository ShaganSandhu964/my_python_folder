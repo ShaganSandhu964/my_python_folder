{
 "cells": [
  {
   "cell_type": "code",
   "execution_count": 5,
   "id": "12d431e2-6fcd-425c-83e3-d716875832cd",
   "metadata": {},
   "outputs": [
    {
     "name": "stdin",
     "output_type": "stream",
     "text": [
      "Enter the value of a :  2\n",
      "Enter the value of b :  3\n"
     ]
    },
    {
     "name": "stdout",
     "output_type": "stream",
     "text": [
      "6\n",
      "5\n"
     ]
    }
   ],
   "source": [
    "# calculate the multiplication for two numbers and sum of two numbers\n",
    "\n",
    "a=int(input(\"Enter the value of a : \"))\n",
    "b=int(input(\"Enter the value of b : \"))\n",
    "def mul(a,b):\n",
    "    res=a*b\n",
    "    return res\n",
    "\n",
    "def sum(a,b):\n",
    "    res=a+b\n",
    "    return res\n",
    "print(mul(a,b))\n",
    "print(sum(a,b))"
   ]
  },
  {
   "cell_type": "code",
   "execution_count": 17,
   "id": "021e526e-c255-4560-a9c9-b666d22f8de5",
   "metadata": {},
   "outputs": [
    {
     "name": "stdout",
     "output_type": "stream",
     "text": [
      "current num 1 previous num 0 sum :  1\n",
      "current num 2 previous num 1 sum :  3\n",
      "current num 3 previous num 2 sum :  5\n",
      "current num 4 previous num 3 sum :  7\n",
      "current num 5 previous num 4 sum :  9\n",
      "current num 6 previous num 5 sum :  11\n",
      "current num 7 previous num 6 sum :  13\n",
      "current num 8 previous num 7 sum :  15\n",
      "current num 9 previous num 8 sum :  17\n",
      "current num 10 previous num 9 sum :  19\n"
     ]
    }
   ],
   "source": [
    "#print the sum of current number and previous number\n",
    "prev=0\n",
    "for i in range(1,11):\n",
    "    curr_sum=prev+i\n",
    "    print(\"current num\",i,\"previous num\",prev,\"sum : \",curr_sum)\n",
    "    prev=i"
   ]
  },
  {
   "cell_type": "code",
   "execution_count": 27,
   "id": "6858e675-1f66-45a4-b413-b61a9ef0273c",
   "metadata": {},
   "outputs": [
    {
     "name": "stdin",
     "output_type": "stream",
     "text": [
      "Enter the string :  python\n"
     ]
    },
    {
     "name": "stdout",
     "output_type": "stream",
     "text": [
      "0 p\n",
      "2 t\n",
      "4 o\n"
     ]
    }
   ],
   "source": [
    "#print characters present at even index numbers\n",
    "s=input(\"Enter the string : \")\n",
    "size=len(s)\n",
    "for i in range(0,size-1,2):\n",
    "    print(i,s[i])"
   ]
  },
  {
   "cell_type": "code",
   "execution_count": 29,
   "id": "04de5b75-9860-48fe-bc1d-73b117eb37a8",
   "metadata": {},
   "outputs": [
    {
     "name": "stdin",
     "output_type": "stream",
     "text": [
      "Enter the value of String :  python\n",
      "Enter the value of n :  2\n"
     ]
    },
    {
     "name": "stdout",
     "output_type": "stream",
     "text": [
      "thon\n"
     ]
    }
   ],
   "source": [
    "#remove first n characters from a string\n",
    "s=input(\"Enter the value of String : \")\n",
    "n=int(input(\"Enter the value of n : \"))\n",
    "def remove_char(s,n):\n",
    "    return s[n:]\n",
    "print(remove_char(s,n))"
   ]
  },
  {
   "cell_type": "code",
   "execution_count": 35,
   "id": "c79ad9ae-3165-43b1-bd64-f28932e5f66f",
   "metadata": {},
   "outputs": [
    {
     "name": "stdin",
     "output_type": "stream",
     "text": [
      " 1 2 3 1\n",
      " 1 2 3 4 5\n"
     ]
    },
    {
     "name": "stdout",
     "output_type": "stream",
     "text": [
      "result of list is :  True\n",
      "result of list2 is :  False\n"
     ]
    }
   ],
   "source": [
    "# check if the first and last numbers of the list are the same \n",
    "list1=input()\n",
    "list2=input()\n",
    "def first_last(numberlist):\n",
    "    first_num=numberlist[0]\n",
    "    last_num=numberlist[-1]\n",
    "    if first_num==last_num:\n",
    "        return True\n",
    "    else:\n",
    "        return False\n",
    "print(\"result of list is : \",first_last(list1))\n",
    "print(\"result of list2 is : \",first_last(list2))\n",
    "    "
   ]
  },
  {
   "cell_type": "code",
   "execution_count": 43,
   "id": "d5bb895b-34b2-4c69-88f1-4f105434b40a",
   "metadata": {},
   "outputs": [
    {
     "name": "stdout",
     "output_type": "stream",
     "text": [
      "10\n",
      "20\n",
      "55\n"
     ]
    }
   ],
   "source": [
    "#display numbers divisible by 5\n",
    "list1=[10,20,33,46,55]\n",
    "for i in list1:\n",
    "    if i%5==0:\n",
    "        print(i)"
   ]
  },
  {
   "cell_type": "code",
   "execution_count": 49,
   "id": "bbaf39a3-b046-44f6-949a-a11cc14b1de8",
   "metadata": {},
   "outputs": [
    {
     "name": "stdin",
     "output_type": "stream",
     "text": [
      "Enter the String :  Emma is good developer Emma is a writer\n"
     ]
    },
    {
     "name": "stdout",
     "output_type": "stream",
     "text": [
      "The Emma word is coming 2\n"
     ]
    }
   ],
   "source": [
    "# find the number of occurences of substring in a string\n",
    "s=input(\"Enter the String : \")\n",
    "print(f\"The Emma word is coming {s.count(\"Emma\")} Times\")"
   ]
  },
  {
   "cell_type": "code",
   "execution_count": 51,
   "id": "3d509643-1088-4404-b128-760f1ea755ab",
   "metadata": {},
   "outputs": [
    {
     "name": "stdin",
     "output_type": "stream",
     "text": [
      "Enter the string :  emma is good writer the emma\n",
      "Enter the text that you want to find in String :  emma\n"
     ]
    },
    {
     "name": "stdout",
     "output_type": "stream",
     "text": [
      "The word in text is 2 Times\n"
     ]
    }
   ],
   "source": [
    "s=input(\"Enter the string : \")\n",
    "text=input(\"Enter the text that you want to find in String : \")\n",
    "print(f\"The word in text is {s.count(text)} Times\")"
   ]
  },
  {
   "cell_type": "code",
   "execution_count": 61,
   "id": "c242a561-5160-422b-ab9d-bf7c90b5566d",
   "metadata": {},
   "outputs": [
    {
     "name": "stdin",
     "output_type": "stream",
     "text": [
      "Enter the value of n :  5\n"
     ]
    },
    {
     "name": "stdout",
     "output_type": "stream",
     "text": [
      "\n",
      "\n",
      "1 \n",
      "\n",
      "2 2 \n",
      "\n",
      "3 3 3 \n",
      "\n",
      "4 4 4 4 \n",
      "\n"
     ]
    }
   ],
   "source": [
    "#print the following pattern \n",
    "# 1 \n",
    "# 2 2 \n",
    "# 3 3 3 \n",
    "# 4 4 4 4 \n",
    "# 5 5 5 5 5\n",
    "n=int(input(\"Enter the value of n : \"))\n",
    "for i in range(n):\n",
    "    for j in range(i):\n",
    "        print(i,end=\" \")\n",
    "    print('\\n')"
   ]
  },
  {
   "cell_type": "code",
   "execution_count": 73,
   "id": "eaa313c7-6785-49a5-877d-bcb62ee2a926",
   "metadata": {},
   "outputs": [
    {
     "name": "stdin",
     "output_type": "stream",
     "text": [
      "Enter the number :  125\n"
     ]
    },
    {
     "name": "stdout",
     "output_type": "stream",
     "text": [
      "number is not palindrome\n"
     ]
    }
   ],
   "source": [
    "# check palindrome number\n",
    "n=int(input(\"Enter the number : \"))\n",
    "# number=n\n",
    "# rev=0\n",
    "# while number>0:\n",
    "#     rem=number%10\n",
    "#     rev=(rev*10)+rem\n",
    "#     number=number//10\n",
    "# if n==rev:\n",
    "#     print(\"number is palindrome\")\n",
    "# else:\n",
    "#     print(\"number is not palindrome\")\n",
    "\n",
    "\n",
    "# using function\n",
    "def pali(number):\n",
    "    n=number\n",
    "    rev=0\n",
    "    while number>0:\n",
    "        rem=number%10\n",
    "        rev=(rev*10)+rem\n",
    "        number=number//10\n",
    "    if n==rev:\n",
    "        print(\"number is palindrome\")\n",
    "    else:\n",
    "        print(\"number is not palindrome\")\n",
    "pali(n)"
   ]
  },
  {
   "cell_type": "code",
   "execution_count": 91,
   "id": "1dfef0e7-d106-45cb-aee1-b1f178aa643c",
   "metadata": {},
   "outputs": [
    {
     "name": "stdout",
     "output_type": "stream",
     "text": [
      "The merge list is  [25, 35, 40, 60, 90]\n"
     ]
    }
   ],
   "source": [
    "#Merge two list should contain odd numbers from list1 and even numbers fromist2\n",
    "# list1=list(input(\"Enter the list1 value : \"))\n",
    "# list2=list(input(\"Enter the list2 value : \"))\n",
    "list1=[10,20,25,30,35]\n",
    "list2=[40,45,60,75,90]\n",
    "def merge(list1,list2):\n",
    "    list=[]\n",
    "    for i in list1:\n",
    "        if i%2!=0:\n",
    "            list.append(i)\n",
    "    for i in list2:\n",
    "        if i%2==0:\n",
    "            list.append(i)\n",
    "    return list\n",
    "print(\"The merge list is \",merge(list1,list2))\n",
    "            \n",
    "        "
   ]
  },
  {
   "cell_type": "code",
   "execution_count": 109,
   "id": "45ffd22d-fbcc-46c8-80f6-85272f71dc72",
   "metadata": {},
   "outputs": [
    {
     "name": "stdin",
     "output_type": "stream",
     "text": [
      "Enter the number :  2345\n"
     ]
    },
    {
     "name": "stdout",
     "output_type": "stream",
     "text": [
      "5 4 3 2 "
     ]
    }
   ],
   "source": [
    "# reverse a number\n",
    "n=int(input(\"Enter the number : \"))\n",
    "while n>0:\n",
    "    digit=n%10\n",
    "    n=n//10\n",
    "    print(digit,end=\" \")"
   ]
  },
  {
   "cell_type": "code",
   "execution_count": 111,
   "id": "928fdcfe-e457-445f-a521-eb8a6f13d33d",
   "metadata": {},
   "outputs": [
    {
     "name": "stdout",
     "output_type": "stream",
     "text": [
      "Given income is :  45000\n",
      "total tax is pay :  6000.0\n"
     ]
    }
   ],
   "source": [
    "# calculate income tax\n",
    "income=45000\n",
    "tax=0\n",
    "print(\"Given income is : \",income)\n",
    "if income<=10000:\n",
    "    tax=0\n",
    "elif income<=20000:\n",
    "    x=income-10000\n",
    "    tax=x*10/10\n",
    "else:\n",
    "    tax=0\n",
    "    tax=10000*10/100\n",
    "    tax+=(income-20000)*20/100\n",
    "print(\"total tax is pay : \",tax)\n"
   ]
  },
  {
   "cell_type": "code",
   "execution_count": 117,
   "id": "4e3bcb63-d1b3-43b3-a44f-c85bf22e7b05",
   "metadata": {},
   "outputs": [
    {
     "name": "stdin",
     "output_type": "stream",
     "text": [
      "Enter the value of n :  10\n"
     ]
    },
    {
     "name": "stdout",
     "output_type": "stream",
     "text": [
      "1  2  3  4  5  6  7  8  9  10  \t\t\t\n",
      "2  4  6  8  10  12  14  16  18  20  \t\t\t\n",
      "3  6  9  12  15  18  21  24  27  30  \t\t\t\n",
      "4  8  12  16  20  24  28  32  36  40  \t\t\t\n",
      "5  10  15  20  25  30  35  40  45  50  \t\t\t\n",
      "6  12  18  24  30  36  42  48  54  60  \t\t\t\n",
      "7  14  21  28  35  42  49  56  63  70  \t\t\t\n",
      "8  16  24  32  40  48  56  64  72  80  \t\t\t\n",
      "9  18  27  36  45  54  63  72  81  90  \t\t\t\n",
      "10  20  30  40  50  60  70  80  90  100  \t\t\t\n"
     ]
    }
   ],
   "source": [
    "# multiplication table from 1 to 10\n",
    "n=int(input(\"Enter the value of n : \"))\n",
    "for i in range(1,n+1):\n",
    "    for j in range(1,n+1):\n",
    "        print(i*j,end=\"  \")\n",
    "    print(\"\\t\\t\\t\")"
   ]
  },
  {
   "cell_type": "code",
   "execution_count": 129,
   "id": "ba167243-ff48-4d38-94fb-7f4a279f81ea",
   "metadata": {},
   "outputs": [
    {
     "name": "stdin",
     "output_type": "stream",
     "text": [
      "Enter the value of n :  5\n"
     ]
    },
    {
     "name": "stdout",
     "output_type": "stream",
     "text": [
      "* * * * *  \n",
      "* * * *  \n",
      "* * *  \n",
      "* *  \n",
      "*  \n",
      " \n"
     ]
    }
   ],
   "source": [
    "# print a downward half pyramid pattern of stars\n",
    "\n",
    "n=int(input(\"Enter the value of n : \"))\n",
    "for i in range(n+1,0,-1):\n",
    "    for j in range(0,i-1):\n",
    "        print(\"*\",end=' ')\n",
    "    print(\" \")\n"
   ]
  },
  {
   "cell_type": "code",
   "execution_count": 137,
   "id": "bd4f3830-3fad-4db1-9adb-67863ce90a14",
   "metadata": {},
   "outputs": [
    {
     "name": "stdin",
     "output_type": "stream",
     "text": [
      "Ente the value of a :  5\n",
      "Enter the value of b :  4\n"
     ]
    },
    {
     "name": "stdout",
     "output_type": "stream",
     "text": [
      "5 raise to the power of  4 is 625\n"
     ]
    }
   ],
   "source": [
    "# get an int value of base raises to the power of exponent\n",
    "a=int(input(\"Ente the value of a : \"))\n",
    "b=int(input(\"Enter the value of b : \"))\n",
    "def exp(base,exp):\n",
    "    num=exp\n",
    "    result=1\n",
    "    while num>0:\n",
    "        result=result*base\n",
    "        num=num-1\n",
    "    print(base,\"raise to the power of \",exp,\"is\",result)\n",
    "exp(a,b)"
   ]
  },
  {
   "cell_type": "markdown",
   "id": "c7145f5a-d1ee-4891-aad5-bfcf12572800",
   "metadata": {},
   "source": [
    "Python Input and output Exercise"
   ]
  },
  {
   "cell_type": "code",
   "execution_count": 139,
   "id": "2a862db4-d752-41d1-aaca-8e35e982b6be",
   "metadata": {},
   "outputs": [
    {
     "name": "stdin",
     "output_type": "stream",
     "text": [
      "Enter the value of a number :  3\n",
      "Enter the value of a number :  4\n"
     ]
    },
    {
     "name": "stdout",
     "output_type": "stream",
     "text": [
      "The multiplication of two numbers are :  12\n"
     ]
    }
   ],
   "source": [
    "# Accept numbers from the user\n",
    "n1=int(input(\"Enter the value of a number : \"))\n",
    "n2=int(input(\"Enter the value of a number : \"))\n",
    "print(\"The multiplication of two numbers are : \",n1*n2)"
   ]
  },
  {
   "cell_type": "code",
   "execution_count": 143,
   "id": "f7dd0f2b-950b-4c51-b8f0-3a3dd9189b90",
   "metadata": {},
   "outputs": [
    {
     "name": "stdin",
     "output_type": "stream",
     "text": [
      "Enter the value of string1 :  Name\n",
      "Enter the value of string2 :  Is\n",
      "Enter the value of string3 :  Jmaes\n"
     ]
    },
    {
     "name": "stdout",
     "output_type": "stream",
     "text": [
      "Name**Is**Jmaes\n"
     ]
    }
   ],
   "source": [
    "# Display three string \"name\" ,\"is\",\"james\" as \"name**is**james\"\n",
    "s1=input(\"Enter the value of string1 : \")\n",
    "s2=input(\"Enter the value of string2 : \")\n",
    "s3=input(\"Enter the value of string3 : \")\n",
    "print(s1,s2,s3,sep=\"**\")"
   ]
  },
  {
   "cell_type": "code",
   "execution_count": 147,
   "id": "5454a9e4-9a3c-450d-b734-f06642b2a3cb",
   "metadata": {},
   "outputs": [
    {
     "name": "stdout",
     "output_type": "stream",
     "text": [
      "10\n"
     ]
    }
   ],
   "source": [
    "# convert Decimal number to octal using print()\n",
    "num=8\n",
    "print('%o' %num)"
   ]
  },
  {
   "cell_type": "code",
   "execution_count": 151,
   "id": "0ebc063f-a62e-4dc4-95cb-a2ece16c6ada",
   "metadata": {},
   "outputs": [
    {
     "name": "stdout",
     "output_type": "stream",
     "text": [
      "456.79\n"
     ]
    }
   ],
   "source": [
    "#Display float number with 2 decimal places using print()\n",
    "num=456.78963\n",
    "print('%.2f' %num)"
   ]
  },
  {
   "cell_type": "code",
   "execution_count": 169,
   "id": "9ef0ad09-f41e-4895-b30f-b4d7e8a8faa9",
   "metadata": {},
   "outputs": [
    {
     "name": "stdout",
     "output_type": "stream",
     "text": [
      "Enter number at location 0 :\n"
     ]
    },
    {
     "name": "stdin",
     "output_type": "stream",
     "text": [
      " 1\n"
     ]
    },
    {
     "name": "stdout",
     "output_type": "stream",
     "text": [
      "Enter number at location 1 :\n"
     ]
    },
    {
     "name": "stdin",
     "output_type": "stream",
     "text": [
      " 1\n"
     ]
    },
    {
     "name": "stdout",
     "output_type": "stream",
     "text": [
      "Enter number at location 2 :\n"
     ]
    },
    {
     "name": "stdin",
     "output_type": "stream",
     "text": [
      " 1\n"
     ]
    },
    {
     "name": "stdout",
     "output_type": "stream",
     "text": [
      "Enter number at location 3 :\n"
     ]
    },
    {
     "name": "stdin",
     "output_type": "stream",
     "text": [
      " 2\n"
     ]
    },
    {
     "name": "stdout",
     "output_type": "stream",
     "text": [
      "Enter number at location 4 :\n"
     ]
    },
    {
     "name": "stdin",
     "output_type": "stream",
     "text": [
      " 3\n"
     ]
    },
    {
     "name": "stdout",
     "output_type": "stream",
     "text": [
      "[1.0, 1.0, 1.0, 2.0, 3.0]\n"
     ]
    }
   ],
   "source": [
    "# Accept a list of 5 float numbers as an input from the user\n",
    "numbers=[]\n",
    "for i in range(0,5):\n",
    "    print(\"Enter number at location\", i, \":\")\n",
    "    item=float(input())\n",
    "    numbers.append(item)\n",
    "print(numbers)"
   ]
  },
  {
   "cell_type": "code",
   "execution_count": 175,
   "id": "1ffd2e5a-827e-4fae-ad04-a648afb427d7",
   "metadata": {},
   "outputs": [
    {
     "name": "stdin",
     "output_type": "stream",
     "text": [
      "Enter three string Emma Jessa Kelly\n"
     ]
    },
    {
     "name": "stdout",
     "output_type": "stream",
     "text": [
      "name1 :  Emma\n",
      "name2 :  Jessa\n",
      "name3 :  Kelly\n"
     ]
    }
   ],
   "source": [
    "# Accept any three string from one input() call\n",
    "str1,str2,str3=input(\"Enter three string\").split()\n",
    "print('name1 : ',str1)\n",
    "print('name2 : ',str2)\n",
    "print('name3 : ',str3)"
   ]
  },
  {
   "cell_type": "code",
   "execution_count": 177,
   "id": "337e8c7c-aa37-4dc3-be4c-1d98f9563039",
   "metadata": {},
   "outputs": [
    {
     "name": "stdout",
     "output_type": "stream",
     "text": [
      "I have 1000 dollars so I can buy 3 football for 450 dollars.\n"
     ]
    }
   ],
   "source": [
    "# Format variables using a string.format() method.\n",
    "totalmoney=1000\n",
    "quantity=3\n",
    "price=450\n",
    "statement=\"I have {0} dollars so I can buy {1} football for {2} dollars.\"\n",
    "print(statement.format(totalmoney,quantity,price))"
   ]
  },
  {
   "cell_type": "markdown",
   "id": "c192b1fa-85a0-4058-95e2-b8043f79873c",
   "metadata": {},
   "source": [
    "Python if else,for loop,and range() Exercise with solution"
   ]
  },
  {
   "cell_type": "code",
   "execution_count": 181,
   "id": "ab2fbe47-d980-462b-a18e-e15034425b1d",
   "metadata": {},
   "outputs": [
    {
     "name": "stdout",
     "output_type": "stream",
     "text": [
      "1\n",
      "2\n",
      "3\n",
      "4\n",
      "5\n",
      "6\n",
      "7\n",
      "8\n",
      "9\n",
      "10\n"
     ]
    }
   ],
   "source": [
    "# Print first 10 natural numbers using while loop\n",
    "i=1\n",
    "while i<=10:\n",
    "    print(i)\n",
    "    i=i+1"
   ]
  },
  {
   "cell_type": "code",
   "execution_count": 199,
   "id": "a1ae5ef1-8ff3-46dc-8ffe-7ead3184ab6c",
   "metadata": {},
   "outputs": [
    {
     "name": "stdout",
     "output_type": "stream",
     "text": [
      "1 \n",
      "\n",
      "1 2 \n",
      "\n",
      "1 2 3 \n",
      "\n",
      "1 2 3 4 \n",
      "\n",
      "1 2 3 4 5 \n",
      "\n"
     ]
    }
   ],
   "source": [
    "# Print the following pattern\n",
    "# 1 \n",
    "# 1 2 \n",
    "# 1 2 3 \n",
    "# 1 2 3 4 \n",
    "# 1 2 3 4 5\n",
    "for i in range(1,6,1):\n",
    "    for j in range(1,i+1):\n",
    "        print(j,end=\" \")\n",
    "    print(\"\\n\")"
   ]
  },
  {
   "cell_type": "code",
   "execution_count": 205,
   "id": "5adf104e-ab7d-4805-a284-89b2b3e20b87",
   "metadata": {},
   "outputs": [
    {
     "name": "stdin",
     "output_type": "stream",
     "text": [
      "Enter the number  10\n"
     ]
    },
    {
     "name": "stdout",
     "output_type": "stream",
     "text": [
      "sum is :  55\n"
     ]
    }
   ],
   "source": [
    "# Calculate sum of all numbers from 1 to a given number\n",
    "n=int(input(\"Enter the number \"))\n",
    "sum=0\n",
    "for i in range(n+1):\n",
    "    sum=sum+i\n",
    "print(\"sum is : \",sum)"
   ]
  },
  {
   "cell_type": "code",
   "execution_count": 213,
   "id": "ef0e0504-1d9a-4694-bf5c-e483c9b19946",
   "metadata": {},
   "outputs": [
    {
     "name": "stdin",
     "output_type": "stream",
     "text": [
      "Enter the number :  2\n"
     ]
    },
    {
     "name": "stdout",
     "output_type": "stream",
     "text": [
      "2 x 1 = 2\n",
      "2 x 2 = 4\n",
      "2 x 3 = 6\n",
      "2 x 4 = 8\n",
      "2 x 5 = 10\n",
      "2 x 6 = 12\n",
      "2 x 7 = 14\n",
      "2 x 8 = 16\n",
      "2 x 9 = 18\n",
      "2 x 10 = 20\n"
     ]
    }
   ],
   "source": [
    "# Print multiplication table of a given number\n",
    "n=int(input(\"Enter the number : \"))\n",
    "for i in range(1,11,1):\n",
    "    table=n*i\n",
    "    print(n,\"x\",i,\"=\",table)"
   ]
  },
  {
   "cell_type": "code",
   "execution_count": 219,
   "id": "ae469afc-761c-4a81-bda3-caae7de3dc90",
   "metadata": {},
   "outputs": [
    {
     "name": "stdout",
     "output_type": "stream",
     "text": [
      "75\n",
      "150\n",
      "145\n"
     ]
    }
   ],
   "source": [
    "# Display numbers from a list using a loop\n",
    "# Write a Python program to display only those numbers from a list that satisfy the following conditions\n",
    "\n",
    "# The number must be divisible by five\n",
    "# If the number is greater than 150, then skip it and move to the following number\n",
    "# If the number is greater than 500, then stop the loop\n",
    "\n",
    "list1=[12,75,150,180,145,525,50]\n",
    "for i in list1:\n",
    "    if i>500:\n",
    "        break\n",
    "    elif i>150:\n",
    "        continue\n",
    "    else:\n",
    "        if i%5==0:\n",
    "            print(i)"
   ]
  },
  {
   "cell_type": "code",
   "execution_count": 223,
   "id": "6544855f-ffb8-4099-8bf2-008c33fb36a1",
   "metadata": {},
   "outputs": [
    {
     "name": "stdin",
     "output_type": "stream",
     "text": [
      "Enter the numbers :  345\n"
     ]
    },
    {
     "name": "stdout",
     "output_type": "stream",
     "text": [
      "Total digits are :  3\n"
     ]
    }
   ],
   "source": [
    " # Count the total number of digits in a number\n",
    "n=int(input(\"Enter the numbers : \"))\n",
    "count=0\n",
    "while n!=0:\n",
    "    n=n//10\n",
    "    count+=1\n",
    "print(\"Total digits are : \" ,count)"
   ]
  },
  {
   "cell_type": "code",
   "execution_count": 225,
   "id": "ce7ce20f-51ba-4376-a259-4e19f0f555f5",
   "metadata": {},
   "outputs": [
    {
     "name": "stdin",
     "output_type": "stream",
     "text": [
      " 5\n"
     ]
    },
    {
     "name": "stdout",
     "output_type": "stream",
     "text": [
      "5 4 3 2 1 \n",
      "\n",
      "4 3 2 1 \n",
      "\n",
      "3 2 1 \n",
      "\n",
      "2 1 \n",
      "\n",
      "1 \n",
      "\n",
      "\n",
      "\n"
     ]
    }
   ],
   "source": [
    "# Print the following pattern\n",
    "# 5 4 3 2 1 \n",
    "# 4 3 2 1 \n",
    "# 3 2 1 \n",
    "# 2 1 \n",
    "# 1\n",
    "n=int(input())\n",
    "for i in range(0,n+1):\n",
    "    for j in range(n-i,0,-1):\n",
    "        print(j,end=\" \")\n",
    "    print(\"\\n\")"
   ]
  },
  {
   "cell_type": "code",
   "execution_count": 231,
   "id": "7fdaa187-fa36-411c-b261-cab782e6079d",
   "metadata": {},
   "outputs": [
    {
     "name": "stdout",
     "output_type": "stream",
     "text": [
      "50\n",
      "40\n",
      "30\n",
      "20\n",
      "10\n"
     ]
    }
   ],
   "source": [
    "# Print list in reverse order using a loop\n",
    "list1=[10,20,30,40,50]\n",
    "new_list=reversed(list1)\n",
    "for i in new_list:\n",
    "    print(i)"
   ]
  },
  {
   "cell_type": "code",
   "execution_count": 235,
   "id": "680e6f86-3c3e-4f3c-96d1-891a8ea473ce",
   "metadata": {},
   "outputs": [
    {
     "name": "stdout",
     "output_type": "stream",
     "text": [
      "-10\n",
      "-9\n",
      "-8\n",
      "-7\n",
      "-6\n",
      "-5\n",
      "-4\n",
      "-3\n",
      "-2\n",
      "-1\n"
     ]
    }
   ],
   "source": [
    " # Display numbers from -10 to -1 using for loop\n",
    "for i in range(-10,0,1):\n",
    "    print(i)"
   ]
  },
  {
   "cell_type": "code",
   "execution_count": 241,
   "id": "52ea14af-5f00-4e0d-b800-ae36c6b4e607",
   "metadata": {},
   "outputs": [
    {
     "name": "stdout",
     "output_type": "stream",
     "text": [
      "0\n",
      "1\n",
      "2\n",
      "3\n",
      "4\n",
      "Done!\n"
     ]
    }
   ],
   "source": [
    "# Display a message “Done” after the successful execution of the for loop\n",
    "for i in range(5):\n",
    "    print(i)\n",
    "print(\"Done!\")"
   ]
  },
  {
   "cell_type": "code",
   "execution_count": 245,
   "id": "4c6d4093-3378-4b24-8cab-e3bdf70b6560",
   "metadata": {},
   "outputs": [
    {
     "name": "stdout",
     "output_type": "stream",
     "text": [
      "29\n",
      "31\n",
      "37\n",
      "41\n",
      "43\n",
      "47\n"
     ]
    }
   ],
   "source": [
    "# Print all prime numbers within a range\n",
    "start=25\n",
    "end=50\n",
    "for num in range(start,end+1):\n",
    "    if num>1:\n",
    "        for i in range(2,num):\n",
    "            if(num%i)==0:\n",
    "                break\n",
    "        else:\n",
    "            print(num)"
   ]
  },
  {
   "cell_type": "code",
   "execution_count": 249,
   "id": "2fb668ba-8c8b-4ff6-9263-fe33eefa7cae",
   "metadata": {},
   "outputs": [
    {
     "name": "stdout",
     "output_type": "stream",
     "text": [
      "0 1 1 2 3 5 8 13 21 34 "
     ]
    }
   ],
   "source": [
    "# Display Fibonacci series up to 10 terms\n",
    "num1,num2=0,1\n",
    "for i in range(10):\n",
    "    print(num1,end=\" \")\n",
    "    res=num1+num2\n",
    "    num1=num2\n",
    "    num2=res"
   ]
  },
  {
   "cell_type": "code",
   "execution_count": 253,
   "id": "749bceee-a2c2-4335-a8f8-2e00627c167d",
   "metadata": {},
   "outputs": [
    {
     "name": "stdin",
     "output_type": "stream",
     "text": [
      " 5\n"
     ]
    },
    {
     "name": "stdout",
     "output_type": "stream",
     "text": [
      "The factorial of  5 is 120\n"
     ]
    }
   ],
   "source": [
    "# Find the factorial of a given number\n",
    "n=int(input())\n",
    "fact=1\n",
    "if n<0:\n",
    "    print(\"the factorial does not exist for negative numbers\")\n",
    "elif n==0:\n",
    "    print(\"The factorial of a number is 1\")\n",
    "else:\n",
    "    for i in range(1,n+1):\n",
    "        fact=fact*i\n",
    "    print(\"The factorial of \",n,\"is\",fact)"
   ]
  },
  {
   "cell_type": "code",
   "execution_count": 257,
   "id": "e93cd624-067a-4d38-8387-6d0926836e8e",
   "metadata": {},
   "outputs": [
    {
     "name": "stdin",
     "output_type": "stream",
     "text": [
      "Enter the number :  76542\n"
     ]
    },
    {
     "name": "stdout",
     "output_type": "stream",
     "text": [
      "24567"
     ]
    }
   ],
   "source": [
    "# Reverse a integer number\n",
    "n=int(input(\"Enter the number : \"))\n",
    "while n>0:\n",
    "    digit=n%10\n",
    "    n=n//10\n",
    "    print(digit,end=\"\")"
   ]
  },
  {
   "cell_type": "code",
   "execution_count": 261,
   "id": "65c81d78-6e22-4096-9622-77a18245822f",
   "metadata": {},
   "outputs": [
    {
     "name": "stdout",
     "output_type": "stream",
     "text": [
      "10 20 30 40 50 60 70 80 90 100 "
     ]
    }
   ],
   "source": [
    "# Print elements from a given list present at odd index positions\n",
    "list1=[10,20,30,40,50,60,70,80,90,100]\n",
    "for i in list1:\n",
    "    if i%2==0:\n",
    "        print(i,end=\" \")"
   ]
  },
  {
   "cell_type": "code",
   "execution_count": 265,
   "id": "d5c0c061-a373-4c2d-8cc6-0bb610c601dc",
   "metadata": {},
   "outputs": [
    {
     "name": "stdin",
     "output_type": "stream",
     "text": [
      " 6\n"
     ]
    },
    {
     "name": "stdout",
     "output_type": "stream",
     "text": [
      "The cube of 1 is 1\n",
      "The cube of 2 is 8\n",
      "The cube of 3 is 27\n",
      "The cube of 4 is 64\n",
      "The cube of 5 is 125\n",
      "The cube of 6 is 216\n"
     ]
    }
   ],
   "source": [
    "# Calculate the cube of all numbers from 1 to a given number\n",
    "n=int(input())\n",
    "for i in range(1,n+1):\n",
    "    cube=i*i*i\n",
    "    print(f\"The cube of {i} is {cube}\")"
   ]
  },
  {
   "cell_type": "code",
   "execution_count": 269,
   "id": "62d2f1d6-54fa-40da-8675-dd9d76945cdf",
   "metadata": {},
   "outputs": [
    {
     "name": "stdin",
     "output_type": "stream",
     "text": [
      " 5\n"
     ]
    },
    {
     "name": "stdout",
     "output_type": "stream",
     "text": [
      "2+22+222+2222+22222+\n",
      " 24690\n"
     ]
    }
   ],
   "source": [
    "# Find the sum of the series up to n terms\n",
    "n=int(input())\n",
    "start=2\n",
    "sum=0\n",
    "for i in range(0,n):\n",
    "    print(start,end=\"+\")\n",
    "    sum+=start\n",
    "    start=start*10+2\n",
    "print(\"\\n\",sum)"
   ]
  },
  {
   "cell_type": "code",
   "execution_count": 271,
   "id": "0fdfc7d9-86f0-4f6c-8317-51d4101ca57a",
   "metadata": {},
   "outputs": [
    {
     "name": "stdin",
     "output_type": "stream",
     "text": [
      " 5\n"
     ]
    },
    {
     "name": "stdout",
     "output_type": "stream",
     "text": [
      "* \n",
      "* * \n",
      "* * * \n",
      "* * * * \n",
      "* * * * * \n",
      "* * * * \n",
      "* * * \n",
      "* * \n",
      "* \n",
      "\n"
     ]
    }
   ],
   "source": [
    "# Print the following pattern\n",
    "# * \n",
    "# * * \n",
    "# * * * \n",
    "# * * * * \n",
    "# * * * * * \n",
    "# * * * * \n",
    "# * * * \n",
    "# * * \n",
    "# *\n",
    "n=int(input())\n",
    "for i in range(0,n):\n",
    "    for j in range(0,i+1):\n",
    "        print(\"*\",end=\" \")\n",
    "    print(\"\\r\")\n",
    "for i in range(n,0,-1):\n",
    "    for j in range(0,i-1):\n",
    "        print(\"*\",end=\" \")\n",
    "    print(\"\\r\")"
   ]
  },
  {
   "cell_type": "markdown",
   "id": "9e00dc4f-50c4-4b62-b01b-4fc3f5e726c5",
   "metadata": {},
   "source": [
    "Function Exercise"
   ]
  },
  {
   "cell_type": "code",
   "execution_count": 275,
   "id": "1147ff50-f725-449a-9578-057f381db3c4",
   "metadata": {},
   "outputs": [
    {
     "name": "stdout",
     "output_type": "stream",
     "text": [
      "sagar 18\n"
     ]
    }
   ],
   "source": [
    "def fun(name,age):\n",
    "    print(name,age)\n",
    "fun(\"sagar\",18)"
   ]
  },
  {
   "cell_type": "code",
   "execution_count": 285,
   "id": "0674bbbe-a0cc-4b99-8bdf-45de7df1b5d2",
   "metadata": {},
   "outputs": [
    {
     "name": "stdout",
     "output_type": "stream",
     "text": [
      "20 23 25 \n",
      "\n",
      "80 100 \n",
      "\n"
     ]
    }
   ],
   "source": [
    "# Create a function with variable length of arguments\n",
    "def fun(*args):\n",
    "    for i in args:\n",
    "        print(i,end=\" \" )\n",
    "    print(\"\\n\")\n",
    "fun(20,23,25)\n",
    "fun(80,100)"
   ]
  },
  {
   "cell_type": "code",
   "execution_count": 287,
   "id": "73ca6d92-1058-4ba9-b66f-b8f22924c8ed",
   "metadata": {},
   "outputs": [
    {
     "name": "stdout",
     "output_type": "stream",
     "text": [
      "(50, 30)\n"
     ]
    }
   ],
   "source": [
    "# Return multiple values from a function\n",
    "def cal(a,b):\n",
    "    add=a+b\n",
    "    sub=a-b\n",
    "    return add,sub\n",
    "print(cal(40,10))"
   ]
  },
  {
   "cell_type": "code",
   "execution_count": 289,
   "id": "5994b3c7-f47f-4a64-a7d8-263e568b9147",
   "metadata": {},
   "outputs": [
    {
     "name": "stdout",
     "output_type": "stream",
     "text": [
      "Name :Ben salary : 12000\n",
      "Name :jessa salary : 9000\n"
     ]
    }
   ],
   "source": [
    "# Create a function with a default argument\n",
    "def fun(name,salary=9000):\n",
    "    print(f\"Name :{name} salary : {salary}\")\n",
    "fun(\"Ben\",12000)\n",
    "fun(\"jessa\")"
   ]
  },
  {
   "cell_type": "code",
   "execution_count": 291,
   "id": "3a912a1b-52ce-4266-90c9-966cdee86569",
   "metadata": {},
   "outputs": [
    {
     "name": "stdout",
     "output_type": "stream",
     "text": [
      "20\n"
     ]
    }
   ],
   "source": [
    "# reate an inner function to calculate the addition in the following way\n",
    "def outer(a,b):\n",
    "    square=a**2\n",
    "    def add(a,b):\n",
    "        return a+b\n",
    "    addition=add(a,b)\n",
    "    return addition+5\n",
    "result=outer(5,10)\n",
    "print(result)"
   ]
  },
  {
   "cell_type": "code",
   "execution_count": 295,
   "id": "1cd9bbd1-7f43-490b-bcc9-cf212a1912ac",
   "metadata": {},
   "outputs": [
    {
     "name": "stdout",
     "output_type": "stream",
     "text": [
      "55\n"
     ]
    }
   ],
   "source": [
    "# Create a recursive function\n",
    "sum=0\n",
    "def sum(n):\n",
    "    if n:\n",
    "        return n+sum(n-1)\n",
    "    else:\n",
    "        return 0\n",
    "res=sum(10)\n",
    "print(res)"
   ]
  },
  {
   "cell_type": "code",
   "execution_count": 297,
   "id": "80c1f1c9-c5c9-4879-bc1d-0e7e8a6a7d8c",
   "metadata": {},
   "outputs": [
    {
     "name": "stdout",
     "output_type": "stream",
     "text": [
      "Emma 26\n",
      "Emma 26\n"
     ]
    }
   ],
   "source": [
    "# Assign a different name to function and call it through the new name\n",
    "def display(name,age):\n",
    "    print(name,age)\n",
    "display(\"Emma\",26)\n",
    "student=display\n",
    "student(\"Emma\",26)"
   ]
  },
  {
   "cell_type": "code",
   "execution_count": 307,
   "id": "8434632b-9db9-47bc-a2e6-a20e5d72b949",
   "metadata": {},
   "outputs": [
    {
     "name": "stdout",
     "output_type": "stream",
     "text": [
      "[4, 6, 8, 10, 12, 14, 16, 18, 20, 22, 24, 26, 28]\n",
      "[4, 6, 8, 10, 12, 14, 16, 18, 20, 22, 24, 26, 28]\n"
     ]
    }
   ],
   "source": [
    "# Generate a Python list of all the even numbers between 4 to 30\n",
    "list1=[]\n",
    "def fun(list1):\n",
    "    for i in range(4,30):\n",
    "        if i%2==0:\n",
    "            list1.append(i)\n",
    "    return list1\n",
    "res=fun(list1)\n",
    "print(res)\n",
    "print(list(range(4,30,2)))"
   ]
  },
  {
   "cell_type": "code",
   "execution_count": 311,
   "id": "c1e8a903-25a9-401b-aa01-3041818ff15c",
   "metadata": {},
   "outputs": [
    {
     "name": "stdout",
     "output_type": "stream",
     "text": [
      "24\n",
      "2\n"
     ]
    }
   ],
   "source": [
    "# Find the largest item from a given list\n",
    "x=[4,6,8,24,12,2]\n",
    "print(max(x))\n",
    "print(min(x))"
   ]
  },
  {
   "cell_type": "markdown",
   "id": "0f3690db-ee73-4895-9352-15c98a4f2fe2",
   "metadata": {},
   "source": [
    "List Exercise"
   ]
  },
  {
   "cell_type": "code",
   "execution_count": 313,
   "id": "1b21664a-d4f1-43f1-bacc-67ee03d92e1a",
   "metadata": {},
   "outputs": [
    {
     "name": "stdout",
     "output_type": "stream",
     "text": [
      "[500, 400, 300, 200, 100]\n"
     ]
    }
   ],
   "source": [
    "# Reverse a list in Python\n",
    "list1=[100,200,300,400,500]\n",
    "list1.reverse()\n",
    "print(list1)"
   ]
  },
  {
   "cell_type": "code",
   "execution_count": 317,
   "id": "8c68b060-3e08-4db9-961e-d00e85f532db",
   "metadata": {},
   "outputs": [
    {
     "name": "stdout",
     "output_type": "stream",
     "text": [
      "['My', 'name', 'is', 'Kelly']\n"
     ]
    }
   ],
   "source": [
    "# Concatenate two lists index-wise\n",
    "# use the zip() function. This function takes two or more iterables \n",
    "# (like list, dict, string), aggregates them in a tuple, and returns it.\n",
    "list1 = [\"M\", \"na\", \"i\", \"Ke\"]\n",
    "list2 = [\"y\", \"me\", \"s\", \"lly\"]\n",
    "list3=[i+j for i,j in zip(list1,list2)]\n",
    "print(list3)"
   ]
  },
  {
   "cell_type": "code",
   "execution_count": 319,
   "id": "14fefd70-31d0-47b3-a837-5743a64e83c5",
   "metadata": {},
   "outputs": [
    {
     "name": "stdout",
     "output_type": "stream",
     "text": [
      "[1, 4, 9, 16, 25, 36, 49]\n"
     ]
    }
   ],
   "source": [
    "# Turn every item of a list into its square\n",
    "list1=[1,2,3,4,5,6,7]\n",
    "list2=[]\n",
    "for i in list1:\n",
    "    sq=i*i\n",
    "    list2.append(sq)\n",
    "print(list2)"
   ]
  },
  {
   "cell_type": "code",
   "execution_count": 321,
   "id": "88982489-2454-4e65-a977-0b3b0585a567",
   "metadata": {},
   "outputs": [
    {
     "name": "stdout",
     "output_type": "stream",
     "text": [
      "['Hello Dear', 'Hello Sir', 'take Dear', 'take Sir']\n"
     ]
    }
   ],
   "source": [
    "# Concatenate two lists in the following order\n",
    "# list1 = [\"Hello \", \"take \"]\n",
    "# list2 = [\"Dear\", \"Sir\"]\n",
    "# ['Hello Dear', 'Hello Sir', 'take Dear', 'take Sir']\n",
    "\n",
    "\n",
    "list1 = [\"Hello \", \"take \"]\n",
    "list2 = [\"Dear\", \"Sir\"]\n",
    "res=[x+y for x in list1 for y in list2]\n",
    "print(res)"
   ]
  },
  {
   "cell_type": "code",
   "execution_count": 323,
   "id": "c2c87ff4-fb71-4679-846e-7d7bf42039eb",
   "metadata": {},
   "outputs": [
    {
     "name": "stdout",
     "output_type": "stream",
     "text": [
      "10 400\n",
      "20 300\n",
      "30 200\n",
      "40 100\n"
     ]
    }
   ],
   "source": [
    "# Iterate both lists simultaneously\n",
    "list1 = [10, 20, 30, 40]\n",
    "list2 = [100, 200, 300, 400]\n",
    "for x,y in zip(list1,list2[::-1]):\n",
    "    print(x,y)"
   ]
  },
  {
   "cell_type": "code",
   "execution_count": 325,
   "id": "c7b90b42-9164-4834-afc7-d32a87914040",
   "metadata": {},
   "outputs": [
    {
     "name": "stdout",
     "output_type": "stream",
     "text": [
      "['Mike', 'Emma', 'Kelly', 'Brad']\n"
     ]
    }
   ],
   "source": [
    "# Remove empty strings from the list of strings\n",
    "list1 = [\"Mike\", \"\", \"Emma\", \"Kelly\", \"\", \"Brad\"]\n",
    "res=list(filter(None,list1))\n",
    "print(res)"
   ]
  },
  {
   "cell_type": "code",
   "execution_count": 329,
   "id": "73b979c9-865a-4714-a933-477938f86987",
   "metadata": {},
   "outputs": [
    {
     "name": "stdout",
     "output_type": "stream",
     "text": [
      "[10, 20, [300, 400, [5000, 6000, 7000], 500], 30, 40]\n"
     ]
    }
   ],
   "source": [
    "# Add new item to list after a specified item\n",
    "list1 = [10, 20, [300, 400, [5000, 6000], 500], 30, 40]\n",
    "list1[2][2].append(7000)\n",
    "print(list1)"
   ]
  },
  {
   "cell_type": "code",
   "execution_count": 333,
   "id": "0441e26f-409d-4a23-8936-9ca9e7e56777",
   "metadata": {},
   "outputs": [
    {
     "name": "stdout",
     "output_type": "stream",
     "text": [
      "['a', 'b', ['c', ['d', 'e', ['f', 'g', 'h', 'i', 'j'], 'k'], 'l'], 'm', 'n']\n"
     ]
    }
   ],
   "source": [
    "# Extend nested list by adding the sublist\n",
    "list1 = [\"a\", \"b\", [\"c\", [\"d\", \"e\", [\"f\", \"g\"], \"k\"], \"l\"], \"m\", \"n\"]\n",
    "sub_list = [\"h\", \"i\", \"j\"]\n",
    "list1[2][1][2].extend(sub_list)\n",
    "print(list1)"
   ]
  },
  {
   "cell_type": "code",
   "execution_count": 345,
   "id": "1f9225a0-030b-412a-ab1c-2b5049bf16de",
   "metadata": {},
   "outputs": [
    {
     "name": "stdout",
     "output_type": "stream",
     "text": [
      "[5, 10, 15, 200, 25, 50, 200]\n"
     ]
    }
   ],
   "source": [
    "# Replace list’s item with new value if found\n",
    "# if found 20 print 200\n",
    "list1 = [5, 10, 15, 20, 25, 50, 20]\n",
    "# index=list1.index(20)\n",
    "# list1[index]=200\n",
    "# print(list1)\n",
    "\n",
    "# if we want to replace the whole value in the list\n",
    "# numerate(list1) is used to get both the index and the \n",
    "# value of each item in the list,\n",
    "for i,value in enumerate(list1):\n",
    "    if value==20:\n",
    "        list1[i]=200\n",
    "print(list1)"
   ]
  },
  {
   "cell_type": "code",
   "execution_count": 355,
   "id": "3dac671c-5b27-4c1d-87d9-13aaa119a38e",
   "metadata": {},
   "outputs": [
    {
     "name": "stdout",
     "output_type": "stream",
     "text": [
      "[5, 15, 25, 50]\n"
     ]
    }
   ],
   "source": [
    "# Remove all occurrences of a specific item from a list.\n",
    "# Given a Python list, write a program to remove all occurrences of item 20.\n",
    "list1 = [5, 20, 15, 20, 25, 50, 20]\n",
    "list2=[]\n",
    "for i in list1:\n",
    "    if i!=20:\n",
    "        list2.append(i)\n",
    "    else:\n",
    "        continue\n",
    "print(list2)"
   ]
  },
  {
   "cell_type": "markdown",
   "id": "ca17b4cd-78f5-451e-9c98-2805db6235fe",
   "metadata": {},
   "source": [
    "Dictionary Exercise"
   ]
  },
  {
   "cell_type": "code",
   "execution_count": 361,
   "id": "0e8b798f-a7a8-47a3-ae10-a66451cd48aa",
   "metadata": {},
   "outputs": [
    {
     "name": "stdout",
     "output_type": "stream",
     "text": [
      "{'Ten': 10, 'Twenty': 20, 'Thirty': 30}\n",
      "{'Ten': 10, 'Twenty': 20, 'Thirty': 30}\n"
     ]
    }
   ],
   "source": [
    "# Convert two lists into a dictionary\n",
    "keys = ['Ten', 'Twenty', 'Thirty']\n",
    "values = [10, 20, 30]\n",
    "res_dict=dict(zip(keys,values))\n",
    "print(res_dict)\n",
    "\n",
    "# second method using update \n",
    "res_dict1=dict()\n",
    "for i in range(len(keys)):\n",
    "    res_dict1.update({keys[i] : values[i]})\n",
    "print(res_dict1)"
   ]
  },
  {
   "cell_type": "code",
   "execution_count": 365,
   "id": "e0073658-e019-4bb4-957f-599ff0f6f67a",
   "metadata": {},
   "outputs": [
    {
     "name": "stdout",
     "output_type": "stream",
     "text": [
      "{'Ten': 10, 'Twenty': 20, 'Thirty': 30, 'Fourty': 40, 'Fifty': 50}\n",
      "{'Ten': 10, 'Twenty': 20, 'Thirty': 30, 'Fourty': 40, 'Fifty': 50}\n"
     ]
    }
   ],
   "source": [
    " # Merge two Python dictionaries into one\n",
    "dict1 = {'Ten': 10, 'Twenty': 20, 'Thirty': 30}\n",
    "dict2 = {'Thirty': 30, 'Fourty': 40, 'Fifty': 50}\n",
    "dict3={**dict1,**dict2}\n",
    "print(dict3)\n",
    "\n",
    "# second method\n",
    "dict4=dict1.copy()\n",
    "dict4.update(dict2)\n",
    "print(dict4)"
   ]
  },
  {
   "cell_type": "code",
   "execution_count": 369,
   "id": "5c5013f1-63e4-4a3f-8020-b78522dcdb04",
   "metadata": {},
   "outputs": [
    {
     "name": "stdout",
     "output_type": "stream",
     "text": [
      "80\n",
      "Mike\n"
     ]
    }
   ],
   "source": [
    "# Print the value of key ‘history’ from the below dict\n",
    "sampleDict = {\n",
    "    \"class\": {\n",
    "        \"student\": {\n",
    "            \"name\": \"Mike\",\n",
    "            \"marks\": {\n",
    "                \"physics\": 70,\n",
    "                \"history\": 80\n",
    "            }\n",
    "        }\n",
    "    }\n",
    "}\n",
    "print(sampleDict['class']['student']['marks']['history'])\n",
    "print(sampleDict['class']['student']['name'])"
   ]
  },
  {
   "cell_type": "code",
   "execution_count": 373,
   "id": "bd22a7c3-a6c8-4d7b-8e63-811fe27c85f0",
   "metadata": {},
   "outputs": [
    {
     "name": "stdout",
     "output_type": "stream",
     "text": [
      "{'Kelly': {'designation': 'Developer', 'salary': 8000}, 'Emma': {'designation': 'Developer', 'salary': 8000}}\n"
     ]
    }
   ],
   "source": [
    "# Initialize dictionary with default values\n",
    "employees = ['Kelly', 'Emma']\n",
    "defaults = {\"designation\": 'Developer', \"salary\": 8000}\n",
    "res=dict.fromkeys(employees,defaults)\n",
    "print(res)\n",
    "# print(res[\"Kelly\"])"
   ]
  },
  {
   "cell_type": "code",
   "execution_count": 379,
   "id": "d6ce7902-13ca-412e-922c-08866ef65db7",
   "metadata": {},
   "outputs": [
    {
     "name": "stdout",
     "output_type": "stream",
     "text": [
      "{'name': 'Kelly', 'salary': 80000}\n",
      "{'name': 'Kelly', 'salary': 80000}\n"
     ]
    }
   ],
   "source": [
    "# Create a dictionary by extracting the keys from a given dictionary\n",
    "sample_dict={\n",
    "    \"name\":\"Kelly\",\n",
    "    \"age\":25,\n",
    "    \"salary\":80000,\n",
    "    \"city\":\"new york\"}\n",
    "keys=[\"name\",\"salary\"]\n",
    "res=dict()\n",
    "for k in keys:\n",
    "    res.update({k:sample_dict[k]})\n",
    "print(res)\n",
    "\n",
    "# second method\n",
    "newdict={k:sample_dict[k] for k in keys}\n",
    "print(newdict)"
   ]
  },
  {
   "cell_type": "code",
   "execution_count": 383,
   "id": "be78f6b4-4f97-4c2f-a14f-c50bb1911c76",
   "metadata": {},
   "outputs": [
    {
     "name": "stdout",
     "output_type": "stream",
     "text": [
      "{'age': 25, 'city': 'New york'}\n"
     ]
    }
   ],
   "source": [
    "# Delete a list of keys from a dictionary\n",
    "sample_dict = {\n",
    "    \"name\": \"Kelly\",\n",
    "    \"age\": 25,\n",
    "    \"salary\": 8000,\n",
    "    \"city\": \"New york\"\n",
    "}\n",
    "\n",
    "# Keys to remove\n",
    "keys = [\"name\", \"salary\"]\n",
    "for k in keys:\n",
    "    sample_dict.pop(k)\n",
    "print(sample_dict)"
   ]
  },
  {
   "cell_type": "code",
   "execution_count": 387,
   "id": "f48d94fa-fc5c-4454-a65d-7f847b6e9b53",
   "metadata": {},
   "outputs": [
    {
     "name": "stdout",
     "output_type": "stream",
     "text": [
      "200 present in a dict\n"
     ]
    }
   ],
   "source": [
    "# Check if a value exists in a dictionary\n",
    "sample_dict = {'a': 100, 'b': 200, 'c': 300}\n",
    "if 200 in sample_dict.values():\n",
    "    print(\"200 present in a dict\")"
   ]
  },
  {
   "cell_type": "code",
   "execution_count": 391,
   "id": "5f75ad4c-26ce-42bd-bc61-940c8c8ecb97",
   "metadata": {},
   "outputs": [
    {
     "name": "stdout",
     "output_type": "stream",
     "text": [
      "{'name': 'Kelly', 'age': 25, 'salary': 8000, 'location': 'New york'}\n"
     ]
    }
   ],
   "source": [
    "# Rename key of a dictionary\n",
    "sample_dict = {\n",
    "  \"name\": \"Kelly\",\n",
    "  \"age\":25,\n",
    "  \"salary\": 8000,\n",
    "  \"city\": \"New york\"\n",
    "}\n",
    "sample_dict[\"location\"]=sample_dict.pop(\"city\")\n",
    "print(sample_dict)"
   ]
  },
  {
   "cell_type": "code",
   "execution_count": 399,
   "id": "233baf00-9603-4099-830c-dfe3cfa8041d",
   "metadata": {},
   "outputs": [
    {
     "name": "stdout",
     "output_type": "stream",
     "text": [
      "Math\n"
     ]
    }
   ],
   "source": [
    " # Get the key of a minimum value from the following dictionary\n",
    "sample_dict = {\n",
    "  'Physics': 82,\n",
    "  'Math': 65,\n",
    "  'history': 75\n",
    "}\n",
    "print(min(sample_dict,key=sample_dict.get))"
   ]
  },
  {
   "cell_type": "code",
   "execution_count": 403,
   "id": "1a079b03-a4fa-4f41-87fd-f548ce7f39ad",
   "metadata": {},
   "outputs": [
    {
     "name": "stdout",
     "output_type": "stream",
     "text": [
      "{'emp1': {'name': 'Jhon', 'salary': 7500}, 'emp2': {'name': 'Emma', 'salary': 8000}, 'emp3': {'name': 'Brad', 'salary': 8500}}\n"
     ]
    }
   ],
   "source": [
    " # Change value of a key in a nested dictionary\n",
    "sample_dict = {\n",
    "    'emp1': {'name': 'Jhon', 'salary': 7500},\n",
    "    'emp2': {'name': 'Emma', 'salary': 8000},\n",
    "    'emp3': {'name': 'Brad', 'salary': 500}\n",
    "}\n",
    "sample_dict['emp3']['salary']=8500\n",
    "print(sample_dict)"
   ]
  },
  {
   "cell_type": "markdown",
   "id": "b37b5b05-3983-408f-96db-a84270f123db",
   "metadata": {},
   "source": [
    "Set Exercise"
   ]
  },
  {
   "cell_type": "code",
   "execution_count": 408,
   "id": "a8146971-92a0-4443-a0f0-e1d636bb7882",
   "metadata": {},
   "outputs": [
    {
     "name": "stdout",
     "output_type": "stream",
     "text": [
      "{'Green', 'Red', 'Black', 'Orange', 'Blue', 'Yellow'}\n"
     ]
    }
   ],
   "source": [
    "sample_set = {\"Yellow\", \"Orange\", \"Black\"} \n",
    "sample_list = [\"Blue\", \"Green\", \"Red\"] \n",
    "sample_set.update(sample_list) \n",
    "print(sample_set)"
   ]
  },
  {
   "cell_type": "code",
   "execution_count": 410,
   "id": "e14ceeae-db38-474f-9921-92ce72ce8597",
   "metadata": {},
   "outputs": [
    {
     "name": "stdout",
     "output_type": "stream",
     "text": [
      "{40, 50, 30}\n"
     ]
    }
   ],
   "source": [
    "# Return a new set of identical items from two sets\n",
    "set1 = {10, 20, 30, 40, 50}\n",
    "set2 = {30, 40, 50, 60, 70}\n",
    "print(set1.intersection(set2))"
   ]
  },
  {
   "cell_type": "code",
   "execution_count": 412,
   "id": "5fe39fa9-decd-4973-925a-b9efc68c86a7",
   "metadata": {},
   "outputs": [
    {
     "name": "stdout",
     "output_type": "stream",
     "text": [
      "{70, 40, 10, 50, 20, 60, 30}\n"
     ]
    }
   ],
   "source": [
    "# Get Only unique items from two sets\n",
    "set1 = {10, 20, 30, 40, 50}\n",
    "set2 = {30, 40, 50, 60, 70}\n",
    "print(set1.union(set2))"
   ]
  },
  {
   "cell_type": "code",
   "execution_count": 414,
   "id": "037c5335-85d8-494f-b2d9-43b62a414050",
   "metadata": {},
   "outputs": [
    {
     "name": "stdout",
     "output_type": "stream",
     "text": [
      "{10, 30}\n"
     ]
    }
   ],
   "source": [
    " # Update the first set with items that don’t exist in the second set\n",
    "set1 = {10, 20, 30}\n",
    "set2 = {20, 40, 50}\n",
    "set1.difference_update(set2)\n",
    "print(set1)"
   ]
  },
  {
   "cell_type": "code",
   "execution_count": 416,
   "id": "78f3970e-f45f-4423-b9af-289483f6528a",
   "metadata": {},
   "outputs": [
    {
     "name": "stdout",
     "output_type": "stream",
     "text": [
      "{50, 40}\n"
     ]
    }
   ],
   "source": [
    "# Remove items from the set at once\n",
    "set1 = {10, 20, 30, 40, 50}\n",
    "set1.difference_update({10,20,30})\n",
    "print(set1)"
   ]
  },
  {
   "cell_type": "code",
   "execution_count": 418,
   "id": "fd22c802-079e-4b58-acd8-abd9b7019b51",
   "metadata": {},
   "outputs": [
    {
     "name": "stdout",
     "output_type": "stream",
     "text": [
      "{20, 70, 10, 60}\n"
     ]
    }
   ],
   "source": [
    "# Return a set of elements present in Set A or B, but not both\n",
    "set1 = {10, 20, 30, 40, 50}\n",
    "set2 = {30, 40, 50, 60, 70}\n",
    "print(set1.symmetric_difference(set2))"
   ]
  },
  {
   "cell_type": "code",
   "execution_count": 420,
   "id": "d34136cc-1483-4d11-afc5-a38829e1d948",
   "metadata": {},
   "outputs": [
    {
     "name": "stdout",
     "output_type": "stream",
     "text": [
      "Two sets have common element\n",
      "{10}\n"
     ]
    }
   ],
   "source": [
    "# Check if two sets have any elements in common. If yes, display the common elements\n",
    "set1 = {10, 20, 30, 40, 50}\n",
    "set2 = {60, 70, 80, 90, 10}\n",
    "if set1.isdisjoint(set2):\n",
    "    print(\"Two sets have no items common\")\n",
    "else:\n",
    "    print(\"Two sets have common element\")\n",
    "    print(set1.intersection(set2))"
   ]
  },
  {
   "cell_type": "code",
   "execution_count": 422,
   "id": "9714c9e1-7f9f-4d20-8f56-8eeb1a0a168c",
   "metadata": {},
   "outputs": [
    {
     "name": "stdout",
     "output_type": "stream",
     "text": [
      "{20, 70, 10, 60}\n"
     ]
    }
   ],
   "source": [
    "# Update set1 by adding items from set2, except common items\n",
    "set1 = {10, 20, 30, 40, 50}\n",
    "set2 = {30, 40, 50, 60, 70}\n",
    "set1.symmetric_difference_update(set2)\n",
    "print(set1)"
   ]
  },
  {
   "cell_type": "code",
   "execution_count": 424,
   "id": "e99db56c-cdd9-41ce-8ca2-00da3849fa9d",
   "metadata": {},
   "outputs": [
    {
     "name": "stdout",
     "output_type": "stream",
     "text": [
      "{40, 50, 30}\n"
     ]
    }
   ],
   "source": [
    "# Remove items from set1 that are not common to both set1 and set2\n",
    "set1 = {10, 20, 30, 40, 50}\n",
    "set2 = {30, 40, 50, 60, 70}\n",
    "set1.intersection_update(set2)\n",
    "print(set1)"
   ]
  },
  {
   "cell_type": "markdown",
   "id": "745c2fce-33cf-4c8b-99a3-9be241e93327",
   "metadata": {},
   "source": [
    "Tuple Exercise"
   ]
  },
  {
   "cell_type": "code",
   "execution_count": 426,
   "id": "55add260-82f4-4213-9aeb-b2b7adc4c3a4",
   "metadata": {},
   "outputs": [
    {
     "name": "stdout",
     "output_type": "stream",
     "text": [
      "(50, 40, 30, 20, 10)\n"
     ]
    }
   ],
   "source": [
    "#Reverse the tuple\n",
    "tuple1=(10,20,30,40,50)\n",
    "tuple1=tuple1[::-1]\n",
    "print(tuple1)"
   ]
  },
  {
   "cell_type": "code",
   "execution_count": 428,
   "id": "7b6c57cf-dc35-4332-95b8-f8d74f901b3c",
   "metadata": {},
   "outputs": [
    {
     "name": "stdout",
     "output_type": "stream",
     "text": [
      "20\n"
     ]
    }
   ],
   "source": [
    "# Access value 20 from the tuple\n",
    "tuple1 = (\"Orange\", [10, 20, 30], (5, 15, 25))\n",
    "print(tuple1[1][1])"
   ]
  },
  {
   "cell_type": "code",
   "execution_count": 434,
   "id": "4213ef4b-4c7c-4e50-842e-3967dfa3fdea",
   "metadata": {},
   "outputs": [
    {
     "name": "stdout",
     "output_type": "stream",
     "text": [
      "(50,)\n",
      "<class 'tuple'>\n"
     ]
    }
   ],
   "source": [
    "# Create a tuple with single item 50\n",
    "tuple1=(50,)\n",
    "print(tuple1)\n",
    "print(type(tuple1))"
   ]
  },
  {
   "cell_type": "code",
   "execution_count": 436,
   "id": "e1b72b58-c8bc-439f-b4cd-e84fc32d8f03",
   "metadata": {},
   "outputs": [
    {
     "name": "stdout",
     "output_type": "stream",
     "text": [
      "10\n",
      "20\n",
      "30\n",
      "40\n"
     ]
    }
   ],
   "source": [
    "# Unpack the tuple into 4 variables\n",
    "tuple1 = (10, 20, 30, 40)\n",
    "a,b,c,d=tuple1\n",
    "print(a)\n",
    "print(b)\n",
    "print(c)\n",
    "print(d)"
   ]
  },
  {
   "cell_type": "code",
   "execution_count": 440,
   "id": "1689bb25-589a-4fa9-b822-83ea384bb704",
   "metadata": {},
   "outputs": [
    {
     "name": "stdout",
     "output_type": "stream",
     "text": [
      "(99, 88)\n",
      "(11, 22)\n"
     ]
    }
   ],
   "source": [
    "# Swap two tuples in Python\n",
    "tuple1 = (11, 22)\n",
    "tuple2 = (99, 88)\n",
    "tuple1,tuple2=tuple2,tuple1\n",
    "print(tuple1)\n",
    "print(tuple2)"
   ]
  },
  {
   "cell_type": "code",
   "execution_count": 442,
   "id": "1e945d8f-dc3d-48f1-8ed0-67daf19c4c18",
   "metadata": {},
   "outputs": [
    {
     "name": "stdout",
     "output_type": "stream",
     "text": [
      "(44, 55)\n"
     ]
    }
   ],
   "source": [
    "# Copy specific elements from one tuple to a new tuple\n",
    "tuple1 = (11, 22, 33, 44, 55, 66)\n",
    "tuple2=tuple1[3:-1]\n",
    "print(tuple2)"
   ]
  },
  {
   "cell_type": "code",
   "execution_count": 444,
   "id": "8b91ccef-fda1-4a05-8da3-a7283bb9141e",
   "metadata": {},
   "outputs": [
    {
     "name": "stdout",
     "output_type": "stream",
     "text": [
      "(11, [222, 33], 44, 55)\n"
     ]
    }
   ],
   "source": [
    "# Modify the tuple\n",
    "tuple1 = (11, [22, 33], 44, 55)\n",
    "tuple1[1][0]=222\n",
    "print(tuple1)"
   ]
  },
  {
   "cell_type": "code",
   "execution_count": 446,
   "id": "3407ffb9-a1a0-426f-b22d-cb465c8a17db",
   "metadata": {},
   "outputs": [
    {
     "name": "stdout",
     "output_type": "stream",
     "text": [
      "(('c', 11), ('a', 23), ('d', 29), ('b', 37))\n"
     ]
    }
   ],
   "source": [
    "# Sort a tuple of tuples by 2nd item\n",
    "tuple1 = (('a', 23), ('b', 37), ('c', 11), ('d', 29))  \n",
    "\n",
    "def get_second_element(item):  \n",
    "    return item[1]  \n",
    "\n",
    "sorted_tuple = tuple(sorted(tuple1, key=get_second_element))  \n",
    "print(sorted_tuple) "
   ]
  },
  {
   "cell_type": "code",
   "execution_count": 450,
   "id": "e2f7edaa-97d7-4c26-b863-8bfc2346ae83",
   "metadata": {},
   "outputs": [
    {
     "name": "stdout",
     "output_type": "stream",
     "text": [
      "2\n"
     ]
    }
   ],
   "source": [
    "# Counts the number of occurrences of item 50 from a tuple\n",
    "tuple1 = (50, 10, 60, 70, 50)\n",
    "print(tuple1.count(50))"
   ]
  },
  {
   "cell_type": "code",
   "execution_count": 452,
   "id": "161df795-6107-448a-8a46-398fc7069e8d",
   "metadata": {},
   "outputs": [
    {
     "name": "stdout",
     "output_type": "stream",
     "text": [
      "True\n"
     ]
    }
   ],
   "source": [
    "# Check if all items in the tuple are the same\n",
    "tuple1 = (45, 45, 45, 45)\n",
    "def check(t):\n",
    "    return all(i==t[0] for i in t)\n",
    "print(check(tuple1))"
   ]
  },
  {
   "cell_type": "markdown",
   "id": "d176e06b-b4ae-406a-8af3-b8da87262f2c",
   "metadata": {},
   "source": [
    "String Exercise"
   ]
  },
  {
   "cell_type": "code",
   "execution_count": 3,
   "id": "a097465e-8e21-4619-9a80-625bb6472300",
   "metadata": {},
   "outputs": [
    {
     "name": "stdout",
     "output_type": "stream",
     "text": [
      "String :  Jms\n"
     ]
    }
   ],
   "source": [
    "# Create a string made of the first, middle and last character\n",
    "str1 = \"James\"\n",
    "# Jms -->output\n",
    "res=str1[0]\n",
    "l=len(str1)\n",
    "mi=int(l/2)\n",
    "res=res+str1[mi]\n",
    "res=res+str1[l-1]\n",
    "print(\"String : \",res)"
   ]
  },
  {
   "cell_type": "code",
   "execution_count": 15,
   "id": "a8c1d0bc-4d1d-4497-9418-099fa01d5331",
   "metadata": {},
   "outputs": [
    {
     "name": "stdin",
     "output_type": "stream",
     "text": [
      "Enter the String :  jasonay\n"
     ]
    },
    {
     "name": "stdout",
     "output_type": "stream",
     "text": [
      "String :  son\n",
      "son\n"
     ]
    }
   ],
   "source": [
    " # Create a string made of the middle three characters\n",
    "str1 = input(\"Enter the String : \")\n",
    "# Dip\n",
    "l=len(str1)\n",
    "mi=int(l/2)\n",
    "res=str1[mi-1]\n",
    "res=res+str1[mi]\n",
    "res=res+str1[mi+1]\n",
    "print(\"String : \",res)\n",
    "\n",
    "# using slicing\n",
    "res1=str1[mi-1:mi+2]\n",
    "print(res1)"
   ]
  },
  {
   "cell_type": "code",
   "execution_count": 17,
   "id": "925a1263-c731-4f6d-8115-6bf40f154e14",
   "metadata": {},
   "outputs": [
    {
     "name": "stdout",
     "output_type": "stream",
     "text": [
      "AuKellylt\n"
     ]
    }
   ],
   "source": [
    "# Append new string in the middle of a given string\n",
    "s1 = \"Ault\"\n",
    "s2 = \"Kelly\"\n",
    "# AuKellylt\n",
    "mi=int(len(s1)/2)\n",
    "res=s1[:mi]+s2+s1[mi:]\n",
    "print(res)\n"
   ]
  },
  {
   "cell_type": "code",
   "execution_count": 19,
   "id": "c2000828-70fe-4616-885c-c4abc58024d8",
   "metadata": {},
   "outputs": [
    {
     "name": "stdout",
     "output_type": "stream",
     "text": [
      "String :  AJrpan\n"
     ]
    }
   ],
   "source": [
    "# Create a new string made of the first, middle, and last characters of each input string\n",
    "s1 = \"America\"\n",
    "s2 = \"Japan\"\n",
    "# AJrpan -->output\n",
    "\n",
    "res=s1[0]+s2[0]\n",
    "l=len(s1)\n",
    "l2=len(s2)\n",
    "mi=int(l/2)\n",
    "mi2=int(l2/2)\n",
    "res=res+s1[mi]+s2[mi2]\n",
    "res=res+s1[l-1]+s2[l2-1]\n",
    "print(\"String : \",res)"
   ]
  },
  {
   "cell_type": "code",
   "execution_count": 23,
   "id": "83a9c8de-e070-47fe-a9b7-c0e300ca6d78",
   "metadata": {},
   "outputs": [
    {
     "name": "stdin",
     "output_type": "stream",
     "text": [
      "Enter the string :  PYnAtivE\n"
     ]
    },
    {
     "name": "stdout",
     "output_type": "stream",
     "text": [
      "result : ntivPYAE\n"
     ]
    }
   ],
   "source": [
    "# Arrange string characters such that lowercase letters should come first\n",
    "str1 = input(\"Enter the string : \")\n",
    "# yaivePNT -->output\n",
    "lower=[]\n",
    "upper=[]\n",
    "for i in str1:\n",
    "    if i.islower():\n",
    "        lower.append(i)\n",
    "    else:\n",
    "        upper.append(i)\n",
    "str2=''.join(lower+upper)\n",
    "print(\"result :\",str2)"
   ]
  },
  {
   "cell_type": "code",
   "execution_count": 31,
   "id": "cf9814b2-d2f7-4a9a-a0ca-e19f7179bd2f",
   "metadata": {},
   "outputs": [
    {
     "name": "stdout",
     "output_type": "stream",
     "text": [
      "Chars :  8\n",
      "Digits :  3\n",
      "Symbol :  4\n"
     ]
    }
   ],
   "source": [
    "# Count all letters, digits, and special symbols from a given string\n",
    "str1 = \"P@#yn26at^&i5ve\"\n",
    "# Total counts of chars, digits, and symbols \n",
    "# Chars = 8 \n",
    "# Digits = 3 \n",
    "# Symbol = 4\n",
    "char_count=0\n",
    "digit_count=0\n",
    "symbol_count=0\n",
    "for i in str1:\n",
    "    if i.isalpha():\n",
    "        char_count+=1\n",
    "    elif i.isdigit():\n",
    "        digit_count+=1\n",
    "    else:\n",
    "        symbol_count+=1\n",
    "print(\"Chars : \",char_count)\n",
    "print(\"Digits : \",digit_count)\n",
    "print(\"Symbol : \",symbol_count)"
   ]
  },
  {
   "cell_type": "code",
   "execution_count": 33,
   "id": "a9735c6b-1d05-4424-9a0f-cfd4911b8a95",
   "metadata": {},
   "outputs": [
    {
     "name": "stdout",
     "output_type": "stream",
     "text": [
      "AzbycX\n"
     ]
    }
   ],
   "source": [
    "# Create a mixed String using the following rules\n",
    "s1 = \"Abc\"\n",
    "s2 = \"Xyz\"\n",
    "# AzbycX -->output\n",
    "s1_length=len(s1)\n",
    "s2_length=len(s2)\n",
    "\n",
    "length=s1_length if s1_length>s2_length else s2_length\n",
    "result=\"\"\n",
    "\n",
    "s2=s2[::-1]\n",
    "\n",
    "for i in range(length):\n",
    "    if i<s1_length:\n",
    "        result=result+s1[i]\n",
    "    if i<s2_length:\n",
    "        result=result+s2[i]\n",
    "print(result)"
   ]
  },
  {
   "cell_type": "code",
   "execution_count": 37,
   "id": "8ed5a1e8-980b-4d44-8682-2a011f887b66",
   "metadata": {},
   "outputs": [
    {
     "name": "stdin",
     "output_type": "stream",
     "text": [
      "Enter the s1 string :  ynf\n",
      "Enter the s2 string :  pynative\n"
     ]
    },
    {
     "name": "stdout",
     "output_type": "stream",
     "text": [
      "False\n"
     ]
    }
   ],
   "source": [
    "# String characters balance Test\n",
    "s1 = input(\"Enter the s1 string : \")\n",
    "s2 = input(\"Enter the s2 string : \")\n",
    "# True -->output\n",
    "def fun(s1,s2):\n",
    "    flag=True\n",
    "    for i in s1:\n",
    "        if i in s2:\n",
    "            continue\n",
    "        else:\n",
    "            flag=False\n",
    "    return flag\n",
    "print(fun(s1,s2))"
   ]
  },
  {
   "cell_type": "code",
   "execution_count": 43,
   "id": "11d9011b-bb34-4ac7-ad6b-e79b9ba13a63",
   "metadata": {},
   "outputs": [
    {
     "name": "stdin",
     "output_type": "stream",
     "text": [
      "Enter the string :  hey there i am GOOD GIRL HEY hOW THERE\n",
      "Enter the sub string :  hey\n"
     ]
    },
    {
     "name": "stdout",
     "output_type": "stream",
     "text": [
      "The count of hey is : 2\n"
     ]
    }
   ],
   "source": [
    " # Find all occurrences of a substring in a given string by ignoring the case\n",
    "str1 = input(\"Enter the string : \")\n",
    "sub_string=input(\"Enter the sub string : \")\n",
    "temp_str1=str1.lower()\n",
    "\n",
    "count=temp_str1.count(sub_string.lower())\n",
    "print(f\"The count of {sub_string} is : {count}\")"
   ]
  },
  {
   "cell_type": "code",
   "execution_count": 45,
   "id": "add7e00b-e6d2-445f-abeb-37436d1c3f09",
   "metadata": {},
   "outputs": [
    {
     "name": "stdout",
     "output_type": "stream",
     "text": [
      "Sum is 38 and Average of numbers is 6.333333333333333\n"
     ]
    }
   ],
   "source": [
    "# Calculate the sum and average of the digits present in a string\n",
    "str1 = \"PYnative29@#8496\"\n",
    "# Sum is: 38 Average is  6.333333333333333 -->output\n",
    "total=0\n",
    "count=0\n",
    "for i in str1:\n",
    "    if i.isdigit():\n",
    "        total+=int(i)\n",
    "        count+=1\n",
    "avg=total/count\n",
    "print(f\"Sum is {total} and Average of numbers is {avg}\")"
   ]
  },
  {
   "cell_type": "code",
   "execution_count": 47,
   "id": "ff79cf4d-8fa6-4050-9de3-2a998ff9ca38",
   "metadata": {},
   "outputs": [
    {
     "name": "stdout",
     "output_type": "stream",
     "text": [
      "result :  {'A': 1, 'p': 2, 'l': 1, 'e': 1}\n"
     ]
    }
   ],
   "source": [
    "# Write a program to count occurrences of all characters within a string\n",
    "str1 = \"Apple\"\n",
    "# {'A': 1, 'p': 2, 'l': 1, 'e': 1} -->output\n",
    "char_dict=dict()\n",
    "for i in str1:\n",
    "    count=str1.count(i)\n",
    "    char_dict[i]=count\n",
    "print(\"result : \",char_dict)"
   ]
  },
  {
   "cell_type": "code",
   "execution_count": 49,
   "id": "1cfec7ac-b294-4739-bd2e-a2552129e060",
   "metadata": {},
   "outputs": [
    {
     "name": "stdout",
     "output_type": "stream",
     "text": [
      "reverse string :  evitanYP\n"
     ]
    }
   ],
   "source": [
    "# Reverse a given string\n",
    "str1 = \"PYnative\"\n",
    "# evitanYP\n",
    "str1=str1[::-1]\n",
    "print(\"reverse string : \",str1) "
   ]
  },
  {
   "cell_type": "code",
   "execution_count": 51,
   "id": "e3a22050-d372-4e56-8bc6-5065765944a9",
   "metadata": {},
   "outputs": [
    {
     "name": "stdout",
     "output_type": "stream",
     "text": [
      "Last occurence of Emma is starts at index :  43\n"
     ]
    }
   ],
   "source": [
    " # Find the last position of a given substring\n",
    "str1 = \"Emma is a data scientist who knows Python. Emma works at google.\"\n",
    "# Last occurrence of Emma starts at index 43 -->output\n",
    "index=str1.rfind(\"Emma\")\n",
    "print(\"Last occurence of Emma is starts at index : \",index)"
   ]
  },
  {
   "cell_type": "code",
   "execution_count": 55,
   "id": "b83ea29b-5888-4d5b-8e4e-206e45c5cbb9",
   "metadata": {},
   "outputs": [
    {
     "name": "stdout",
     "output_type": "stream",
     "text": [
      "Displaying each substring\n",
      "Emma\n",
      "is\n",
      "a\n",
      "data\n",
      "scientist\n"
     ]
    }
   ],
   "source": [
    "# Split a string on hyphens\n",
    "str1 = \"Emma-is-a-data-scientist\"\n",
    "# Displaying each substring\n",
    "# Emma\n",
    "# is\n",
    "# a\n",
    "# data\n",
    "# scientist -->output\n",
    "sub_strings=str1.split(\"-\")\n",
    "print(\"Displaying each substring\")\n",
    "for i in sub_strings:\n",
    "    print(i)"
   ]
  },
  {
   "cell_type": "code",
   "execution_count": 59,
   "id": "cee2dc5c-9b8e-4d93-a6d4-f233ed20445c",
   "metadata": {},
   "outputs": [
    {
     "name": "stdout",
     "output_type": "stream",
     "text": [
      "['Emma', 'Jon', 'Kelly', 'Eric']\n"
     ]
    }
   ],
   "source": [
    "# Remove empty strings from a list of strings\n",
    "str_list = [\"Emma\", \"Jon\", \"\", \"Kelly\", None, \"Eric\", \"\"]\n",
    "new_str1=list(filter(None,str_list))\n",
    "print(new_str1)"
   ]
  },
  {
   "cell_type": "code",
   "execution_count": 67,
   "id": "3fd227c8-d98b-4383-bdd4-ee01bdcd50e8",
   "metadata": {},
   "outputs": [
    {
     "name": "stdout",
     "output_type": "stream",
     "text": [
      "Jon is developer  musician\n"
     ]
    }
   ],
   "source": [
    "# Remove special symbols / punctuation from a string\n",
    "str1 = \"/*Jon is @developer & musician\"\n",
    "# \"Jon is developer musician\" -->output\n",
    "import string\n",
    "new_str1=str1.translate(str.maketrans('','',string.punctuation))\n",
    "print(new_str1)"
   ]
  },
  {
   "cell_type": "code",
   "execution_count": 71,
   "id": "ab8e7314-5057-42a6-8073-56cd60657ba7",
   "metadata": {},
   "outputs": [
    {
     "name": "stdout",
     "output_type": "stream",
     "text": [
      "2510\n"
     ]
    }
   ],
   "source": [
    "# Removal all characters from a string except integers\n",
    "str1 = 'I am 25 years and 10 months old'\n",
    "# 2510 -->output\n",
    "res=\"\".join([i for i in str1 if i.isdigit()])\n",
    "print(res)"
   ]
  },
  {
   "cell_type": "code",
   "execution_count": 73,
   "id": "99ea67a8-3ef4-41df-bda2-e66ebe0a59a7",
   "metadata": {},
   "outputs": [
    {
     "name": "stdout",
     "output_type": "stream",
     "text": [
      "Emma25\n",
      "scientist50\n"
     ]
    }
   ],
   "source": [
    "# Find words with both alphabets and numbers\n",
    "str1 = \"Emma25 is Data scientist50 and AI Expert\"\n",
    "# Emma25\n",
    "# scientist50\n",
    "res=[]\n",
    "temp=str1.split()\n",
    "for i in temp:\n",
    "    if any(char.isalpha() for char in i) and any(char.isdigit() for char in i):\n",
    "        res.append(i)\n",
    "for i in res:\n",
    "    print(i)"
   ]
  },
  {
   "cell_type": "code",
   "execution_count": 75,
   "id": "fd1d560b-86a7-467c-ae4d-997ac18a2384",
   "metadata": {},
   "outputs": [
    {
     "name": "stdout",
     "output_type": "stream",
     "text": [
      "##Jon is #developer # musician##\n"
     ]
    }
   ],
   "source": [
    "# Replace each special symbol with # in the following string\n",
    "str1 = '/*Jon is @developer & musician!!'\n",
    "##Jon is #developer # musician## -->output\n",
    "replace_char='#'\n",
    "for char in string.punctuation:\n",
    "    str1=str1.replace(char,replace_char)\n",
    "print(str1)"
   ]
  },
  {
   "cell_type": "markdown",
   "id": "52572b32-46ab-4bb6-97fc-8416abc67e56",
   "metadata": {},
   "source": [
    "Object-Oriented Programming(OOP) Exercise: Classes and objects Exercisse"
   ]
  },
  {
   "cell_type": "code",
   "execution_count": 77,
   "id": "913a4692-7ec6-4d5a-a7a7-e5eae5ab363c",
   "metadata": {},
   "outputs": [
    {
     "name": "stdout",
     "output_type": "stream",
     "text": [
      "240 18\n"
     ]
    }
   ],
   "source": [
    "# Create a Class with instance attributes\n",
    "class Vehicle:\n",
    "    def __init__(self,max_speed,mileage):\n",
    "        self.max_speed=max_speed\n",
    "        self.mileage=mileage\n",
    "model=Vehicle(240,18)\n",
    "print(model.max_speed,model.mileage)"
   ]
  },
  {
   "cell_type": "code",
   "execution_count": 81,
   "id": "3304c346-b6fa-4a33-96a9-50c85eebfe23",
   "metadata": {},
   "outputs": [],
   "source": [
    " # Create a Vehicle class without any variables and methods\n",
    "class Vehicle:\n",
    "    pass\n"
   ]
  },
  {
   "cell_type": "code",
   "execution_count": 83,
   "id": "5b0076ca-cd30-456b-af88-b59247be820e",
   "metadata": {},
   "outputs": [
    {
     "name": "stdout",
     "output_type": "stream",
     "text": [
      "volvo 100 40\n"
     ]
    }
   ],
   "source": [
    "# Create a child class Bus that will inherit all of the variables and methods of the Vehicle class\n",
    "class Vehicle:\n",
    "    def __init__(self,name,max_speed,mileage):\n",
    "        self.name=name\n",
    "        self.max_speed=max_speed\n",
    "        self.mileage=mileage\n",
    "class Bus(Vehicle):\n",
    "    pass\n",
    "school_bus=Bus(\"volvo\",100,40)\n",
    "print(school_bus.name,school_bus.max_speed,school_bus.mileage)"
   ]
  },
  {
   "cell_type": "code",
   "execution_count": 95,
   "id": "f1b3f47b-f390-4af2-849d-830844e801f0",
   "metadata": {},
   "outputs": [
    {
     "name": "stdout",
     "output_type": "stream",
     "text": [
      "The seating capacity of a volvo is 50 passengers\n",
      "volvo\n"
     ]
    }
   ],
   "source": [
    "# Class Inheritance\n",
    "class Vehicle:\n",
    "    def __init__(self, name, max_speed, mileage):\n",
    "        self.name = name\n",
    "        self.max_speed = max_speed\n",
    "        self.mileage = mileage\n",
    "        \n",
    "    def seating_capacity(self, capacity):\n",
    "        return f\"The seating capacity of a {self.name} is {capacity} passengers\"\n",
    "class Bus(Vehicle):\n",
    "    def seating_capacity(self,capacity=50):\n",
    "        return super().seating_capacity(capacity=50)\n",
    "school_bus=Bus(\"volvo\",100,40)\n",
    "print(school_bus.seating_capacity())\n",
    "print(school_bus.name)"
   ]
  },
  {
   "cell_type": "code",
   "execution_count": 97,
   "id": "87e29960-5f6d-4935-96bd-d9910640bcb5",
   "metadata": {},
   "outputs": [
    {
     "name": "stdout",
     "output_type": "stream",
     "text": [
      "white School Volvo Speed: 180 Mileage: 12\n",
      "white Audi Q5 Speed: 240 Mileage: 18\n"
     ]
    }
   ],
   "source": [
    "# Define a property that must have the same value for every class instance (object)\n",
    "class Vehicle:\n",
    "    color=\"white\"\n",
    "    def __init__(self, name, max_speed, mileage):\n",
    "        self.name = name\n",
    "        self.max_speed = max_speed\n",
    "        self.mileage = mileage\n",
    "\n",
    "class Bus(Vehicle):\n",
    "    pass\n",
    "\n",
    "class Car(Vehicle):\n",
    "    pass\n",
    "\n",
    "School_bus = Bus(\"School Volvo\", 180, 12)\n",
    "print(School_bus.color, School_bus.name, \"Speed:\", School_bus.max_speed, \"Mileage:\", School_bus.mileage)\n",
    "\n",
    "car = Car(\"Audi Q5\", 240, 18)\n",
    "print(car.color, car.name, \"Speed:\", car.max_speed, \"Mileage:\", car.mileage)"
   ]
  },
  {
   "cell_type": "code",
   "execution_count": 99,
   "id": "bfac15ec-ab6e-4e5e-ac63-3ffc24905d9d",
   "metadata": {},
   "outputs": [
    {
     "name": "stdout",
     "output_type": "stream",
     "text": [
      "Total Bus fare is: 5500.0\n"
     ]
    }
   ],
   "source": [
    "# Class Inheritance\n",
    "# Given:\n",
    "\n",
    "# Create a Bus child class that inherits from the Vehicle class. The default fare charge of any vehicle is seating capacity * 100. If Vehicle is Bus instance, we need to add an extra 10% on full fare as a maintenance charge. So total fare for bus instance will become the final amount = total fare + 10% of the total fare.\n",
    "\n",
    "# Note: The bus seating capacity is 50. so the final fare amount should be 5500. You need to override the fare() method of a Vehicle class in Bus class.\n",
    "\n",
    "# Use the following code for your parent Vehicle class. We need to access the parent class from inside a method of a child class.\n",
    "\n",
    "class Vehicle:\n",
    "    def __init__(self, name, mileage, capacity):\n",
    "        self.name = name\n",
    "        self.mileage = mileage\n",
    "        self.capacity = capacity\n",
    "\n",
    "    def fare(self):\n",
    "        return self.capacity * 100\n",
    "\n",
    "class Bus(Vehicle):\n",
    "    def fare(self):\n",
    "        amount=super().fare()\n",
    "        amount+=amount*10/100\n",
    "        return amount\n",
    "\n",
    "School_bus = Bus(\"School Volvo\", 12, 50)\n",
    "print(\"Total Bus fare is:\", School_bus.fare())"
   ]
  },
  {
   "cell_type": "code",
   "execution_count": 101,
   "id": "5cb7f918-317a-400a-936e-11d9f6a05f58",
   "metadata": {},
   "outputs": [
    {
     "name": "stdout",
     "output_type": "stream",
     "text": [
      "<class '__main__.Bus'>\n"
     ]
    }
   ],
   "source": [
    "# Check type of an object\n",
    "class Vehicle:\n",
    "    def __init__(self, name, mileage, capacity):\n",
    "        self.name = name\n",
    "        self.mileage = mileage\n",
    "        self.capacity = capacity\n",
    "\n",
    "class Bus(Vehicle):\n",
    "    pass\n",
    "\n",
    "School_bus = Bus(\"School Volvo\", 12, 50)\n",
    "print(type(school_bus))"
   ]
  },
  {
   "cell_type": "code",
   "execution_count": 105,
   "id": "74103a3f-c893-4176-bd2f-4b4435acffef",
   "metadata": {},
   "outputs": [
    {
     "name": "stdout",
     "output_type": "stream",
     "text": [
      "True\n"
     ]
    }
   ],
   "source": [
    "# Determine if School_bus is also an instance of the Vehicle class\n",
    "class Vehicle:\n",
    "    def __init__(self, name, mileage, capacity):\n",
    "        self.name = name\n",
    "        self.mileage = mileage\n",
    "        self.capacity = capacity\n",
    "\n",
    "class Bus(Vehicle):\n",
    "    pass\n",
    "\n",
    "School_bus = Bus(\"School Volvo\", 12, 50)\n",
    "\n",
    "print(isinstance(School_bus,Vehicle))"
   ]
  },
  {
   "cell_type": "code",
   "execution_count": null,
   "id": "ff82b452-debc-402c-8d67-85a357e9315a",
   "metadata": {},
   "outputs": [],
   "source": []
  }
 ],
 "metadata": {
  "kernelspec": {
   "display_name": "Python 3 (ipykernel)",
   "language": "python",
   "name": "python3"
  },
  "language_info": {
   "codemirror_mode": {
    "name": "ipython",
    "version": 3
   },
   "file_extension": ".py",
   "mimetype": "text/x-python",
   "name": "python",
   "nbconvert_exporter": "python",
   "pygments_lexer": "ipython3",
   "version": "3.12.4"
  }
 },
 "nbformat": 4,
 "nbformat_minor": 5
}
