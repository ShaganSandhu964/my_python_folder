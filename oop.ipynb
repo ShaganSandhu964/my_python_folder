{
 "cells": [
  {
   "cell_type": "code",
   "execution_count": 1,
   "id": "3b1ecf85-9681-41e8-9dc7-4da3272aab62",
   "metadata": {},
   "outputs": [
    {
     "name": "stdout",
     "output_type": "stream",
     "text": [
      "shagan is a student\n",
      "simmo is a student\n",
      "harry is a software developer\n"
     ]
    }
   ],
   "source": [
    "#Introduction to oop\n",
    "class person:\n",
    "    name=\"harry\"\n",
    "    occupation=\"software developer\"\n",
    "    networth=\"10000\"\n",
    "    def info(self):\n",
    "        print(f\"{self.name} is a {self.occupation}\")\n",
    "a=person() \n",
    "a.name=\"shagan\"\n",
    "a.occupation=\"student\"\n",
    "a.info()\n",
    "b=person()\n",
    "b.name=\"simmo\"\n",
    "b.occupation=\"student\"\n",
    "c=person()\n",
    "\n",
    "b.info()\n",
    "c.info()"
   ]
  },
  {
   "cell_type": "code",
   "execution_count": null,
   "id": "45d41596-e020-4b50-a350-5f067d5287a3",
   "metadata": {},
   "outputs": [],
   "source": [
    "#Constructor\n",
    "#There are Two Types of constructor\n",
    "#1. Parameterized constructor\n",
    "#2. Default constructor"
   ]
  },
  {
   "cell_type": "code",
   "execution_count": 11,
   "id": "179cf14f-a570-46fc-a61a-255ef158974e",
   "metadata": {},
   "outputs": [
    {
     "name": "stdout",
     "output_type": "stream",
     "text": [
      "Hey, My name is shagan\n"
     ]
    }
   ],
   "source": [
    "#Default Constructor\n",
    "class person:\n",
    "    def __init__(self):\n",
    "        print(\"Hey, My name is shagan\")\n",
    "    # def info():\n",
    "    #     print(f\"{self.name} is {self.occ}\")\n",
    "a=person()"
   ]
  },
  {
   "cell_type": "code",
   "execution_count": 15,
   "id": "efc597ec-48d5-4941-a50d-745921b0b718",
   "metadata": {},
   "outputs": [
    {
     "name": "stdout",
     "output_type": "stream",
     "text": [
      "shagan is student\n",
      "Divya is HR\n"
     ]
    }
   ],
   "source": [
    "# Parameterized constructor\n",
    "class Person:\n",
    "    def __init__(self,n,o):\n",
    "        # print(\"Hey,My name is shagan\")\n",
    "        self.name=n\n",
    "        self.occ=o\n",
    "    def info(self):\n",
    "        print(f\"{self.name} is {self.occ}\")\n",
    "a=Person(\"shagan\",\"student\")\n",
    "a.info()\n",
    "b=Person(\"Divya\",\"HR\")\n",
    "b.info()"
   ]
  },
  {
   "cell_type": "code",
   "execution_count": null,
   "id": "44055568-489a-46eb-8140-9a4a7b2483ae",
   "metadata": {},
   "outputs": [],
   "source": [
    "#Decorators"
   ]
  },
  {
   "cell_type": "code",
   "execution_count": 23,
   "id": "0e7e6bd6-a1a5-4d8f-a308-4b1ab9a20115",
   "metadata": {},
   "outputs": [
    {
     "name": "stdout",
     "output_type": "stream",
     "text": [
      "Good Morning\n",
      "Hello World\n",
      "Thank You For using this function\n"
     ]
    }
   ],
   "source": [
    "#Simple code\n",
    "def greet(hello):\n",
    "    def mfx():\n",
    "        print(\"Good Morning\")\n",
    "        hello()\n",
    "        print(\"Thank You For using this function\")\n",
    "    return mfx\n",
    "@greet\n",
    "def hello():\n",
    "    print(\"Hello World\")\n",
    "hello()"
   ]
  },
  {
   "cell_type": "code",
   "execution_count": 38,
   "id": "72d96a7f-3e1b-4f6e-a3a0-9471413ea062",
   "metadata": {},
   "outputs": [
    {
     "name": "stdout",
     "output_type": "stream",
     "text": [
      "Good Morning\n",
      "Hello World\n",
      "Thank for using this function\n",
      "Good Morning\n",
      "3\n",
      "Thank for using this function\n"
     ]
    }
   ],
   "source": [
    "#Passing The Arguments\n",
    "def greet(fx):\n",
    "    def mfx(*args,**kwargs):\n",
    "        print(\"Good Morning\")\n",
    "        fx(*args,**kwargs)\n",
    "        print(\"Thank for using this function\")\n",
    "    return mfx\n",
    "@greet\n",
    "def hello():\n",
    "    print(\"Hello World\")\n",
    "@greet\n",
    "def add(a,b):\n",
    "    print(a+b)\n",
    "hello()\n",
    "add(1,2)"
   ]
  },
  {
   "cell_type": "code",
   "execution_count": 27,
   "id": "951e29ef-017d-45aa-b132-7049169b42f4",
   "metadata": {},
   "outputs": [
    {
     "name": "stdout",
     "output_type": "stream",
     "text": [
      "hello\n",
      "hey everyone\n",
      "world\n",
      "hello\n",
      "6\n",
      "world\n"
     ]
    }
   ],
   "source": [
    "def greet(fx):\n",
    "    def mfx(*args):\n",
    "        print(\"hello\")\n",
    "        fx(*args)\n",
    "        print(\"world\")\n",
    "    return mfx\n",
    "@greet\n",
    "def hello():\n",
    "    print(\"hey everyone\")\n",
    "hello()\n",
    "@greet\n",
    "def add(a,b):\n",
    "    print(a+b)\n",
    "add(3,3)\n",
    "#**kwargs gives you the flexibility to call the decorated functions \n",
    "# (hello and add) with additional named arguments that your functions might potentially accept in the future."
   ]
  },
  {
   "cell_type": "code",
   "execution_count": 42,
   "id": "606e2d07-233d-496a-9929-64ad6f96dace",
   "metadata": {},
   "outputs": [
    {
     "name": "stdout",
     "output_type": "stream",
     "text": [
      "Good Morning\n",
      "Hello World\n",
      "Thanks for using this function\n",
      "Good Morning\n",
      "3\n",
      "Thanks for using this function\n"
     ]
    }
   ],
   "source": [
    "#Another way to use decorator\n",
    "def greet(fx):\n",
    "    def mfx(*args,**kwargs):\n",
    "        print(\"Good Morning\")\n",
    "        fx(*args,**kwargs)\n",
    "        print(\"Thanks for using this function\")\n",
    "    return mfx\n",
    "def hello():\n",
    "    print(\"Hello World\")\n",
    "greet(hello)()\n",
    "def add(a,b):\n",
    "    print(a+b)\n",
    "greet(add)(1,2)"
   ]
  },
  {
   "cell_type": "code",
   "execution_count": null,
   "id": "3168e9eb-87fc-44c8-a2a8-b44ff4852fb7",
   "metadata": {},
   "outputs": [],
   "source": [
    "#Getter and setter"
   ]
  },
  {
   "cell_type": "code",
   "execution_count": 68,
   "id": "0ff6a61d-d16d-4266-8082-ed8597d96eb3",
   "metadata": {},
   "outputs": [
    {
     "name": "stdout",
     "output_type": "stream",
     "text": [
      "100\n",
      "the value is 10\n"
     ]
    }
   ],
   "source": [
    "#Getter\n",
    "class MyClass:\n",
    "    def __init__(self,value):\n",
    "        self._value=value\n",
    "    @property\n",
    "    def ten_value(self):\n",
    "       return 10*self._value\n",
    "    def show(self):\n",
    "         print(f\"the value is {self._value}\")\n",
    "obj=MyClass(10)\n",
    "print(obj.ten_value)\n",
    "obj.show()"
   ]
  },
  {
   "cell_type": "code",
   "execution_count": 70,
   "id": "cc5dd46b-f1bd-40f9-a9ca-05529ed84043",
   "metadata": {},
   "outputs": [
    {
     "name": "stdout",
     "output_type": "stream",
     "text": [
      "67.0\n",
      "the value is 6.7\n"
     ]
    }
   ],
   "source": [
    "#setter\n",
    "class MyClass:\n",
    "    def __init__(self,value):\n",
    "        self._value=value\n",
    "    @property\n",
    "    def ten_value(self):\n",
    "        return 10*self._value\n",
    "    @ten_value.setter\n",
    "    def ten_value(self,nvalue):\n",
    "        self._value=nvalue/10\n",
    "        return 10*self._value\n",
    "    def show(self):\n",
    "        print(f\"the value is {self._value}\")\n",
    "obj=MyClass(10)\n",
    "obj.ten_value=67\n",
    "print(obj.ten_value)\n",
    "obj.show()"
   ]
  },
  {
   "cell_type": "code",
   "execution_count": 74,
   "id": "8323b0ec-6548-45e2-9aa3-2d93f029920f",
   "metadata": {},
   "outputs": [
    {
     "name": "stdout",
     "output_type": "stream",
     "text": [
      "89.0\n",
      "the value is 8.9\n"
     ]
    }
   ],
   "source": [
    "class MyClass:\n",
    "    def __init__(self,value):\n",
    "        self._value=value\n",
    "    @property\n",
    "    def ten_value(self):\n",
    "        return 10*self._value\n",
    "    @ten_value.setter\n",
    "    def ten_value(self,nvalue):\n",
    "        self._value=nvalue/10\n",
    "        return 10*self._value\n",
    "    def show(self):\n",
    "        print(f\"the value is {self._value}\")\n",
    "obj=MyClass(10)\n",
    "obj.ten_value=89\n",
    "print(obj.ten_value)\n",
    "obj.show()"
   ]
  },
  {
   "cell_type": "code",
   "execution_count": null,
   "id": "0fd83079-8a03-40d6-937d-76db2d4e8260",
   "metadata": {},
   "outputs": [],
   "source": [
    "#Inheritance"
   ]
  },
  {
   "cell_type": "code",
   "execution_count": 82,
   "id": "85e2fe10-5df3-4e5b-aa93-5541c34b55a7",
   "metadata": {},
   "outputs": [
    {
     "name": "stdout",
     "output_type": "stream",
     "text": [
      "The Employee Name is shagan and Id is 12\n",
      "The Employee Name is sagar and Id is 11\n",
      "python\n"
     ]
    }
   ],
   "source": [
    "class Employee:\n",
    "    def __init__(self,name,id):\n",
    "        self.name=name\n",
    "        self.id=id\n",
    "    def show(self):\n",
    "        print(f\"The Employee Name is {self.name} and Id is {self.id}\")\n",
    "class programmer(Employee):\n",
    "    def showdetails(self):\n",
    "        print(\"python\")\n",
    "e1=Employee(\"shagan\",12)\n",
    "e1.show()\n",
    "e2=programmer(\"sagar\",11)\n",
    "e2.show()\n",
    "e2.showdetails()\n",
    "        "
   ]
  },
  {
   "cell_type": "code",
   "execution_count": null,
   "id": "0e992267-fa28-4dc2-98a2-700f6465d405",
   "metadata": {},
   "outputs": [],
   "source": [
    " #Access Modifiers in Python"
   ]
  },
  {
   "cell_type": "code",
   "execution_count": 86,
   "id": "fd030a68-aff6-4c84-8a4c-91c4b4993c7e",
   "metadata": {},
   "outputs": [
    {
     "name": "stdout",
     "output_type": "stream",
     "text": [
      "The name of employee is shagan and id is 123\n"
     ]
    }
   ],
   "source": [
    "#Public access Modifier\n",
    "#Pr actual me yeh modifiers hote nhi ha python me by convention assa hota ha \n",
    "class person:\n",
    "    def __init__(self,name,id):\n",
    "        self.name=name\n",
    "        self.id=id\n",
    "    def show(self):\n",
    "        print(f\"The name of employee is {self.name} and id is {self.id}\")\n",
    "a=person(\"shagan\",123)\n",
    "a.show()"
   ]
  },
  {
   "cell_type": "code",
   "execution_count": 98,
   "id": "69d69b4c-4c23-4fa0-a5d6-624fd68ef0ec",
   "metadata": {},
   "outputs": [
    {
     "name": "stdout",
     "output_type": "stream",
     "text": [
      "shagan\n"
     ]
    }
   ],
   "source": [
    "#Private access Modifier\n",
    "# In python we can make an specific name,id to private so that no one access that personal details\n",
    "class person:\n",
    "    def __init__(self,name,id):\n",
    "        self.__name=name\n",
    "        self.id=id\n",
    "    # def show(self):\n",
    "    #     print(f\"{self.id} is id of{self.name}\")\n",
    "a=person(\"shagan\",21)\n",
    "# a.show()\n",
    "print(a._person__name)"
   ]
  },
  {
   "cell_type": "code",
   "execution_count": 100,
   "id": "0a47c27a-37f0-47bb-a589-34c9448ae306",
   "metadata": {},
   "outputs": [
    {
     "name": "stdout",
     "output_type": "stream",
     "text": [
      "Harry\n",
      "CodeWithHarry\n",
      "Harry\n",
      "CodeWithHarry\n"
     ]
    }
   ],
   "source": [
    "#Protected\n",
    "class Student:\n",
    "    def __init__(self):\n",
    "        self._name = \"Harry\"\n",
    "\n",
    "    def _funName(self):      # protected method\n",
    "        return \"CodeWithHarry\"\n",
    "\n",
    "class Subject(Student):       #inherited class\n",
    "    pass\n",
    "\n",
    "obj = Student()\n",
    "obj1 = Subject()\n",
    "\n",
    "# calling by object of Student class\n",
    "print(obj._name)      \n",
    "print(obj._funName())     \n",
    "# calling by object of Subject class\n",
    "print(obj1._name)    \n",
    "print(obj1._funName())"
   ]
  },
  {
   "cell_type": "code",
   "execution_count": null,
   "id": "cf9642e1-9d4c-46b9-a74b-6c63ee668022",
   "metadata": {},
   "outputs": [],
   "source": [
    "#Static method\n",
    "#kya koi bhi method jb bnate ha toh hme self keyword hmesha lgna padt ha kya?\n",
    "#nhi hum self ke jagah @staticmethod ka use kr skte ha "
   ]
  },
  {
   "cell_type": "code",
   "execution_count": 115,
   "id": "4d2b9362-9da5-4f62-ac98-560179fc2cd2",
   "metadata": {},
   "outputs": [
    {
     "name": "stdout",
     "output_type": "stream",
     "text": [
      "3\n"
     ]
    }
   ],
   "source": [
    "class person:\n",
    "    def __init__(self,num):\n",
    "        self.num=num\n",
    "    @staticmethod\n",
    "    def add(a,b):\n",
    "        return a+b\n",
    "result=person.add(1,2)\n",
    "print(result)"
   ]
  },
  {
   "cell_type": "code",
   "execution_count": 117,
   "id": "e5415726-79fd-419b-8ab1-881054cf3e48",
   "metadata": {},
   "outputs": [
    {
     "name": "stdout",
     "output_type": "stream",
     "text": [
      "the name is shagan and company is apple\n",
      "the name is shagan and company is Tesla\n",
      "Tesla\n"
     ]
    }
   ],
   "source": [
    "#class Method\n",
    "class person:\n",
    "    company=\"apple\"\n",
    "    def show(self):\n",
    "        print(f\"the name is {self.name} and company is {self.company}\")\n",
    "    @classmethod\n",
    "    def changecompany(cls,ncompany):\n",
    "        cls.company=ncompany\n",
    "e1=person()\n",
    "e1.name=\"shagan\"\n",
    "e1.show()\n",
    "e1.changecompany(\"Tesla\")\n",
    "e1.show()\n",
    "print(person.company)"
   ]
  },
  {
   "cell_type": "markdown",
   "id": "49e7dab7-e27b-4194-b7fc-231058b5befc",
   "metadata": {},
   "source": [
    "# Modeling a Bank Account"
   ]
  },
  {
   "cell_type": "raw",
   "id": "ccc319e6-eb21-495a-9fd4-b5a7567297ba",
   "metadata": {},
   "source": [
    "#In this we learn about class is blueprint of objects. Attribute,methods.\n",
    "#In the below example we made instance attributes and instance methods"
   ]
  },
  {
   "cell_type": "code",
   "execution_count": 12,
   "id": "71518ae7-986f-4d33-a63d-251a2be2f19f",
   "metadata": {},
   "outputs": [
    {
     "name": "stdout",
     "output_type": "stream",
     "text": [
      "5000\n"
     ]
    }
   ],
   "source": [
    "#define a class for bank account\n",
    "class BankAccount:\n",
    "    def __init__(self,owner,balance):\n",
    "        self.owner=owner\n",
    "        self.balance=balance\n",
    "    def deposit(self,amount):\n",
    "        self.balance+=amount\n",
    "        print(f\"{amount} is deposited. New balance is {self.balance}\")\n",
    "    def withdraw(self,amount):\n",
    "        if amount>self.balance:\n",
    "            print(\"Insufficient funds!\")\n",
    "        else:\n",
    "            self.balance-=amount\n",
    "            print(f\"{amount} is withdraw.New balance is {self.balance}\")\n",
    "    def total_balance(self):\n",
    "        print(f\"The Total balance is {self.balance}\")\n",
    "account=BankAccount('shagan',5000)\n",
    "print(account.balance)"
   ]
  },
  {
   "cell_type": "code",
   "execution_count": 14,
   "id": "d25dc80b-bfb3-44f0-ba67-78de94f1a0d5",
   "metadata": {},
   "outputs": [
    {
     "name": "stdout",
     "output_type": "stream",
     "text": [
      "500 is deposited. New balance is 5500\n"
     ]
    }
   ],
   "source": [
    "account.deposit(500)"
   ]
  },
  {
   "cell_type": "code",
   "execution_count": 16,
   "id": "ddb2fe0d-579f-4c2f-a61c-41b62df36ad8",
   "metadata": {},
   "outputs": [
    {
     "name": "stdout",
     "output_type": "stream",
     "text": [
      "900 is withdraw.New balance is 4600\n"
     ]
    }
   ],
   "source": [
    "account.withdraw(900)"
   ]
  },
  {
   "cell_type": "code",
   "execution_count": 18,
   "id": "371742ba-1528-4253-9e81-d862a2969784",
   "metadata": {},
   "outputs": [
    {
     "name": "stdout",
     "output_type": "stream",
     "text": [
      "The Total balance is 4600\n"
     ]
    }
   ],
   "source": [
    "account.total_balance()"
   ]
  },
  {
   "cell_type": "code",
   "execution_count": 20,
   "id": "5208c20a-ab09-4a69-92fb-40362d6bec2a",
   "metadata": {},
   "outputs": [
    {
     "name": "stdout",
     "output_type": "stream",
     "text": [
      "Insufficient funds!\n"
     ]
    }
   ],
   "source": [
    "account.withdraw(4650)"
   ]
  },
  {
   "cell_type": "code",
   "execution_count": 22,
   "id": "4493768f-8cf4-4a28-a384-7f68af00b4a1",
   "metadata": {},
   "outputs": [
    {
     "name": "stdout",
     "output_type": "stream",
     "text": [
      "The Total balance is 4600\n"
     ]
    }
   ],
   "source": [
    "account.total_balance()"
   ]
  },
  {
   "cell_type": "markdown",
   "id": "55fa1d2d-d664-48da-bb63-a84fa6895480",
   "metadata": {},
   "source": [
    "# Inheritance In Python"
   ]
  },
  {
   "cell_type": "code",
   "execution_count": 25,
   "id": "fad9a4c1-ba17-461f-a48a-9bed0ceb3c62",
   "metadata": {},
   "outputs": [],
   "source": [
    "#inheritance is a fundamental concept in object oriented programming(oop)that allows a class to inherit attributes \n",
    "#and methods fronm another class"
   ]
  },
  {
   "cell_type": "code",
   "execution_count": 51,
   "id": "8c391265-6b53-4b2c-8d0a-8dc343946e56",
   "metadata": {},
   "outputs": [],
   "source": [
    "#Single inheritance"
   ]
  },
  {
   "cell_type": "code",
   "execution_count": 43,
   "id": "0e56df72-12b4-4a2a-a0d5-fa9b18086cbc",
   "metadata": {},
   "outputs": [
    {
     "name": "stdout",
     "output_type": "stream",
     "text": [
      "The doors of car is 4.\n",
      "The person will drive the petrol car.\n",
      "None\n"
     ]
    }
   ],
   "source": [
    "class Car():\n",
    "    def __init__(self,windows,doors,enginetype):\n",
    "        self.windows=windows\n",
    "        self.doors=doors\n",
    "        self.enginetype=enginetype\n",
    "    def drive(self):\n",
    "        print(f\"The person will drive the {self.enginetype} car.\")\n",
    "car1=Car(4,4,'petrol')\n",
    "print(f\"The doors of car is {car1.doors}.\")\n",
    "print(car1.drive())"
   ]
  },
  {
   "cell_type": "code",
   "execution_count": 45,
   "id": "3674d998-049d-4aea-b0e0-832a6d5716e6",
   "metadata": {},
   "outputs": [],
   "source": [
    "class Tesla(Car):\n",
    "    def __init__(self,windows,doors,enginetype,is_selfdriving):\n",
    "        super().__init__(windows,doors,enginetype)\n",
    "        self.is_selfdriving=is_selfdriving\n",
    "    def selfdrive(self):\n",
    "        print(f\"Tesla support self driving is {self.is_selfdriving}\")"
   ]
  },
  {
   "cell_type": "code",
   "execution_count": 47,
   "id": "2b60642e-5ea1-4743-bd06-8b6d328a6722",
   "metadata": {},
   "outputs": [
    {
     "name": "stdout",
     "output_type": "stream",
     "text": [
      "Tesla support self driving is True\n"
     ]
    }
   ],
   "source": [
    "tesla1=Tesla(2,2,'eletric',True)\n",
    "tesla1.selfdrive()"
   ]
  },
  {
   "cell_type": "code",
   "execution_count": 49,
   "id": "5ba8b9ae-9acf-45cf-b203-122cd60c0f51",
   "metadata": {},
   "outputs": [
    {
     "name": "stdout",
     "output_type": "stream",
     "text": [
      "The person will drive the eletric car.\n"
     ]
    }
   ],
   "source": [
    "tesla1.drive()"
   ]
  },
  {
   "cell_type": "code",
   "execution_count": 53,
   "id": "011ccc6c-1e28-4f14-8135-f78dcc5f7ca5",
   "metadata": {},
   "outputs": [],
   "source": [
    "# multiple inheritance"
   ]
  },
  {
   "cell_type": "code",
   "execution_count": 61,
   "id": "5b65a671-2943-47bc-babb-b9fad89d617b",
   "metadata": {},
   "outputs": [
    {
     "name": "stdout",
     "output_type": "stream",
     "text": [
      "golden retriver says woof\n",
      "shagan is the owner of golden retriver.\n"
     ]
    }
   ],
   "source": [
    "# when a class inherits from more than one base class\n",
    "class Animal:\n",
    "    def __init__(self,name):\n",
    "        self.name=name\n",
    "    def speak(self):\n",
    "        print(\"subclass must be implement\")\n",
    "class Pet:\n",
    "    def __init__(self,owner):\n",
    "        self.owner=owner\n",
    "#Derived class\n",
    "class Dog(Animal,Pet):\n",
    "    def __init__(self,name,owner):\n",
    "        Animal.__init__(self,name)\n",
    "        Pet.__init__(self,owner)\n",
    "    def speak(self):\n",
    "        return f\"{self.name} says woof\"\n",
    "    def Name(self):\n",
    "        return f\"{self.owner} is the owner of {self.name}.\"\n",
    "# create a object\n",
    "dog=Dog('golden retriver','shagan')\n",
    "print(dog.speak())\n",
    "print(dog.Name())"
   ]
  },
  {
   "cell_type": "markdown",
   "id": "8bc37c88-77f8-4c2d-a379-8e70e8656d55",
   "metadata": {},
   "source": [
    "# Polymorphism"
   ]
  },
  {
   "cell_type": "code",
   "execution_count": 66,
   "id": "79d6cae5-8122-4e11-9dff-98608f2bc0cb",
   "metadata": {},
   "outputs": [],
   "source": [
    "# that allows objects of different classes to be treated as objects of a common superclass\n",
    "# it provides a way to a single action in different forms polymorphism is typically achived through method overriding and interfaces"
   ]
  },
  {
   "cell_type": "code",
   "execution_count": 70,
   "id": "11e231fd-7928-422f-bfa9-65c5b6a9d0c9",
   "metadata": {},
   "outputs": [
    {
     "name": "stdout",
     "output_type": "stream",
     "text": [
      "woof!\n",
      "Meow!\n",
      "woof!\n"
     ]
    }
   ],
   "source": [
    "#Base class\n",
    "class Animal:\n",
    "    def speak(self):\n",
    "        return \"sound of the animal\"\n",
    "#Derived class\n",
    "class Dog(Animal):\n",
    "    def speak(self):\n",
    "        return \"woof!\"\n",
    "#Derived class\n",
    "class Cat(Animal):\n",
    "    def speak(self):\n",
    "        return \"Meow!\"\n",
    "## function that demonstrate polymorphism\n",
    "def animal_speak(animal):\n",
    "    print(animal.speak())\n",
    "#create an object\n",
    "dog=Dog()\n",
    "cat=Cat()\n",
    "print(dog.speak())\n",
    "print(cat.speak())\n",
    "animal_speak(dog)  "
   ]
  },
  {
   "cell_type": "code",
   "execution_count": 74,
   "id": "b2b442b2-aed5-4f85-b87a-6ca8f7b27724",
   "metadata": {},
   "outputs": [
    {
     "name": "stdout",
     "output_type": "stream",
     "text": [
      "The area is 20\n",
      "The area is 28.259999999999998\n"
     ]
    }
   ],
   "source": [
    "class Shape:\n",
    "    def area(self):\n",
    "        return \"The area of the figure\"\n",
    "# derived class 1\n",
    "class Rectangle(Shape):\n",
    "    def __init__(self,width,height):\n",
    "        self.width=width\n",
    "        self.height=height\n",
    "    def area(self):\n",
    "        return self.width*self.height\n",
    "# derived class 2\n",
    "class Circle(Shape):\n",
    "    def __init__(self,radius):\n",
    "        self.radius=radius\n",
    "    def area(self):\n",
    "        return 3.14*self.radius*self.radius\n",
    "# function demonstrate the polymorphism\n",
    "def print_area(Shape):\n",
    "    print(f\"The area is {Shape.area()}\")\n",
    "rectangle=Rectangle(4,5)\n",
    "circle=Circle(3)\n",
    "print_area(rectangle)\n",
    "print_area(circle)"
   ]
  },
  {
   "cell_type": "code",
   "execution_count": null,
   "id": "034f07b2-b28a-4d1c-b506-475a415ec6e7",
   "metadata": {},
   "outputs": [],
   "source": []
  }
 ],
 "metadata": {
  "kernelspec": {
   "display_name": "Python 3 (ipykernel)",
   "language": "python",
   "name": "python3"
  },
  "language_info": {
   "codemirror_mode": {
    "name": "ipython",
    "version": 3
   },
   "file_extension": ".py",
   "mimetype": "text/x-python",
   "name": "python",
   "nbconvert_exporter": "python",
   "pygments_lexer": "ipython3",
   "version": "3.12.4"
  }
 },
 "nbformat": 4,
 "nbformat_minor": 5
}
