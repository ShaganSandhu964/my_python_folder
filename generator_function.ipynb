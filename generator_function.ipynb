{
 "cells": [
  {
   "cell_type": "markdown",
   "id": "7677aeb8-1382-42d5-a626-7be457661c46",
   "metadata": {},
   "source": [
    "Generators in python are soecial tupe of functions that allow to create an iterable sequence of values. A generator function returns a generator object,which can be used to generate the values one by one as you iterate over it."
   ]
  },
  {
   "cell_type": "code",
   "execution_count": null,
   "id": "86c15f1e-dc1d-4b49-a48a-309e0fde6066",
   "metadata": {},
   "outputs": [],
   "source": []
  },
  {
   "cell_type": "code",
   "execution_count": null,
   "id": "03085050-2ff5-4cc8-8c9d-6f11c30430ef",
   "metadata": {},
   "outputs": [],
   "source": []
  }
 ],
 "metadata": {
  "kernelspec": {
   "display_name": "Python 3 (ipykernel)",
   "language": "python",
   "name": "python3"
  },
  "language_info": {
   "codemirror_mode": {
    "name": "ipython",
    "version": 3
   },
   "file_extension": ".py",
   "mimetype": "text/x-python",
   "name": "python",
   "nbconvert_exporter": "python",
   "pygments_lexer": "ipython3",
   "version": "3.12.4"
  }
 },
 "nbformat": 4,
 "nbformat_minor": 5
}
