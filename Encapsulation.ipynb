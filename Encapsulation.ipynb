{
 "cells": [
  {
   "cell_type": "markdown",
   "id": "a92e50ba-9a9e-436a-967e-bfb9067807ab",
   "metadata": {},
   "source": [
    "Encapsulation is a function principle in object-oriented programming that focuses on bundling data and the methods tht operate on that data into a single unit called a class. it allows you to control the access and visibility of the data and methods,providing a way to protect and organize your code"
   ]
  },
  {
   "cell_type": "code",
   "execution_count": 3,
   "id": "0c2263a1-9df2-439c-b1bd-a88e6df94cbe",
   "metadata": {},
   "outputs": [],
   "source": [
    "#Accese Modifier--> Encapuslation\n",
    "## __ is not strict this is only standard approach to use for python only\n",
    "## __ is for private approach _ protected approach\n",
    "#private\n",
    "class Person:\n",
    "    #constructor\n",
    "    def __init__(self,name,age):\n",
    "        self.__name=name\n",
    "        self.__age=age\n",
    "    def display_info(self):\n",
    "        print(f\"The person name is {self.__name} and age is {self.__age}\")\n"
   ]
  },
  {
   "cell_type": "code",
   "execution_count": 11,
   "id": "d57935c2-e189-4c62-b1f4-6743586a2a15",
   "metadata": {},
   "outputs": [
    {
     "name": "stdout",
     "output_type": "stream",
     "text": [
      "the person name is shagan and age is 21\n",
      "None\n",
      "21\n",
      "shagan\n"
     ]
    }
   ],
   "source": [
    "# this is not a valid thing is not good practice\n",
    "person=Person('shagan',21)\n",
    "#  print(person)\n",
    "print(person.display_info())\n",
    "print(person._Person__age)\n",
    "print(person._Person__name)"
   ]
  },
  {
   "cell_type": "code",
   "execution_count": 9,
   "id": "83906bc1-c689-41e5-a574-0823646b53c6",
   "metadata": {},
   "outputs": [
    {
     "name": "stdout",
     "output_type": "stream",
     "text": [
      "the person name is shagan and age is 21\n"
     ]
    }
   ],
   "source": [
    " person.display_info()"
   ]
  },
  {
   "cell_type": "code",
   "execution_count": 85,
   "id": "e1c722ad-3759-47a8-be5b-c6bbacda6799",
   "metadata": {},
   "outputs": [
    {
     "name": "stdout",
     "output_type": "stream",
     "text": [
      "21\n",
      "shagan\n",
      "The name of the person is shagan and age is 21\n",
      "None\n"
     ]
    }
   ],
   "source": [
    "# protected\n",
    "# protected are used only for the derived class \n",
    "class Person:\n",
    "    def __init__(self,name,age):\n",
    "        self._name=name\n",
    "        self._age=age\n",
    "    def display_info(self):\n",
    "        print(f\"The name of the person is {self._name} and age is {self._age}\")\n",
    "person=Person('shagan',21)\n",
    "print(person._age)\n",
    "print(person._name)\n",
    "print(person.display_info())"
   ]
  },
  {
   "cell_type": "code",
   "execution_count": 67,
   "id": "71c612ae-ad3f-4276-b7e7-08016da5ca5b",
   "metadata": {},
   "outputs": [],
   "source": [
    "class Student(Person):\n",
    "    def __init__(self,name,age):\n",
    "        super().__init__(name,age)\n",
    "    def display_info(self):\n",
    "        print(f\"the name of the tstudent is{self._name} and age is {self._age}\")\n"
   ]
  },
  {
   "cell_type": "code",
   "execution_count": 69,
   "id": "fac63340-2732-440a-a2d5-d69951309b8c",
   "metadata": {},
   "outputs": [
    {
     "data": {
      "text/plain": [
       "21"
      ]
     },
     "execution_count": 69,
     "metadata": {},
     "output_type": "execute_result"
    }
   ],
   "source": [
    "student=Student(\"shagan\",21)\n",
    "student._age"
   ]
  },
  {
   "cell_type": "code",
   "execution_count": 71,
   "id": "b02e573a-faf8-4aa9-abba-3e0648893086",
   "metadata": {},
   "outputs": [
    {
     "data": {
      "text/plain": [
       "'shagan'"
      ]
     },
     "execution_count": 71,
     "metadata": {},
     "output_type": "execute_result"
    }
   ],
   "source": [
    "student._name"
   ]
  },
  {
   "cell_type": "code",
   "execution_count": 73,
   "id": "bc7df1be-5049-4516-9b82-73143cb01462",
   "metadata": {},
   "outputs": [
    {
     "name": "stdout",
     "output_type": "stream",
     "text": [
      "The name of the person is Shagan and age is 21\n"
     ]
    }
   ],
   "source": [
    "# public \n",
    "class Person:\n",
    "    def __init__(self,name,age):\n",
    "        self.name=name\n",
    "        self.age=age\n",
    "    def display_info(self):\n",
    "        print(f\"The name of the person is {self.name} and age is {self.age}\")\n",
    "p1=Person(\"Shagan\",21)\n",
    "p1.display_info()"
   ]
  },
  {
   "cell_type": "code",
   "execution_count": null,
   "id": "65e147f7-fb98-4669-805c-960fc2ebea80",
   "metadata": {},
   "outputs": [],
   "source": []
  },
  {
   "cell_type": "code",
   "execution_count": null,
   "id": "16ed00c5-733a-4458-b113-442c3cc86b6b",
   "metadata": {},
   "outputs": [],
   "source": []
  },
  {
   "cell_type": "code",
   "execution_count": null,
   "id": "a932d117-70db-4202-ad51-b92aed97b107",
   "metadata": {},
   "outputs": [],
   "source": []
  }
 ],
 "metadata": {
  "kernelspec": {
   "display_name": "Python 3 (ipykernel)",
   "language": "python",
   "name": "python3"
  },
  "language_info": {
   "codemirror_mode": {
    "name": "ipython",
    "version": 3
   },
   "file_extension": ".py",
   "mimetype": "text/x-python",
   "name": "python",
   "nbconvert_exporter": "python",
   "pygments_lexer": "ipython3",
   "version": "3.12.4"
  }
 },
 "nbformat": 4,
 "nbformat_minor": 5
}
