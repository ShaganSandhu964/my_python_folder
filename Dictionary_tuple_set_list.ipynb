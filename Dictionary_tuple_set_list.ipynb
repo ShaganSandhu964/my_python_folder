{
 "cells": [
  {
   "cell_type": "code",
   "execution_count": 15,
   "id": "e51795d0-2dd2-47b9-8f67-f4fa4c6030df",
   "metadata": {},
   "outputs": [
    {
     "name": "stdout",
     "output_type": "stream",
     "text": [
      "shagan\n",
      "shagan\n",
      "dict_values(['shagan', 21, 'true'])\n",
      "dict_keys(['name', 'age', 'eligible'])\n",
      "The value correspond name is shagan\n",
      "The value correspond age is 21\n",
      "The value correspond eligible is true\n",
      "dict_values(['shagan', 20, 'true'])\n",
      "{'name': 'shagan sandhu', 'age': 20, 'eligible': 'true'}\n",
      "{'name': 'shagan sandhu', 'age': 20, 'eligible': 'true'}\n"
     ]
    }
   ],
   "source": [
    "#Dictionary\n",
    "dict = {'name': 'shagan', 'age': 21, 'eligible': 'true'}\n",
    "print(dict['name'])\n",
    "print(dict.get('name'))\n",
    "print(dict.values())\n",
    "print(dict.keys())\n",
    "for key in dict.keys():\n",
    "    print(f\"The value correspond {key} is {dict[key]}\")\n",
    "    \n",
    "dict.update({'age':20})\n",
    "print(dict.values())\n",
    "dict.update({'name':\"shagan sandhu\"})\n",
    "print(dict)\n",
    "# dict.clear()\n",
    "# print(dict)\n",
    "# dict.pop('name')\n",
    "# dict.popitem()\n",
    "# del dict\n",
    "# del dict['name']\n",
    "print(dict)"
   ]
  },
  {
   "cell_type": "code",
   "execution_count": 1,
   "id": "eb03cddc-16d2-4011-a2c9-9dd6a9e0b5b5",
   "metadata": {},
   "outputs": [
    {
     "name": "stdout",
     "output_type": "stream",
     "text": [
      "[1, 2, 3, 4, 5]\n"
     ]
    }
   ],
   "source": [
    "#list list is muttable,ordered\n",
    "lst=[1,2,3,4,5]\n",
    "print(lst)"
   ]
  },
  {
   "cell_type": "code",
   "execution_count": 3,
   "id": "3755275a-91e7-4303-b254-2dabe3557d28",
   "metadata": {},
   "outputs": [
    {
     "name": "stdout",
     "output_type": "stream",
     "text": [
      "[1, 2, 3, 4, 5, ['shagan', 'sandhu']]\n"
     ]
    }
   ],
   "source": [
    "lst.append(['shagan','sandhu'])\n",
    "print(lst)"
   ]
  },
  {
   "cell_type": "code",
   "execution_count": 5,
   "id": "5143b7a4-3d65-4eb4-9852-ca1c373653ae",
   "metadata": {},
   "outputs": [
    {
     "name": "stdout",
     "output_type": "stream",
     "text": [
      "1\n",
      "['shagan', 'sandhu']\n"
     ]
    }
   ],
   "source": [
    "print(lst[0])\n",
    "print(lst[5])"
   ]
  },
  {
   "cell_type": "code",
   "execution_count": 7,
   "id": "82b91b52-1aa6-446b-af07-cd443764aa8b",
   "metadata": {},
   "outputs": [
    {
     "name": "stdout",
     "output_type": "stream",
     "text": [
      "shagan\n",
      "sandhu\n"
     ]
    }
   ],
   "source": [
    "print(lst[5][0])\n",
    "print(lst[5][1])"
   ]
  },
  {
   "cell_type": "code",
   "execution_count": 9,
   "id": "eeb83002-f8a1-4f30-881c-425bc1decade",
   "metadata": {},
   "outputs": [
    {
     "name": "stdout",
     "output_type": "stream",
     "text": [
      "[1, 2, 3, 4, 5, ['shagan', 'sandhu'], 'shagan', 'sandhu']\n"
     ]
    }
   ],
   "source": [
    "#if we want to append the whole \"shagan sandhu within the same index then use extend method\n",
    "\n",
    "lst.extend([\"shagan\",\"sandhu\"])\n",
    "print(lst)"
   ]
  },
  {
   "cell_type": "code",
   "execution_count": 11,
   "id": "5cd396a5-5654-4ff7-8fda-89da46139512",
   "metadata": {},
   "outputs": [
    {
     "name": "stdout",
     "output_type": "stream",
     "text": [
      "shagan\n"
     ]
    }
   ],
   "source": [
    "print(lst[6])"
   ]
  },
  {
   "cell_type": "code",
   "execution_count": 13,
   "id": "e84e2d26-fd55-4c94-a770-29644cf9eb44",
   "metadata": {},
   "outputs": [
    {
     "name": "stdout",
     "output_type": "stream",
     "text": [
      "8\n"
     ]
    }
   ],
   "source": [
    "print(len(lst))"
   ]
  },
  {
   "cell_type": "code",
   "execution_count": 15,
   "id": "1323db8d-6dc8-4d07-aa8e-ea1205bd0604",
   "metadata": {},
   "outputs": [
    {
     "name": "stdout",
     "output_type": "stream",
     "text": [
      "[1, 2, 3, 4, 5, 'shagan', 'sandhu']\n"
     ]
    }
   ],
   "source": [
    "lst.remove([\"shagan\",\"sandhu\"])\n",
    "print(lst)"
   ]
  },
  {
   "cell_type": "code",
   "execution_count": 17,
   "id": "7362cc67-6201-4242-8ef1-3d69bad3f3e1",
   "metadata": {},
   "outputs": [
    {
     "name": "stdout",
     "output_type": "stream",
     "text": [
      "7\n"
     ]
    }
   ],
   "source": [
    "print(len(lst))"
   ]
  },
  {
   "cell_type": "code",
   "execution_count": 19,
   "id": "d9e60bcd-4f39-4849-a965-8f1e6c1274d0",
   "metadata": {},
   "outputs": [
    {
     "name": "stdout",
     "output_type": "stream",
     "text": [
      "['sandhu', 'shagan', 5, 4, 3, 2, 1]\n"
     ]
    }
   ],
   "source": [
    "lst.reverse()\n",
    "print(lst)"
   ]
  },
  {
   "cell_type": "code",
   "execution_count": 25,
   "id": "095feacb-f9f1-4136-851e-88b50776af6a",
   "metadata": {},
   "outputs": [
    {
     "name": "stdout",
     "output_type": "stream",
     "text": [
      "[1, 2, 3, 4, 5, 'shagan', 'sandhu']\n"
     ]
    }
   ],
   "source": [
    "#without reverse function \n",
    "list1=lst[::-1]\n",
    "print(list1)"
   ]
  },
  {
   "cell_type": "code",
   "execution_count": 23,
   "id": "89c9fedc-db7e-4f38-acd4-f27c03891926",
   "metadata": {},
   "outputs": [
    {
     "name": "stdout",
     "output_type": "stream",
     "text": [
      "[]\n"
     ]
    }
   ],
   "source": [
    "lst.clear()\n",
    "print(lst)"
   ]
  },
  {
   "cell_type": "code",
   "execution_count": 37,
   "id": "04264205-2add-4ad2-a84a-4abbc9ca6536",
   "metadata": {},
   "outputs": [
    {
     "name": "stdout",
     "output_type": "stream",
     "text": [
      "[1, 2, 'shagan', 3, 4, 5]\n",
      "[1, 2, 'shagan', 3, 4]\n",
      "1\n"
     ]
    }
   ],
   "source": [
    "lst=[1,2,3,4,5]\n",
    "lst.insert(2,\"shagan\")\n",
    "print(lst)\n",
    "lst.pop()\n",
    "print(lst)\n",
    "print(lst.count(\"shagan\"))\n"
   ]
  },
  {
   "cell_type": "code",
   "execution_count": null,
   "id": "2d5a7756-82c5-485d-8e1c-641464e444c3",
   "metadata": {},
   "outputs": [],
   "source": [
    "#sets are unordered collection of data ,mutable,no duplicate element are present in set"
   ]
  },
  {
   "cell_type": "code",
   "execution_count": 41,
   "id": "65fb0fd3-ab44-4de3-9fa6-f2c63cae2d61",
   "metadata": {},
   "outputs": [
    {
     "name": "stdout",
     "output_type": "stream",
     "text": [
      "{1, 2, 3, 4}\n",
      "{1, 2, 3, 4}\n"
     ]
    }
   ],
   "source": [
    "set_var={1,2,3,4}\n",
    "print(set_var)\n",
    "set_var={1,2,2,3,4,4}\n",
    "print(set_var)"
   ]
  },
  {
   "cell_type": "code",
   "execution_count": 45,
   "id": "7120c641-48fd-4c78-b7a9-ce58236ce6b1",
   "metadata": {},
   "outputs": [
    {
     "name": "stdout",
     "output_type": "stream",
     "text": [
      "{1, 2, 3, 4}\n"
     ]
    }
   ],
   "source": [
    "set_var1={1,2,3,4}\n",
    "set_var2={2,3,4,5,1}\n",
    "set_var1.difference(set_var2)\n",
    "print(set_var1)"
   ]
  },
  {
   "cell_type": "code",
   "execution_count": 47,
   "id": "c8677043-85f9-45a3-877f-e1d62e4e3268",
   "metadata": {},
   "outputs": [
    {
     "data": {
      "text/plain": [
       "{1, 2, 3, 4}"
      ]
     },
     "execution_count": 47,
     "metadata": {},
     "output_type": "execute_result"
    }
   ],
   "source": [
    "set_var1.intersection(set_var2)\n"
   ]
  },
  {
   "cell_type": "code",
   "execution_count": 53,
   "id": "522f3e95-57a7-4fce-b82c-b3c7c602ccda",
   "metadata": {},
   "outputs": [
    {
     "name": "stdout",
     "output_type": "stream",
     "text": [
      "{1, 2, 3, 4}\n"
     ]
    }
   ],
   "source": [
    "set_var1.intersection_update(set_var2)\n",
    "print(set_var1)"
   ]
  },
  {
   "cell_type": "code",
   "execution_count": null,
   "id": "9b50a272-d0a1-401d-af17-3b114f689e4b",
   "metadata": {},
   "outputs": [],
   "source": [
    "#tuples are immutable\n"
   ]
  }
 ],
 "metadata": {
  "kernelspec": {
   "display_name": "Python 3 (ipykernel)",
   "language": "python",
   "name": "python3"
  },
  "language_info": {
   "codemirror_mode": {
    "name": "ipython",
    "version": 3
   },
   "file_extension": ".py",
   "mimetype": "text/x-python",
   "name": "python",
   "nbconvert_exporter": "python",
   "pygments_lexer": "ipython3",
   "version": "3.12.4"
  }
 },
 "nbformat": 4,
 "nbformat_minor": 5
}
