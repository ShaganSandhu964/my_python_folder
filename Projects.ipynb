{
 "cells": [
  {
   "cell_type": "code",
   "execution_count": null,
   "id": "33cf47a6-6b67-4427-9b5a-f43c50828dbe",
   "metadata": {},
   "outputs": [],
   "source": [
    "# Good Morning"
   ]
  },
  {
   "cell_type": "code",
   "execution_count": 1,
   "id": "e963a516-c2c8-4e6c-90e5-ab317d15aa33",
   "metadata": {},
   "outputs": [
    {
     "name": "stdout",
     "output_type": "stream",
     "text": [
      "12:49:56\n",
      "12\n"
     ]
    },
    {
     "name": "stdin",
     "output_type": "stream",
     "text": [
      "Enter the value of a : 13\n"
     ]
    },
    {
     "name": "stdout",
     "output_type": "stream",
     "text": [
      "Good afternoon\n"
     ]
    }
   ],
   "source": [
    "#Good Morning small project\n",
    "import time\n",
    "timestamp=time.strftime('%H:%M:%S')\n",
    "hour=int(time.strftime('%H'))\n",
    "print(timestamp)\n",
    "print(hour)\n",
    "a=int(input(\"Enter the value of a :\"))\n",
    "if(a>=4 and a<12):\n",
    "  print('Good Morning')\n",
    "elif(a>=12 and a<16):\n",
    "  print(\"Good afternoon\")\n",
    "elif(a>=16 and a<20):\n",
    "  print(\"Good Evening\")\n",
    "else:\n",
    " print(\"Good Night\")"
   ]
  },
  {
   "cell_type": "code",
   "execution_count": null,
   "id": "64e4d0e2-b22e-4aca-9b1b-8bd874fbc34a",
   "metadata": {},
   "outputs": [],
   "source": [
    "#Welcome to KBC"
   ]
  },
  {
   "cell_type": "code",
   "execution_count": 13,
   "id": "2ba6e1b8-787a-4238-8b0e-5816fc2cd2f2",
   "metadata": {},
   "outputs": [
    {
     "name": "stdout",
     "output_type": "stream",
     "text": [
      "Welcome to KBC \n",
      "\n"
     ]
    },
    {
     "name": "stdin",
     "output_type": "stream",
     "text": [
      "Enter Your Name : Ketan Singh\n"
     ]
    },
    {
     "name": "stdout",
     "output_type": "stream",
     "text": [
      "Hello Ketan Singh \n",
      "\n",
      "Here is Your First Question \n",
      " \n",
      "Who is the Prime Minister of India ? \n",
      "\n",
      "['Narender Modi', 'Rahul Gandhi', 'Manmohan Singh', 'Amit Shah'] \n",
      "\n"
     ]
    },
    {
     "name": "stdin",
     "output_type": "stream",
     "text": [
      "Enter Your answer Narender Modi\n"
     ]
    },
    {
     "name": "stdout",
     "output_type": "stream",
     "text": [
      "You Won 1000 Rs \n",
      "\n",
      "Here is Your second Question \n",
      "\n",
      "Who is the president of India \n",
      " ?\n",
      "['Droupadi Murmu', 'Ram Nath kovind', 'Itishree Murmu', 'Jagdeep Dhankhar'] \n",
      "\n"
     ]
    },
    {
     "name": "stdin",
     "output_type": "stream",
     "text": [
      "Enter Your Answer :  Droupadi Murmu\n"
     ]
    },
    {
     "name": "stdout",
     "output_type": "stream",
     "text": [
      "You Won 5000 Rs\n",
      "\n",
      "Total Amount You Have : 6000\n",
      "Here is Your Third Question \n",
      "\n",
      "Which god is also known as ‘Gauri Nandan’? \n",
      "\n",
      "['Ganesha', 'Shiva', 'Agni', 'Hunuman'] \n",
      "\n"
     ]
    },
    {
     "name": "stdin",
     "output_type": "stream",
     "text": [
      "Enter Your Answer : \n",
      " Ganesha\n"
     ]
    },
    {
     "name": "stdout",
     "output_type": "stream",
     "text": [
      "You Won 10000 Rs\n",
      "\n",
      "Total Amount You Have : 16000 \n",
      "\n",
      "Congratulations you Answered all the Questions Correctly \n",
      "\n",
      "Total Amount You won 16000 \n",
      "\n",
      "Thank You For Playing KBC\n"
     ]
    }
   ],
   "source": [
    "print(\"Welcome to KBC \\n\")\n",
    "name=str(input(\"Enter Your Name :\"))\n",
    "print(\"Hello\",name,\"\\n\")\n",
    "print(\"Here is Your First Question \\n \")\n",
    "print(\"Who is the Prime Minister of India ? \\n\")\n",
    "list=[\"Narender Modi\",\"Rahul Gandhi\",\"Manmohan Singh\",\"Amit Shah\"]\n",
    "print(list,\"\\n\")\n",
    "ans=str(input(\"Enter Your answer\"))\n",
    "sum=0\n",
    "if(ans==\"Narender Modi\"):\n",
    "  print(\"You Won 1000 Rs \\n\")\n",
    "  sum=sum+1000\n",
    "else:\n",
    "  print(\"You lose the Game \\n\")\n",
    "  \n",
    "print(\"Here is Your second Question \\n\")\n",
    "print(\"Who is the president of India \\n ?\")\n",
    "list=[\"Droupadi Murmu\",\"Ram Nath kovind\",\"Itishree Murmu\",\"Jagdeep Dhankhar\"]\n",
    "print(list,\"\\n\")\n",
    "ans=str(input(\"Enter Your Answer : \"))\n",
    "if(ans==\"Droupadi Murmu\"):\n",
    "  print(\"You Won 5000 Rs\\n\")\n",
    "  sum=sum+5000\n",
    "  print(\"Total Amount You Have :\",sum)\n",
    "else:\n",
    "  print(\"You lose the Game\")\n",
    "  print(\"Total Amount You won\",sum)\n",
    "\n",
    "print(\"Here is Your Third Question \\n\")\n",
    "print(\"Which god is also known as ‘Gauri Nandan’? \\n\")\n",
    "list=[\"Ganesha\",\"Shiva\",\"Agni\",\"Hunuman\"]\n",
    "print(list,\"\\n\")\n",
    "ans=str(input(\"Enter Your Answer : \\n\"))\n",
    "if(ans==\"Ganesha\"):\n",
    "  print(\"You Won 10000 Rs\\n\")\n",
    "  sum=sum+10000\n",
    "  print(\"Total Amount You Have :\",sum,\"\\n\")\n",
    "  print(\"Congratulations you Answered all the Questions Correctly \\n\")\n",
    "  \n",
    "else:\n",
    "  print(\"You lose the Game\")\n",
    "  print(\"Total Amount You won\",sum)\n",
    "\n",
    "print(\"Total Amount You won\",sum,\"\\n\")\n",
    "print(\"Thank You For Playing KBC\")"
   ]
  },
  {
   "cell_type": "code",
   "execution_count": 15,
   "id": "28241c8c-8158-4656-b5ff-2f51a8e4e034",
   "metadata": {},
   "outputs": [
    {
     "name": "stdout",
     "output_type": "stream",
     "text": [
      "Welcome to KBC \n",
      "\n"
     ]
    },
    {
     "name": "stdin",
     "output_type": "stream",
     "text": [
      "Enter Your Name :  hjc\n"
     ]
    },
    {
     "name": "stdout",
     "output_type": "stream",
     "text": [
      "Hello hjc \n",
      "\n",
      "Here is Your question No.0 for Rs1000 \n",
      "\n",
      " Who is the Prime Minister of India ? \n",
      "\n",
      "a. Narender Modi            b. Rahul Gandhi\n",
      "c. Manmohan Singh            d. Manmohan Singh \n",
      "\n"
     ]
    },
    {
     "name": "stdin",
     "output_type": "stream",
     "text": [
      "Enter Your answer Here : or You can quit the Game(0/quit) :  4\n"
     ]
    },
    {
     "name": "stdout",
     "output_type": "stream",
     "text": [
      "Wrong answer!\n",
      "\n",
      "Your take home money is 0 \n",
      "\n",
      "Number of correct answer 0\n"
     ]
    }
   ],
   "source": [
    "print(\"Welcome to KBC \\n\")\n",
    "name=str(input(\"Enter Your Name : \"))\n",
    "print(\"Hello\",name,\"\\n\")\n",
    "questions=[[\"Who is the Prime Minister of India ?\" ,\"Narender Modi\",\"Rahul Gandhi\",\"Manmohan Singh\",\"Amit Shah\",1],\n",
    "           [\"Who is the president of India ?\",\"Droupadi Murmu\",\"Ram Nath kovind\",\"Itishree Murmu\",\"Jagdeep Dhankhar\",1],\n",
    "           [\"Which god is also known as ‘Gauri Nandan’?\",\"Ganesha\",\"Shiva\",\"Agni\",\"Hunuman\",1],\n",
    "           [\"What does not grow on tree according to a popular Hindi saying?\",\"Money\",\"Flower\",\"Tree\",\"Fruits\",1],\n",
    "           [\"Which city is known as the Pink City of India?\",\"Banglore\",\"Maysore\",\"Jaipur\",\"Kochi\",3],\n",
    "           [\"Who wrote India's National Anthem?\",\"Rabindranath Tagore\",\"Lal Bahadur Shastri\",\"Chetan Bhagat\",\"RK Narayan\",1]\n",
    "          ]\n",
    "\n",
    "levels = [1000, 2000, 3000,5000,10000,20000]\n",
    "money=0\n",
    "count=0\n",
    "for i in range(0,len(questions)):\n",
    "    question=questions[i]\n",
    "    print(f\"Here is Your question No.{i} for Rs{levels[i]} \\n\")\n",
    "    print(f\" {question[0]} \\n\")\n",
    "    print(f\"a. {question[1]}            b. {question[2]}\")\n",
    "    print(f\"c. {question[3]}            d. {question[3]} \\n\")\n",
    "    ans=int(input(\"Enter Your answer Here : or You can quit the Game(0/quit) : \"))\n",
    "    if(ans==0):\n",
    "       money=levels[i-1]\n",
    "       break\n",
    "    if(ans==question[-1]):\n",
    "        print(f\"Correct Answer ,You have won Rs. {levels[i]} \\n\")\n",
    "        money=money+levels[i]\n",
    "        count=count+1\n",
    "        if(i==4):\n",
    "            money=10000\n",
    "        elif(i==9):\n",
    "            money=320000\n",
    "        elif(i==14):\n",
    "            money=10000000\n",
    "    else:\n",
    "        print(\"Wrong answer!\")\n",
    "        break\n",
    "print(f\"\\nYour take home money is {money} \\n\")\n",
    "print(f\"Number of correct answer {count}\")"
   ]
  },
  {
   "cell_type": "code",
   "execution_count": null,
   "id": "0dd37006-3b35-4a01-a647-618e2b8d2104",
   "metadata": {},
   "outputs": [],
   "source": [
    "# secret Code Language"
   ]
  },
  {
   "cell_type": "code",
   "execution_count": 3,
   "id": "2660bec8-72f4-4eda-9ded-ebe0c94dd7cc",
   "metadata": {},
   "outputs": [
    {
     "name": "stdin",
     "output_type": "stream",
     "text": [
      "Enter Your message :  shagan\n"
     ]
    },
    {
     "name": "stdout",
     "output_type": "stream",
     "text": [
      "dsfhagansklj\n"
     ]
    }
   ],
   "source": [
    "st=str(input(\"Enter Your message : \"))\n",
    "code=True\n",
    "if(code):\n",
    "    if(len(st)>=3):\n",
    "        r1=\"dsf\"\n",
    "        r2=\"klj\"\n",
    "        st = r1 + st[1:] + st[0] + r2 \n",
    "        print(st)"
   ]
  },
  {
   "cell_type": "code",
   "execution_count": 7,
   "id": "f523a826-ac81-4b6f-991d-e39e391fb1d3",
   "metadata": {},
   "outputs": [
    {
     "name": "stdin",
     "output_type": "stream",
     "text": [
      "Enter True for coding and False for Decoding:  False\n",
      "Enter Your message :  pbmhagansdtl\n"
     ]
    },
    {
     "name": "stdout",
     "output_type": "stream",
     "text": [
      "shagan\n"
     ]
    }
   ],
   "source": [
    "import random  \n",
    "import string  \n",
    "\n",
    "# Generate a random string of specified length \n",
    "def generate_random_string(length=3):   \n",
    "    return ''.join(random.choices(string.ascii_lowercase, k=length))  \n",
    "code=str(input(\"Enter True for coding and False for Decoding: \"))\n",
    "st=str(input(\"Enter Your message : \"))\n",
    "words=st.split(\" \")\n",
    "if(code==\"True\"):\n",
    "    nword=[]\n",
    "    for word in words:\n",
    "        if len(word)>=3:\n",
    "            r1 = generate_random_string()  \n",
    "            r2 = generate_random_string()  \n",
    "            # r1=\"dfg\"\n",
    "            # r2=\"klj\"\n",
    "            stnew=r1+word[1:] + word[0]+r2\n",
    "            nword.append(stnew)\n",
    "        else:\n",
    "            nword.append(word[::-1])\n",
    "    print(\" \".join(nword))\n",
    "else:\n",
    "    nword=[]\n",
    "    for word in words:\n",
    "        if len(word)>=3:\n",
    "            stnew=word[3:-3]\n",
    "            stnew=stnew[-1]+stnew[:-1]\n",
    "            nword.append(stnew)\n",
    "        else:\n",
    "            nword.append(word[::-1])\n",
    "    print(\" \".join(nword))\n",
    "        "
   ]
  },
  {
   "cell_type": "code",
   "execution_count": null,
   "id": "42dee7c3-4cc9-4932-abef-1340f1b1211b",
   "metadata": {},
   "outputs": [],
   "source": [
    "#Snake Water Gun\n",
    "#snake ==0 , water ==1 gun==2\n",
    "#you ->1 and comp ->0 you loose\n",
    "# you ->0 and comp->2 you loose\n",
    "#you ->2 and comp->1 you loose\n"
   ]
  },
  {
   "cell_type": "code",
   "execution_count": 11,
   "id": "a753412c-37b7-463d-8ab6-2ac795e553f5",
   "metadata": {},
   "outputs": [
    {
     "name": "stdin",
     "output_type": "stream",
     "text": [
      "Enter Snake For '0' and for Water '1' and for Gun '2' : 2\n"
     ]
    },
    {
     "name": "stdout",
     "output_type": "stream",
     "text": [
      "You choose the Number :  2\n",
      "Computer choose the Number :  0\n",
      "You Won the Game\n"
     ]
    }
   ],
   "source": [
    "import random\n",
    "\n",
    "def check(comp,user):\n",
    "    if comp==user:\n",
    "        return 0\n",
    "    if(comp==0 and user==1):\n",
    "        return -1\n",
    "    if(comp==1 and user==0):\n",
    "        return -1\n",
    "    if(comp==2 and user==0):\n",
    "        return -1\n",
    "    if(comp==2 and user==1):\n",
    "        return -1\n",
    "    return 1\n",
    "comp=random.randint(0,2)\n",
    "user=int(input(\"Enter Snake For '0' and for Water '1' and for Gun '2' :\" ))\n",
    "print(\"You choose the Number : \",user)\n",
    "print(\"Computer choose the Number : \",comp)\n",
    "score=check(comp,user)\n",
    "if(score==user):\n",
    "    print(\"It is Draw\")\n",
    "elif(score==-1):\n",
    "    print(\"You Lose the Game\")\n",
    "else:\n",
    "    print(\"You Won the Game\")\n",
    "    "
   ]
  },
  {
   "cell_type": "code",
   "execution_count": 13,
   "id": "54d86bf5-d83a-4128-a0b9-e6f024b7838f",
   "metadata": {},
   "outputs": [
    {
     "name": "stdout",
     "output_type": "stream",
     "text": [
      "TheLibrary has 3 books and they are:\n",
      "Harry Potter\n",
      "Harry Potter2\n",
      "Harry Potter3\n"
     ]
    }
   ],
   "source": [
    "#Library Management app\n",
    "class library:\n",
    "    def __init__(self):\n",
    "        self.books=[]\n",
    "        self.nobooks=0\n",
    "    def addbook(self,book):\n",
    "        self.books.append(book)\n",
    "        self.nobooks=len(self.books)\n",
    "    def showinfo(self):\n",
    "        print(f\"TheLibrary has {self.nobooks} books and they are:\")\n",
    "        for book in self.books:\n",
    "            print(book)\n",
    "l1=library()\n",
    "l1.addbook(\"Harry Potter\")\n",
    "l1.addbook(\"Harry Potter2\")\n",
    "l1.addbook(\"Harry Potter3\")\n",
    "l1.showinfo()\n",
    "     \n",
    "        \n",
    "        "
   ]
  },
  {
   "cell_type": "code",
   "execution_count": null,
   "id": "42d530d5-f44b-4268-8129-c8d63cdfc4b1",
   "metadata": {},
   "outputs": [],
   "source": [
    "# let us build a system - school management system\n",
    "\n",
    "# Abstract class ->human\n",
    "  # add a method\n",
    "  # list method- abstract method\n",
    "# class - students\n",
    "   # ADD student\n",
    "   # List student details\n",
    "# class - teacher\n",
    "   # Add teacher\n",
    "   # list teacher details\n",
    "# class -subject\n",
    "  # add a subject\n",
    "  # assign a subject to a teacher \n",
    "  # enroll a student in the subject\n",
    "  # list the subject details\n",
    "  # List the grades of students in that subject\n"
   ]
  },
  {
   "cell_type": "code",
   "execution_count": 1,
   "id": "df68a760-04a6-458f-a5e7-eca3e8d76efa",
   "metadata": {},
   "outputs": [],
   "source": [
    "from abc import ABC,abstractmethod"
   ]
  },
  {
   "cell_type": "code",
   "execution_count": 51,
   "id": "874953a5-cc1a-4646-970c-ffd07cef82f6",
   "metadata": {},
   "outputs": [],
   "source": [
    "class Human(ABC):\n",
    "    @abstractmethod\n",
    "    def __init__(self):\n",
    "        pass\n",
    "    @abstractmethod\n",
    "    def list_details(self):\n",
    "        pass"
   ]
  },
  {
   "cell_type": "code",
   "execution_count": 53,
   "id": "74691db4-6358-4e99-9f80-1f5235287899",
   "metadata": {},
   "outputs": [],
   "source": [
    "class Student(Human):\n",
    "    def __init__(self,name,age,gender,id,grades=None):\n",
    "        self.name=name\n",
    "        self.age=age\n",
    "        self.gender=gender\n",
    "        self.id=id\n",
    "        self.grades=grades\n",
    "    def list_details(self):\n",
    "        print(f\" Student name : {self.name} \")\n",
    "        print(f\" Student Age : {self.age} \")\n",
    "        print(f\" Student Gender : {self.gender} \")\n",
    "        print(f\" Student Id : {self.id} \")\n",
    "        print(f\" Student grades : {self.grades} \")"
   ]
  },
  {
   "cell_type": "code",
   "execution_count": 55,
   "id": "8209c439-b471-41b7-bae9-32a9dbd8904b",
   "metadata": {},
   "outputs": [],
   "source": [
    "class Teacher(Human):\n",
    "    def __init__(self,name,age,gender,teacher_id,subject=None):\n",
    "        self.name=name\n",
    "        self.age=age\n",
    "        self.gender=gender\n",
    "        self.teacher_id=teacher_id\n",
    "        self.subject=subject\n",
    "    def list_details(self):\n",
    "        print(f\" Teacher name : {self.name} \")\n",
    "        print(f\" Teacher Age : {self.age} \")\n",
    "        print(f\" Teacher Gender : {self.gender} \")\n",
    "        print(f\" Teacher Id : {self.teache_id} \")\n",
    "        print(f\" Teacher Subject : {self.subject} \")"
   ]
  },
  {
   "cell_type": "code",
   "execution_count": 115,
   "id": "bbddf66c-d5ec-461c-aeef-cbfa3619b7b5",
   "metadata": {},
   "outputs": [],
   "source": [
    "class Subject:\n",
    "    def __init__(self, course_name, course_id):\n",
    "        self.course_name = course_name\n",
    "        self.course_id = course_id\n",
    "        self.teacher = None\n",
    "        self.students = []\n",
    "        \n",
    "    def assign_teacher(self, teacher):\n",
    "        self.teacher = teacher\n",
    "        \n",
    "    def enroll_student(self, student):\n",
    "        self.students.append(student)\n",
    "        \n",
    "    def list_course_details(self):\n",
    "        print(\"Course Code : {}\".format(self.course_id))\n",
    "        print(\"Course Name : {}\".format(self.course_name))\n",
    "        print(\"Course Teacher : {}\".format(self.teacher))\n",
    "        print(\"Enrolled Students : {}\".format(self.students))\n",
    "    "
   ]
  },
  {
   "cell_type": "code",
   "execution_count": 61,
   "id": "acde6b0e-00dd-4a37-b578-b66cdab28570",
   "metadata": {},
   "outputs": [],
   "source": [
    "def create_student():\n",
    "    name=input(\"Enter the name : \")\n",
    "    age=input(\"Enter the age : \")\n",
    "    gender=input(\"Enter the gender : \")\n",
    "    student_id=input(\"Enter the student_id :\")\n",
    "    return Student(name,age,gender,student_id)"
   ]
  },
  {
   "cell_type": "code",
   "execution_count": 63,
   "id": "ea8b95c4-19d4-4dc0-9328-67e49c2b519f",
   "metadata": {},
   "outputs": [],
   "source": [
    "def create_teacher():\n",
    "    name=input(\"Enter the name of Teacher: \")\n",
    "    age=input(\"Enter the age of Teacher: \")\n",
    "    gender=input(\"Enter the Gender : \")\n",
    "    teacher_id=input(\"Enter the Teacher id : \")\n",
    "    subject=input(\"Enter the subject of Teacher : \")\n",
    "    return Teacher(name,age,gender,teacher_id,subject)"
   ]
  },
  {
   "cell_type": "code",
   "execution_count": 117,
   "id": "e13b5013-1d90-4134-ae4e-47582f687485",
   "metadata": {},
   "outputs": [],
   "source": [
    "def create_subject():\n",
    "    name = input(\"Enter the name of subject : \")\n",
    "    subject_id = input(\"Enter the id of subject : \")\n",
    "    return Subject(name, subject_id)"
   ]
  },
  {
   "cell_type": "code",
   "execution_count": 67,
   "id": "2f533df1-2afe-44be-9b4f-06b2da0d8f36",
   "metadata": {},
   "outputs": [],
   "source": [
    "all_students=[]\n",
    "all_teachers=[]\n",
    "all_subjects=[]"
   ]
  },
  {
   "cell_type": "code",
   "execution_count": 79,
   "id": "0f21bcd1-e786-44d0-ba93-77d537cb5560",
   "metadata": {},
   "outputs": [
    {
     "name": "stdin",
     "output_type": "stream",
     "text": [
      "Enter the name :  shagan\n",
      "Enter the age :  21\n",
      "Enter the gender :  F\n",
      "Enter the student_id : 1298\n"
     ]
    }
   ],
   "source": [
    "# let us create a student \n",
    "student=create_student()"
   ]
  },
  {
   "cell_type": "code",
   "execution_count": 81,
   "id": "6e8afb36-0f40-457f-bdad-11b0a90e8390",
   "metadata": {},
   "outputs": [],
   "source": [
    "all_students.append(student)"
   ]
  },
  {
   "cell_type": "code",
   "execution_count": 83,
   "id": "6a0e8953-0500-49ed-be8f-000f7362c04a",
   "metadata": {},
   "outputs": [
    {
     "data": {
      "text/plain": [
       "<__main__.Student at 0x2b2d59ece60>"
      ]
     },
     "execution_count": 83,
     "metadata": {},
     "output_type": "execute_result"
    }
   ],
   "source": [
    "all_students[1]"
   ]
  },
  {
   "cell_type": "code",
   "execution_count": 87,
   "id": "e6d424ae-9a70-440f-8743-b9db3c52fd46",
   "metadata": {},
   "outputs": [
    {
     "data": {
      "text/plain": [
       "'sagar'"
      ]
     },
     "execution_count": 87,
     "metadata": {},
     "output_type": "execute_result"
    }
   ],
   "source": [
    "all_students[0].name"
   ]
  },
  {
   "cell_type": "code",
   "execution_count": 89,
   "id": "f943cd53-c2ed-49ab-abd5-7745a356fd90",
   "metadata": {},
   "outputs": [
    {
     "name": "stdin",
     "output_type": "stream",
     "text": [
      "Enter the name of Teacher:  rajinder\n",
      "Enter the age of Teacher:  40\n",
      "Enter the Gender :  F\n",
      "Enter the Teacher id :  12\n",
      "Enter the subject of Teacher :  Maths\n"
     ]
    }
   ],
   "source": [
    "#let us create a teacher\n",
    "teacher=create_teacher()"
   ]
  },
  {
   "cell_type": "code",
   "execution_count": 95,
   "id": "be1ba7c9-ef88-403f-9735-a51db74a2bda",
   "metadata": {},
   "outputs": [],
   "source": [
    "all_teachers.append(teacher)"
   ]
  },
  {
   "cell_type": "code",
   "execution_count": 99,
   "id": "db5b81cb-a298-471d-a478-92023331d7c4",
   "metadata": {},
   "outputs": [
    {
     "data": {
      "text/plain": [
       "'rajinder'"
      ]
     },
     "execution_count": 99,
     "metadata": {},
     "output_type": "execute_result"
    }
   ],
   "source": [
    "all_teachers[0].name"
   ]
  },
  {
   "cell_type": "code",
   "execution_count": 101,
   "id": "38a4afcd-d776-42be-828f-897342b1bacf",
   "metadata": {},
   "outputs": [
    {
     "data": {
      "text/plain": [
       "'Maths'"
      ]
     },
     "execution_count": 101,
     "metadata": {},
     "output_type": "execute_result"
    }
   ],
   "source": [
    "all_teachers[0].subject"
   ]
  },
  {
   "cell_type": "code",
   "execution_count": 119,
   "id": "f6593f0c-4d5c-41cc-a90e-ea1c542b6fd7",
   "metadata": {},
   "outputs": [
    {
     "name": "stdin",
     "output_type": "stream",
     "text": [
      "Enter the name of subject :  ML/DL\n",
      "Enter the id of subject :  12148456\n"
     ]
    }
   ],
   "source": [
    "subject = create_subject()"
   ]
  },
  {
   "cell_type": "code",
   "execution_count": 123,
   "id": "4c98f9e7-05b8-49a2-a73d-06e4bd966ab2",
   "metadata": {},
   "outputs": [],
   "source": [
    "all_subjects.append(subject)"
   ]
  },
  {
   "cell_type": "code",
   "execution_count": 125,
   "id": "69799088-4813-49a5-9645-4a16cf7f6f33",
   "metadata": {},
   "outputs": [
    {
     "data": {
      "text/plain": [
       "[<__main__.Student at 0x2b2d2fdd820>, <__main__.Student at 0x2b2d59ece60>]"
      ]
     },
     "execution_count": 125,
     "metadata": {},
     "output_type": "execute_result"
    }
   ],
   "source": [
    "all_students"
   ]
  },
  {
   "cell_type": "code",
   "execution_count": 127,
   "id": "9b328431-a9ab-4675-ae9b-f52d3c3f219a",
   "metadata": {},
   "outputs": [
    {
     "data": {
      "text/plain": [
       "[<__main__.Teacher at 0x2b2d1fab350>, <__main__.Teacher at 0x2b2d1fab350>]"
      ]
     },
     "execution_count": 127,
     "metadata": {},
     "output_type": "execute_result"
    }
   ],
   "source": [
    "all_teachers"
   ]
  },
  {
   "cell_type": "code",
   "execution_count": 129,
   "id": "9f4a97c8-0c3a-4868-bed3-61471f21de62",
   "metadata": {},
   "outputs": [],
   "source": [
    "all_subjects[0].teacher"
   ]
  },
  {
   "cell_type": "code",
   "execution_count": 131,
   "id": "50c98482-47e4-4161-a7e3-4481100823b8",
   "metadata": {},
   "outputs": [],
   "source": [
    "all_subjects[0].assign_teacher(\"Ravi kishan\")"
   ]
  },
  {
   "cell_type": "code",
   "execution_count": 133,
   "id": "d964a065-b2cc-43a9-b4a6-06b7bda79fdb",
   "metadata": {},
   "outputs": [
    {
     "data": {
      "text/plain": [
       "'Ravi kishan'"
      ]
     },
     "execution_count": 133,
     "metadata": {},
     "output_type": "execute_result"
    }
   ],
   "source": [
    "all_subjects[0].teacher"
   ]
  },
  {
   "cell_type": "code",
   "execution_count": 135,
   "id": "6443926b-c53f-4ee1-b41e-50d0ef949db7",
   "metadata": {},
   "outputs": [],
   "source": [
    "all_subjects[0].enroll_student(\"keshav\")"
   ]
  },
  {
   "cell_type": "code",
   "execution_count": 137,
   "id": "fbb8eafb-c3ca-4f7b-ab66-59db023a891a",
   "metadata": {},
   "outputs": [
    {
     "data": {
      "text/plain": [
       "['keshav']"
      ]
     },
     "execution_count": 137,
     "metadata": {},
     "output_type": "execute_result"
    }
   ],
   "source": [
    "all_subjects[0].students"
   ]
  },
  {
   "cell_type": "code",
   "execution_count": 139,
   "id": "7299fef5-326f-4f3e-bb02-abbc25ee7f6f",
   "metadata": {},
   "outputs": [
    {
     "name": "stdout",
     "output_type": "stream",
     "text": [
      "1. Add student\n",
      "2. Add Teacher\n",
      "3. Add course\n",
      "4. Assign Teacher\n",
      "5. Assign student\n",
      "6. List subject Details\n",
      "7. Exit\n"
     ]
    },
    {
     "name": "stdin",
     "output_type": "stream",
     "text": [
      "Enter your choice 6\n"
     ]
    },
    {
     "name": "stdout",
     "output_type": "stream",
     "text": [
      "Course Code : 12148456\n",
      "Course Name : ML/DL\n",
      "Course Teacher : Ravi kishan\n",
      "Enrolled Students : ['keshav']\n",
      "None\n",
      "1. Add student\n",
      "2. Add Teacher\n",
      "3. Add course\n",
      "4. Assign Teacher\n",
      "5. Assign student\n",
      "6. List subject Details\n",
      "7. Exit\n"
     ]
    },
    {
     "name": "stdin",
     "output_type": "stream",
     "text": [
      "Enter your choice 7\n"
     ]
    }
   ],
   "source": [
    "while True:\n",
    "    print(\"1. Add student\")\n",
    "    print(\"2. Add Teacher\")\n",
    "    print(\"3. Add course\")\n",
    "    print(\"4. Assign Teacher\")\n",
    "    print(\"5. Assign student\")\n",
    "    print(\"6. List subject Details\")\n",
    "    print(\"7. Exit\")\n",
    "    choice = input(\"Enter your choice\")\n",
    "    \n",
    "    if choice == '1':\n",
    "        student = create_student()\n",
    "        all_students.append(student)\n",
    "        \n",
    "    elif choice == '2':\n",
    "        teacher = create_teacher()\n",
    "        all_teachers.append(teacher)\n",
    "    \n",
    "    elif choice == '3':\n",
    "        subject = create_subject()\n",
    "        all_subjects.append(subject)\n",
    "    \n",
    "    elif choice == '4' : \n",
    "        all_subjects[-1].assign_teacher(all_teachers[-1].name)\n",
    "        \n",
    "    elif choice == \"5\" : \n",
    "        all_subjects[-1].enroll_student(all_students[-1].name)\n",
    "        \n",
    "    elif choice == \"6\" :\n",
    "        print(all_subjects[-1].list_course_details())\n",
    "        \n",
    "    elif choice == \"7\" :\n",
    "        break\n",
    "        \n",
    "    else:\n",
    "        print(\"Invalid choice\")"
   ]
  },
  {
   "cell_type": "code",
   "execution_count": null,
   "id": "465e6d78-6265-4002-8bb4-8f8c195467cf",
   "metadata": {},
   "outputs": [],
   "source": []
  },
  {
   "cell_type": "code",
   "execution_count": null,
   "id": "33a20180-8bb5-400e-961a-f3103e528695",
   "metadata": {},
   "outputs": [],
   "source": []
  },
  {
   "cell_type": "code",
   "execution_count": 141,
   "id": "233b10b1-e6c1-49a6-ad16-e73b74bac399",
   "metadata": {},
   "outputs": [],
   "source": [
    "# Example of login credentials\n",
    "admin_credentials = {'admin': 'admin123'}\n",
    "user_credentials = {'user1': 'user123', 'user2': 'user234'}\n"
   ]
  },
  {
   "cell_type": "code",
   "execution_count": 143,
   "id": "6775ded1-c8ef-4824-92b8-7e6dccd99839",
   "metadata": {},
   "outputs": [],
   "source": [
    "catalog = [\n",
    "    {'product_id': 1, 'name': 'Boots', 'category': 'Footwear', 'price': 2000},\n",
    "    {'product_id': 2, 'name': 'Jacket', 'category': 'Clothing', 'price': 3000},\n",
    "    {'product_id': 3, 'name': 'Headphones', 'category': 'Electronics', 'price': 1500}\n",
    "]\n"
   ]
  },
  {
   "cell_type": "code",
   "execution_count": 145,
   "id": "fe76d2d9-4b82-48c0-96d1-4251ba7d65a2",
   "metadata": {},
   "outputs": [],
   "source": [
    "cart = []\n",
    "def add_to_cart(product_id, quantity):\n",
    "    for product in catalog:\n",
    "        if product['product_id'] == product_id:\n",
    "            cart.append({'product': product, 'quantity': quantity})\n",
    "            return f\"{product['name']} added to the cart.\"\n"
   ]
  },
  {
   "cell_type": "code",
   "execution_count": 147,
   "id": "890a11c2-9408-4c28-a23b-260ac78c96ec",
   "metadata": {},
   "outputs": [],
   "source": [
    "def add_product(admin_session_id, product_details):\n",
    "    if admin_session_id == 'admin':\n",
    "        catalog.append(product_details)\n",
    "        return \"Product added successfully.\"\n",
    "    else:\n",
    "        return \"Only admin can add products.\"\n"
   ]
  },
  {
   "cell_type": "code",
   "execution_count": 149,
   "id": "3a08ea6b-6cf7-4b00-a40f-b94c34b51114",
   "metadata": {},
   "outputs": [],
   "source": [
    "def checkout(payment_option):\n",
    "    if payment_option == 'UPI':\n",
    "        return \"Redirecting to UPI for payment...\"\n",
    "    elif payment_option == 'Debit Card':\n",
    "        return \"Proceed to card payment...\"\n",
    "    # Other payment options\n"
   ]
  },
  {
   "cell_type": "code",
   "execution_count": 21,
   "id": "c95bda35-9a78-4903-88bf-ce6ba1e84c09",
   "metadata": {},
   "outputs": [
    {
     "name": "stdout",
     "output_type": "stream",
     "text": [
      "Welcome to the Demo Marketplace!\n",
      "\n"
     ]
    },
    {
     "name": "stdin",
     "output_type": "stream",
     "text": [
      "Enter username:  user2\n",
      "Enter password:  user234\n"
     ]
    },
    {
     "name": "stdout",
     "output_type": "stream",
     "text": [
      "\n",
      "User logged in successfully.\n",
      "\n",
      "User Menu:\n",
      "1. View Product Catalog\n",
      "2. Add to Cart\n",
      "3. View Cart\n",
      "4. Remove from Cart\n",
      "5. Checkout\n",
      "6. Logout\n"
     ]
    },
    {
     "name": "stdin",
     "output_type": "stream",
     "text": [
      "Enter your choice:  1\n"
     ]
    },
    {
     "name": "stdout",
     "output_type": "stream",
     "text": [
      "\n",
      "Available Products:\n",
      "ID: 1, Name: Boots, Category: Footwear, Price: 2000\n",
      "ID: 2, Name: Sandlas, Category: Footwear, Price: 1000\n",
      "ID: 3, Name: Jacket, Category: Clothing, Price: 3000\n",
      "ID: 4, Name: kurta, Category: Clothing, Price: 600\n",
      "ID: 5, Name: Jean2, Category: Clothing, Price: 1600\n",
      "ID: 6, Name: Top, Category: Clothing, Price: 1200\n",
      "ID: 7, Name: Headphones, Category: Electronics, Price: 1500\n",
      "ID: 8, Name: Laptop, Category: Electronics, Price: 60000\n",
      "ID: 9, Name: Phone, Category: Electronics, Price: 26000\n",
      "ID: 10, Name: A/C, Category: Electronics, Price: 50000\n",
      "\n",
      "User Menu:\n",
      "1. View Product Catalog\n",
      "2. Add to Cart\n",
      "3. View Cart\n",
      "4. Remove from Cart\n",
      "5. Checkout\n",
      "6. Logout\n"
     ]
    },
    {
     "name": "stdin",
     "output_type": "stream",
     "text": [
      "Enter your choice:  3\n"
     ]
    },
    {
     "name": "stdout",
     "output_type": "stream",
     "text": [
      "\n",
      "Your cart is empty.\n",
      "\n",
      "User Menu:\n",
      "1. View Product Catalog\n",
      "2. Add to Cart\n",
      "3. View Cart\n",
      "4. Remove from Cart\n",
      "5. Checkout\n",
      "6. Logout\n"
     ]
    },
    {
     "name": "stdin",
     "output_type": "stream",
     "text": [
      "Enter your choice:  5\n",
      "Enter payment option (UPI/Debit Card):  UPI\n"
     ]
    },
    {
     "name": "stdout",
     "output_type": "stream",
     "text": [
      "\n",
      "Your cart is empty.\n"
     ]
    }
   ],
   "source": [
    "\n",
    "# Welcome message\n",
    "def welcome_message():\n",
    "    print(\"Welcome to the Demo Marketplace!\\n\")\n",
    "\n",
    "# User and Admin login credentials\n",
    "admin_credentials = {'admin': 'admin123'}\n",
    "user_credentials = {'user1': 'user123', 'user2': 'user234'}\n",
    "\n",
    "# Session management\n",
    "session = {'logged_in': False, 'role': None}\n",
    "\n",
    "# Product catalog (category id, name, price)\n",
    "catalog = [\n",
    "    {'product_id': 1, 'name': 'Boots', 'category': 'Footwear', 'price': 2000},\n",
    "    {'product_id': 2, 'name': 'Sandlas','category': 'Footwear', 'price':1000},\n",
    "    {'product_id': 3, 'name': 'Jacket', 'category': 'Clothing', 'price': 3000},\n",
    "    {'product_id': 4, 'name': 'kurta','category': 'Clothing', 'price':600},\n",
    "    {'product_id': 5, 'name': 'Jean2','category': 'Clothing', 'price':1600},\n",
    "    {'product_id': 6, 'name': 'Top','category': 'Clothing', 'price':1200},\n",
    "    {'product_id': 7, 'name': 'Headphones', 'category': 'Electronics', 'price': 1500},\n",
    "    {'product_id': 8, 'name': 'Laptop','category': 'Electronics', 'price':60000},\n",
    "    {'product_id': 9, 'name': 'Phone','category': 'Electronics', 'price':26000},\n",
    "    {'product_id': 10, 'name': 'A/C','category': 'Electronics', 'price':50000}\n",
    "]\n",
    "\n",
    "# Cart management\n",
    "cart = []\n",
    "\n",
    "# Function to handle user login\n",
    "def login():\n",
    "    username = input(\"Enter username: \")\n",
    "    password = input(\"Enter password: \")\n",
    "    if username in admin_credentials and admin_credentials[username] == password:\n",
    "        session['logged_in'] = True\n",
    "        session['role'] = 'admin'\n",
    "        print(\"\\nAdmin logged in successfully.\")\n",
    "    elif username in user_credentials and user_credentials[username] == password:\n",
    "        session['logged_in'] = True\n",
    "        session['role'] = 'user'\n",
    "        print(\"\\nUser logged in successfully.\")\n",
    "    else:\n",
    "        print(\"Invalid credentials\")\n",
    "\n",
    "# Function to view product catalog\n",
    "def view_catalog():\n",
    "    print(\"\\nAvailable Products:\")\n",
    "    for product in catalog:\n",
    "        print(f\"ID: {product['product_id']}, Name: {product['name']}, Category: {product['category']}, Price: {product['price']}\")\n",
    "\n",
    "# Function to add products to cart\n",
    "def add_to_cart(product_id, quantity):\n",
    "    for product in catalog:\n",
    "        if product['product_id'] == product_id:\n",
    "            cart.append({'product': product, 'quantity': quantity})\n",
    "            print(f\"\\n{product['name']} added to the cart.\")\n",
    "            return\n",
    "    print(\"\\nProduct not found.\")\n",
    "\n",
    "# Function to view cart contents\n",
    "def view_cart():\n",
    "    if not cart:\n",
    "        print(\"\\nYour cart is empty.\")\n",
    "    else:\n",
    "        print(\"\\nYour Cart:\")\n",
    "        for item in cart:\n",
    "            print(f\"\\nProduct: {item['product']['name']}, Quantity: {item['quantity']}, Price: {item['product']['price'] * item['quantity']}\")\n",
    "\n",
    "# Function to remove items from cart\n",
    "def remove_from_cart(product_id):\n",
    "    for item in cart:\n",
    "        if item['product']['product_id'] == product_id:\n",
    "            cart.remove(item)\n",
    "            print(f\"\\nRemoved {item['product']['name']} from the cart.\")\n",
    "            return\n",
    "    print(\"\\nProduct not found in cart.\")\n",
    "\n",
    "# Function to handle payment options\n",
    "def checkout(payment_option):\n",
    "    if not cart: \n",
    "        print(\"\\nYour cart is empty.\")\n",
    "        return \n",
    "    total_amount = sum(item['product']['price'] * item['quantity'] for item in cart)\n",
    "    if payment_option == 'UPI':\n",
    "        print(f\"\\nRedirecting to UPI for payment of Rs. {total_amount}...\")\n",
    "    elif payment_option == 'Debit Card':\n",
    "        print(f\"\\nProceed to card payment for Rs. {total_amount}...\")\n",
    "    print(\"\\nYour order is successfully placed.\")\n",
    "\n",
    "# Admin-only function to add new products to catalog\n",
    "def add_product():\n",
    "    if session['role'] == 'admin':\n",
    "        product_id = len(catalog) + 1\n",
    "        name = input(\"Enter product name: \")\n",
    "        category = input(\"Enter product category: \")\n",
    "        price = int(input(\"Enter product price: \"))\n",
    "        catalog.append({'product_id': product_id, 'name': name, 'category': category, 'price': price})\n",
    "        print(f\"\\nProduct '{name}' added successfully.\")\n",
    "    else:\n",
    "        print(\"\\nOnly admin can add products.\")\n",
    "\n",
    "# Admin-only function to remove products from catalog\n",
    "def remove_product():\n",
    "    if session['role'] == 'admin':\n",
    "        product_id = int(input(\"Enter product ID to remove: \"))\n",
    "        for product in catalog:\n",
    "            if product['product_id'] == product_id:\n",
    "                catalog.remove(product)\n",
    "                print(f\"\\nProduct '{product['name']}' removed from catalog.\")\n",
    "                return\n",
    "        print(\"\\nProduct not found.\")\n",
    "    else:\n",
    "        print(\"\\nOnly admin can remove products.\")\n",
    "\n",
    "# Admin-only function to update products in catalog\n",
    "def update_product():\n",
    "    if session['role'] == 'admin':\n",
    "        product_id = int(input(\"Enter product ID to update: \"))\n",
    "        for product in catalog:\n",
    "            if product['product_id'] == product_id:\n",
    "                new_name = input(f\"Enter new name for {product['name']} (or press Enter to keep the same): \")\n",
    "                new_price = input(f\"Enter new price for {product['price']} (or press Enter to keep the same): \")\n",
    "                if new_name:\n",
    "                    product['name'] = new_name\n",
    "                if new_price:\n",
    "                    product['price'] = int(new_price)\n",
    "                print(f\"\\nProduct '{product['name']}' updated successfully.\")\n",
    "                return\n",
    "        print(\"\\nProduct not found.\")\n",
    "    else:\n",
    "        print(\"\\nOnly admin can update products.\")\n",
    "\n",
    "# Admin-only function to add or remove categories\n",
    "def add_category():\n",
    "    if session['role'] == 'admin':\n",
    "        category = input(\"Enter new category name: \")\n",
    "        print(f\"\\nCategory '{category}' added.\")\n",
    "    else:\n",
    "        print(\"\\nOnly admin can add categories.\")\n",
    "\n",
    "def remove_category():\n",
    "    if session['role'] == 'admin':\n",
    "        category = input(\"Enter category name to remove: \")\n",
    "        print(f\"\\nCategory '{category}' removed.\")\n",
    "    else:\n",
    "        print(\"\\nOnly admin can remove categories.\")\n",
    "\n",
    "# Main function \n",
    "def run_shopping_app():\n",
    "    welcome_message()\n",
    "    login()\n",
    "\n",
    "    if session['logged_in']:\n",
    "        while True:\n",
    "            if session['role'] == 'user':\n",
    "                print(\"\\nUser Menu:\")\n",
    "                print(\"1. View Product Catalog\")\n",
    "                print(\"2. Add to Cart\")\n",
    "                print(\"3. View Cart\")\n",
    "                print(\"4. Remove from Cart\")\n",
    "                print(\"5. Checkout\")\n",
    "                print(\"6. Logout\")\n",
    "\n",
    "                choice = int(input(\"Enter your choice: \"))\n",
    "\n",
    "                if choice == 1:\n",
    "                    view_catalog()\n",
    "                elif choice == 2:\n",
    "                    product_id = int(input(\"Enter product ID to add to cart: \"))\n",
    "                    quantity = int(input(\"Enter quantity: \"))\n",
    "                    add_to_cart(product_id, quantity)\n",
    "                elif choice == 3:\n",
    "                    view_cart()\n",
    "                elif choice == 4:\n",
    "                    product_id = int(input(\"Enter product ID to remove from cart: \"))\n",
    "                    remove_from_cart(product_id)\n",
    "                elif choice == 5:\n",
    "                    payment_option = input(\"Enter payment option (UPI/Debit Card): \")\n",
    "                    checkout(payment_option)\n",
    "                    break\n",
    "                elif choice == 6:\n",
    "                    print(\"Logging out...\")\n",
    "                    session['logged_in'] = False\n",
    "                    break\n",
    "                else:\n",
    "                    print(\"Invalid choice.\")\n",
    "\n",
    "            elif session['role'] == 'admin':\n",
    "                print(\"\\nAdmin Menu:\")\n",
    "                print(\"1. View Product Catalog\")\n",
    "                print(\"2. Add New Product\")\n",
    "                print(\"3. Update Product\")\n",
    "                print(\"4. Remove Product\")\n",
    "                print(\"5. Add Category\")\n",
    "                print(\"6. Remove Category\")\n",
    "                print(\"7. Logout\")\n",
    "\n",
    "                choice = int(input(\"Enter your choice: \"))\n",
    "\n",
    "                if choice == 1:\n",
    "                    view_catalog()\n",
    "                elif choice == 2:\n",
    "                    add_product()\n",
    "                elif choice == 3:\n",
    "                    update_product()\n",
    "                elif choice == 4:\n",
    "                    remove_product()\n",
    "                elif choice == 5:\n",
    "                    add_category()\n",
    "                elif choice == 6:\n",
    "                    remove_category()\n",
    "                elif choice == 7:\n",
    "                    print(\"Logging out...\")\n",
    "                    session['logged_in'] = False\n",
    "                    break\n",
    "                else:\n",
    "                    print(\"Invalid choice.\")\n",
    "\n",
    "# TO Run the shopping app\n",
    "run_shopping_app()\n"
   ]
  },
  {
   "cell_type": "markdown",
   "id": "2093e3a1-ec89-46f7-bfef-ab0831cd5df8",
   "metadata": {},
   "source": [
    " EdTech Backend System"
   ]
  },
  {
   "cell_type": "markdown",
   "id": "0d14f27a-af38-4f52-b5f4-2320bcd71723",
   "metadata": {},
   "source": [
    "SL Tech is an edtech company that provides training \n",
    "programs on various technical and functional skills. They are planning to update\n",
    "their learner interface to enhance the learning experience. As part of the \n",
    "development team, you have to support the backend development by creating \n",
    "modules to manage the credentials, courses, and other activities of learners."
   ]
  },
  {
   "cell_type": "code",
   "execution_count": 15,
   "id": "7eadc669-cf6e-4e24-8790-247bdc31c95a",
   "metadata": {},
   "outputs": [],
   "source": [
    "class Users:\n",
    "    def __init__(self,name,email,password):\n",
    "        self.name=name\n",
    "        self.email=email\n",
    "        self.password=password\n",
    "    def update_email(self,new_email):\n",
    "        self.email=new_email\n",
    "    def update_pwd(self,new_password):\n",
    "        self.password=new_password\n",
    "    def valid_creential(self,email,password):\n",
    "        return self.email==email and self.password==password"
   ]
  },
  {
   "cell_type": "code",
   "execution_count": null,
   "id": "06fadd95-8067-4b4f-88ca-648bdbe82427",
   "metadata": {},
   "outputs": [],
   "source": [
    "class Learner(Users):\n",
    "    def __init__(self,name,email,password):\n",
    "        super().__init__(name,email,password)\n",
    "        self.enrolled_course=[]\n",
    "    def enroll_course(self,course):\n",
    "        self.enrolled_course.append(course)\n",
    "    def drop_course(self,course):\n",
    "        if course in self.enrolled_course:\n",
    "            self.enrolled_course.remove(course)\n"
   ]
  },
  {
   "cell_type": "code",
   "execution_count": 19,
   "id": "36525e93-eafa-4865-9194-04147e0c6948",
   "metadata": {},
   "outputs": [],
   "source": [
    "class Instructor(Users):\n",
    "    def __init__(self,name,email,password):\n",
    "        super().__init__(name,email,password)\n",
    "        self.course_taught=[]\n",
    "    def add_course(self,course):\n",
    "        self.course_taught.append(course)\n",
    "    def remove_course(self,course):\n",
    "        if course in self.course_taught:\n",
    "            self.course_taught.remove(course)"
   ]
  },
  {
   "cell_type": "code",
   "execution_count": 21,
   "id": "3a22ea2f-1abb-485e-a8f9-139b69edfd29",
   "metadata": {},
   "outputs": [],
   "source": [
    "class Course:\n",
    "    def __init__(self,course_name,Instructor):\n",
    "        self.course_name=course_name\n",
    "        self.Instructor=Instructor\n",
    "        self.learners=[]\n",
    "    def add_learner(self,learner):\n",
    "        self.learners.append(learner)\n",
    "    def remove_learner(self,learner):\n",
    "        if learner in self.learners:\n",
    "            self.learners.remove(learner)\n",
    "    def list_learners(self):\n",
    "        return [learner.username for learner in self.learners]"
   ]
  },
  {
   "cell_type": "code",
   "execution_count": 32,
   "id": "88cafd88-9255-44ce-a4a2-21565c5596cc",
   "metadata": {},
   "outputs": [],
   "source": [
    "class Enrollement:\n",
    "    def __init__(self,learner,course,enrollement_date):\n",
    "        self.learner=learner\n",
    "        self.course=course\n",
    "        self.enrollement_date=enrollement_date\n",
    "    def enroll(self):\n",
    "        self.course.add_learner(self.learner)\n",
    "    def unenroll(self):\n",
    "        self.course.remove_learner(self.learner)"
   ]
  },
  {
   "cell_type": "code",
   "execution_count": 37,
   "id": "38f6f26e-d776-4662-85e0-a865942bc848",
   "metadata": {},
   "outputs": [],
   "source": [
    "class SLTechBackend:\n",
    "    def __init__(self):\n",
    "        self.users=[]\n",
    "        self.course=[]\n",
    "    def add_user(self,user):\n",
    "        self.user.append(user)\n",
    "    def add_course(self,course):\n",
    "        self.course.append(course)\n",
    "    def get_enrolled_learners(self,course_name):\n",
    "        for course in self.courses:\n",
    "            if course.course_name==course_name:\n",
    "                return course.list_learners()\n",
    "    def get_user_courses(self,user):\n",
    "        if isinstance(user, Learner):\n",
    "            return user.enrolled_courses\n",
    "        elif isinstance(user, Instructor):\n",
    "            return user.courses_taught"
   ]
  },
  {
   "cell_type": "code",
   "execution_count": 42,
   "id": "9683c3e5-3d02-4099-bf21-e2a6bd99461e",
   "metadata": {},
   "outputs": [],
   "source": [
    "def add_new_user(backend):\n",
    "    username = input(\"Enter username: \")\n",
    "    email = input(\"Enter email: \")\n",
    "    password = input(\"Enter password: \")\n",
    "    role = input(\"Is this user a Learner or Instructor? \")\n",
    "    \n",
    "    if role.lower() == \"learner\":\n",
    "        user = Learner(username, email, password)\n",
    "    elif role.lower() == \"instructor\":\n",
    "        user = Instructor(username, email, password)\n",
    "    \n",
    "    backend.add_user(user)\n",
    "    print(f\"User {username} added successfully!\")\n",
    "\n",
    "def add_new_course(backend):\n",
    "    course_name = input(\"Enter course name: \")\n",
    "    instructor_name = input(\"Enter instructor's username: \")\n",
    "\n",
    "    instructor = next(user for user in backend.users if user.username == instructor_name and isinstance(user, Instructor))\n",
    "    course = Course(course_name, instructor)\n",
    "    backend.add_course(course)\n",
    "    instructor.add_course(course)\n",
    "    print(f\"Course {course_name} added successfully!\")\n"
   ]
  },
  {
   "cell_type": "code",
   "execution_count": null,
   "id": "d7e7e665-f3e9-477a-869d-52ac00ca27d8",
   "metadata": {},
   "outputs": [
    {
     "name": "stdout",
     "output_type": "stream",
     "text": [
      "\n",
      "--- SLTech Backend ---\n",
      "1. Add a new user\n",
      "2. Add a new course\n",
      "3. Enroll a learner in a course\n",
      "4. View enrolled learners\n",
      "5. View user's courses\n",
      "6. Exit\n"
     ]
    },
    {
     "name": "stdin",
     "output_type": "stream",
     "text": [
      "Enter your choice:  1\n",
      "Enter username:  shagan\n",
      "Enter email:  shagan@gamil.com\n",
      "Enter password:  12345\n",
      "Is this user a Learner or Instructor?  Learner\n"
     ]
    },
    {
     "name": "stdout",
     "output_type": "stream",
     "text": [
      "User shagan added successfully!\n",
      "\n",
      "--- SLTech Backend ---\n",
      "1. Add a new user\n",
      "2. Add a new course\n",
      "3. Enroll a learner in a course\n",
      "4. View enrolled learners\n",
      "5. View user's courses\n",
      "6. Exit\n"
     ]
    },
    {
     "name": "stdin",
     "output_type": "stream",
     "text": [
      "Enter your choice:  2\n",
      "Enter course name:  Maths\n",
      "Enter instructor's username:  Rajinder\n"
     ]
    },
    {
     "name": "stdout",
     "output_type": "stream",
     "text": [
      "Instructor Rajinder not found.\n",
      "\n",
      "--- SLTech Backend ---\n",
      "1. Add a new user\n",
      "2. Add a new course\n",
      "3. Enroll a learner in a course\n",
      "4. View enrolled learners\n",
      "5. View user's courses\n",
      "6. Exit\n"
     ]
    },
    {
     "name": "stdin",
     "output_type": "stream",
     "text": [
      "Enter your choice:  3\n",
      "Enter learner's username:  shagan\n",
      "Enter course name:  Maths\n"
     ]
    },
    {
     "name": "stdout",
     "output_type": "stream",
     "text": [
      "Learner or Course not found.\n",
      "\n",
      "--- SLTech Backend ---\n",
      "1. Add a new user\n",
      "2. Add a new course\n",
      "3. Enroll a learner in a course\n",
      "4. View enrolled learners\n",
      "5. View user's courses\n",
      "6. Exit\n"
     ]
    }
   ],
   "source": [
    "from datetime import datetime\n",
    "\n",
    "# 1. User Class\n",
    "class User:\n",
    "    def __init__(self, username, email, password):\n",
    "        self.username = username\n",
    "        self.email = email\n",
    "        self.password = password\n",
    "\n",
    "    def update_email(self, new_email):\n",
    "        self.email = new_email\n",
    "\n",
    "    def update_password(self, new_password):\n",
    "        self.password = new_password\n",
    "\n",
    "    def validate_credentials(self, email, password):\n",
    "        return self.email == email and self.password == password\n",
    "\n",
    "\n",
    "# 2. Learner Class (Inherits User)\n",
    "class Learner(User):\n",
    "    def __init__(self, username, email, password):\n",
    "        super().__init__(username, email, password)\n",
    "        self.enrolled_courses = []\n",
    "\n",
    "    def enroll_course(self, course):\n",
    "        self.enrolled_courses.append(course)\n",
    "\n",
    "    def drop_course(self, course):\n",
    "        self.enrolled_courses.remove(course)\n",
    "\n",
    "\n",
    "# 3. Instructor Class (Inherits User)\n",
    "class Instructor(User):\n",
    "    def __init__(self, username, email, password):\n",
    "        super().__init__(username, email, password)\n",
    "        self.courses_taught = []\n",
    "\n",
    "    def add_course(self, course):\n",
    "        self.courses_taught.append(course)\n",
    "\n",
    "    def remove_course(self, course):\n",
    "        self.courses_taught.remove(course)\n",
    "\n",
    "\n",
    "# 4. Course Class\n",
    "class Course:\n",
    "    def __init__(self, course_name, instructor):\n",
    "        self.course_name = course_name\n",
    "        self.instructor = instructor\n",
    "        self.learners = []\n",
    "\n",
    "    def add_learner(self, learner):\n",
    "        self.learners.append(learner)\n",
    "\n",
    "    def remove_learner(self, learner):\n",
    "        self.learners.remove(learner)\n",
    "\n",
    "    def list_learners(self):\n",
    "        return [learner.username for learner in self.learners]\n",
    "\n",
    "\n",
    "# 5. Enrollment Class\n",
    "class Enrollment:\n",
    "    def __init__(self, learner, course):\n",
    "        self.learner = learner\n",
    "        self.course = course\n",
    "        self.enrollment_date = datetime.now()\n",
    "\n",
    "    def enroll(self):\n",
    "        self.course.add_learner(self.learner)\n",
    "\n",
    "\n",
    "# 6. SLTech Backend Class\n",
    "class SLTechBackend:\n",
    "    def __init__(self):\n",
    "        self.users = []\n",
    "        self.courses = []\n",
    "\n",
    "    def add_user(self, user):\n",
    "        self.users.append(user)\n",
    "\n",
    "    def add_course(self, course):\n",
    "        self.courses.append(course)\n",
    "\n",
    "    def get_enrolled_learners(self, course_name):\n",
    "        course = next((c for c in self.courses if c.course_name == course_name), None)\n",
    "        return course.list_learners() if course else []\n",
    "\n",
    "    def get_user_courses(self, user):\n",
    "        return user.enrolled_courses if isinstance(user, Learner) else user.courses_taught\n",
    "\n",
    "\n",
    "# 7. User Input Method\n",
    "def add_new_user(backend):\n",
    "    username = input(\"Enter username: \")\n",
    "    email = input(\"Enter email: \")\n",
    "    password = input(\"Enter password: \")\n",
    "    role = input(\"Is this user a Learner or Instructor? \").lower()\n",
    "\n",
    "    if role == \"learner\":\n",
    "        user = Learner(username, email, password)\n",
    "    elif role == \"instructor\":\n",
    "        user = Instructor(username, email, password)\n",
    "    else:\n",
    "        print(\"Invalid role. User not added.\")\n",
    "        return\n",
    "\n",
    "    backend.add_user(user)\n",
    "    print(f\"User {username} added successfully!\")\n",
    "\n",
    "\n",
    "def add_new_course(backend):\n",
    "    course_name = input(\"Enter course name: \")\n",
    "    instructor_name = input(\"Enter instructor's username: \")\n",
    "\n",
    "    instructor = next((user for user in backend.users if user.username == instructor_name and isinstance(user, Instructor)), None)\n",
    "    if not instructor:\n",
    "        print(f\"Instructor {instructor_name} not found.\")\n",
    "        return\n",
    "\n",
    "    course = Course(course_name, instructor)\n",
    "    backend.add_course(course)\n",
    "    instructor.add_course(course)\n",
    "    print(f\"Course {course_name} added successfully!\")\n",
    "\n",
    "\n",
    "def enroll_learner_in_course(backend):\n",
    "    learner_name = input(\"Enter learner's username: \")\n",
    "    course_name = input(\"Enter course name: \")\n",
    "\n",
    "    learner = next((user for user in backend.users if user.username == learner_name and isinstance(user, Learner)), None)\n",
    "    course = next((c for c in backend.courses if c.course_name == course_name), None)\n",
    "\n",
    "    if not learner or not course:\n",
    "        print(f\"Learner or Course not found.\")\n",
    "        return\n",
    "\n",
    "    enrollment = Enrollment(learner, course)\n",
    "    enrollment.enroll()\n",
    "    print(f\"Learner {learner_name} enrolled in {course_name}!\")\n",
    "\n",
    "\n",
    "def main():\n",
    "    backend = SLTechBackend()\n",
    "\n",
    "    while True:\n",
    "        print(\"\\n--- SLTech Backend ---\")\n",
    "        print(\"1. Add a new user\")\n",
    "        print(\"2. Add a new course\")\n",
    "        print(\"3. Enroll a learner in a course\")\n",
    "        print(\"4. View enrolled learners\")\n",
    "        print(\"5. View user's courses\")\n",
    "        print(\"6. Exit\")\n",
    "\n",
    "        choice = input(\"Enter your choice: \")\n",
    "\n",
    "        if choice == \"1\":\n",
    "            add_new_user(backend)\n",
    "        elif choice == \"2\":\n",
    "            add_new_course(backend)\n",
    "        elif choice == \"3\":\n",
    "            enroll_learner_in_course(backend)\n",
    "        elif choice == \"4\":\n",
    "            course_name = input(\"Enter course name: \")\n",
    "            learners = backend.get_enrolled_learners(course_name)\n",
    "            print(f\"Learners enrolled in {course_name}: {learners}\")\n",
    "        elif choice == \"5\":\n",
    "            username = input(\"Enter username: \")\n",
    "            user = next((u for u in backend.users if u.username == username), None)\n",
    "            if user:\n",
    "                courses = backend.get_user_courses(user)\n",
    "                print(f\"Courses for {username}: {[c.course_name for c in courses]}\")\n",
    "            else:\n",
    "                print(f\"User {username} not found.\")\n",
    "        elif choice == \"6\":\n",
    "            print(\"Exiting...\")\n",
    "            break\n",
    "        else:\n",
    "            print(\"Invalid choice. Please try again.\")\n",
    "\n",
    "if __name__ == \"__main__\":\n",
    "    main()\n"
   ]
  },
  {
   "cell_type": "code",
   "execution_count": null,
   "id": "3c0aa17f-53bd-40fc-8a16-a72d11f14c9e",
   "metadata": {},
   "outputs": [],
   "source": []
  },
  {
   "cell_type": "code",
   "execution_count": null,
   "id": "37ac550e-5561-44af-8a84-5c11ed1693e5",
   "metadata": {},
   "outputs": [],
   "source": []
  },
  {
   "cell_type": "code",
   "execution_count": null,
   "id": "b3edfac0-c529-447d-89dd-8a76b2bfd5e7",
   "metadata": {},
   "outputs": [],
   "source": []
  },
  {
   "cell_type": "code",
   "execution_count": null,
   "id": "0f22067c-1f03-4b16-849a-e715df097a84",
   "metadata": {},
   "outputs": [],
   "source": []
  }
 ],
 "metadata": {
  "kernelspec": {
   "display_name": "Python 3 (ipykernel)",
   "language": "python",
   "name": "python3"
  },
  "language_info": {
   "codemirror_mode": {
    "name": "ipython",
    "version": 3
   },
   "file_extension": ".py",
   "mimetype": "text/x-python",
   "name": "python",
   "nbconvert_exporter": "python",
   "pygments_lexer": "ipython3",
   "version": "3.12.4"
  }
 },
 "nbformat": 4,
 "nbformat_minor": 5
}
