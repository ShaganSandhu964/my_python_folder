{
 "cells": [
  {
   "cell_type": "raw",
   "id": "f8c84b7a-c6b0-482c-b99e-b8b73fc8e633",
   "metadata": {},
   "source": [
    "Python Data Classes"
   ]
  },
  {
   "cell_type": "markdown",
   "id": "9dc20f8f-00f5-4c70-a13a-ec05e2763b47",
   "metadata": {},
   "source": [
    "in python ,the dataclass is a feature introduce in python 3.7 that provides\n",
    "a concise way to define the classes primarily intended to store data.it automatically\n",
    "generates several special methods,such as input as init,reprand eq,based on the class attributes you define.this simplifies the process of creating and working with data-focused classes"
   ]
  },
  {
   "cell_type": "code",
   "execution_count": 5,
   "id": "db8006a6-c580-45ff-b89b-acdc38d5d2d7",
   "metadata": {},
   "outputs": [],
   "source": [
    "from dataclasses import dataclass\n",
    "@dataclass\n",
    "class Person:\n",
    "    name:str\n",
    "    age:int\n",
    "    profession:str"
   ]
  },
  {
   "cell_type": "markdown",
   "id": "fa0f175c-bb11-4b04-be71-3ff427da1f8a",
   "metadata": {},
   "source": [
    "The @dataclass decorator automatically generates the following methods for you:\n",
    "__init__():Initializes the object and assigns the provided values to the attributes\n",
    "__repr__(): Provides a string representation of the object.\n",
    "__eq__():Implements equality comparsion between two objects of the class based on their attributes"
   ]
  },
  {
   "cell_type": "code",
   "execution_count": 9,
   "id": "0d8bcd35-9c01-458e-a4ce-04883e2742ff",
   "metadata": {},
   "outputs": [
    {
     "data": {
      "text/plain": [
       "Person(name='shagan', age=21, profession='SE')"
      ]
     },
     "execution_count": 9,
     "metadata": {},
     "output_type": "execute_result"
    }
   ],
   "source": [
    "person1=Person('shagan',21,'SE')\n",
    "person1"
   ]
  },
  {
   "cell_type": "code",
   "execution_count": 13,
   "id": "876afd39-4001-4c0d-b71d-0bbc3f211bb1",
   "metadata": {},
   "outputs": [
    {
     "data": {
      "text/plain": [
       "21"
      ]
     },
     "execution_count": 13,
     "metadata": {},
     "output_type": "execute_result"
    }
   ],
   "source": [
    "person1.age"
   ]
  },
  {
   "cell_type": "code",
   "execution_count": 15,
   "id": "87656622-98bc-42d2-955a-e5f18b010061",
   "metadata": {},
   "outputs": [],
   "source": [
    "@dataclass\n",
    "class Rectangle:\n",
    "    width:int\n",
    "    height:int\n",
    "    color:str='white'\n",
    "rectangle1=Rectangle(12,14)\n",
    "rectangle2=Rectangle(13,14,'red')"
   ]
  },
  {
   "cell_type": "code",
   "execution_count": 17,
   "id": "dc22f2fd-af94-4ac5-b482-24cb2cea9ed8",
   "metadata": {},
   "outputs": [
    {
     "data": {
      "text/plain": [
       "'white'"
      ]
     },
     "execution_count": 17,
     "metadata": {},
     "output_type": "execute_result"
    }
   ],
   "source": [
    "rectangle1.color"
   ]
  },
  {
   "cell_type": "code",
   "execution_count": 19,
   "id": "5e21f97b-af2d-44ee-bdeb-b95e77992691",
   "metadata": {},
   "outputs": [
    {
     "data": {
      "text/plain": [
       "'red'"
      ]
     },
     "execution_count": 19,
     "metadata": {},
     "output_type": "execute_result"
    }
   ],
   "source": [
    "rectangle2.color"
   ]
  },
  {
   "cell_type": "code",
   "execution_count": 23,
   "id": "7030f7b3-3e8e-4b3f-b083-6a93f980aecd",
   "metadata": {},
   "outputs": [],
   "source": [
    "@dataclass(frozen=True)\n",
    "class Point:\n",
    "    x:int\n",
    "    y:int\n",
    "point=Point(3,6)"
   ]
  },
  {
   "cell_type": "code",
   "execution_count": 31,
   "id": "70a1e267-1720-4b0f-8b51-53f0db685f90",
   "metadata": {},
   "outputs": [
    {
     "data": {
      "text/plain": [
       "3"
      ]
     },
     "execution_count": 31,
     "metadata": {},
     "output_type": "execute_result"
    }
   ],
   "source": [
    "point.x"
   ]
  },
  {
   "cell_type": "code",
   "execution_count": 35,
   "id": "727fcc8b-158e-42e3-8922-a76006fe0c15",
   "metadata": {},
   "outputs": [
    {
     "data": {
      "text/plain": [
       "(3, 6)"
      ]
     },
     "execution_count": 35,
     "metadata": {},
     "output_type": "execute_result"
    }
   ],
   "source": [
    "(point.x,point.y)"
   ]
  },
  {
   "cell_type": "code",
   "execution_count": 37,
   "id": "534ddd76-ce31-45f5-aa49-6d2f384d899a",
   "metadata": {},
   "outputs": [
    {
     "ename": "FrozenInstanceError",
     "evalue": "cannot assign to field 'x'",
     "output_type": "error",
     "traceback": [
      "\u001b[1;31m---------------------------------------------------------------------------\u001b[0m",
      "\u001b[1;31mFrozenInstanceError\u001b[0m                       Traceback (most recent call last)",
      "Cell \u001b[1;32mIn[37], line 1\u001b[0m\n\u001b[1;32m----> 1\u001b[0m point\u001b[38;5;241m.\u001b[39mx\u001b[38;5;241m=\u001b[39m\u001b[38;5;241m12\u001b[39m\n",
      "File \u001b[1;32m<string>:4\u001b[0m, in \u001b[0;36m__setattr__\u001b[1;34m(self, name, value)\u001b[0m\n",
      "\u001b[1;31mFrozenInstanceError\u001b[0m: cannot assign to field 'x'"
     ]
    }
   ],
   "source": [
    "# it will gives an error once we decide to instance then we can not change\n",
    "# why we canot change the value because t staring we gave the instance that frozen =0\n",
    "point.x=12"
   ]
  },
  {
   "cell_type": "code",
   "execution_count": 49,
   "id": "279179ec-c0a6-42c3-9152-98f52cd4a623",
   "metadata": {},
   "outputs": [],
   "source": [
    "# Inheritance\n",
    "@dataclass\n",
    "class Person:\n",
    "    name:str\n",
    "    age:int\n",
    "@dataclass\n",
    "class Employee(Person):\n",
    "    employee_id:str\n",
    "    department:str"
   ]
  },
  {
   "cell_type": "code",
   "execution_count": 51,
   "id": "423c3939-9b30-4eed-a5cb-cac5acc9d4ff",
   "metadata": {},
   "outputs": [],
   "source": [
    "person=Person('shagan',21)\n",
    "employee=Employee('shagan',21,'1221','AI')"
   ]
  },
  {
   "cell_type": "code",
   "execution_count": 53,
   "id": "c44e09f1-671f-4429-8855-e905bc3aa649",
   "metadata": {},
   "outputs": [
    {
     "data": {
      "text/plain": [
       "'shagan'"
      ]
     },
     "execution_count": 53,
     "metadata": {},
     "output_type": "execute_result"
    }
   ],
   "source": [
    "employee.name"
   ]
  },
  {
   "cell_type": "code",
   "execution_count": 55,
   "id": "014311f0-82d7-4e55-a47c-8ebecafe73ca",
   "metadata": {},
   "outputs": [
    {
     "data": {
      "text/plain": [
       "'AI'"
      ]
     },
     "execution_count": 55,
     "metadata": {},
     "output_type": "execute_result"
    }
   ],
   "source": [
    "employee.department"
   ]
  },
  {
   "cell_type": "code",
   "execution_count": 57,
   "id": "d70c0d07-3d4e-4ab0-811c-e0de45ed940b",
   "metadata": {},
   "outputs": [],
   "source": [
    "#nested dataclasses\n",
    "@dataclass\n",
    "class Address:\n",
    "    street:str\n",
    "    city:str\n",
    "    zip_code:str\n",
    "@dataclass\n",
    "class Person:\n",
    "    name:str\n",
    "    age:str\n",
    "    address:Address"
   ]
  },
  {
   "cell_type": "code",
   "execution_count": 61,
   "id": "76a777d1-1cae-4f97-81cc-5d4346a08e87",
   "metadata": {},
   "outputs": [],
   "source": [
    "address=Address(\"123 main street\",'rajpura','12454')\n",
    "person=Person('krish',31,address)"
   ]
  },
  {
   "cell_type": "code",
   "execution_count": 63,
   "id": "b825d62b-4d80-4bbb-ae14-2c64a73999f7",
   "metadata": {},
   "outputs": [
    {
     "data": {
      "text/plain": [
       "Address(street='123 main street', city='rajpura', zip_code='12454')"
      ]
     },
     "execution_count": 63,
     "metadata": {},
     "output_type": "execute_result"
    }
   ],
   "source": [
    "person.address"
   ]
  },
  {
   "cell_type": "code",
   "execution_count": 65,
   "id": "f78f41ce-69d1-4322-98f9-1841d4013f7b",
   "metadata": {},
   "outputs": [
    {
     "data": {
      "text/plain": [
       "'123 main street'"
      ]
     },
     "execution_count": 65,
     "metadata": {},
     "output_type": "execute_result"
    }
   ],
   "source": [
    "person.address.street"
   ]
  },
  {
   "cell_type": "code",
   "execution_count": null,
   "id": "0583bca6-d1a1-4711-9a43-4e8750136949",
   "metadata": {},
   "outputs": [],
   "source": []
  }
 ],
 "metadata": {
  "kernelspec": {
   "display_name": "Python 3 (ipykernel)",
   "language": "python",
   "name": "python3"
  },
  "language_info": {
   "codemirror_mode": {
    "name": "ipython",
    "version": 3
   },
   "file_extension": ".py",
   "mimetype": "text/x-python",
   "name": "python",
   "nbconvert_exporter": "python",
   "pygments_lexer": "ipython3",
   "version": "3.12.4"
  }
 },
 "nbformat": 4,
 "nbformat_minor": 5
}
