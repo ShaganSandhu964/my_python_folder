{
 "cells": [
  {
   "cell_type": "markdown",
   "id": "c1cf4fe5-f2eb-4c10-826b-97830433a088",
   "metadata": {},
   "source": [
    "# Create a resume scanner using keyword extraction"
   ]
  },
  {
   "cell_type": "code",
   "execution_count": 16,
   "id": "c13cfd00-f912-44a6-8fc0-52711c4333d6",
   "metadata": {},
   "outputs": [
    {
     "name": "stdout",
     "output_type": "stream",
     "text": [
      "Resume:\n",
      "    resume_id                                        resume_text\n",
      "0          1  Experienced data scientist with skills in pyth...\n",
      "1          2  Software developer with expertise in java, clo...\n",
      "2          3  Data analyst with proficiency in SQL, python a...\n",
      "\n",
      "Resume Similarity Scores:\n",
      "    resume_id  similarity_score\n",
      "0          1          0.662564\n",
      "1          2          0.000000\n",
      "2          3          0.418121\n",
      "\n",
      "Resumes matching the job requirements:\n",
      "    resume_id  similarity_score\n",
      "0          1          0.662564\n",
      "2          3          0.418121\n"
     ]
    }
   ],
   "source": [
    "import pandas as pd  \n",
    "from sklearn.feature_extraction.text import TfidfVectorizer  \n",
    "from sklearn.metrics.pairwise import cosine_similarity  \n",
    "\n",
    "# Sample resumes and job description data  \n",
    "data = {  \n",
    "    'resume_id': [1, 2, 3],  \n",
    "    'resume_text': [  \n",
    "        \"Experienced data scientist with skills in python, machine learning and data analysis.\",  \n",
    "        \"Software developer with expertise in java, cloud computing, and project management.\",  \n",
    "        \"Data analyst with proficiency in SQL, python and data visualization.\"  \n",
    "    ]  \n",
    "}  \n",
    "job_description = \"Looking for data scientist skilled in python, machine learning, SQL, and data analysis.\"  \n",
    "\n",
    "# Convert it into a data frame  \n",
    "df = pd.DataFrame(data)  \n",
    "print(\"Resume:\\n\", df)  \n",
    "\n",
    "# Combine job description with resumes for TF-IDF vectorization  \n",
    "documents = df['resume_text'].tolist()  # Initialize documents list  \n",
    "documents.append(job_description)  # Append job description  \n",
    "\n",
    "# Initialize the TfidfVectorizer  \n",
    "vectorizer = TfidfVectorizer(stop_words='english')  \n",
    "tfidf_matrix = vectorizer.fit_transform(documents)  \n",
    "\n",
    "# Calculate similarity scores between job description and each resume  \n",
    "similarity_scores = cosine_similarity(tfidf_matrix[-1], tfidf_matrix[:-1]).flatten()  \n",
    "\n",
    "# Display similarity scores for each resume  \n",
    "df['similarity_score'] = similarity_scores  \n",
    "print('\\nResume Similarity Scores:\\n', df[['resume_id', 'similarity_score']])  \n",
    "\n",
    "# Identify resumes that match the job requirements (threshold can be adjusted)  \n",
    "threshold = 0.2  \n",
    "matching_resumes = df[df['similarity_score'] >= threshold]  \n",
    "print(\"\\nResumes matching the job requirements:\\n\", matching_resumes[['resume_id', 'similarity_score']])"
   ]
  },
  {
   "cell_type": "code",
   "execution_count": null,
   "id": "04f72f8a-1b54-402f-9063-e1567547dba3",
   "metadata": {},
   "outputs": [],
   "source": []
  }
 ],
 "metadata": {
  "kernelspec": {
   "display_name": "Python 3 (ipykernel)",
   "language": "python",
   "name": "python3"
  },
  "language_info": {
   "codemirror_mode": {
    "name": "ipython",
    "version": 3
   },
   "file_extension": ".py",
   "mimetype": "text/x-python",
   "name": "python",
   "nbconvert_exporter": "python",
   "pygments_lexer": "ipython3",
   "version": "3.12.4"
  }
 },
 "nbformat": 4,
 "nbformat_minor": 5
}
