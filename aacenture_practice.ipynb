{
 "cells": [
  {
   "cell_type": "code",
   "execution_count": 11,
   "id": "784b381e-8c46-42e7-b56e-61e05ae168b3",
   "metadata": {},
   "outputs": [
    {
     "name": "stdin",
     "output_type": "stream",
     "text": [
      " 1C0C1C1A0B1\n"
     ]
    },
    {
     "name": "stdout",
     "output_type": "stream",
     "text": [
      "1\n"
     ]
    }
   ],
   "source": [
    "# The Binary number system only uses two digits, 0 and 1 and the number system can be called binary string. You are required to implement the following function:\n",
    "# int OperationsBinaryString(char* str);\n",
    "# The function accepts a string str as its argument. The string str consists of binary digits separated with an alphabet as follows:\n",
    "# – A denotes AND operation\n",
    "# – B denotes OR operation\n",
    "# – C denotes XOR Operation\n",
    "# Note: No order of priorities of operations is required.\n",
    "# Length of str is odd.\n",
    "# If str is NULL or None (in case of Python), return -1.\n",
    "\n",
    "# Input:\n",
    "# 1C0C1C1A0B1\n",
    "\n",
    "# Output:\n",
    "# 1\n",
    "def binary(str):\n",
    "    a=int(str[0])\n",
    "    i=1\n",
    "    while i<len(str):\n",
    "        if str[i]=='A':\n",
    "            a&=int(str[i+1])\n",
    "        elif str[i]=='B':\n",
    "            a|=int(str[i+1])\n",
    "        else:\n",
    "            a^=int(str[i+1])\n",
    "        i+=2\n",
    "    return a\n",
    "str=input()\n",
    "print(binary(str))"
   ]
  },
  {
   "cell_type": "code",
   "execution_count": 25,
   "id": "7d5ece25-5023-467d-8706-c41fb1b5114e",
   "metadata": {},
   "outputs": [
    {
     "name": "stdin",
     "output_type": "stream",
     "text": [
      "r:  7\n",
      "unit:  2\n",
      "n:  8\n",
      "arr:  2 8 3 5 7 4 1 2\n"
     ]
    },
    {
     "name": "stdout",
     "output_type": "stream",
     "text": [
      "4\n"
     ]
    }
   ],
   "source": [
    "# The function accepts two positive integers ‘r’ and ‘unit’ and a positive integer array ‘arr’ of size ‘n’ as its argument ‘r’ represents the number of rats present in an area,\n",
    "# ‘unit’ is the amount of food each rat consumes and each ith element of array ‘arr’ represents the amount of food present in ‘i+1’ house number, where 0 <= i.\n",
    "\n",
    "# Note:\n",
    "# Return -1 if the array is null.\n",
    "# Return 0 if the total amount of food from all houses is not sufficient for all the rats.\n",
    "# Computed values lie within the integer range.\n",
    "\n",
    "# Example:\n",
    "# Input:\n",
    "# r: 7\n",
    "# unit: 2\n",
    "# n: 8\n",
    "# arr: 2 8 3 5 7 4 1 2\n",
    "\n",
    "# Output:\n",
    "# 4\n",
    "\n",
    "# Explanation:\n",
    "# Total amount of food required for all rats = r * unit\n",
    "# = 7 * 2 = 14.\n",
    "# The amount of food in 1st houses = 2+8+3+5 = 18. Since, the amount of food in 1st 4 houses is sufficient for all the rats. Thus, output is 4.\n",
    "def food(r,unit,n,arr):\n",
    "    if n==0:\n",
    "        return -1\n",
    "    count=0\n",
    "    avail=0\n",
    "    totalfood=r*unit\n",
    "    for i in range(n):\n",
    "        avail+=arr[i]\n",
    "        count+=1\n",
    "        if avail>=totalfood:\n",
    "            return count\n",
    "    return 0\n",
    "r=int(input(\"r: \"))\n",
    "unit=int(input(\"unit: \"))\n",
    "n=int(input(\"n: \"))\n",
    "arr=list(map(int,input(\"arr: \").split()))\n",
    "print(food(r,unit,n,arr))"
   ]
  },
  {
   "cell_type": "code",
   "execution_count": 33,
   "id": "c8ce06f5-d621-4d41-bf19-2f0a391cac36",
   "metadata": {},
   "outputs": [
    {
     "name": "stdin",
     "output_type": "stream",
     "text": [
      "a:  -3\n",
      "b: 7\n",
      "c: -1\n",
      "d: 2\n"
     ]
    },
    {
     "name": "stdout",
     "output_type": "stream",
     "text": [
      "-4\n"
     ]
    }
   ],
   "source": [
    "#accenture question\n",
    "# output -4 ->-3+(-1)\n",
    "a=int(input(\"a: \"))\n",
    "b=int(input(\"b:\"))\n",
    "c=int(input(\"c:\"))\n",
    "d=int(input(\"d:\"))\n",
    "nums=[a,b,c,d]\n",
    "n=len(nums)\n",
    "sum=0\n",
    "for i in range(n):\n",
    "    if nums[i]<0:\n",
    "        sum+=nums[i]\n",
    "print(sum)"
   ]
  },
  {
   "cell_type": "code",
   "execution_count": 59,
   "id": "60003791-3a0b-43ae-b1cd-74a9548bb6e8",
   "metadata": {},
   "outputs": [
    {
     "name": "stdin",
     "output_type": "stream",
     "text": [
      " 7 -3 8 2 -5 10 12\n"
     ]
    },
    {
     "name": "stdout",
     "output_type": "stream",
     "text": [
      "2\n"
     ]
    }
   ],
   "source": [
    "# 2nd question\n",
    "# 7,-3,8,2,-5,10,12\n",
    "# remove the negative numbers and then print the mid value of the list\n",
    "arr=list(map(int,input().split()))\n",
    "list1=[]\n",
    "for i in arr:\n",
    "    if i>=0:\n",
    "        list1.append(i)\n",
    "if list:\n",
    "    mid=len(list1)//2\n",
    "    if len(list1)%2==0:\n",
    "        mid_value=(list[mid-1]+list[mid])/2\n",
    "    else:\n",
    "        mid_value=list1[mid]\n",
    "print(mid_value)"
   ]
  },
  {
   "cell_type": "code",
   "execution_count": 65,
   "id": "765812f9-874c-468e-93fe-38f63522f244",
   "metadata": {},
   "outputs": [
    {
     "name": "stdin",
     "output_type": "stream",
     "text": [
      " 7 4 2 9 10 5\n"
     ]
    },
    {
     "name": "stdout",
     "output_type": "stream",
     "text": [
      "19\n"
     ]
    }
   ],
   "source": [
    "# The sum of the maximum two numbers in the array\n",
    "arr=list(map(int,input().split()))\n",
    "arr.sort()\n",
    "sum=arr[-1]+arr[-2]\n",
    "print(sum)"
   ]
  },
  {
   "cell_type": "code",
   "execution_count": null,
   "id": "d6281d89-febe-4454-92f2-8c646c4c495e",
   "metadata": {},
   "outputs": [],
   "source": []
  }
 ],
 "metadata": {
  "kernelspec": {
   "display_name": "Python 3 (ipykernel)",
   "language": "python",
   "name": "python3"
  },
  "language_info": {
   "codemirror_mode": {
    "name": "ipython",
    "version": 3
   },
   "file_extension": ".py",
   "mimetype": "text/x-python",
   "name": "python",
   "nbconvert_exporter": "python",
   "pygments_lexer": "ipython3",
   "version": "3.12.4"
  }
 },
 "nbformat": 4,
 "nbformat_minor": 5
}
