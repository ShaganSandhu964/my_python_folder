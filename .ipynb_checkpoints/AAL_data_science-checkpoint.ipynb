{
 "cells": [
  {
   "cell_type": "code",
   "execution_count": 1,
   "id": "36605b2b-058f-42cb-9740-c8f8f7931818",
   "metadata": {},
   "outputs": [],
   "source": [
    "import pandas as pd\n",
    "import numpy as np\n",
    "import matplotlib.pyplot as plt\n",
    "import seaborn as sns\n"
   ]
  },
  {
   "cell_type": "markdown",
   "id": "26fe7346-475c-47e1-9bb0-56e1533c1e75",
   "metadata": {},
   "source": [
    "# Data wrangling"
   ]
  },
  {
   "cell_type": "code",
   "execution_count": 4,
   "id": "e8dac403-6f71-498d-8e00-ce7f020ca29e",
   "metadata": {},
   "outputs": [],
   "source": [
    "# Loading the dataset\n",
    "df=pd.read_csv('AAL.csv')"
   ]
  },
  {
   "cell_type": "code",
   "execution_count": 6,
   "id": "b8c1f4f6-4bdd-42a4-ba08-791fe57742ea",
   "metadata": {},
   "outputs": [
    {
     "data": {
      "text/html": [
       "<div>\n",
       "<style scoped>\n",
       "    .dataframe tbody tr th:only-of-type {\n",
       "        vertical-align: middle;\n",
       "    }\n",
       "\n",
       "    .dataframe tbody tr th {\n",
       "        vertical-align: top;\n",
       "    }\n",
       "\n",
       "    .dataframe thead th {\n",
       "        text-align: right;\n",
       "    }\n",
       "</style>\n",
       "<table border=\"1\" class=\"dataframe\">\n",
       "  <thead>\n",
       "    <tr style=\"text-align: right;\">\n",
       "      <th></th>\n",
       "      <th>Date</th>\n",
       "      <th>Time</th>\n",
       "      <th>State</th>\n",
       "      <th>Group</th>\n",
       "      <th>Unit</th>\n",
       "      <th>Sales</th>\n",
       "    </tr>\n",
       "  </thead>\n",
       "  <tbody>\n",
       "    <tr>\n",
       "      <th>0</th>\n",
       "      <td>1-Oct-2020</td>\n",
       "      <td>Morning</td>\n",
       "      <td>WA</td>\n",
       "      <td>Kids</td>\n",
       "      <td>8</td>\n",
       "      <td>20000</td>\n",
       "    </tr>\n",
       "    <tr>\n",
       "      <th>1</th>\n",
       "      <td>1-Oct-2020</td>\n",
       "      <td>Morning</td>\n",
       "      <td>WA</td>\n",
       "      <td>Men</td>\n",
       "      <td>8</td>\n",
       "      <td>20000</td>\n",
       "    </tr>\n",
       "    <tr>\n",
       "      <th>2</th>\n",
       "      <td>1-Oct-2020</td>\n",
       "      <td>Morning</td>\n",
       "      <td>WA</td>\n",
       "      <td>Women</td>\n",
       "      <td>4</td>\n",
       "      <td>10000</td>\n",
       "    </tr>\n",
       "    <tr>\n",
       "      <th>3</th>\n",
       "      <td>1-Oct-2020</td>\n",
       "      <td>Morning</td>\n",
       "      <td>WA</td>\n",
       "      <td>Seniors</td>\n",
       "      <td>15</td>\n",
       "      <td>37500</td>\n",
       "    </tr>\n",
       "    <tr>\n",
       "      <th>4</th>\n",
       "      <td>1-Oct-2020</td>\n",
       "      <td>Afternoon</td>\n",
       "      <td>WA</td>\n",
       "      <td>Kids</td>\n",
       "      <td>3</td>\n",
       "      <td>7500</td>\n",
       "    </tr>\n",
       "  </tbody>\n",
       "</table>\n",
       "</div>"
      ],
      "text/plain": [
       "         Date        Time State     Group  Unit  Sales\n",
       "0  1-Oct-2020     Morning    WA      Kids     8  20000\n",
       "1  1-Oct-2020     Morning    WA       Men     8  20000\n",
       "2  1-Oct-2020     Morning    WA     Women     4  10000\n",
       "3  1-Oct-2020     Morning    WA   Seniors    15  37500\n",
       "4  1-Oct-2020   Afternoon    WA      Kids     3   7500"
      ]
     },
     "execution_count": 6,
     "metadata": {},
     "output_type": "execute_result"
    }
   ],
   "source": [
    "df.head()"
   ]
  },
  {
   "cell_type": "code",
   "execution_count": 8,
   "id": "df4c9fa2-c442-4973-bb94-f10d7e3eeff4",
   "metadata": {},
   "outputs": [
    {
     "data": {
      "text/plain": [
       "(7560, 6)"
      ]
     },
     "execution_count": 8,
     "metadata": {},
     "output_type": "execute_result"
    }
   ],
   "source": [
    "#just checking the rows and columns\n",
    "df.shape"
   ]
  },
  {
   "cell_type": "code",
   "execution_count": 10,
   "id": "47132957-2b10-4006-b173-c4df30db6408",
   "metadata": {},
   "outputs": [
    {
     "data": {
      "text/plain": [
       "Date     0\n",
       "Time     0\n",
       "State    0\n",
       "Group    0\n",
       "Unit     0\n",
       "Sales    0\n",
       "dtype: int64"
      ]
     },
     "execution_count": 10,
     "metadata": {},
     "output_type": "execute_result"
    }
   ],
   "source": [
    "#a.check and Ensure that the data is clean and free from any missing or incorrect entries. \n",
    "df.isna().sum()"
   ]
  },
  {
   "cell_type": "code",
   "execution_count": 12,
   "id": "a9989a98-194c-4691-bbdc-446c3e99acc6",
   "metadata": {},
   "outputs": [],
   "source": [
    "#  Based on your knowledge of data analytics, include your recommendations for treating missing and incorrect data (dropping the null values or filling them)"
   ]
  },
  {
   "cell_type": "markdown",
   "id": "8bd70253-5192-4e80-bf82-c3e6531f9d67",
   "metadata": {},
   "source": [
    "Observation : There is no missing or incorrect data is there\n",
    "if it is present there is 2 approach\n",
    "1.Drop specific column if missing values are more than 30-40%\n",
    "2.fill with either mean,median,mode. and mode is more effective"
   ]
  },
  {
   "cell_type": "code",
   "execution_count": 15,
   "id": "c2524da1-b341-4c7a-97e0-5be271ac24eb",
   "metadata": {},
   "outputs": [
    {
     "data": {
      "text/plain": [
       "Index(['Date', 'Time', 'State', 'Group', 'Unit', 'Sales'], dtype='object')"
      ]
     },
     "execution_count": 15,
     "metadata": {},
     "output_type": "execute_result"
    }
   ],
   "source": [
    "# Choose a suitable data wrangling technique—either data standardization\n",
    "# or normalization. Execute the preferred normalization method and\n",
    "# present the resulting data. (Normalization is the preferred approach for this\n",
    "# problem.)\n",
    "# we using the sales and unit for scalling\n",
    "df.head().columns"
   ]
  },
  {
   "cell_type": "code",
   "execution_count": 17,
   "id": "3ad6cee1-d3a2-481d-a795-d057216cdd8f",
   "metadata": {},
   "outputs": [],
   "source": [
    "normal=['Sales','Unit']"
   ]
  },
  {
   "cell_type": "code",
   "execution_count": 19,
   "id": "a27a2144-698b-4a56-935d-40e4fab8e3e4",
   "metadata": {},
   "outputs": [],
   "source": [
    "df[normal]=(df[normal] - df[normal].min())/(df[normal].max()-df[normal].min())"
   ]
  },
  {
   "cell_type": "code",
   "execution_count": 21,
   "id": "dcd29047-59c7-4512-bcdf-20ebb6513d1b",
   "metadata": {},
   "outputs": [
    {
     "data": {
      "text/html": [
       "<div>\n",
       "<style scoped>\n",
       "    .dataframe tbody tr th:only-of-type {\n",
       "        vertical-align: middle;\n",
       "    }\n",
       "\n",
       "    .dataframe tbody tr th {\n",
       "        vertical-align: top;\n",
       "    }\n",
       "\n",
       "    .dataframe thead th {\n",
       "        text-align: right;\n",
       "    }\n",
       "</style>\n",
       "<table border=\"1\" class=\"dataframe\">\n",
       "  <thead>\n",
       "    <tr style=\"text-align: right;\">\n",
       "      <th></th>\n",
       "      <th>Sales</th>\n",
       "      <th>Unit</th>\n",
       "    </tr>\n",
       "  </thead>\n",
       "  <tbody>\n",
       "    <tr>\n",
       "      <th>0</th>\n",
       "      <td>0.095238</td>\n",
       "      <td>0.095238</td>\n",
       "    </tr>\n",
       "    <tr>\n",
       "      <th>1</th>\n",
       "      <td>0.095238</td>\n",
       "      <td>0.095238</td>\n",
       "    </tr>\n",
       "    <tr>\n",
       "      <th>2</th>\n",
       "      <td>0.031746</td>\n",
       "      <td>0.031746</td>\n",
       "    </tr>\n",
       "    <tr>\n",
       "      <th>3</th>\n",
       "      <td>0.206349</td>\n",
       "      <td>0.206349</td>\n",
       "    </tr>\n",
       "    <tr>\n",
       "      <th>4</th>\n",
       "      <td>0.015873</td>\n",
       "      <td>0.015873</td>\n",
       "    </tr>\n",
       "    <tr>\n",
       "      <th>...</th>\n",
       "      <td>...</td>\n",
       "      <td>...</td>\n",
       "    </tr>\n",
       "    <tr>\n",
       "      <th>7555</th>\n",
       "      <td>0.190476</td>\n",
       "      <td>0.190476</td>\n",
       "    </tr>\n",
       "    <tr>\n",
       "      <th>7556</th>\n",
       "      <td>0.206349</td>\n",
       "      <td>0.206349</td>\n",
       "    </tr>\n",
       "    <tr>\n",
       "      <th>7557</th>\n",
       "      <td>0.206349</td>\n",
       "      <td>0.206349</td>\n",
       "    </tr>\n",
       "    <tr>\n",
       "      <th>7558</th>\n",
       "      <td>0.142857</td>\n",
       "      <td>0.142857</td>\n",
       "    </tr>\n",
       "    <tr>\n",
       "      <th>7559</th>\n",
       "      <td>0.174603</td>\n",
       "      <td>0.174603</td>\n",
       "    </tr>\n",
       "  </tbody>\n",
       "</table>\n",
       "<p>7560 rows × 2 columns</p>\n",
       "</div>"
      ],
      "text/plain": [
       "         Sales      Unit\n",
       "0     0.095238  0.095238\n",
       "1     0.095238  0.095238\n",
       "2     0.031746  0.031746\n",
       "3     0.206349  0.206349\n",
       "4     0.015873  0.015873\n",
       "...        ...       ...\n",
       "7555  0.190476  0.190476\n",
       "7556  0.206349  0.206349\n",
       "7557  0.206349  0.206349\n",
       "7558  0.142857  0.142857\n",
       "7559  0.174603  0.174603\n",
       "\n",
       "[7560 rows x 2 columns]"
      ]
     },
     "execution_count": 21,
     "metadata": {},
     "output_type": "execute_result"
    }
   ],
   "source": [
    "df[normal]"
   ]
  },
  {
   "cell_type": "code",
   "execution_count": 23,
   "id": "b987c015-57e6-4983-9c12-363d80cd7666",
   "metadata": {},
   "outputs": [
    {
     "data": {
      "text/html": [
       "<div>\n",
       "<style scoped>\n",
       "    .dataframe tbody tr th:only-of-type {\n",
       "        vertical-align: middle;\n",
       "    }\n",
       "\n",
       "    .dataframe tbody tr th {\n",
       "        vertical-align: top;\n",
       "    }\n",
       "\n",
       "    .dataframe thead th {\n",
       "        text-align: right;\n",
       "    }\n",
       "</style>\n",
       "<table border=\"1\" class=\"dataframe\">\n",
       "  <thead>\n",
       "    <tr style=\"text-align: right;\">\n",
       "      <th></th>\n",
       "      <th>Date</th>\n",
       "      <th>Time</th>\n",
       "      <th>State</th>\n",
       "      <th>Group</th>\n",
       "      <th>Unit</th>\n",
       "      <th>Sales</th>\n",
       "    </tr>\n",
       "  </thead>\n",
       "  <tbody>\n",
       "    <tr>\n",
       "      <th>0</th>\n",
       "      <td>1-Oct-2020</td>\n",
       "      <td>Morning</td>\n",
       "      <td>WA</td>\n",
       "      <td>Kids</td>\n",
       "      <td>0.095238</td>\n",
       "      <td>0.095238</td>\n",
       "    </tr>\n",
       "    <tr>\n",
       "      <th>1</th>\n",
       "      <td>1-Oct-2020</td>\n",
       "      <td>Morning</td>\n",
       "      <td>WA</td>\n",
       "      <td>Men</td>\n",
       "      <td>0.095238</td>\n",
       "      <td>0.095238</td>\n",
       "    </tr>\n",
       "    <tr>\n",
       "      <th>2</th>\n",
       "      <td>1-Oct-2020</td>\n",
       "      <td>Morning</td>\n",
       "      <td>WA</td>\n",
       "      <td>Women</td>\n",
       "      <td>0.031746</td>\n",
       "      <td>0.031746</td>\n",
       "    </tr>\n",
       "    <tr>\n",
       "      <th>3</th>\n",
       "      <td>1-Oct-2020</td>\n",
       "      <td>Morning</td>\n",
       "      <td>WA</td>\n",
       "      <td>Seniors</td>\n",
       "      <td>0.206349</td>\n",
       "      <td>0.206349</td>\n",
       "    </tr>\n",
       "    <tr>\n",
       "      <th>4</th>\n",
       "      <td>1-Oct-2020</td>\n",
       "      <td>Afternoon</td>\n",
       "      <td>WA</td>\n",
       "      <td>Kids</td>\n",
       "      <td>0.015873</td>\n",
       "      <td>0.015873</td>\n",
       "    </tr>\n",
       "  </tbody>\n",
       "</table>\n",
       "</div>"
      ],
      "text/plain": [
       "         Date        Time State     Group      Unit     Sales\n",
       "0  1-Oct-2020     Morning    WA      Kids  0.095238  0.095238\n",
       "1  1-Oct-2020     Morning    WA       Men  0.095238  0.095238\n",
       "2  1-Oct-2020     Morning    WA     Women  0.031746  0.031746\n",
       "3  1-Oct-2020     Morning    WA   Seniors  0.206349  0.206349\n",
       "4  1-Oct-2020   Afternoon    WA      Kids  0.015873  0.015873"
      ]
     },
     "execution_count": 23,
     "metadata": {},
     "output_type": "execute_result"
    }
   ],
   "source": [
    "df.head()"
   ]
  },
  {
   "cell_type": "code",
   "execution_count": 25,
   "id": "c7e2c3b5-99fc-4964-821d-155328638e20",
   "metadata": {},
   "outputs": [],
   "source": [
    "# Share your insights regarding the application of the GroupBy() function for\n",
    "# either data chunking or merging, and offer a recommendation based on\n",
    "# your analysis."
   ]
  },
  {
   "cell_type": "code",
   "execution_count": 27,
   "id": "e674a64d-0156-4530-b36e-0ba138f5c838",
   "metadata": {},
   "outputs": [],
   "source": [
    "# Data chunking refers to breaking down the data into meaningful segments\n",
    "# so according to my dataset I am using data chunking. not merging because merging happens only when their test datset available so that we can merge te data\n",
    "\n",
    "#for total sales \n",
    "total_sales=df.groupby(['State','Sales']).sum().reset_index()"
   ]
  },
  {
   "cell_type": "code",
   "execution_count": 29,
   "id": "9f72e6ea-006d-4fc2-911f-4991fcdd98f8",
   "metadata": {},
   "outputs": [
    {
     "name": "stdout",
     "output_type": "stream",
     "text": [
      "    State     Sales                                               Date  \\\n",
      "0     NSW  0.158730  4-Nov-20205-Nov-20205-Nov-20208-Nov-20209-Nov-...   \n",
      "1     NSW  0.174603  2-Nov-20206-Nov-202012-Nov-202012-Nov-202018-N...   \n",
      "2     NSW  0.190476  2-Nov-20202-Nov-20202-Nov-20203-Nov-20205-Nov-...   \n",
      "3     NSW  0.206349  2-Oct-20203-Oct-20205-Oct-20206-Oct-202013-Oct...   \n",
      "4     NSW  0.222222  7-Oct-20209-Oct-202010-Oct-202011-Oct-202017-O...   \n",
      "..    ...       ...                                                ...   \n",
      "166    WA  0.142857  1-Oct-20205-Oct-20209-Oct-202010-Oct-202010-Oc...   \n",
      "167    WA  0.158730  5-Oct-20206-Oct-20207-Oct-20208-Oct-20209-Oct-...   \n",
      "168    WA  0.174603  2-Oct-20202-Oct-20202-Oct-20203-Oct-20203-Oct-...   \n",
      "169    WA  0.190476  5-Oct-20206-Oct-20206-Oct-20208-Oct-20208-Oct-...   \n",
      "170    WA  0.206349  1-Oct-20201-Oct-20201-Oct-20203-Oct-20204-Oct-...   \n",
      "\n",
      "                                                  Time  \\\n",
      "0     Evening Evening Evening Evening Afternoon Eve...   \n",
      "1     Morning Evening Morning Morning Evening After...   \n",
      "2     Afternoon Evening Evening Morning Afternoon A...   \n",
      "3     Morning Evening Morning Morning Morning After...   \n",
      "4     Afternoon Morning Afternoon Evening Evening M...   \n",
      "..                                                 ...   \n",
      "166   Afternoon Morning Evening Morning Afternoon E...   \n",
      "167   Afternoon Afternoon Morning Evening Morning M...   \n",
      "168   Morning Morning Afternoon Morning Evening Mor...   \n",
      "169   Afternoon Morning Evening Morning Afternoon A...   \n",
      "170   Morning Evening Evening Morning Morning Morni...   \n",
      "\n",
      "                                                 Group       Unit  \n",
      "0     Men Men Women Kids Women Women Men Men Senior...   2.222222  \n",
      "1     Kids Men Men Seniors Seniors Seniors Kids Wom...   1.571429  \n",
      "2     Women Kids Men Kids Kids Kids Women Men Kids ...   3.238095  \n",
      "3     Seniors Men Women Women Men Kids Seniors Seni...   7.428571  \n",
      "4     Men Seniors Women Seniors Men Kids Kids Women...   5.111111  \n",
      "..                                                 ...        ...  \n",
      "166   Seniors Kids Seniors Women Women Seniors Kids...   7.714286  \n",
      "167   Men Men Kids Kids Men Men Kids Men Kids Kids ...   6.666667  \n",
      "168   Women Seniors Men Men Women Seniors Kids Wome...  11.000000  \n",
      "169   Kids Kids Men Kids Men Men Seniors Women Seni...  11.238095  \n",
      "170   Seniors Kids Men Kids Men Women Seniors Senio...  14.031746  \n",
      "\n",
      "[171 rows x 6 columns]\n"
     ]
    }
   ],
   "source": [
    "print(total_sales)"
   ]
  },
  {
   "cell_type": "code",
   "execution_count": 31,
   "id": "07c0dd21-1e8d-4f02-8146-05171ca551de",
   "metadata": {},
   "outputs": [
    {
     "data": {
      "text/html": [
       "<div>\n",
       "<style scoped>\n",
       "    .dataframe tbody tr th:only-of-type {\n",
       "        vertical-align: middle;\n",
       "    }\n",
       "\n",
       "    .dataframe tbody tr th {\n",
       "        vertical-align: top;\n",
       "    }\n",
       "\n",
       "    .dataframe thead th {\n",
       "        text-align: right;\n",
       "    }\n",
       "</style>\n",
       "<table border=\"1\" class=\"dataframe\">\n",
       "  <thead>\n",
       "    <tr style=\"text-align: right;\">\n",
       "      <th></th>\n",
       "      <th>Date</th>\n",
       "      <th>Time</th>\n",
       "      <th>State</th>\n",
       "      <th>Group</th>\n",
       "      <th>Unit</th>\n",
       "      <th>Sales</th>\n",
       "    </tr>\n",
       "  </thead>\n",
       "  <tbody>\n",
       "    <tr>\n",
       "      <th>0</th>\n",
       "      <td>1-Oct-2020</td>\n",
       "      <td>Morning</td>\n",
       "      <td>WA</td>\n",
       "      <td>Kids</td>\n",
       "      <td>0.095238</td>\n",
       "      <td>0.095238</td>\n",
       "    </tr>\n",
       "    <tr>\n",
       "      <th>1</th>\n",
       "      <td>1-Oct-2020</td>\n",
       "      <td>Morning</td>\n",
       "      <td>WA</td>\n",
       "      <td>Men</td>\n",
       "      <td>0.095238</td>\n",
       "      <td>0.095238</td>\n",
       "    </tr>\n",
       "    <tr>\n",
       "      <th>2</th>\n",
       "      <td>1-Oct-2020</td>\n",
       "      <td>Morning</td>\n",
       "      <td>WA</td>\n",
       "      <td>Women</td>\n",
       "      <td>0.031746</td>\n",
       "      <td>0.031746</td>\n",
       "    </tr>\n",
       "    <tr>\n",
       "      <th>3</th>\n",
       "      <td>1-Oct-2020</td>\n",
       "      <td>Morning</td>\n",
       "      <td>WA</td>\n",
       "      <td>Seniors</td>\n",
       "      <td>0.206349</td>\n",
       "      <td>0.206349</td>\n",
       "    </tr>\n",
       "    <tr>\n",
       "      <th>4</th>\n",
       "      <td>1-Oct-2020</td>\n",
       "      <td>Afternoon</td>\n",
       "      <td>WA</td>\n",
       "      <td>Kids</td>\n",
       "      <td>0.015873</td>\n",
       "      <td>0.015873</td>\n",
       "    </tr>\n",
       "  </tbody>\n",
       "</table>\n",
       "</div>"
      ],
      "text/plain": [
       "         Date        Time State     Group      Unit     Sales\n",
       "0  1-Oct-2020     Morning    WA      Kids  0.095238  0.095238\n",
       "1  1-Oct-2020     Morning    WA       Men  0.095238  0.095238\n",
       "2  1-Oct-2020     Morning    WA     Women  0.031746  0.031746\n",
       "3  1-Oct-2020     Morning    WA   Seniors  0.206349  0.206349\n",
       "4  1-Oct-2020   Afternoon    WA      Kids  0.015873  0.015873"
      ]
     },
     "execution_count": 31,
     "metadata": {},
     "output_type": "execute_result"
    }
   ],
   "source": [
    "df.head()"
   ]
  },
  {
   "cell_type": "markdown",
   "id": "2f18e122-47a2-44a8-8bff-e46bfb95b027",
   "metadata": {},
   "source": [
    "# Data analysis"
   ]
  },
  {
   "cell_type": "code",
   "execution_count": 34,
   "id": "7d2ceab1-7d85-4ca1-ac74-d959267ace60",
   "metadata": {},
   "outputs": [
    {
     "name": "stdout",
     "output_type": "stream",
     "text": [
      "0.25405433778449654\n",
      "0.19047619047619047\n",
      "0.1111111111111111\n",
      "0.20478417107280086\n"
     ]
    }
   ],
   "source": [
    "# Perform descriptive statistical analysis on the data in the Sales and Unit \n",
    "# columns. Utilize techniques such as mean, median, mode, and standard \n",
    "# deviation for this analysis\n",
    "\n",
    "#for sales\n",
    "sales_mean=df['Sales'].mean()\n",
    "sales_median=df['Sales'].median()\n",
    "sales_mode=df['Sales'].mode()[0]\n",
    "sales_std=df['Sales'].std()\n",
    "print(sales_mean)\n",
    "print(sales_median)\n",
    "print(sales_mode)\n",
    "print(sales_std)"
   ]
  },
  {
   "cell_type": "code",
   "execution_count": 36,
   "id": "775aec78-b5a6-4c56-9d40-ef79985b6fca",
   "metadata": {},
   "outputs": [
    {
     "name": "stdout",
     "output_type": "stream",
     "text": [
      "0.25405433778449654\n",
      "0.19047619047619047\n",
      "0.1111111111111111\n",
      "0.20478417107280086\n"
     ]
    }
   ],
   "source": [
    "#for units\n",
    "sales_mean=df['Unit'].mean()\n",
    "sales_median=df['Unit'].median()\n",
    "sales_mode=df['Unit'].mode()[0]\n",
    "sales_std=df['Unit'].std()\n",
    "print(sales_mean)\n",
    "print(sales_median)\n",
    "print(sales_mode)\n",
    "print(sales_std)"
   ]
  },
  {
   "cell_type": "code",
   "execution_count": 42,
   "id": "7d91dc4c-9e74-4699-884b-5274f37cdb4c",
   "metadata": {},
   "outputs": [
    {
     "data": {
      "text/html": [
       "<div>\n",
       "<style scoped>\n",
       "    .dataframe tbody tr th:only-of-type {\n",
       "        vertical-align: middle;\n",
       "    }\n",
       "\n",
       "    .dataframe tbody tr th {\n",
       "        vertical-align: top;\n",
       "    }\n",
       "\n",
       "    .dataframe thead th {\n",
       "        text-align: right;\n",
       "    }\n",
       "</style>\n",
       "<table border=\"1\" class=\"dataframe\">\n",
       "  <thead>\n",
       "    <tr style=\"text-align: right;\">\n",
       "      <th></th>\n",
       "      <th>Date</th>\n",
       "      <th>Time</th>\n",
       "      <th>State</th>\n",
       "      <th>Group</th>\n",
       "      <th>Unit</th>\n",
       "      <th>Sales</th>\n",
       "    </tr>\n",
       "  </thead>\n",
       "  <tbody>\n",
       "    <tr>\n",
       "      <th>0</th>\n",
       "      <td>1-Oct-2020</td>\n",
       "      <td>Morning</td>\n",
       "      <td>WA</td>\n",
       "      <td>Kids</td>\n",
       "      <td>0.095238</td>\n",
       "      <td>0.095238</td>\n",
       "    </tr>\n",
       "    <tr>\n",
       "      <th>1</th>\n",
       "      <td>1-Oct-2020</td>\n",
       "      <td>Morning</td>\n",
       "      <td>WA</td>\n",
       "      <td>Men</td>\n",
       "      <td>0.095238</td>\n",
       "      <td>0.095238</td>\n",
       "    </tr>\n",
       "    <tr>\n",
       "      <th>2</th>\n",
       "      <td>1-Oct-2020</td>\n",
       "      <td>Morning</td>\n",
       "      <td>WA</td>\n",
       "      <td>Women</td>\n",
       "      <td>0.031746</td>\n",
       "      <td>0.031746</td>\n",
       "    </tr>\n",
       "    <tr>\n",
       "      <th>3</th>\n",
       "      <td>1-Oct-2020</td>\n",
       "      <td>Morning</td>\n",
       "      <td>WA</td>\n",
       "      <td>Seniors</td>\n",
       "      <td>0.206349</td>\n",
       "      <td>0.206349</td>\n",
       "    </tr>\n",
       "    <tr>\n",
       "      <th>4</th>\n",
       "      <td>1-Oct-2020</td>\n",
       "      <td>Afternoon</td>\n",
       "      <td>WA</td>\n",
       "      <td>Kids</td>\n",
       "      <td>0.015873</td>\n",
       "      <td>0.015873</td>\n",
       "    </tr>\n",
       "  </tbody>\n",
       "</table>\n",
       "</div>"
      ],
      "text/plain": [
       "         Date        Time State     Group      Unit     Sales\n",
       "0  1-Oct-2020     Morning    WA      Kids  0.095238  0.095238\n",
       "1  1-Oct-2020     Morning    WA       Men  0.095238  0.095238\n",
       "2  1-Oct-2020     Morning    WA     Women  0.031746  0.031746\n",
       "3  1-Oct-2020     Morning    WA   Seniors  0.206349  0.206349\n",
       "4  1-Oct-2020   Afternoon    WA      Kids  0.015873  0.015873"
      ]
     },
     "execution_count": 42,
     "metadata": {},
     "output_type": "execute_result"
    }
   ],
   "source": [
    "# Identify the group with the highest sales and the group with the lowest \n",
    "# sales based on the data provided\n",
    "df.head()"
   ]
  },
  {
   "cell_type": "code",
   "execution_count": 60,
   "id": "d7e86dde-bc88-4795-971c-b6d243d9f7d0",
   "metadata": {},
   "outputs": [
    {
     "name": "stdout",
     "output_type": "stream",
     "text": [
      " Seniors\n",
      "473.57142857142856\n"
     ]
    }
   ],
   "source": [
    "#Lowest sales\n",
    "sales_sum=df.groupby('Group')['Sales'].sum()\n",
    "lowest_sales_group=sales_sum.idxmin()\n",
    "lowest_sales_value=sales_sum.min()\n",
    "print(lowest_sales_group)\n",
    "print(lowest_sales_value)"
   ]
  },
  {
   "cell_type": "code",
   "execution_count": 62,
   "id": "840c5e17-bf00-4996-a95e-89aec158929b",
   "metadata": {},
   "outputs": [
    {
     "name": "stdout",
     "output_type": "stream",
     "text": [
      " Men\n",
      "484.4444444444444\n"
     ]
    }
   ],
   "source": [
    "#highest sales\n",
    "sales_sum=df.groupby('Group')['Sales'].sum()\n",
    "highest_sales_group=sales_sum.idxmax()\n",
    "highest_sales_value=sales_sum.max()\n",
    "print(highest_sales_group)\n",
    "print(highest_sales_value)\n"
   ]
  },
  {
   "cell_type": "code",
   "execution_count": null,
   "id": "7ed65b8f-b819-4e35-8baf-ab25a948b5d7",
   "metadata": {},
   "outputs": [],
   "source": [
    "# Generate weekly, monthly, and quarterly reports to document and \n",
    "# present the results of the analysis conducted"
   ]
  }
 ],
 "metadata": {
  "kernelspec": {
   "display_name": "Python 3 (ipykernel)",
   "language": "python",
   "name": "python3"
  },
  "language_info": {
   "codemirror_mode": {
    "name": "ipython",
    "version": 3
   },
   "file_extension": ".py",
   "mimetype": "text/x-python",
   "name": "python",
   "nbconvert_exporter": "python",
   "pygments_lexer": "ipython3",
   "version": "3.12.4"
  }
 },
 "nbformat": 4,
 "nbformat_minor": 5
}
