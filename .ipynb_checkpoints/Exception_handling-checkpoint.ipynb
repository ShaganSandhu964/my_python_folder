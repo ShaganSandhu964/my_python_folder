{
 "cells": [
  {
   "cell_type": "code",
   "execution_count": null,
   "id": "c3900bb1-276d-42b0-ad6b-00e50b2596bc",
   "metadata": {},
   "outputs": [],
   "source": [
    "#Exception Handling"
   ]
  },
  {
   "cell_type": "code",
   "execution_count": 31,
   "id": "c588f10f-1d52-4aa2-b4f1-49baff44dc4c",
   "metadata": {},
   "outputs": [
    {
     "name": "stdin",
     "output_type": "stream",
     "text": [
      "Enter the number : 4\n"
     ]
    },
    {
     "name": "stdout",
     "output_type": "stream",
     "text": [
      "Multiplication of table 4 is :\n",
      "4 x 1 is 4\n",
      "4 x 2 is 8\n",
      "4 x 3 is 12\n",
      "4 x 4 is 16\n",
      "4 x 5 is 20\n",
      "4 x 6 is 24\n",
      "4 x 7 is 28\n",
      "4 x 8 is 32\n",
      "4 x 9 is 36\n",
      "4 x 10 is 40\n"
     ]
    }
   ],
   "source": [
    "n=input(\"Enter the number :\")\n",
    "print(f\"Multiplication of table {n} is :\")\n",
    "for i in range(1,11):\n",
    "    print(f\"{int(n)} x {i} is {int(n)*i}\")"
   ]
  },
  {
   "cell_type": "code",
   "execution_count": 33,
   "id": "0d11c2ed-ff33-40b9-a586-d19693577503",
   "metadata": {},
   "outputs": [
    {
     "name": "stdin",
     "output_type": "stream",
     "text": [
      "Enter the number : shagan\n"
     ]
    },
    {
     "name": "stdout",
     "output_type": "stream",
     "text": [
      "Multiplication of table shagan is :\n"
     ]
    },
    {
     "ename": "ValueError",
     "evalue": "invalid literal for int() with base 10: 'shagan'",
     "output_type": "error",
     "traceback": [
      "\u001b[1;31m---------------------------------------------------------------------------\u001b[0m",
      "\u001b[1;31mValueError\u001b[0m                                Traceback (most recent call last)",
      "Cell \u001b[1;32mIn[33], line 4\u001b[0m\n\u001b[0;32m      2\u001b[0m \u001b[38;5;28mprint\u001b[39m(\u001b[38;5;124mf\u001b[39m\u001b[38;5;124m\"\u001b[39m\u001b[38;5;124mMultiplication of table \u001b[39m\u001b[38;5;132;01m{\u001b[39;00mn\u001b[38;5;132;01m}\u001b[39;00m\u001b[38;5;124m is :\u001b[39m\u001b[38;5;124m\"\u001b[39m)\n\u001b[0;32m      3\u001b[0m \u001b[38;5;28;01mfor\u001b[39;00m i \u001b[38;5;129;01min\u001b[39;00m \u001b[38;5;28mrange\u001b[39m(\u001b[38;5;241m1\u001b[39m,\u001b[38;5;241m11\u001b[39m):\n\u001b[1;32m----> 4\u001b[0m     \u001b[38;5;28mprint\u001b[39m(\u001b[38;5;124mf\u001b[39m\u001b[38;5;124m\"\u001b[39m\u001b[38;5;132;01m{\u001b[39;00m\u001b[38;5;28mint\u001b[39m(n)\u001b[38;5;132;01m}\u001b[39;00m\u001b[38;5;124m x \u001b[39m\u001b[38;5;132;01m{\u001b[39;00mi\u001b[38;5;132;01m}\u001b[39;00m\u001b[38;5;124m is \u001b[39m\u001b[38;5;132;01m{\u001b[39;00m\u001b[38;5;28mint\u001b[39m(n)\u001b[38;5;241m*\u001b[39mi\u001b[38;5;132;01m}\u001b[39;00m\u001b[38;5;124m\"\u001b[39m)\n",
      "\u001b[1;31mValueError\u001b[0m: invalid literal for int() with base 10: 'shagan'"
     ]
    }
   ],
   "source": [
    "n=input(\"Enter the number :\")\n",
    "print(f\"Multiplication of table {n} is :\")\n",
    "for i in range(1,11):\n",
    "    print(f\"{int(n)} x {i} is {int(n)*i}\")\n",
    "    ## ider hum input me string de rhe the jo ke integer value me add on nhi hongie"
   ]
  },
  {
   "cell_type": "code",
   "execution_count": 41,
   "id": "76c92c28-4e67-4c32-ad79-83ad6bdbb1e4",
   "metadata": {},
   "outputs": [
    {
     "name": "stdin",
     "output_type": "stream",
     "text": [
      "Enter the value of n : s\n"
     ]
    },
    {
     "name": "stdout",
     "output_type": "stream",
     "text": [
      "Multiplication of s is :\n",
      "invalid literal for int() with base 10: 's'\n",
      "sorry error is occured\n",
      "Thank You!!\n"
     ]
    }
   ],
   "source": [
    "## try and except\n",
    "n=input(\"Enter the value of n :\")\n",
    "print(f\"Multiplication of {n} is :\")\n",
    "try:\n",
    "    for i in range(1,11):\n",
    "        print(f\"{int(n)} x{i} ={int(n)*i}\")\n",
    "except Exception as e:\n",
    "    print(e) #isme abhi ke liye humara error print hoga\n",
    "    print(\"sorry error is occured\")# aur isme hum apnie mrji ka comment kr skte ha \n",
    "print(\"Thank You!!\")"
   ]
  },
  {
   "cell_type": "code",
   "execution_count": 45,
   "id": "857ed658-672d-42fb-9be6-eca1ede1b4bf",
   "metadata": {},
   "outputs": [
    {
     "name": "stdin",
     "output_type": "stream",
     "text": [
      "Enter the number 1\n"
     ]
    },
    {
     "name": "stdout",
     "output_type": "stream",
     "text": [
      "2\n"
     ]
    }
   ],
   "source": [
    "## agr hum secific type ke error handle krne hoo toh kr skte ha\n",
    "try:\n",
    "    n=int(input(\"Enter the number\"))\n",
    "    a=[6,2]\n",
    "    print(a[n])\n",
    "except ValueError:\n",
    "    print(\"Number entered is not zero\")\n",
    "except IndexError:\n",
    "    print(\"Index is not correct\")"
   ]
  },
  {
   "cell_type": "code",
   "execution_count": null,
   "id": "f7b5b815-f210-4ca6-97e6-c5dfb53594f8",
   "metadata": {},
   "outputs": [],
   "source": [
    "# finally keyword in python"
   ]
  },
  {
   "cell_type": "code",
   "execution_count": 49,
   "id": "f06d7058-9310-410d-9570-13321eb68bb4",
   "metadata": {},
   "outputs": [
    {
     "name": "stdin",
     "output_type": "stream",
     "text": [
      "Enter the index 2\n"
     ]
    },
    {
     "name": "stdout",
     "output_type": "stream",
     "text": [
      "2\n",
      "I am always executed\n"
     ]
    }
   ],
   "source": [
    "try:\n",
    "    l=[1,2,3,4]\n",
    "    n=int(input(\"Enter the index\"))\n",
    "    print(l[i])\n",
    "except:\n",
    "    print(\"Some error occured\")\n",
    "# finally:\n",
    "#     print(\"I am alwasys executed\")\n",
    "print(\"I am always executed\")"
   ]
  },
  {
   "cell_type": "code",
   "execution_count": 69,
   "id": "7ac197b1-b1d7-4687-af13-271bd63261b2",
   "metadata": {},
   "outputs": [
    {
     "name": "stdin",
     "output_type": "stream",
     "text": [
      "Enter the index t\n"
     ]
    },
    {
     "name": "stdout",
     "output_type": "stream",
     "text": [
      "some error occured\n",
      "Finally\n",
      "I am always occured\n"
     ]
    }
   ],
   "source": [
    "def fun():\n",
    "    try:\n",
    "        l=[1,2,3,4]\n",
    "        n=int(input(\"Enter the index\"))\n",
    "        print(l[n])\n",
    "    except:\n",
    "        print(\"some error occured\")\n",
    "    finally:\n",
    "        print(\"Finally\")\n",
    "    # print(\"I am always occured\")\n",
    "fun()\n",
    "# print(x)"
   ]
  },
  {
   "cell_type": "code",
   "execution_count": null,
   "id": "2b52e407-d6e2-43f2-9414-0158da72c080",
   "metadata": {},
   "outputs": [],
   "source": [
    "#Custom Error"
   ]
  },
  {
   "cell_type": "code",
   "execution_count": 71,
   "id": "66914609-4f48-4654-baee-6b542b4ca3d2",
   "metadata": {},
   "outputs": [
    {
     "name": "stdin",
     "output_type": "stream",
     "text": [
      "Enter the value between 5 to 9 1\n"
     ]
    },
    {
     "ename": "TypeError",
     "evalue": "'<' not supported between instances of 'list' and 'int'",
     "output_type": "error",
     "traceback": [
      "\u001b[1;31m---------------------------------------------------------------------------\u001b[0m",
      "\u001b[1;31mTypeError\u001b[0m                                 Traceback (most recent call last)",
      "Cell \u001b[1;32mIn[71], line 3\u001b[0m\n\u001b[0;32m      1\u001b[0m \u001b[38;5;66;03m#Raising custom error\u001b[39;00m\n\u001b[0;32m      2\u001b[0m n\u001b[38;5;241m=\u001b[39m\u001b[38;5;28mint\u001b[39m(\u001b[38;5;28minput\u001b[39m(\u001b[38;5;124m\"\u001b[39m\u001b[38;5;124mEnter the value between 5 to 9\u001b[39m\u001b[38;5;124m\"\u001b[39m))\n\u001b[1;32m----> 3\u001b[0m \u001b[38;5;28;01mif\u001b[39;00m a\u001b[38;5;241m<\u001b[39m\u001b[38;5;241m5\u001b[39m \u001b[38;5;129;01mor\u001b[39;00m a\u001b[38;5;241m>\u001b[39m\u001b[38;5;241m9\u001b[39m:\n\u001b[0;32m      4\u001b[0m     \u001b[38;5;28;01mraise\u001b[39;00m ValeError(\u001b[38;5;124m\"\u001b[39m\u001b[38;5;124mvalue should be between 5 to 9\u001b[39m\u001b[38;5;124m\"\u001b[39m)\n",
      "\u001b[1;31mTypeError\u001b[0m: '<' not supported between instances of 'list' and 'int'"
     ]
    }
   ],
   "source": [
    "#Raising custom error\n",
    "n=int(input(\"Enter the value between 5 to 9\"))\n",
    "if a<5 or a>9:\n",
    "    raise ValeError(\"value should be between 5 to 9\")"
   ]
  },
  {
   "cell_type": "code",
   "execution_count": null,
   "id": "b45f1895-eb9e-4802-b3df-9491f7e5181f",
   "metadata": {},
   "outputs": [],
   "source": [
    "#https://docs.python.org/3/library/exceptions.html\n",
    "#defing custom exercise\n"
   ]
  }
 ],
 "metadata": {
  "kernelspec": {
   "display_name": "Python 3 (ipykernel)",
   "language": "python",
   "name": "python3"
  },
  "language_info": {
   "codemirror_mode": {
    "name": "ipython",
    "version": 3
   },
   "file_extension": ".py",
   "mimetype": "text/x-python",
   "name": "python",
   "nbconvert_exporter": "python",
   "pygments_lexer": "ipython3",
   "version": "3.12.4"
  }
 },
 "nbformat": 4,
 "nbformat_minor": 5
}
