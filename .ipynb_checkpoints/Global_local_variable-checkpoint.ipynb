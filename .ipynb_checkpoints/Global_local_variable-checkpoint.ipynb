{
 "cells": [
  {
   "cell_type": "code",
   "execution_count": null,
   "id": "daa761f5-ea8d-42d5-ba90-229115d9870b",
   "metadata": {},
   "outputs": [],
   "source": [
    "#Global and local Variable"
   ]
  },
  {
   "cell_type": "code",
   "execution_count": 7,
   "id": "489683f6-90fb-4e6d-acb1-f904e3ccffce",
   "metadata": {},
   "outputs": [
    {
     "name": "stdout",
     "output_type": "stream",
     "text": [
      "8\n",
      "7\n"
     ]
    }
   ],
   "source": [
    "x=8 # global variable\n",
    "print(x)\n",
    "def fun():\n",
    "    y=7 # local variable\n",
    "    print(y)\n",
    "fun()\n",
    "# print(y) ## throughs an error because of local variable"
   ]
  },
  {
   "cell_type": "code",
   "execution_count": 9,
   "id": "da8df353-f3e2-4eee-ab56-ae832794895b",
   "metadata": {},
   "outputs": [
    {
     "name": "stdout",
     "output_type": "stream",
     "text": [
      "10\n",
      "9\n",
      "7\n"
     ]
    }
   ],
   "source": [
    "# Global variable\n",
    "x=10\n",
    "print(x)\n",
    "def fun():\n",
    "    global x # through this we can accesses global variable and change the variable. generally it is not preferable \n",
    "    x=7\n",
    "    y=9\n",
    "    print(y)\n",
    "fun()\n",
    "print(x)"
   ]
  },
  {
   "cell_type": "code",
   "execution_count": null,
   "id": "676a0641-53fa-4bf2-887b-f65527d77b71",
   "metadata": {},
   "outputs": [],
   "source": []
  }
 ],
 "metadata": {
  "kernelspec": {
   "display_name": "Python 3 (ipykernel)",
   "language": "python",
   "name": "python3"
  },
  "language_info": {
   "codemirror_mode": {
    "name": "ipython",
    "version": 3
   },
   "file_extension": ".py",
   "mimetype": "text/x-python",
   "name": "python",
   "nbconvert_exporter": "python",
   "pygments_lexer": "ipython3",
   "version": "3.12.4"
  }
 },
 "nbformat": 4,
 "nbformat_minor": 5
}
