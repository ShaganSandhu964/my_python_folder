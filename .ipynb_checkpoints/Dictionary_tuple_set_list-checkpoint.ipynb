{
 "cells": [
  {
   "cell_type": "code",
   "execution_count": 3,
   "id": "e51795d0-2dd2-47b9-8f67-f4fa4c6030df",
   "metadata": {},
   "outputs": [
    {
     "name": "stdout",
     "output_type": "stream",
     "text": [
      "shagan\n",
      "shagan\n",
      "dict_values(['shagan', 21, 'true'])\n",
      "dict_keys(['name', 'age', 'eligible'])\n",
      "The value correspond name is shagan\n",
      "The value correspond age is 21\n",
      "The value correspond eligible is true\n",
      "dict_values(['shagan', 20, 'true'])\n",
      "{'name': 'shagan sandhu', 'age': 20, 'eligible': 'true'}\n",
      "{'name': 'shagan sandhu', 'age': 20, 'eligible': 'true'}\n"
     ]
    }
   ],
   "source": [
    "#Dictionary\n",
    "dict = {'name': 'shagan', 'age': 21, 'eligible': 'true'}\n",
    "print(dict['name'])\n",
    "print(dict.get('name'))\n",
    "print(dict.values())\n",
    "print(dict.keys())\n",
    "for key in dict.keys():\n",
    "    print(f\"The value correspond {key} is {dict[key]}\")\n",
    "    \n",
    "dict.update({'age':20})\n",
    "print(dict.values())\n",
    "dict.update({'name':\"shagan sandhu\"})\n",
    "print(dict)\n",
    "# dict.clear()\n",
    "# print(dict)\n",
    "# dict.pop('name')\n",
    "# dict.popitem()\n",
    "# del dict\n",
    "# del dict['name']\n",
    "print(dict)"
   ]
  },
  {
   "cell_type": "code",
   "execution_count": null,
   "id": "eb03cddc-16d2-4011-a2c9-9dd6a9e0b5b5",
   "metadata": {},
   "outputs": [],
   "source": []
  }
 ],
 "metadata": {
  "kernelspec": {
   "display_name": "Python 3 (ipykernel)",
   "language": "python",
   "name": "python3"
  },
  "language_info": {
   "codemirror_mode": {
    "name": "ipython",
    "version": 3
   },
   "file_extension": ".py",
   "mimetype": "text/x-python",
   "name": "python",
   "nbconvert_exporter": "python",
   "pygments_lexer": "ipython3",
   "version": "3.12.4"
  }
 },
 "nbformat": 4,
 "nbformat_minor": 5
}
