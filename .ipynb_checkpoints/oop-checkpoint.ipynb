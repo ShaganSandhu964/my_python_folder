{
 "cells": [
  {
   "cell_type": "code",
   "execution_count": 7,
   "id": "3b1ecf85-9681-41e8-9dc7-4da3272aab62",
   "metadata": {},
   "outputs": [
    {
     "name": "stdout",
     "output_type": "stream",
     "text": [
      "shagan is a student\n",
      "simmo is a student\n",
      "harry is a software development\n"
     ]
    }
   ],
   "source": [
    "#Introduction to oop\n",
    "class person:\n",
    "    name=\"harry\"\n",
    "    occupation=\"software development\"\n",
    "    networth=\"10000\"\n",
    "    def info(self):\n",
    "        print(f\"{self.name} is a {self.occupation}\")\n",
    "a=person() \n",
    "a.name=\"shagan\"\n",
    "a.occupation=\"student\"\n",
    "a.info()\n",
    "b=person()\n",
    "b.name=\"simmo\"\n",
    "b.occupation=\"student\"\n",
    "c=person()\n",
    "\n",
    "b.info()\n",
    "c.info()"
   ]
  },
  {
   "cell_type": "code",
   "execution_count": null,
   "id": "45d41596-e020-4b50-a350-5f067d5287a3",
   "metadata": {},
   "outputs": [],
   "source": [
    "#Constructor\n",
    "#There are Two Types of constructor\n",
    "#1. Parameterized constructor\n",
    "#2. Default constructor"
   ]
  },
  {
   "cell_type": "code",
   "execution_count": 11,
   "id": "179cf14f-a570-46fc-a61a-255ef158974e",
   "metadata": {},
   "outputs": [
    {
     "name": "stdout",
     "output_type": "stream",
     "text": [
      "Hey, My name is shagan\n"
     ]
    }
   ],
   "source": [
    "#Default Constructor\n",
    "class person:\n",
    "    def __init__(self):\n",
    "        print(\"Hey, My name is shagan\")\n",
    "    # def info():\n",
    "    #     print(f\"{self.name} is {self.occ}\")\n",
    "a=person()"
   ]
  },
  {
   "cell_type": "code",
   "execution_count": 28,
   "id": "efc597ec-48d5-4941-a50d-745921b0b718",
   "metadata": {},
   "outputs": [
    {
     "name": "stdout",
     "output_type": "stream",
     "text": [
      "Hey,My name is shagan\n",
      "Hey,My name is shagan\n"
     ]
    }
   ],
   "source": [
    "# Parameterized constructor\n",
    "class Person:\n",
    "    def __init__(self,n,o):\n",
    "        print(\"Hey,My name is shagan\")\n",
    "        self.name=n\n",
    "        self.occ=o\n",
    "        def info(self):\n",
    "            print(f\"{self.name} is {self.occ}\")\n",
    "a=Person(\"shagan\",\"student\")\n",
    "b=Person(\"Divya\",\"HR\")"
   ]
  },
  {
   "cell_type": "code",
   "execution_count": null,
   "id": "44055568-489a-46eb-8140-9a4a7b2483ae",
   "metadata": {},
   "outputs": [],
   "source": [
    "#Decorators"
   ]
  },
  {
   "cell_type": "code",
   "execution_count": 32,
   "id": "0e7e6bd6-a1a5-4d8f-a308-4b1ab9a20115",
   "metadata": {},
   "outputs": [
    {
     "name": "stdout",
     "output_type": "stream",
     "text": [
      "Good Morning\n",
      "Hello World\n",
      "Thank You For using this function\n"
     ]
    }
   ],
   "source": [
    "#Simple code\n",
    "def greet(fx):\n",
    "    def mfx():\n",
    "        print(\"Good Morning\")\n",
    "        fx()\n",
    "        print(\"Thank You For using this function\")\n",
    "    return mfx\n",
    "@greet\n",
    "def hello():\n",
    "    print(\"Hello World\")\n",
    "hello()"
   ]
  },
  {
   "cell_type": "code",
   "execution_count": 38,
   "id": "72d96a7f-3e1b-4f6e-a3a0-9471413ea062",
   "metadata": {},
   "outputs": [
    {
     "name": "stdout",
     "output_type": "stream",
     "text": [
      "Good Morning\n",
      "Hello World\n",
      "Thank for using this function\n",
      "Good Morning\n",
      "3\n",
      "Thank for using this function\n"
     ]
    }
   ],
   "source": [
    "#Passing The Arguments\n",
    "def greet(fx):\n",
    "    def mfx(*args,**kwargs):\n",
    "        print(\"Good Morning\")\n",
    "        fx(*args,**kwargs)\n",
    "        print(\"Thank for using this function\")\n",
    "    return mfx\n",
    "@greet\n",
    "def hello():\n",
    "    print(\"Hello World\")\n",
    "@greet\n",
    "def add(a,b):\n",
    "    print(a+b)\n",
    "hello()\n",
    "add(1,2)"
   ]
  },
  {
   "cell_type": "code",
   "execution_count": 42,
   "id": "606e2d07-233d-496a-9929-64ad6f96dace",
   "metadata": {},
   "outputs": [
    {
     "name": "stdout",
     "output_type": "stream",
     "text": [
      "Good Morning\n",
      "Hello World\n",
      "Thanks for using this function\n",
      "Good Morning\n",
      "3\n",
      "Thanks for using this function\n"
     ]
    }
   ],
   "source": [
    "#Another way to use decorator\n",
    "def greet(fx):\n",
    "    def mfx(*args,**kwargs):\n",
    "        print(\"Good Morning\")\n",
    "        fx(*args,**kwargs)\n",
    "        print(\"Thanks for using this function\")\n",
    "    return mfx\n",
    "def hello():\n",
    "    print(\"Hello World\")\n",
    "greet(hello)()\n",
    "def add(a,b):\n",
    "    print(a+b)\n",
    "greet(add)(1,2)"
   ]
  },
  {
   "cell_type": "code",
   "execution_count": null,
   "id": "3168e9eb-87fc-44c8-a2a8-b44ff4852fb7",
   "metadata": {},
   "outputs": [],
   "source": [
    "#Getter and setter"
   ]
  },
  {
   "cell_type": "code",
   "execution_count": 68,
   "id": "0ff6a61d-d16d-4266-8082-ed8597d96eb3",
   "metadata": {},
   "outputs": [
    {
     "name": "stdout",
     "output_type": "stream",
     "text": [
      "100\n",
      "the value is 10\n"
     ]
    }
   ],
   "source": [
    "#Getter\n",
    "class MyClass:\n",
    "    def __init__(self,value):\n",
    "        self._value=value\n",
    "    @property\n",
    "    def ten_value(self):\n",
    "       return 10*self._value\n",
    "    def show(self):\n",
    "         print(f\"the value is {self._value}\")\n",
    "obj=MyClass(10)\n",
    "print(obj.ten_value)\n",
    "obj.show()"
   ]
  },
  {
   "cell_type": "code",
   "execution_count": 70,
   "id": "cc5dd46b-f1bd-40f9-a9ca-05529ed84043",
   "metadata": {},
   "outputs": [
    {
     "name": "stdout",
     "output_type": "stream",
     "text": [
      "67.0\n",
      "the value is 6.7\n"
     ]
    }
   ],
   "source": [
    "#setter\n",
    "class MyClass:\n",
    "    def __init__(self,value):\n",
    "        self._value=value\n",
    "    @property\n",
    "    def ten_value(self):\n",
    "        return 10*self._value\n",
    "    @ten_value.setter\n",
    "    def ten_value(self,nvalue):\n",
    "        self._value=nvalue/10\n",
    "        return 10*self._value\n",
    "    def show(self):\n",
    "        print(f\"the value is {self._value}\")\n",
    "obj=MyClass(10)\n",
    "obj.ten_value=67\n",
    "print(obj.ten_value)\n",
    "obj.show()"
   ]
  },
  {
   "cell_type": "code",
   "execution_count": 74,
   "id": "8323b0ec-6548-45e2-9aa3-2d93f029920f",
   "metadata": {},
   "outputs": [
    {
     "name": "stdout",
     "output_type": "stream",
     "text": [
      "89.0\n",
      "the value is 8.9\n"
     ]
    }
   ],
   "source": [
    "class MyClass:\n",
    "    def __init__(self,value):\n",
    "        self._value=value\n",
    "    @property\n",
    "    def ten_value(self):\n",
    "        return 10*self._value\n",
    "    @ten_value.setter\n",
    "    def ten_value(self,nvalue):\n",
    "        self._value=nvalue/10\n",
    "        return 10*self._value\n",
    "    def show(self):\n",
    "        print(f\"the value is {self._value}\")\n",
    "obj=MyClass(10)\n",
    "obj.ten_value=89\n",
    "print(obj.ten_value)\n",
    "obj.show()"
   ]
  },
  {
   "cell_type": "code",
   "execution_count": null,
   "id": "0fd83079-8a03-40d6-937d-76db2d4e8260",
   "metadata": {},
   "outputs": [],
   "source": [
    "#Inheritance"
   ]
  },
  {
   "cell_type": "code",
   "execution_count": 82,
   "id": "85e2fe10-5df3-4e5b-aa93-5541c34b55a7",
   "metadata": {},
   "outputs": [
    {
     "name": "stdout",
     "output_type": "stream",
     "text": [
      "The Employee Name is shagan and Id is 12\n",
      "The Employee Name is sagar and Id is 11\n",
      "python\n"
     ]
    }
   ],
   "source": [
    "class Employee:\n",
    "    def __init__(self,name,id):\n",
    "        self.name=name\n",
    "        self.id=id\n",
    "    def show(self):\n",
    "        print(f\"The Employee Name is {self.name} and Id is {self.id}\")\n",
    "class programmer(Employee):\n",
    "    def showdetails(self):\n",
    "        print(\"python\")\n",
    "e1=Employee(\"shagan\",12)\n",
    "e1.show()\n",
    "e2=programmer(\"sagar\",11)\n",
    "e2.show()\n",
    "e2.showdetails()\n",
    "        "
   ]
  },
  {
   "cell_type": "code",
   "execution_count": null,
   "id": "0e992267-fa28-4dc2-98a2-700f6465d405",
   "metadata": {},
   "outputs": [],
   "source": [
    " #Access Modifiers in Python"
   ]
  },
  {
   "cell_type": "code",
   "execution_count": 86,
   "id": "fd030a68-aff6-4c84-8a4c-91c4b4993c7e",
   "metadata": {},
   "outputs": [
    {
     "name": "stdout",
     "output_type": "stream",
     "text": [
      "The name of employee is shagan and id is 123\n"
     ]
    }
   ],
   "source": [
    "#Public access Modifier\n",
    "#Pr actual me yeh modifiers hote nhi ha python me by convention assa hota ha \n",
    "class person:\n",
    "    def __init__(self,name,id):\n",
    "        self.name=name\n",
    "        self.id=id\n",
    "    def show(self):\n",
    "        print(f\"The name of employee is {self.name} and id is {self.id}\")\n",
    "a=person(\"shagan\",123)\n",
    "a.show()"
   ]
  },
  {
   "cell_type": "code",
   "execution_count": 98,
   "id": "69d69b4c-4c23-4fa0-a5d6-624fd68ef0ec",
   "metadata": {},
   "outputs": [
    {
     "name": "stdout",
     "output_type": "stream",
     "text": [
      "shagan\n"
     ]
    }
   ],
   "source": [
    "#Private access Modifier\n",
    "# In python we can make an specific name,id to private so that no one access that personal details\n",
    "class person:\n",
    "    def __init__(self,name,id):\n",
    "        self.__name=name\n",
    "        self.id=id\n",
    "    # def show(self):\n",
    "    #     print(f\"{self.id} is id of{self.name}\")\n",
    "a=person(\"shagan\",21)\n",
    "# a.show()\n",
    "print(a._person__name)"
   ]
  },
  {
   "cell_type": "code",
   "execution_count": 100,
   "id": "0a47c27a-37f0-47bb-a589-34c9448ae306",
   "metadata": {},
   "outputs": [
    {
     "name": "stdout",
     "output_type": "stream",
     "text": [
      "Harry\n",
      "CodeWithHarry\n",
      "Harry\n",
      "CodeWithHarry\n"
     ]
    }
   ],
   "source": [
    "#Protected\n",
    "class Student:\n",
    "    def __init__(self):\n",
    "        self._name = \"Harry\"\n",
    "\n",
    "    def _funName(self):      # protected method\n",
    "        return \"CodeWithHarry\"\n",
    "\n",
    "class Subject(Student):       #inherited class\n",
    "    pass\n",
    "\n",
    "obj = Student()\n",
    "obj1 = Subject()\n",
    "\n",
    "# calling by object of Student class\n",
    "print(obj._name)      \n",
    "print(obj._funName())     \n",
    "# calling by object of Subject class\n",
    "print(obj1._name)    \n",
    "print(obj1._funName())"
   ]
  },
  {
   "cell_type": "code",
   "execution_count": null,
   "id": "cf9642e1-9d4c-46b9-a74b-6c63ee668022",
   "metadata": {},
   "outputs": [],
   "source": [
    "#Static method\n",
    "#kya koi bhi method jb bnate ha toh hme self keyword hmesha lgna padt ha kya?\n",
    "#nhi hum self ke jagah @staticmethod ka use kr skte ha "
   ]
  },
  {
   "cell_type": "code",
   "execution_count": 115,
   "id": "4d2b9362-9da5-4f62-ac98-560179fc2cd2",
   "metadata": {},
   "outputs": [
    {
     "name": "stdout",
     "output_type": "stream",
     "text": [
      "3\n"
     ]
    }
   ],
   "source": [
    "class person:\n",
    "    def __init__(self,num):\n",
    "        self.num=num\n",
    "    @staticmethod\n",
    "    def add(a,b):\n",
    "        return a+b\n",
    "result=person.add(1,2)\n",
    "print(result)"
   ]
  },
  {
   "cell_type": "code",
   "execution_count": 117,
   "id": "e5415726-79fd-419b-8ab1-881054cf3e48",
   "metadata": {},
   "outputs": [
    {
     "name": "stdout",
     "output_type": "stream",
     "text": [
      "the name is shagan and company is apple\n",
      "the name is shagan and company is Tesla\n",
      "Tesla\n"
     ]
    }
   ],
   "source": [
    "#class Method\n",
    "class person:\n",
    "    company=\"apple\"\n",
    "    def show(self):\n",
    "        print(f\"the name is {self.name} and company is {self.company}\")\n",
    "    @classmethod\n",
    "    def changecompany(cls,ncompany):\n",
    "        cls.company=ncompany\n",
    "e1=person()\n",
    "e1.name=\"shagan\"\n",
    "e1.show()\n",
    "e1.changecompany(\"Tesla\")\n",
    "e1.show()\n",
    "print(person.company)"
   ]
  },
  {
   "cell_type": "code",
   "execution_count": null,
   "id": "14e9d4f1-4c77-4edf-b681-5caf2c1a968e",
   "metadata": {},
   "outputs": [],
   "source": []
  }
 ],
 "metadata": {
  "kernelspec": {
   "display_name": "Python 3 (ipykernel)",
   "language": "python",
   "name": "python3"
  },
  "language_info": {
   "codemirror_mode": {
    "name": "ipython",
    "version": 3
   },
   "file_extension": ".py",
   "mimetype": "text/x-python",
   "name": "python",
   "nbconvert_exporter": "python",
   "pygments_lexer": "ipython3",
   "version": "3.12.4"
  }
 },
 "nbformat": 4,
 "nbformat_minor": 5
}
