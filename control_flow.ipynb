{
 "cells": [
  {
   "cell_type": "code",
   "execution_count": 5,
   "id": "e8c0afcb-2a94-4867-b2dc-56b0dd2af3f6",
   "metadata": {},
   "outputs": [
    {
     "name": "stdin",
     "output_type": "stream",
     "text": [
      "Enter Your age 78\n"
     ]
    }
   ],
   "source": [
    "# if statements\n",
    "age=int(input(\"Enter Your age\"))\n",
    "if age<18:\n",
    "    print(\"minor age\")"
   ]
  },
  {
   "cell_type": "code",
   "execution_count": 9,
   "id": "a7f34b35-5da5-40d9-98e6-f00617c45825",
   "metadata": {},
   "outputs": [
    {
     "name": "stdin",
     "output_type": "stream",
     "text": [
      "enter your age 45\n"
     ]
    },
    {
     "name": "stdout",
     "output_type": "stream",
     "text": [
      "senior\n"
     ]
    }
   ],
   "source": [
    "# if else statement\n",
    "age=int(input(\"enter your age\"))\n",
    "if age<18:\n",
    "    print(\"minor age\")\n",
    "else:\n",
    "    print(\"senior\")\n",
    "    "
   ]
  },
  {
   "cell_type": "code",
   "execution_count": 15,
   "id": "9718bfd7-28d2-4ea5-8bb3-660908d15274",
   "metadata": {},
   "outputs": [
    {
     "name": "stdin",
     "output_type": "stream",
     "text": [
      "Enter your age 38\n"
     ]
    },
    {
     "name": "stdout",
     "output_type": "stream",
     "text": [
      "mid age\n"
     ]
    }
   ],
   "source": [
    "# nested if else\n",
    "age=int(input(\"Enter your age\"))\n",
    "if age<18:\n",
    "        print(\"minor age\")\n",
    "elif age>=18 and age<=45:\n",
    "        print(\"mid age\")\n",
    "else:\n",
    "    print(\"senior\")"
   ]
  },
  {
   "cell_type": "code",
   "execution_count": 23,
   "id": "28ecfc2b-4dd6-4d68-9b1b-468c23847a8e",
   "metadata": {},
   "outputs": [
    {
     "name": "stdin",
     "output_type": "stream",
     "text": [
      "Enter your age 18\n"
     ]
    },
    {
     "name": "stdout",
     "output_type": "stream",
     "text": [
      "You r junior\n",
      "you are allowed to vote\n"
     ]
    }
   ],
   "source": [
    "# nested if else\n",
    "age=int(input(\"Enter your age\"))\n",
    "if age<=18:\n",
    "    print(\"You r junior\")\n",
    "    if age==18:\n",
    "        print(\"you are allowed to vote\")\n",
    "    else:\n",
    "        print(\"Your are not allowed to vote\")\n",
    "elif age>18 and age>=45:\n",
    "    print(\"Mid age\")\n",
    "else:\n",
    "    print(\"senior\")"
   ]
  },
  {
   "cell_type": "code",
   "execution_count": 29,
   "id": "55a86059-58ad-4ffa-83ab-5d1369baaefd",
   "metadata": {},
   "outputs": [
    {
     "name": "stdout",
     "output_type": "stream",
     "text": [
      "1  \n",
      "2  \n",
      "3  \n",
      "4  \n",
      "5  \n",
      "6  \n"
     ]
    }
   ],
   "source": [
    "# for loops\n",
    "list=[1,2,3,4,5,6]\n",
    "for i in list:\n",
    "    print(i,\" \")"
   ]
  },
  {
   "cell_type": "code",
   "execution_count": 31,
   "id": "162a786c-af76-466a-9fb1-029d27151586",
   "metadata": {},
   "outputs": [
    {
     "name": "stdout",
     "output_type": "stream",
     "text": [
      "odd number\n",
      "even number\n",
      "odd number\n",
      "even number\n",
      "odd number\n",
      "even number\n"
     ]
    }
   ],
   "source": [
    "list=[1,2,3,4,5,6]\n",
    "for i in list:\n",
    "    if(i%2==0):\n",
    "        print(\"even number\")\n",
    "    else:\n",
    "        print(\"odd number\")"
   ]
  },
  {
   "cell_type": "code",
   "execution_count": 33,
   "id": "232d7fc0-e87a-49f1-86af-15b45a3bf21e",
   "metadata": {},
   "outputs": [
    {
     "name": "stdout",
     "output_type": "stream",
     "text": [
      "12\n",
      "9\n"
     ]
    }
   ],
   "source": [
    "list=[1,2,3,4,5,6]\n",
    "sum_even=0\n",
    "sum_odd=0\n",
    "for i in list:\n",
    "    if(i%2==0):\n",
    "        sum_even+=i\n",
    "    else:\n",
    "        sum_odd+=i\n",
    "print(sum_even)\n",
    "print(sum_odd)"
   ]
  },
  {
   "cell_type": "code",
   "execution_count": 35,
   "id": "67e2307d-c5c9-44d4-8f02-769bf1324506",
   "metadata": {},
   "outputs": [
    {
     "name": "stdout",
     "output_type": "stream",
     "text": [
      "0\n",
      "1\n",
      "2\n",
      "3\n",
      "4\n",
      "5\n",
      "6\n",
      "7\n",
      "8\n",
      "9\n",
      "10\n"
     ]
    }
   ],
   "source": [
    "#while loop\n",
    "i=0\n",
    "while i<=10:\n",
    "    print(i)\n",
    "    i=i+1"
   ]
  },
  {
   "cell_type": "code",
   "execution_count": 45,
   "id": "54a24330-504e-4d28-90a4-fb610c86f337",
   "metadata": {},
   "outputs": [
    {
     "name": "stdin",
     "output_type": "stream",
     "text": [
      "enter the value of n :  28\n"
     ]
    },
    {
     "name": "stdout",
     "output_type": "stream",
     "text": [
      "28 is not a prime number\n"
     ]
    }
   ],
   "source": [
    "#program to check number is prime or not\n",
    "n=int(input(\"enter the value of n : \"))\n",
    "is_prime =True;\n",
    "if n<=1:\n",
    "    is_prime=False\n",
    "else:\n",
    "    for i in range(2,int(n**0.5)+1):\n",
    "        if n%i==0:\n",
    "            is_prime=False\n",
    "            break\n",
    "if is_prime:\n",
    "    print(f\"{n} is a prime number\")\n",
    "else:\n",
    "    print(f\"{n} is not a prime number\")\n"
   ]
  },
  {
   "cell_type": "code",
   "execution_count": 49,
   "id": "ee3fbf52-fc40-4328-8f94-47f25a087c3e",
   "metadata": {},
   "outputs": [
    {
     "name": "stdin",
     "output_type": "stream",
     "text": [
      "enter the first number 3\n",
      "enter the second number 4\n",
      "enter the third number 1\n"
     ]
    },
    {
     "name": "stdout",
     "output_type": "stream",
     "text": [
      "the max number is 4\n"
     ]
    }
   ],
   "source": [
    "## program to check max of three numbers\n",
    "n=int(input('enter the first number'))\n",
    "n2=int(input('enter the second number'))\n",
    "n3=int(input('enter the third number'))\n",
    "print(f\"the max number is {max(n,n2,n3)}\")"
   ]
  },
  {
   "cell_type": "code",
   "execution_count": 23,
   "id": "b4e79431-05a0-41b1-8942-1e0ebf9cf94d",
   "metadata": {},
   "outputs": [
    {
     "name": "stdout",
     "output_type": "stream",
     "text": [
      "[2, 20, 40, 78, 100]\n"
     ]
    },
    {
     "data": {
      "text/plain": [
       "100"
      ]
     },
     "execution_count": 23,
     "metadata": {},
     "output_type": "execute_result"
    }
   ],
   "source": [
    "list=[20,40,100,78,2]\n",
    "list.sort()\n",
    "print(list)\n",
    "max=list[-1]\n",
    "max\n",
    "#without sorting\n"
   ]
  },
  {
   "cell_type": "code",
   "execution_count": 37,
   "id": "94af562a-f856-44eb-adeb-65168a55f6de",
   "metadata": {},
   "outputs": [
    {
     "name": "stdout",
     "output_type": "stream",
     "text": [
      "[-1, 2, 10, 79, 87]\n"
     ]
    }
   ],
   "source": [
    "##\n",
    "def sorting(lst):  \n",
    "    n = len(lst)  \n",
    "    for i in range(n):  \n",
    "        for j in range(n - 1 - i):  \n",
    "            if lst[j] > lst[j + 1]:  \n",
    "                lst[j], lst[j + 1] = lst[j + 1], lst[j]  \n",
    "    return lst  \n",
    "lst = [79, 87, 2, 10, -1]  \n",
    "sort_lst = sorting(lst)  \n",
    "print(sort_lst)"
   ]
  },
  {
   "cell_type": "code",
   "execution_count": null,
   "id": "74d9c574-9441-4378-aa96-e3ee967c50e7",
   "metadata": {},
   "outputs": [],
   "source": []
  }
 ],
 "metadata": {
  "kernelspec": {
   "display_name": "Python 3 (ipykernel)",
   "language": "python",
   "name": "python3"
  },
  "language_info": {
   "codemirror_mode": {
    "name": "ipython",
    "version": 3
   },
   "file_extension": ".py",
   "mimetype": "text/x-python",
   "name": "python",
   "nbconvert_exporter": "python",
   "pygments_lexer": "ipython3",
   "version": "3.12.4"
  }
 },
 "nbformat": 4,
 "nbformat_minor": 5
}
