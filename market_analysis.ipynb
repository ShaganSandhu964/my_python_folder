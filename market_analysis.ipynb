{
 "cells": [
  {
   "cell_type": "code",
   "execution_count": 3,
   "id": "c8d518a3-6a72-4d5a-83c6-667dc7c754b1",
   "metadata": {},
   "outputs": [],
   "source": [
    "import numpy as np\n",
    "import pandas as pd\n",
    "import seaborn as sns\n"
   ]
  },
  {
   "cell_type": "code",
   "execution_count": 7,
   "id": "151986db-991f-4391-850e-88d9e2b6bbc4",
   "metadata": {},
   "outputs": [],
   "source": [
    "# load the datset\n",
    "df=pd.read_csv(\"marketing_data.csv\")"
   ]
  },
  {
   "cell_type": "markdown",
   "id": "a1d5f8d4-89fe-4283-8072-f724bc42ec0f",
   "metadata": {},
   "source": [
    "# After importing the data, examine variables such as Dt_Customer and Income to verify their accurate importation."
   ]
  },
  {
   "cell_type": "code",
   "execution_count": null,
   "id": "d0871526-9141-4647-adcf-9f52fd992642",
   "metadata": {},
   "outputs": [],
   "source": []
  }
 ],
 "metadata": {
  "kernelspec": {
   "display_name": "Python 3 (ipykernel)",
   "language": "python",
   "name": "python3"
  },
  "language_info": {
   "codemirror_mode": {
    "name": "ipython",
    "version": 3
   },
   "file_extension": ".py",
   "mimetype": "text/x-python",
   "name": "python",
   "nbconvert_exporter": "python",
   "pygments_lexer": "ipython3",
   "version": "3.12.4"
  }
 },
 "nbformat": 4,
 "nbformat_minor": 5
}
