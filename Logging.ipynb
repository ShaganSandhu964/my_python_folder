{
 "cells": [
  {
   "cell_type": "markdown",
   "id": "3dc79df9-7240-48fa-9668-8d715d602cac",
   "metadata": {},
   "source": [
    "# Logging Python"
   ]
  },
  {
   "cell_type": "code",
   "execution_count": 3,
   "id": "3d1765f8-4873-48ba-8b65-5f469f239c8f",
   "metadata": {},
   "outputs": [],
   "source": [
    "# Logging is a crucial aspect of any application,providing a way to track\n",
    "# events,errors and operational information"
   ]
  },
  {
   "cell_type": "code",
   "execution_count": 5,
   "id": "7d771faa-44e0-4247-a9b3-481d9dd83331",
   "metadata": {},
   "outputs": [
    {
     "name": "stderr",
     "output_type": "stream",
     "text": [
      "DEBUG:root:this is a debug message\n",
      "INFO:root:This is a info message\n",
      "WARNING:root:This is warning message\n",
      "ERROR:root:This is error message\n",
      "CRITICAL:root:This is critical message\n"
     ]
    }
   ],
   "source": [
    "import logging\n",
    "\n",
    "#configure the basic logging settings\n",
    "logging.basicConfig(level=logging.DEBUG)\n",
    "\n",
    "#log message with different severity levels\n",
    "logging.debug(\"this is a debug message\")\n",
    "logging.info(\"This is a info message\")\n",
    "logging.warning(\"This is warning message\")\n",
    "logging.error(\"This is error message\")\n",
    "logging.critical(\"This is critical message\")\n"
   ]
  },
  {
   "cell_type": "code",
   "execution_count": 23,
   "id": "91710016-9ea6-4480-ae0b-f8db4d5c5a66",
   "metadata": {},
   "outputs": [
    {
     "name": "stderr",
     "output_type": "stream",
     "text": [
      "DEBUG:root:this is a debug message\n",
      "INFO:root:This is a info message\n",
      "WARNING:root:This is warning message\n",
      "ERROR:root:This is error message\n",
      "CRITICAL:root:This is critical message\n"
     ]
    }
   ],
   "source": [
    "#configuring logging\n",
    "logging.basicConfig(\n",
    "    level=logging.DEBUG,\n",
    "    format='%(asctime)s-%(name)s-%(levelname)s-%(message)s',\n",
    "    datefmt='%Y-%m-%d %H:%M:%S'\n",
    "    )\n",
    "#log message with different severity levels\n",
    "logging.debug(\"this is a debug message\")\n",
    "logging.info(\"This is a info message\")\n",
    "logging.warning(\"This is warning message\")\n",
    "logging.error(\"This is error message\")\n",
    "logging.critical(\"This is critical message\")\n"
   ]
  },
  {
   "cell_type": "code",
   "execution_count": null,
   "id": "80d95ffd-fa10-491a-9592-bc57edfe6c51",
   "metadata": {},
   "outputs": [],
   "source": []
  }
 ],
 "metadata": {
  "kernelspec": {
   "display_name": "Python 3 (ipykernel)",
   "language": "python",
   "name": "python3"
  },
  "language_info": {
   "codemirror_mode": {
    "name": "ipython",
    "version": 3
   },
   "file_extension": ".py",
   "mimetype": "text/x-python",
   "name": "python",
   "nbconvert_exporter": "python",
   "pygments_lexer": "ipython3",
   "version": "3.12.4"
  }
 },
 "nbformat": 4,
 "nbformat_minor": 5
}
