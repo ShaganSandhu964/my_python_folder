{
 "cells": [
  {
   "cell_type": "code",
   "execution_count": null,
   "id": "10799f71-ed71-48e4-88a9-f6b6a946c4fc",
   "metadata": {},
   "outputs": [],
   "source": [
    "#Recursion"
   ]
  },
  {
   "cell_type": "code",
   "execution_count": 3,
   "id": "6bef7dd5-2381-4a40-8d8a-345db3a43c58",
   "metadata": {},
   "outputs": [
    {
     "name": "stdin",
     "output_type": "stream",
     "text": [
      "Enter the value of n 5\n"
     ]
    },
    {
     "name": "stdout",
     "output_type": "stream",
     "text": [
      "8\n"
     ]
    }
   ],
   "source": [
    "## fibonaci series\n",
    "def fibo(n):\n",
    "    if(n==0 or n==1):\n",
    "        return 1\n",
    "    else:\n",
    "        return fibo(n-1)+fibo(n-2)\n",
    "n=int(input(\"Enter the value of n\"))\n",
    "print(fibo(n))"
   ]
  },
  {
   "cell_type": "code",
   "execution_count": 19,
   "id": "99df61d5-77ab-4260-90a0-54a8a543daf2",
   "metadata": {},
   "outputs": [
    {
     "name": "stdin",
     "output_type": "stream",
     "text": [
      "Enter the value of n :  6\n"
     ]
    },
    {
     "name": "stdout",
     "output_type": "stream",
     "text": [
      "[1, 1, 2, 3, 5, 8]\n"
     ]
    }
   ],
   "source": [
    "def fibo1(n):\n",
    "    fibo2=[]\n",
    "    for i in range(n):\n",
    "        if i==0:\n",
    "            fibo2.append(1)\n",
    "        elif i==1:\n",
    "            fibo2.append(1)\n",
    "        else:\n",
    "            nextfibo=fibo2[i-1]+fibo2[i-2]\n",
    "            fibo2.append(nextfibo)\n",
    "    return fibo2  \n",
    "n=int(input(\"Enter the value of n : \"))\n",
    "print(fibo1(n))\n"
   ]
  },
  {
   "cell_type": "code",
   "execution_count": 15,
   "id": "49fe1917-21ef-40a3-b4ba-ae5cfd5fe094",
   "metadata": {},
   "outputs": [
    {
     "name": "stdin",
     "output_type": "stream",
     "text": [
      "Enter the value of n : 5\n"
     ]
    },
    {
     "name": "stdout",
     "output_type": "stream",
     "text": [
      "120\n"
     ]
    }
   ],
   "source": [
    "#factorial\n",
    "def fact(n):\n",
    "    if(n==0 or n==1):\n",
    "        return n\n",
    "    else:\n",
    "        return n*fact(n-1)\n",
    "n=int(input(\"Enter the value of n :\"))\n",
    "print(fact(n))"
   ]
  },
  {
   "cell_type": "code",
   "execution_count": 23,
   "id": "c142fdbf-2b2f-482d-b04b-c6ffef22bb98",
   "metadata": {},
   "outputs": [
    {
     "name": "stdin",
     "output_type": "stream",
     "text": [
      "Enter the value of n :  5\n"
     ]
    },
    {
     "name": "stdout",
     "output_type": "stream",
     "text": [
      "[0, 1, 2, 6, 24]\n"
     ]
    }
   ],
   "source": [
    "def fact(n):\n",
    "    fact1=[]\n",
    "    for i in range(n):\n",
    "        if i==0:\n",
    "            fact1.append(0)\n",
    "        elif i==1:\n",
    "            fact1.append(1)\n",
    "        else:\n",
    "            next_fact=i*fact1[i-1]\n",
    "            fact1.append(next_fact)\n",
    "    return fact1\n",
    "n=int(input(\"Enter the value of n : \"))\n",
    "print(fact(n))\n",
    "            "
   ]
  },
  {
   "cell_type": "code",
   "execution_count": null,
   "id": "667f7c3b-539d-4247-81a9-46d75419ae47",
   "metadata": {},
   "outputs": [],
   "source": []
  }
 ],
 "metadata": {
  "kernelspec": {
   "display_name": "Python 3 (ipykernel)",
   "language": "python",
   "name": "python3"
  },
  "language_info": {
   "codemirror_mode": {
    "name": "ipython",
    "version": 3
   },
   "file_extension": ".py",
   "mimetype": "text/x-python",
   "name": "python",
   "nbconvert_exporter": "python",
   "pygments_lexer": "ipython3",
   "version": "3.12.4"
  }
 },
 "nbformat": 4,
 "nbformat_minor": 5
}
