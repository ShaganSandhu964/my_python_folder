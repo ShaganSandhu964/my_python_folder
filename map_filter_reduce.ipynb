{
 "cells": [
  {
   "cell_type": "code",
   "execution_count": 1,
   "id": "2814e481-e8c4-4670-8984-540e2add55be",
   "metadata": {},
   "outputs": [
    {
     "name": "stdout",
     "output_type": "stream",
     "text": [
      "8\n",
      "[1, 8, 64, 216, 64, 27]\n"
     ]
    }
   ],
   "source": [
    "# Map\n",
    "def cube(x):\n",
    "    return x*x*x\n",
    "print(cube(2))\n",
    "l=[1,2,4,6,4,3]\n",
    "newl=list(map(cube,l))\n",
    "print(newl)"
   ]
  },
  {
   "cell_type": "code",
   "execution_count": 3,
   "id": "2980ab83-c1e0-428d-a6e1-743428d22e2f",
   "metadata": {},
   "outputs": [
    {
     "name": "stdout",
     "output_type": "stream",
     "text": [
      "[1, 8, 64, 216, 64, 27]\n"
     ]
    }
   ],
   "source": [
    "l=[1,2,4,6,4,3]\n",
    "newl=list(map(lambda x:x*x*x,l))\n",
    "print(newl)"
   ]
  },
  {
   "cell_type": "code",
   "execution_count": 14,
   "id": "bcf95622-dc84-44f8-a866-c6e34f93ffbb",
   "metadata": {},
   "outputs": [
    {
     "name": "stdout",
     "output_type": "stream",
     "text": [
      "[4, 6, 4, 3]\n"
     ]
    }
   ],
   "source": [
    "# Filter\n",
    "def fun(a):\n",
    "    return a>2\n",
    "l=[1,2,4,6,4,3]\n",
    "newl=list(filter(fun,l))\n",
    "print(newl)"
   ]
  },
  {
   "cell_type": "code",
   "execution_count": 26,
   "id": "4501935b-174a-4369-95a1-a6d090b4923b",
   "metadata": {},
   "outputs": [
    {
     "name": "stdout",
     "output_type": "stream",
     "text": [
      "15\n"
     ]
    }
   ],
   "source": [
    "#Reduce\n",
    "from functools import reduce\n",
    "num=[1,2,3,4,5]\n",
    "def mysum(x,y):\n",
    "    return x+y\n",
    "sum=reduce(mysum,num)\n",
    "print(sum)"
   ]
  },
  {
   "cell_type": "code",
   "execution_count": null,
   "id": "86aadfa4-02a7-4421-a9d3-56b6b9e34a96",
   "metadata": {},
   "outputs": [],
   "source": []
  }
 ],
 "metadata": {
  "kernelspec": {
   "display_name": "Python 3 (ipykernel)",
   "language": "python",
   "name": "python3"
  },
  "language_info": {
   "codemirror_mode": {
    "name": "ipython",
    "version": 3
   },
   "file_extension": ".py",
   "mimetype": "text/x-python",
   "name": "python",
   "nbconvert_exporter": "python",
   "pygments_lexer": "ipython3",
   "version": "3.12.4"
  }
 },
 "nbformat": 4,
 "nbformat_minor": 5
}
