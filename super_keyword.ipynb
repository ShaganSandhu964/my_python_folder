{
 "cells": [
  {
   "cell_type": "code",
   "execution_count": 13,
   "id": "71e17be9-0958-4b30-8ac2-82a3515bf3a6",
   "metadata": {},
   "outputs": [
    {
     "name": "stdout",
     "output_type": "stream",
     "text": [
      "This is child class\n",
      "This is parent method\n",
      "shagan\n",
      "This is parent method\n"
     ]
    }
   ],
   "source": [
    "#super keyword\n",
    "class person:\n",
    "    def parent_method(self):\n",
    "        print(f\"This is parent method\")\n",
    "class ChildClass(person):\n",
    "    def parent_method(self):\n",
    "        print(\"shagan\")\n",
    "        super().parent_method()\n",
    "    def child_method(self):\n",
    "        print(\"This is child class\")\n",
    "        super().parent_method()\n",
    "child_obj=ChildClass()\n",
    "child_obj.child_method()\n",
    "child_obj.parent_method()"
   ]
  },
  {
   "cell_type": "code",
   "execution_count": 17,
   "id": "7706fcca-5704-478d-bae8-e8fc30991f5f",
   "metadata": {},
   "outputs": [
    {
     "name": "stdout",
     "output_type": "stream",
     "text": [
      "sagar\n",
      "2334\n",
      "shagan\n",
      "1298\n",
      "python\n"
     ]
    }
   ],
   "source": [
    "# we can also inherit constructor through super class\n",
    "class person:\n",
    "    def __init__(self,name,id):\n",
    "        self.name=name\n",
    "        self.id=id\n",
    "class programmer(person):\n",
    "    def __init__(self,name,id,lang):\n",
    "        super().__init__(name,id)\n",
    "        self.lang=lang\n",
    "a1=person(\"sagar\",\"2334\")\n",
    "a2=programmer(\"shagan\",\"1298\",\"python\")\n",
    "print(a1.name)\n",
    "print(a1.id)\n",
    "print(a2.name)\n",
    "print(a2.id)\n",
    "print(a2.lang)"
   ]
  },
  {
   "cell_type": "code",
   "execution_count": 9,
   "id": "a6a2c5db-90a5-4e37-ae97-dad60efbc3bf",
   "metadata": {},
   "outputs": [
    {
     "name": "stdout",
     "output_type": "stream",
     "text": [
      "shagan\n",
      "6\n"
     ]
    }
   ],
   "source": [
    "#dunder/magic methods\n",
    "class Employee:\n",
    "    def __init__(self,name):\n",
    "        self.name=name\n",
    "    def __len__(self):\n",
    "        i=0\n",
    "        for c in self.name:\n",
    "            i=i+1\n",
    "        return i\n",
    "    def __str__(self):\n",
    "        print(f\"the name of the Employee is {self.name}\")\n",
    "a1=Employee(\"shagan\")\n",
    "print(a1.name)\n",
    "print(len(a1))"
   ]
  },
  {
   "cell_type": "code",
   "execution_count": 41,
   "id": "e8e701ec-eee2-468a-9a4a-6a318a032d24",
   "metadata": {},
   "outputs": [
    {
     "name": "stdout",
     "output_type": "stream",
     "text": [
      "15\n",
      "78.5\n"
     ]
    }
   ],
   "source": [
    "# Method Overriding\n",
    "class rec:\n",
    "    def __init__(self,x,y):\n",
    "        self.x=x\n",
    "        self.y=y\n",
    "    def area(self):\n",
    "        return self.x*self.y\n",
    "class circle(rec):\n",
    "    def __init__(self,r):\n",
    "        self.r=r\n",
    "        super().__init__(r,r)\n",
    "    def circlearea(self):\n",
    "        return 3.14*super().area()\n",
    "sq=rec(3,5)\n",
    "print(sq.area())\n",
    "a=circle(5)\n",
    "print(a.circlearea())"
   ]
  },
  {
   "cell_type": "code",
   "execution_count": 61,
   "id": "c3b4ba2b-ae61-4e88-a8d8-59dbeac01bdb",
   "metadata": {},
   "outputs": [
    {
     "name": "stdout",
     "output_type": "stream",
     "text": [
      "The vectors is 1i + 2j + 3k\n",
      "The vectors is 2i + 3j + 4k\n",
      "The vectors is 3i + 5j + 7k\n",
      "<class '__main__.Vector'>\n"
     ]
    }
   ],
   "source": [
    "# Operator overloading\n",
    "class Vector:\n",
    "    def __init__(self,i,j,k):\n",
    "        self.i=i\n",
    "        self.j=j\n",
    "        self.k=k\n",
    "    def __str__(self):\n",
    "        return f\"The vectors is {self.i}i + {self.j}j + {self.k}k\"\n",
    "    # def __add__(self,x):\n",
    "    #     return f\"The addition vector is {self.i+x.i}i + {self.j+x.j}j + {self.k+x.k}k\"\n",
    "    def __add__(self,x):\n",
    "        return Vector(self.i+x.i,self.j+x.j,self.k+x.k)\n",
    "v1=Vector(1,2,3)\n",
    "print(v1)\n",
    "v2=Vector(2,3,4)\n",
    "print(v2)\n",
    "print(v1+v2)\n",
    "print(type(v1+v2))#basically jo bhi hum class name bnaye ghe voh hee atta ha "
   ]
  },
  {
   "cell_type": "code",
   "execution_count": null,
   "id": "73e5540c-55bb-4b4f-92da-ef57c3399887",
   "metadata": {},
   "outputs": [],
   "source": [
    "#Inheritance"
   ]
  },
  {
   "cell_type": "code",
   "execution_count": 19,
   "id": "2908c270-dc0d-4669-b4a5-7bf77ee37dc8",
   "metadata": {},
   "outputs": [
    {
     "name": "stdout",
     "output_type": "stream",
     "text": [
      "meow\n",
      "This is animal sound\n"
     ]
    }
   ],
   "source": [
    "#single inheritance\n",
    "class animal:\n",
    "    def __init__(self,name,species):\n",
    "        self.name=name\n",
    "        self.species=species\n",
    "    def sound(self):\n",
    "        print(f\"This is animal sound\")\n",
    "class cat(animal):\n",
    "    def __init__(self,name,breed):\n",
    "        animal.__init__(self,name,species=\"cat\")\n",
    "        self.breed=breed\n",
    "    def makesound(self):\n",
    "        print(\"meow\")\n",
    "c=cat(\"ninu\",\"niju\")\n",
    "# print(c)\n",
    "c.makesound()\n",
    "\n",
    "a=animal(\"cat\",\"catty\")\n",
    "a.sound()\n",
    "        "
   ]
  },
  {
   "cell_type": "code",
   "execution_count": 85,
   "id": "edd39571-59f6-400d-a7e1-67abd91f483b",
   "metadata": {},
   "outputs": [
    {
     "name": "stdout",
     "output_type": "stream",
     "text": [
      "shivani\n",
      "kathak\n"
     ]
    }
   ],
   "source": [
    "#Multiple Inheritance\n",
    "class emp:\n",
    "    def __init__(self,name):\n",
    "        self.name=name\n",
    "    def show(self):\n",
    "        print(f\"The name of employee is{self.name}\")\n",
    "class dancer:\n",
    "    def __init__(self,dance):\n",
    "        self.dance=dance\n",
    "    def show(self):\n",
    "        print(f\"Dance name is {self.dance}\")\n",
    "class danceemp(dancer,emp):\n",
    "    def __init__(self,name,dance):\n",
    "        self.name=name\n",
    "        self.dance=dance\n",
    "a=danceemp(\"shivani\",\"kathak\")\n",
    "print(a.name)\n",
    "print(a.dance)"
   ]
  },
  {
   "cell_type": "code",
   "execution_count": 33,
   "id": "b8a2b6cb-6313-4bb1-99b5-37f87987a764",
   "metadata": {},
   "outputs": [
    {
     "name": "stdout",
     "output_type": "stream",
     "text": [
      "Name: jacky\n",
      "Species: Dog\n",
      "Breed: Golden Retriever\n",
      "Color: Black\n"
     ]
    }
   ],
   "source": [
    "#Multilevel inheritance\n",
    "class Animal:\n",
    "    def __init__(self, name, species):\n",
    "        self.name = name\n",
    "        self.species = species\n",
    "        \n",
    "    def show_details(self):\n",
    "        print(f\"Name: {self.name}\")\n",
    "        print(f\"Species: {self.species}\")\n",
    "        \n",
    "class Dog(Animal):\n",
    "    def __init__(self, name, breed):\n",
    "        Animal.__init__(self, name, species=\"Dog\")\n",
    "        self.breed = breed\n",
    "        \n",
    "    def show_details(self):\n",
    "        Animal.show_details(self)\n",
    "        print(f\"Breed: {self.breed}\")\n",
    "        \n",
    "class GoldenRetriever(Dog):\n",
    "    def __init__(self, name, color):\n",
    "        Dog.__init__(self, name, breed=\"Golden Retriever\")\n",
    "        self.color = color\n",
    "        \n",
    "    def show_details(self):\n",
    "        Dog.show_details(self)\n",
    "        print(f\"Color: {self.color}\")\n",
    "\n",
    "o =  GoldenRetriever(\"jacky\",\"Black\")\n",
    "o.show_details()\n",
    "# print(GoldenRetriever.mro())\n",
    "\n"
   ]
  },
  {
   "cell_type": "code",
   "execution_count": null,
   "id": "0b766ba7-716f-4bed-b3ae-ac9a49f105c7",
   "metadata": {},
   "outputs": [],
   "source": []
  }
 ],
 "metadata": {
  "kernelspec": {
   "display_name": "Python 3 (ipykernel)",
   "language": "python",
   "name": "python3"
  },
  "language_info": {
   "codemirror_mode": {
    "name": "ipython",
    "version": 3
   },
   "file_extension": ".py",
   "mimetype": "text/x-python",
   "name": "python",
   "nbconvert_exporter": "python",
   "pygments_lexer": "ipython3",
   "version": "3.12.4"
  }
 },
 "nbformat": 4,
 "nbformat_minor": 5
}
