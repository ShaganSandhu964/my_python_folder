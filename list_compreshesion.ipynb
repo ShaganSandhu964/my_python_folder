{
 "cells": [
  {
   "cell_type": "code",
   "execution_count": 1,
   "id": "93a446c4-68c2-4fbf-a954-a0a4abd16146",
   "metadata": {},
   "outputs": [
    {
     "name": "stdout",
     "output_type": "stream",
     "text": [
      "1\n",
      "2\n",
      "3\n",
      "4\n",
      "5\n"
     ]
    }
   ],
   "source": [
    "num=[1,2,3,4,5]\n",
    "for i in num:\n",
    "    print(i)"
   ]
  },
  {
   "cell_type": "code",
   "execution_count": 3,
   "id": "e9a5c132-4a15-4e31-a630-eece0b381d50",
   "metadata": {},
   "outputs": [
    {
     "name": "stdout",
     "output_type": "stream",
     "text": [
      "[0, 1, 2, 3, 4, 5, 6, 7]\n"
     ]
    }
   ],
   "source": [
    "lst=[]\n",
    "for i in range(0,8):\n",
    "    lst.append(i)\n",
    "print(lst)"
   ]
  },
  {
   "cell_type": "code",
   "execution_count": 7,
   "id": "2ab94fc7-99da-4c11-91cc-9272016fe15e",
   "metadata": {},
   "outputs": [
    {
     "name": "stdout",
     "output_type": "stream",
     "text": [
      "[1, 4, 9, 16, 25]\n"
     ]
    }
   ],
   "source": [
    "num=[1,2,3,4,5]\n",
    "sq_num=[ i**2 for i in num]\n",
    "print(sq_num)"
   ]
  },
  {
   "cell_type": "code",
   "execution_count": 9,
   "id": "3783d26c-0c6c-4a22-bee4-fa68d799c3b3",
   "metadata": {},
   "outputs": [
    {
     "name": "stdout",
     "output_type": "stream",
     "text": [
      "[2, 4, 6, 8, 10]\n"
     ]
    }
   ],
   "source": [
    "# filtering even numbers\n",
    "num=[1,2,3,4,5,6,7,8,9,10]\n",
    "even_num=[n for n in num if n%2==0]\n",
    "print(even_num)"
   ]
  },
  {
   "cell_type": "code",
   "execution_count": 15,
   "id": "ac01af3d-b8c7-4516-a8be-7c86b9ab15a9",
   "metadata": {},
   "outputs": [
    {
     "name": "stdout",
     "output_type": "stream",
     "text": [
      "[1, 2, 3, 4, 5, 6, 7, 8, 9]\n"
     ]
    }
   ],
   "source": [
    "# falttening a list of lists:2 for loops\n",
    "lists=[[1,2,3],[4,5,6],[7,8,9]]\n",
    "flat_list=[item for sublist in lists for item in sublist]\n",
    "print(flat_list)"
   ]
  },
  {
   "cell_type": "code",
   "execution_count": 7,
   "id": "22ee2a24-71bc-4139-a65d-dd52e7f49d50",
   "metadata": {},
   "outputs": [
    {
     "name": "stdout",
     "output_type": "stream",
     "text": [
      "[1, 2, 3, 4, 5, 6, 7, 8, 9]\n"
     ]
    }
   ],
   "source": [
    "lists=[[1,2,3],[4,5,6],[7,8,9]]\n",
    "flat=[j for i in lists for j in i]\n",
    "print(flat)"
   ]
  },
  {
   "cell_type": "code",
   "execution_count": 17,
   "id": "7a7936ea-7b70-4980-bd27-8b6ad35a7e68",
   "metadata": {},
   "outputs": [
    {
     "name": "stdout",
     "output_type": "stream",
     "text": [
      "['a', 'm', 'c', 'd']\n"
     ]
    }
   ],
   "source": [
    "#generating a list of the first letters of word in a lists\n",
    "words=[\"apple\",\"mango\",\"cherry\",\"date\"]\n",
    "letter=[word[0] for word in words]\n",
    "print(letter)"
   ]
  },
  {
   "cell_type": "code",
   "execution_count": 19,
   "id": "ddaf99bb-df77-4deb-81a1-9d1ed53e3035",
   "metadata": {},
   "outputs": [
    {
     "name": "stdout",
     "output_type": "stream",
     "text": [
      "[4, 16, 36, 64, 100]\n"
     ]
    }
   ],
   "source": [
    " #generating a list of square of even numbers\n",
    "num=[1,2,3,4,5,6,7,8,9,10]\n",
    "sq_even=[i**2 for i in num if i%2==0]\n",
    "print(sq_even)"
   ]
  },
  {
   "cell_type": "code",
   "execution_count": 21,
   "id": "5f69f24b-2844-4def-a5fe-dafad979954f",
   "metadata": {},
   "outputs": [
    {
     "name": "stdout",
     "output_type": "stream",
     "text": [
      "[1, 2, 3, 4]\n"
     ]
    }
   ],
   "source": [
    "#converting a list of string to a list of integers\n",
    "strings=[\"1\",\"2\",\"3\",\"4\"]\n",
    "last=[int(i)for i in strings]\n",
    "print(last)"
   ]
  },
  {
   "cell_type": "code",
   "execution_count": 23,
   "id": "56776829-8aaf-4a07-856b-9dbf919c019a",
   "metadata": {},
   "outputs": [
    {
     "name": "stdout",
     "output_type": "stream",
     "text": [
      "[1, 2, 3, 5, 8, 13, 21, 34, 55, 89, 144, 233, 377, 610, 987, 1597]\n"
     ]
    }
   ],
   "source": [
    "#fibonacci series\n",
    "#0 1 1 2 3 5 8\n",
    "fib=[0,1,1,2,3,5,8,13,21,34,55,89,144,233,377,610,987,1597]\n",
    "fibo=[fib[i-1]+fib[i-2] for i in range(2,len(fib))]  \n",
    "print(fibo)"
   ]
  },
  {
   "cell_type": "code",
   "execution_count": 25,
   "id": "3b73fee3-676a-404d-9321-15bf7cb4a404",
   "metadata": {},
   "outputs": [
    {
     "data": {
      "text/plain": [
       "[1, 2, 3, 4, 6, 9, 12, 18, 36]"
      ]
     },
     "execution_count": 25,
     "metadata": {},
     "output_type": "execute_result"
    }
   ],
   "source": [
    "#generating a list of all the divisor of a number\n",
    "num=36\n",
    "[i for i in range(1,num+1) if num%i==0]"
   ]
  },
  {
   "cell_type": "code",
   "execution_count": null,
   "id": "c33134e8-03b9-4258-a9cf-60916e13866c",
   "metadata": {},
   "outputs": [],
   "source": [
    "# generating a prime numbers less than a given numbers\n",
    "num=36\n",
    "[for i in range(2,num) if "
   ]
  }
 ],
 "metadata": {
  "kernelspec": {
   "display_name": "Python 3 (ipykernel)",
   "language": "python",
   "name": "python3"
  },
  "language_info": {
   "codemirror_mode": {
    "name": "ipython",
    "version": 3
   },
   "file_extension": ".py",
   "mimetype": "text/x-python",
   "name": "python",
   "nbconvert_exporter": "python",
   "pygments_lexer": "ipython3",
   "version": "3.12.4"
  }
 },
 "nbformat": 4,
 "nbformat_minor": 5
}
