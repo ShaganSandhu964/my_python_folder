{
 "cells": [
  {
   "cell_type": "markdown",
   "id": "cf8148ad-6cba-4f27-9ddd-bc6fdf0135d1",
   "metadata": {},
   "source": [
    "# Basics Calculator"
   ]
  },
  {
   "cell_type": "code",
   "execution_count": 14,
   "id": "3becc803-bf03-443c-b7da-cc9a4a61851f",
   "metadata": {},
   "outputs": [
    {
     "name": "stdout",
     "output_type": "stream",
     "text": [
      "1. Add\n",
      "2. Subtract\n",
      "3. multiplication\n",
      "4. Division\n"
     ]
    },
    {
     "name": "stdin",
     "output_type": "stream",
     "text": [
      "Enter your choice 1/2/3/4 1\n",
      "Enter the first number 1\n",
      "Enter the second number 2\n"
     ]
    },
    {
     "name": "stdout",
     "output_type": "stream",
     "text": [
      "The sum of 1.0 and 2.0 is 3.0\n",
      "\n"
     ]
    },
    {
     "name": "stdin",
     "output_type": "stream",
     "text": [
      "Do you want to perform more calculation (yes/no) yes\n",
      "Enter your choice 1/2/3/4 2\n",
      "Enter the first number 5\n",
      "Enter the second number 1\n"
     ]
    },
    {
     "name": "stdout",
     "output_type": "stream",
     "text": [
      "The subtraction of 5.0 and 1.0 is 4.0\n",
      "\n"
     ]
    },
    {
     "name": "stdin",
     "output_type": "stream",
     "text": [
      "Do you want to perform more calculation (yes/no) yes\n",
      "Enter your choice 1/2/3/4 3\n",
      "Enter the first number 3\n",
      "Enter the second number 3\n"
     ]
    },
    {
     "name": "stdout",
     "output_type": "stream",
     "text": [
      "The multiplication of 3.0 and 3.0 is 9.0\n",
      "\n"
     ]
    },
    {
     "name": "stdin",
     "output_type": "stream",
     "text": [
      "Do you want to perform more calculation (yes/no) yes\n",
      "Enter your choice 1/2/3/4 4\n",
      "Enter the first number 4\n",
      "Enter the second number 4\n"
     ]
    },
    {
     "name": "stdout",
     "output_type": "stream",
     "text": [
      "The division of 4.0 and 4.0 is 1.0\n",
      "\n"
     ]
    },
    {
     "name": "stdin",
     "output_type": "stream",
     "text": [
      "Do you want to perform more calculation (yes/no) no\n"
     ]
    },
    {
     "name": "stdout",
     "output_type": "stream",
     "text": [
      "Exiting the calculator Thank You for visiting\n"
     ]
    }
   ],
   "source": [
    "def add(a,b):\n",
    "    return a+b\n",
    "def sub(a,b):\n",
    "    return a-b\n",
    "def mul(a,b):\n",
    "    return a*b\n",
    "def div(a,b):\n",
    "    if b==0:\n",
    "        return \"Error\"\n",
    "    else:\n",
    "        return a/b\n",
    "def cal():\n",
    "    print(\"1. Add\")\n",
    "    print(\"2. Subtract\")\n",
    "    print(\"3. multiplication\")\n",
    "    print(\"4. Division\")\n",
    "    # choices=input(\"Enter your choice 1/2/3/4\")\n",
    "    while True:\n",
    "        choices=input(\"Enter your choice 1/2/3/4\")\n",
    "        if choices in ['1','2','3','4']:\n",
    "            num1=float(input(\"Enter the first number\"))\n",
    "            num2=float(input(\"Enter the second number\"))\n",
    "            if choices =='1':\n",
    "                print(f\"The sum of {num1} and {num2} is {add(num1,num2)}\\n\")\n",
    "            if choices=='2':\n",
    "                print(f\"The subtraction of {num1} and {num2} is {sub(num1,num2)}\\n\")\n",
    "            if choices=='3':\n",
    "                print(f\"The multiplication of {num1} and {num2} is {mul(num1,num2)}\\n\")\n",
    "            if choices=='4':\n",
    "                print(f\"The division of {num1} and {num2} is {div(num1,num2)}\\n\")\n",
    "        next_cal=input(\"Do you want to perform more calculation (yes/no)\\n\")\n",
    "        if next_cal.lower()!=\"yes\":\n",
    "            break\n",
    "    print(\"Exiting the calculator Thank You for visiting\")\n",
    "cal()\n",
    "        "
   ]
  },
  {
   "cell_type": "code",
   "execution_count": null,
   "id": "ec6bfe6d-701d-477d-90c1-72e52b281196",
   "metadata": {},
   "outputs": [],
   "source": []
  }
 ],
 "metadata": {
  "kernelspec": {
   "display_name": "Python 3 (ipykernel)",
   "language": "python",
   "name": "python3"
  },
  "language_info": {
   "codemirror_mode": {
    "name": "ipython",
    "version": 3
   },
   "file_extension": ".py",
   "mimetype": "text/x-python",
   "name": "python",
   "nbconvert_exporter": "python",
   "pygments_lexer": "ipython3",
   "version": "3.12.4"
  }
 },
 "nbformat": 4,
 "nbformat_minor": 5
}
